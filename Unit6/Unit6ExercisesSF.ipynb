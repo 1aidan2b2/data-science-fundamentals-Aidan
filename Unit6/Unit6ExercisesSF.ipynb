{
  "nbformat": 4,
  "nbformat_minor": 0,
  "metadata": {
    "colab": {
      "provenance": [],
      "authorship_tag": "ABX9TyP4opuH7V8RCXe2LFuBkVBP",
      "include_colab_link": true
    },
    "kernelspec": {
      "name": "python3",
      "display_name": "Python 3"
    },
    "language_info": {
      "name": "python"
    }
  },
  "cells": [
    {
      "cell_type": "markdown",
      "metadata": {
        "id": "view-in-github",
        "colab_type": "text"
      },
      "source": [
        "<a href=\"https://colab.research.google.com/github/thedarredondo/data-science-fundamentals/blob/main/Unit6/Unit6ExercisesSF.ipynb\" target=\"_parent\"><img src=\"https://colab.research.google.com/assets/colab-badge.svg\" alt=\"Open In Colab\"/></a>"
      ]
    },
    {
      "cell_type": "markdown",
      "source": [
        "# Unit 6 Exercises: Is my model good?\n",
        "\n",
        "#### Over and Under fitting, Model Visualization, and Model/Variable Selection Concepts\n",
        "\n",
        "These exercises are meant to get you to think about the model and variable selection process, and consider how we determine if a model is \"good\"."
      ],
      "metadata": {
        "id": "TS5B_nNY9aN-"
      }
    },
    {
      "cell_type": "markdown",
      "source": [
        "**Task1**:\n",
        "\n",
        "Does elpd_loo mean anything if we only have one model?"
      ],
      "metadata": {
        "id": "RComfTFn_vAD"
      }
    },
    {
      "cell_type": "markdown",
      "source": [
        "**Task2**:\n",
        "\n",
        "Describe overfitting, in the context of this course"
      ],
      "metadata": {
        "id": "xnfTK1y84qL-"
      }
    },
    {
      "cell_type": "markdown",
      "source": [
        "**Task3**:\n",
        "\n",
        "How do we mitigate overfitting?"
      ],
      "metadata": {
        "id": "YoP-6zyt5PHr"
      }
    },
    {
      "cell_type": "markdown",
      "source": [
        "**Task4**:\n",
        "\n",
        "How do we mitigate underfitting?"
      ],
      "metadata": {
        "id": "BdQNC0Nd5r88"
      }
    },
    {
      "cell_type": "markdown",
      "source": [
        "**Task5**:\n",
        "\n",
        "Why would we want more than one predictor in a model?"
      ],
      "metadata": {
        "id": "EvlCHxDK6OJJ"
      }
    },
    {
      "cell_type": "markdown",
      "source": [
        "**Task6**:\n",
        "\n",
        "Can we have too many predictors? How would we know?"
      ],
      "metadata": {
        "id": "oijEFidC6coD"
      }
    },
    {
      "cell_type": "markdown",
      "source": [
        "**Task7**:\n",
        "\n",
        "What is variable selection, and how does it work?"
      ],
      "metadata": {
        "id": "QRJeg7NL7HPN"
      }
    },
    {
      "cell_type": "markdown",
      "source": [
        "**Task8**:\n",
        "\n",
        "Describe the differences and similarities between the following three models: linear regression with two predictors, one of which is a categorical variable:\n",
        "\n",
        "- adding the variables in the model, as is standard.\n",
        "- using that categorical variable as a hierarchy upon the other predictor variable.\n",
        "- adding the variables, plus the categorical variable's interaction with the other variable."
      ],
      "metadata": {
        "id": "OntaA0WLo551"
      }
    },
    {
      "cell_type": "markdown",
      "source": [
        "**Task9**:\n",
        "\n",
        "How do we visualize multiple linear regression models? Can we visualize the entire model, all at once?"
      ],
      "metadata": {
        "id": "CAalFZA-sNtB"
      }
    },
    {
      "cell_type": "markdown",
      "source": [
        "**Task10**:\n",
        "\n",
        "Compare the following linear models that all use the basketball data to predict field goal percentage:\n",
        "\n",
        "- predictors free throw percentage and position (with position as a categorical predictor)\n",
        "- predictors free throw percentage and position (with position as a hierarchy)\n",
        "- predictors free throw percentage and position (with position interacting with frew throw percentage)\n",
        "- predictors free throw percentage, position, 3 point attempts, and interactions between all three predictors\n",
        "- predictors free throw percentage, position, 3 point attempts, with an interaction between 3 point attempts and postion.\n",
        "\n",
        "using ```az.compare()``` and ```az.plot_compare()```, or an equivalent method using LOO (elpd_loo)."
      ],
      "metadata": {
        "id": "4xx4j9ttl4N3"
      }
    },
    {
      "cell_type": "markdown",
      "source": [
        "You may use the following two code blocks to load and clean the data."
      ],
      "metadata": {
        "id": "ZSAypAHJmoJy"
      }
    },
    {
      "cell_type": "code",
      "source": [
        "#have to drop incomplete rows, so that bambi will run\n",
        "bb = pd.read_csv(\n",
        "    'https://raw.githubusercontent.com/thedarredondo/data-science-fundamentals/refs/heads/main/Data/basketball2324.csv'\n",
        "    ).dropna()"
      ],
      "metadata": {
        "id": "kfVxvltJlOa2"
      },
      "execution_count": null,
      "outputs": []
    },
    {
      "cell_type": "code",
      "source": [
        "#only look at players who played more than 600 minutes\n",
        "#which is 20 min per game, for 30 games\n",
        "bb = bb.query('MP > 600')\n",
        "#remove players who never missed a free throw\n",
        "bb = bb.query('`FT%` != 1.0')\n",
        "#filter out the combo positions. This will make it easier to read the graphs\n",
        "bb = bb.query(\"Pos in ['C','PF','SF','SG','PG']\")\n",
        "#gets rid of the annoying '%' sign\n",
        "bb.rename(columns={\"FT%\":\"FTp\",\"FG%\":\"FGp\"}, inplace=True)"
      ],
      "metadata": {
        "id": "oevLDINKridn"
      },
      "execution_count": null,
      "outputs": []
    },
    {
      "cell_type": "markdown",
      "source": [
        "**Task11**:\n",
        "\n",
        "Which model is \"better\" according to this metric?\n",
        "\n",
        "Why do you think that is?"
      ],
      "metadata": {
        "id": "IXReX4nNjKvl"
      }
    },
    {
      "cell_type": "markdown",
      "source": [
        "**Task12:**\n",
        "\n",
        "The body data set has a measure of body fat percentage (siri), as well as several other measurments of other parts of a person's body, plus their age.\n",
        "\n",
        "Create a sensible causal diagram for this set of variables.\n",
        "\n",
        "Based on your causal diagram, which variable should you try to predict? Why?"
      ],
      "metadata": {
        "id": "w2k_2O0YQTvZ"
      }
    },
    {
      "cell_type": "code",
      "source": [
        "body = pd.read_csv('https://raw.githubusercontent.com/thedarredondo/data-science-fundamentals/main/Data/body_fat.csv')"
      ],
      "metadata": {
        "id": "AXY9Nve4Czsd"
      },
      "execution_count": null,
      "outputs": []
    },
    {
      "cell_type": "code",
      "source": [
        "body.head()"
      ],
      "metadata": {
        "colab": {
          "base_uri": "https://localhost:8080/",
          "height": 206
        },
        "id": "O-7L0Ui2C44n",
        "outputId": "b5a30ef4-50e4-44a4-fde9-b1677fd8a18e"
      },
      "execution_count": null,
      "outputs": [
        {
          "output_type": "execute_result",
          "data": {
            "text/plain": [
              "   siri  age  weight  height  abdomen  thigh  wrist\n",
              "0  12.3   23    70.1     172     85.2   59.0   17.1\n",
              "1   6.1   22    78.8     184     83.0   58.7   18.2\n",
              "2  25.3   22    70.0     168     87.9   59.6   16.6\n",
              "3  10.4   26    84.0     184     86.4   60.1   18.2\n",
              "4  28.7   24    83.8     181    100.0   63.2   17.7"
            ],
            "text/html": [
              "\n",
              "  <div id=\"df-7a1c7a9f-c5f6-45fd-8374-43957d8eaa4c\" class=\"colab-df-container\">\n",
              "    <div>\n",
              "<style scoped>\n",
              "    .dataframe tbody tr th:only-of-type {\n",
              "        vertical-align: middle;\n",
              "    }\n",
              "\n",
              "    .dataframe tbody tr th {\n",
              "        vertical-align: top;\n",
              "    }\n",
              "\n",
              "    .dataframe thead th {\n",
              "        text-align: right;\n",
              "    }\n",
              "</style>\n",
              "<table border=\"1\" class=\"dataframe\">\n",
              "  <thead>\n",
              "    <tr style=\"text-align: right;\">\n",
              "      <th></th>\n",
              "      <th>siri</th>\n",
              "      <th>age</th>\n",
              "      <th>weight</th>\n",
              "      <th>height</th>\n",
              "      <th>abdomen</th>\n",
              "      <th>thigh</th>\n",
              "      <th>wrist</th>\n",
              "    </tr>\n",
              "  </thead>\n",
              "  <tbody>\n",
              "    <tr>\n",
              "      <th>0</th>\n",
              "      <td>12.3</td>\n",
              "      <td>23</td>\n",
              "      <td>70.1</td>\n",
              "      <td>172</td>\n",
              "      <td>85.2</td>\n",
              "      <td>59.0</td>\n",
              "      <td>17.1</td>\n",
              "    </tr>\n",
              "    <tr>\n",
              "      <th>1</th>\n",
              "      <td>6.1</td>\n",
              "      <td>22</td>\n",
              "      <td>78.8</td>\n",
              "      <td>184</td>\n",
              "      <td>83.0</td>\n",
              "      <td>58.7</td>\n",
              "      <td>18.2</td>\n",
              "    </tr>\n",
              "    <tr>\n",
              "      <th>2</th>\n",
              "      <td>25.3</td>\n",
              "      <td>22</td>\n",
              "      <td>70.0</td>\n",
              "      <td>168</td>\n",
              "      <td>87.9</td>\n",
              "      <td>59.6</td>\n",
              "      <td>16.6</td>\n",
              "    </tr>\n",
              "    <tr>\n",
              "      <th>3</th>\n",
              "      <td>10.4</td>\n",
              "      <td>26</td>\n",
              "      <td>84.0</td>\n",
              "      <td>184</td>\n",
              "      <td>86.4</td>\n",
              "      <td>60.1</td>\n",
              "      <td>18.2</td>\n",
              "    </tr>\n",
              "    <tr>\n",
              "      <th>4</th>\n",
              "      <td>28.7</td>\n",
              "      <td>24</td>\n",
              "      <td>83.8</td>\n",
              "      <td>181</td>\n",
              "      <td>100.0</td>\n",
              "      <td>63.2</td>\n",
              "      <td>17.7</td>\n",
              "    </tr>\n",
              "  </tbody>\n",
              "</table>\n",
              "</div>\n",
              "    <div class=\"colab-df-buttons\">\n",
              "\n",
              "  <div class=\"colab-df-container\">\n",
              "    <button class=\"colab-df-convert\" onclick=\"convertToInteractive('df-7a1c7a9f-c5f6-45fd-8374-43957d8eaa4c')\"\n",
              "            title=\"Convert this dataframe to an interactive table.\"\n",
              "            style=\"display:none;\">\n",
              "\n",
              "  <svg xmlns=\"http://www.w3.org/2000/svg\" height=\"24px\" viewBox=\"0 -960 960 960\">\n",
              "    <path d=\"M120-120v-720h720v720H120Zm60-500h600v-160H180v160Zm220 220h160v-160H400v160Zm0 220h160v-160H400v160ZM180-400h160v-160H180v160Zm440 0h160v-160H620v160ZM180-180h160v-160H180v160Zm440 0h160v-160H620v160Z\"/>\n",
              "  </svg>\n",
              "    </button>\n",
              "\n",
              "  <style>\n",
              "    .colab-df-container {\n",
              "      display:flex;\n",
              "      gap: 12px;\n",
              "    }\n",
              "\n",
              "    .colab-df-convert {\n",
              "      background-color: #E8F0FE;\n",
              "      border: none;\n",
              "      border-radius: 50%;\n",
              "      cursor: pointer;\n",
              "      display: none;\n",
              "      fill: #1967D2;\n",
              "      height: 32px;\n",
              "      padding: 0 0 0 0;\n",
              "      width: 32px;\n",
              "    }\n",
              "\n",
              "    .colab-df-convert:hover {\n",
              "      background-color: #E2EBFA;\n",
              "      box-shadow: 0px 1px 2px rgba(60, 64, 67, 0.3), 0px 1px 3px 1px rgba(60, 64, 67, 0.15);\n",
              "      fill: #174EA6;\n",
              "    }\n",
              "\n",
              "    .colab-df-buttons div {\n",
              "      margin-bottom: 4px;\n",
              "    }\n",
              "\n",
              "    [theme=dark] .colab-df-convert {\n",
              "      background-color: #3B4455;\n",
              "      fill: #D2E3FC;\n",
              "    }\n",
              "\n",
              "    [theme=dark] .colab-df-convert:hover {\n",
              "      background-color: #434B5C;\n",
              "      box-shadow: 0px 1px 3px 1px rgba(0, 0, 0, 0.15);\n",
              "      filter: drop-shadow(0px 1px 2px rgba(0, 0, 0, 0.3));\n",
              "      fill: #FFFFFF;\n",
              "    }\n",
              "  </style>\n",
              "\n",
              "    <script>\n",
              "      const buttonEl =\n",
              "        document.querySelector('#df-7a1c7a9f-c5f6-45fd-8374-43957d8eaa4c button.colab-df-convert');\n",
              "      buttonEl.style.display =\n",
              "        google.colab.kernel.accessAllowed ? 'block' : 'none';\n",
              "\n",
              "      async function convertToInteractive(key) {\n",
              "        const element = document.querySelector('#df-7a1c7a9f-c5f6-45fd-8374-43957d8eaa4c');\n",
              "        const dataTable =\n",
              "          await google.colab.kernel.invokeFunction('convertToInteractive',\n",
              "                                                    [key], {});\n",
              "        if (!dataTable) return;\n",
              "\n",
              "        const docLinkHtml = 'Like what you see? Visit the ' +\n",
              "          '<a target=\"_blank\" href=https://colab.research.google.com/notebooks/data_table.ipynb>data table notebook</a>'\n",
              "          + ' to learn more about interactive tables.';\n",
              "        element.innerHTML = '';\n",
              "        dataTable['output_type'] = 'display_data';\n",
              "        await google.colab.output.renderOutput(dataTable, element);\n",
              "        const docLink = document.createElement('div');\n",
              "        docLink.innerHTML = docLinkHtml;\n",
              "        element.appendChild(docLink);\n",
              "      }\n",
              "    </script>\n",
              "  </div>\n",
              "\n",
              "\n",
              "<div id=\"df-4dd95d45-1238-4bf8-9c32-843304c2d469\">\n",
              "  <button class=\"colab-df-quickchart\" onclick=\"quickchart('df-4dd95d45-1238-4bf8-9c32-843304c2d469')\"\n",
              "            title=\"Suggest charts\"\n",
              "            style=\"display:none;\">\n",
              "\n",
              "<svg xmlns=\"http://www.w3.org/2000/svg\" height=\"24px\"viewBox=\"0 0 24 24\"\n",
              "     width=\"24px\">\n",
              "    <g>\n",
              "        <path d=\"M19 3H5c-1.1 0-2 .9-2 2v14c0 1.1.9 2 2 2h14c1.1 0 2-.9 2-2V5c0-1.1-.9-2-2-2zM9 17H7v-7h2v7zm4 0h-2V7h2v10zm4 0h-2v-4h2v4z\"/>\n",
              "    </g>\n",
              "</svg>\n",
              "  </button>\n",
              "\n",
              "<style>\n",
              "  .colab-df-quickchart {\n",
              "      --bg-color: #E8F0FE;\n",
              "      --fill-color: #1967D2;\n",
              "      --hover-bg-color: #E2EBFA;\n",
              "      --hover-fill-color: #174EA6;\n",
              "      --disabled-fill-color: #AAA;\n",
              "      --disabled-bg-color: #DDD;\n",
              "  }\n",
              "\n",
              "  [theme=dark] .colab-df-quickchart {\n",
              "      --bg-color: #3B4455;\n",
              "      --fill-color: #D2E3FC;\n",
              "      --hover-bg-color: #434B5C;\n",
              "      --hover-fill-color: #FFFFFF;\n",
              "      --disabled-bg-color: #3B4455;\n",
              "      --disabled-fill-color: #666;\n",
              "  }\n",
              "\n",
              "  .colab-df-quickchart {\n",
              "    background-color: var(--bg-color);\n",
              "    border: none;\n",
              "    border-radius: 50%;\n",
              "    cursor: pointer;\n",
              "    display: none;\n",
              "    fill: var(--fill-color);\n",
              "    height: 32px;\n",
              "    padding: 0;\n",
              "    width: 32px;\n",
              "  }\n",
              "\n",
              "  .colab-df-quickchart:hover {\n",
              "    background-color: var(--hover-bg-color);\n",
              "    box-shadow: 0 1px 2px rgba(60, 64, 67, 0.3), 0 1px 3px 1px rgba(60, 64, 67, 0.15);\n",
              "    fill: var(--button-hover-fill-color);\n",
              "  }\n",
              "\n",
              "  .colab-df-quickchart-complete:disabled,\n",
              "  .colab-df-quickchart-complete:disabled:hover {\n",
              "    background-color: var(--disabled-bg-color);\n",
              "    fill: var(--disabled-fill-color);\n",
              "    box-shadow: none;\n",
              "  }\n",
              "\n",
              "  .colab-df-spinner {\n",
              "    border: 2px solid var(--fill-color);\n",
              "    border-color: transparent;\n",
              "    border-bottom-color: var(--fill-color);\n",
              "    animation:\n",
              "      spin 1s steps(1) infinite;\n",
              "  }\n",
              "\n",
              "  @keyframes spin {\n",
              "    0% {\n",
              "      border-color: transparent;\n",
              "      border-bottom-color: var(--fill-color);\n",
              "      border-left-color: var(--fill-color);\n",
              "    }\n",
              "    20% {\n",
              "      border-color: transparent;\n",
              "      border-left-color: var(--fill-color);\n",
              "      border-top-color: var(--fill-color);\n",
              "    }\n",
              "    30% {\n",
              "      border-color: transparent;\n",
              "      border-left-color: var(--fill-color);\n",
              "      border-top-color: var(--fill-color);\n",
              "      border-right-color: var(--fill-color);\n",
              "    }\n",
              "    40% {\n",
              "      border-color: transparent;\n",
              "      border-right-color: var(--fill-color);\n",
              "      border-top-color: var(--fill-color);\n",
              "    }\n",
              "    60% {\n",
              "      border-color: transparent;\n",
              "      border-right-color: var(--fill-color);\n",
              "    }\n",
              "    80% {\n",
              "      border-color: transparent;\n",
              "      border-right-color: var(--fill-color);\n",
              "      border-bottom-color: var(--fill-color);\n",
              "    }\n",
              "    90% {\n",
              "      border-color: transparent;\n",
              "      border-bottom-color: var(--fill-color);\n",
              "    }\n",
              "  }\n",
              "</style>\n",
              "\n",
              "  <script>\n",
              "    async function quickchart(key) {\n",
              "      const quickchartButtonEl =\n",
              "        document.querySelector('#' + key + ' button');\n",
              "      quickchartButtonEl.disabled = true;  // To prevent multiple clicks.\n",
              "      quickchartButtonEl.classList.add('colab-df-spinner');\n",
              "      try {\n",
              "        const charts = await google.colab.kernel.invokeFunction(\n",
              "            'suggestCharts', [key], {});\n",
              "      } catch (error) {\n",
              "        console.error('Error during call to suggestCharts:', error);\n",
              "      }\n",
              "      quickchartButtonEl.classList.remove('colab-df-spinner');\n",
              "      quickchartButtonEl.classList.add('colab-df-quickchart-complete');\n",
              "    }\n",
              "    (() => {\n",
              "      let quickchartButtonEl =\n",
              "        document.querySelector('#df-4dd95d45-1238-4bf8-9c32-843304c2d469 button');\n",
              "      quickchartButtonEl.style.display =\n",
              "        google.colab.kernel.accessAllowed ? 'block' : 'none';\n",
              "    })();\n",
              "  </script>\n",
              "</div>\n",
              "\n",
              "    </div>\n",
              "  </div>\n"
            ],
            "application/vnd.google.colaboratory.intrinsic+json": {
              "type": "dataframe",
              "variable_name": "body",
              "summary": "{\n  \"name\": \"body\",\n  \"rows\": 251,\n  \"fields\": [\n    {\n      \"column\": \"siri\",\n      \"properties\": {\n        \"dtype\": \"number\",\n        \"std\": 8.32355371546212,\n        \"min\": 0.0,\n        \"max\": 47.5,\n        \"num_unique_values\": 175,\n        \"samples\": [\n          24.5,\n          25.5,\n          17.5\n        ],\n        \"semantic_type\": \"\",\n        \"description\": \"\"\n      }\n    },\n    {\n      \"column\": \"age\",\n      \"properties\": {\n        \"dtype\": \"number\",\n        \"std\": 12,\n        \"min\": 22,\n        \"max\": 81,\n        \"num_unique_values\": 51,\n        \"samples\": [\n          52,\n          46,\n          60\n        ],\n        \"semantic_type\": \"\",\n        \"description\": \"\"\n      }\n    },\n    {\n      \"column\": \"weight\",\n      \"properties\": {\n        \"dtype\": \"number\",\n        \"std\": 12.286610494770283,\n        \"min\": 53.9,\n        \"max\": 119.4,\n        \"num_unique_values\": 196,\n        \"samples\": [\n          103.1,\n          78.1,\n          89.0\n        ],\n        \"semantic_type\": \"\",\n        \"description\": \"\"\n      }\n    },\n    {\n      \"column\": \"height\",\n      \"properties\": {\n        \"dtype\": \"number\",\n        \"std\": 6,\n        \"min\": 163,\n        \"max\": 197,\n        \"num_unique_values\": 32,\n        \"samples\": [\n          192,\n          164,\n          163\n        ],\n        \"semantic_type\": \"\",\n        \"description\": \"\"\n      }\n    },\n    {\n      \"column\": \"abdomen\",\n      \"properties\": {\n        \"dtype\": \"number\",\n        \"std\": 10.21519034501367,\n        \"min\": 69.4,\n        \"max\": 126.2,\n        \"num_unique_values\": 184,\n        \"samples\": [\n          95.9,\n          83.4,\n          89.1\n        ],\n        \"semantic_type\": \"\",\n        \"description\": \"\"\n      }\n    },\n    {\n      \"column\": \"thigh\",\n      \"properties\": {\n        \"dtype\": \"number\",\n        \"std\": 4.95454670658468,\n        \"min\": 47.2,\n        \"max\": 74.4,\n        \"num_unique_values\": 138,\n        \"samples\": [\n          57.0,\n          63.8,\n          63.4\n        ],\n        \"semantic_type\": \"\",\n        \"description\": \"\"\n      }\n    },\n    {\n      \"column\": \"wrist\",\n      \"properties\": {\n        \"dtype\": \"number\",\n        \"std\": 0.9136220983784363,\n        \"min\": 15.8,\n        \"max\": 21.4,\n        \"num_unique_values\": 44,\n        \"samples\": [\n          17.5,\n          17.4,\n          16.1\n        ],\n        \"semantic_type\": \"\",\n        \"description\": \"\"\n      }\n    }\n  ]\n}"
            }
          },
          "metadata": {},
          "execution_count": 12
        }
      ]
    }
  ]
}