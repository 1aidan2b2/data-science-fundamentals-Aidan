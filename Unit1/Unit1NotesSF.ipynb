{
  "nbformat": 4,
  "nbformat_minor": 0,
  "metadata": {
    "colab": {
      "provenance": [],
      "include_colab_link": true
    },
    "kernelspec": {
      "name": "python3",
      "display_name": "Python 3"
    },
    "language_info": {
      "name": "python"
    }
  },
  "cells": [
    {
      "cell_type": "markdown",
      "metadata": {
        "id": "view-in-github",
        "colab_type": "text"
      },
      "source": [
        "<a href=\"https://colab.research.google.com/github/1aidan2b2/data-science-fundamentals-Aidan/blob/main/Unit1/Unit1NotesSF.ipynb\" target=\"_parent\"><img src=\"https://colab.research.google.com/assets/colab-badge.svg\" alt=\"Open In Colab\"/></a>"
      ]
    },
    {
      "cell_type": "markdown",
      "source": [
        "# Unit 1: Python Crash Course\n",
        "\n",
        "This is a crash course in the basics of python and data manipulation.\n",
        "\n",
        "Our goal is get vulnerable and exposed to some common ways to manipulate data in python, and learn some practical skills along the way.\n",
        "\n",
        "We will:\n",
        "\n",
        "1. Use variables to do basic operations.\n",
        "2. Explore the built in data structures we'll use: int, float, string, list, and dict\n",
        "3. Create and Manipulate Numpy Arrays\n",
        "4. Import and Manipulate Pandas Dataframes (plus cover bools)\n",
        "5. Use for loops to support Dataframe queries\n",
        "6. Export Data from Colab\n",
        "\n",
        "Will this unit cover all the python you'll need to ace this course?\n",
        "\n",
        "No.\n",
        "\n",
        "Will this feel like way too much information?\n",
        "\n",
        "Probably.\n",
        "\n",
        "But don't worry, you've got this! We'll learn as we go, and as we go you'll see me consisitently type \"how to \\___ in python\" or \"how to \\___ with pandas\" into google. You will learn to do the same.\n",
        "\n",
        "Let this be Lesson 0: **you don't need to know everything, you just need to know enough to ask for what you need**.\n"
      ],
      "metadata": {
        "id": "8NmSIRxdEMOm"
      }
    },
    {
      "cell_type": "markdown",
      "source": [
        "##Arithmetic with ints\n",
        "Let's start your journey into the world of data science with good ole' fashion addition, subtraction, and mutliplication. Let yourself wonder why I'm saving division for later."
      ],
      "metadata": {
        "id": "xlniv8ZUrj4S"
      }
    },
    {
      "cell_type": "code",
      "source": [
        "#Adding in python works inuitively. python automatically prints the result of any operation\n",
        "3 + 2"
      ],
      "metadata": {
        "id": "lA_t51FKsBnR"
      },
      "execution_count": null,
      "outputs": []
    },
    {
      "cell_type": "code",
      "source": [
        "#same with subtraction\n",
        "3 - 2"
      ],
      "metadata": {
        "id": "ud6x_r7KsMWN"
      },
      "execution_count": null,
      "outputs": []
    },
    {
      "cell_type": "code",
      "source": [
        "# multiplication use the astrisk symbol, \"*\"\n",
        "3 * 2"
      ],
      "metadata": {
        "id": "O84xxJdhsYRP"
      },
      "execution_count": null,
      "outputs": []
    },
    {
      "cell_type": "code",
      "source": [
        "# exponetiation is quick too--just use the multiplication symbol twice\n",
        "3 ** 2"
      ],
      "metadata": {
        "id": "72OwsHmVsnTR"
      },
      "execution_count": null,
      "outputs": []
    },
    {
      "cell_type": "markdown",
      "source": [
        "This next code block introduces our first built in function, \"type\". Functions take in an input through parentheses, and then return an output."
      ],
      "metadata": {
        "id": "4X_T6eXCHXTh"
      }
    },
    {
      "cell_type": "code",
      "source": [
        "type(3)"
      ],
      "metadata": {
        "id": "Z2BqqcRZHQTJ"
      },
      "execution_count": null,
      "outputs": []
    },
    {
      "cell_type": "markdown",
      "source": [
        "For example, the absolute value function is \"abs\" in python, and works exactly like you think it would. Use the dash key \"-\" in front of a number (int or float) to make it negative"
      ],
      "metadata": {
        "id": "ET-zNOKTIMI8"
      }
    },
    {
      "cell_type": "code",
      "source": [
        "abs(- 2)"
      ],
      "metadata": {
        "id": "K9ZORCw-MBR-"
      },
      "execution_count": null,
      "outputs": []
    },
    {
      "cell_type": "markdown",
      "source": [
        "I can stores these numbers in a variable for later use."
      ],
      "metadata": {
        "id": "2hbre6KZqDgl"
      }
    },
    {
      "cell_type": "code",
      "source": [
        "# I store \"-5\" in the variable x\n",
        "x = -5\n",
        "# I store \"2\" in the variable thing\n",
        "thing = 2\n",
        "\n",
        "#I print the content of the variables x and thing\n",
        "x, thing"
      ],
      "metadata": {
        "id": "tbAT1c2NqAtK"
      },
      "execution_count": null,
      "outputs": []
    },
    {
      "cell_type": "markdown",
      "source": [
        "The ```=``` character is how we assign values to a variable. To help you understand this a little better, I'll refer to anther language, R.\n",
        "\n",
        "In python, we write ```x = -5```. In R, we would write ```x <- -5```. The ```<-``` is supposed to look like an arrow. As in, we are putting the value ```-5``` inside the container named ```x```.\n",
        "\n",
        "Again, ```=``` is only for assigning variables."
      ],
      "metadata": {
        "id": "ZESpjuAsisFf"
      }
    },
    {
      "cell_type": "markdown",
      "source": [
        "We can update the content of these variables whenever we want."
      ],
      "metadata": {
        "id": "z-M49yHXqUDI"
      }
    },
    {
      "cell_type": "code",
      "source": [
        "# add \"-5\" to \"2\" using the variables x and thing\n",
        "x = x + thing\n",
        "\n",
        "#print the contents of x\n",
        "x"
      ],
      "metadata": {
        "id": "rTK7DypRsGPD"
      },
      "execution_count": null,
      "outputs": []
    },
    {
      "cell_type": "markdown",
      "source": [
        "Notice that we managed to get our computer to calculate $-5 +2$ without having to write $-5$ or $2$.\n",
        "\n",
        "What happens if we run the same code block?"
      ],
      "metadata": {
        "id": "S2c3KdXxsndl"
      }
    },
    {
      "cell_type": "code",
      "source": [
        "# add the contents x and thing\n",
        "x = x + thing\n",
        "\n",
        "#print the contents of x\n",
        "x"
      ],
      "metadata": {
        "id": "nhtggrhms_mE"
      },
      "execution_count": null,
      "outputs": []
    },
    {
      "cell_type": "markdown",
      "source": [
        "**Task1**:\n",
        "\n",
        "Explain why the variable x's value is now -1."
      ],
      "metadata": {
        "id": "7-jJWgbYt9AC"
      }
    },
    {
      "cell_type": "markdown",
      "source": [
        "You don't have to write your answer within the brackets, just with the cell that says '**Answer1**'"
      ],
      "metadata": {
        "id": "jKcYDuKV1bpG"
      }
    },
    {
      "cell_type": "markdown",
      "source": [
        "**Answer1**:\n",
        "\n",
        "1 - 2 = -1\n",
        "\n",
        "x was not changed from previous run"
      ],
      "metadata": {
        "id": "6PXkfOytuMY9"
      }
    },
    {
      "cell_type": "markdown",
      "source": [
        "Computers are only ever capable of doing exactly what we tell them to do, and its always possible to tell them to do something we don't underestand. This can be a\n",
        "\n",
        "- feature: a good thing we may or may not have intended to happen.\n",
        "\n",
        "or a\n",
        "\n",
        "- bug: a bad thing we didn't want to happen, but are never the less entirely responsible for."
      ],
      "metadata": {
        "id": "t9gOJClYtfFi"
      }
    },
    {
      "cell_type": "markdown",
      "source": [
        "Every piece of code you'll ever write is either a feature, a bug, or confusing. Keep this in mind as we move through the course."
      ],
      "metadata": {
        "id": "3U7N5dZmulbB"
      }
    },
    {
      "cell_type": "markdown",
      "source": [
        "### Division\n",
        "\n",
        "Let's look at an example of division, the other mathematical operation I left out."
      ],
      "metadata": {
        "id": "MMc63SWHvvgn"
      }
    },
    {
      "cell_type": "code",
      "source": [
        "#use a backslash for division\n",
        "-4 / 2"
      ],
      "metadata": {
        "id": "YGEdLrscv7Ak"
      },
      "execution_count": null,
      "outputs": []
    },
    {
      "cell_type": "markdown",
      "source": [
        "That number has a decimal; let's check to see if it's still an int."
      ],
      "metadata": {
        "id": "c9H_FkDGwFep"
      }
    },
    {
      "cell_type": "code",
      "source": [
        "type(-4 / 2)"
      ],
      "metadata": {
        "id": "oEaWL39VwFHC"
      },
      "execution_count": null,
      "outputs": []
    },
    {
      "cell_type": "markdown",
      "source": [
        "### Libraries\n",
        "\n",
        "To better deal with this new float thing, I'll call a library of functions called numpy, and nickname it np for short.\n",
        "\n",
        "I need to use numpy for two reasons:\n",
        "\n",
        "- floats, as we'll see, do not behave as nicely as ints, and need to be treated with care. We'll only ever use libraries that show our floats the proper care and attention they need\n",
        "- python doesn't really have any built in math functions; abs() is basically the only one."
      ],
      "metadata": {
        "id": "4IQCcfbL0zuu"
      }
    },
    {
      "cell_type": "code",
      "source": [
        "import numpy as np"
      ],
      "metadata": {
        "id": "GYfyC8nl2Bb7"
      },
      "execution_count": 1,
      "outputs": []
    },
    {
      "cell_type": "markdown",
      "source": [
        "With that our of the way, let's learn why we need to be cautious with floats."
      ],
      "metadata": {
        "id": "retVUltb186a"
      }
    },
    {
      "cell_type": "markdown",
      "source": [
        "##Floats, and the perils of infinite math with finite computers\n",
        "\n",
        "We often represent the real numbers, like $\\pi$, $\\sqrt{2}$, and $\\log(0.1)$ using another data type called a float. That's short for floating point number."
      ],
      "metadata": {
        "id": "FRXCeP2PIM-w"
      }
    },
    {
      "cell_type": "markdown",
      "source": [
        "Let's play with that last one, $\\log(0.1)$. We'll need to call numpy to use a log. Note that ```np.log``` is $\\log_e()$ or $\\ln()$"
      ],
      "metadata": {
        "id": "jFRD9ZrE9Ki9"
      }
    },
    {
      "cell_type": "code",
      "source": [
        "#numpy use log base e. Note how it tells its a float\n",
        "np.log(0.1)"
      ],
      "metadata": {
        "colab": {
          "base_uri": "https://localhost:8080/"
        },
        "outputId": "88886be9-cd7e-4cb4-dd01-9b6c2e090467",
        "id": "xUXiaaJ0IVGK"
      },
      "execution_count": null,
      "outputs": [
        {
          "output_type": "execute_result",
          "data": {
            "text/plain": [
              "np.float64(-2.3025850929940455)"
            ]
          },
          "metadata": {},
          "execution_count": 7
        }
      ]
    },
    {
      "cell_type": "markdown",
      "source": [
        "You may notice this is a different typw of float from ```-4/2```. This won't matter that much until Unit 9, when our models will get a little more picky about data types."
      ],
      "metadata": {
        "id": "DV8Zyozi-Y-s"
      }
    },
    {
      "cell_type": "code",
      "source": [
        "#it has a decimal, which in python means its a float--or at least, a type of float\n",
        "type(np.log(0.1)), type(-4/2)"
      ],
      "metadata": {
        "colab": {
          "base_uri": "https://localhost:8080/"
        },
        "outputId": "dd225aa5-8bbe-4916-fdf9-8584c2fe4113",
        "id": "Xy1H5tIHIbRc"
      },
      "execution_count": null,
      "outputs": [
        {
          "output_type": "execute_result",
          "data": {
            "text/plain": [
              "(numpy.float64, float)"
            ]
          },
          "metadata": {},
          "execution_count": 9
        }
      ]
    },
    {
      "cell_type": "markdown",
      "source": [
        "Now for the big reveal: our computers can't actually do math.\n",
        "\n",
        "At least, not *all* of math. Comupters are reliable mathematically, if we use them well.\n",
        "\n",
        "Here's an example:"
      ],
      "metadata": {
        "id": "eg5cmfOk_FsT"
      }
    },
    {
      "cell_type": "code",
      "source": [
        "2000 * np.log(0.1)"
      ],
      "metadata": {
        "colab": {
          "base_uri": "https://localhost:8080/"
        },
        "id": "MfFVYm5-8WSr",
        "outputId": "2ff012ee-892f-4edc-98f2-8f733a7fc375"
      },
      "execution_count": null,
      "outputs": [
        {
          "output_type": "execute_result",
          "data": {
            "text/plain": [
              "np.float64(-4605.170185988091)"
            ]
          },
          "metadata": {},
          "execution_count": 5
        }
      ]
    },
    {
      "cell_type": "markdown",
      "source": [
        "This is $2000 \\cdot \\log(0.1)$, and numpy correctly computed an approximation of that as the decimal number ```-4605.170185988091```.\n",
        "\n",
        "Math makes some fun statements about logarithms. Specifically, you may remember the rule that:\n",
        "\n",
        "$2000 \\cdot \\log(0.1) = \\log(0.1^{2000})$\n",
        "\n",
        "That statement is true--you may have even provided it in a previous class, using the defintions of logarithms, exponentiation, and the field axioms.\n",
        "\n",
        "But watch what happens when we try this on our computer."
      ],
      "metadata": {
        "id": "MsY7MF3w_d3M"
      }
    },
    {
      "cell_type": "code",
      "source": [
        "np.log(0.1**(2000))"
      ],
      "metadata": {
        "colab": {
          "base_uri": "https://localhost:8080/"
        },
        "id": "FX6dqgfb8hW1",
        "outputId": "fef474a3-7898-4982-f21e-e67e9f3a5c4d"
      },
      "execution_count": null,
      "outputs": [
        {
          "output_type": "stream",
          "name": "stderr",
          "text": [
            "<ipython-input-6-d8bfd2f304a2>:1: RuntimeWarning: divide by zero encountered in log\n",
            "  np.log(0.1**(2000))\n"
          ]
        },
        {
          "output_type": "execute_result",
          "data": {
            "text/plain": [
              "np.float64(-inf)"
            ]
          },
          "metadata": {},
          "execution_count": 6
        }
      ]
    },
    {
      "cell_type": "markdown",
      "source": [
        "Python is often known as a great language for debugging, or finding errors; you can see that here, in that Python gives us a RuntimeWarning and complains about dividing by zero, before spitting out its answer: negative infinity (or ```-inf```)\n",
        "\n",
        "Before explaining why that happens, I will explain a bit about how computers handle numbers.\n",
        "\n",
        "In order to report a number as an answer, a computer must be able to represent that number--physically. This is a problem, because numbers are infinite, and comupters are very much not.\n",
        "\n",
        "We can get around this problem for integers with some clever application of mathematical rules.\n",
        "\n",
        "But for real numbers like $\\log(0.1)$, our tricks only take us so far. **Extremely long decimal numbers will break our computer's ability to do math.**"
      ],
      "metadata": {
        "id": "jsfQUf0NBE1m"
      }
    },
    {
      "cell_type": "markdown",
      "source": [
        "**Task2**:\n",
        "\n",
        "Assume that $2000 \\cdot \\log(0.1) = \\log(0.1^{2000})$ (or prove it to yourself).\n",
        "\n",
        "Do\n",
        "\n",
        "```2000 * np.log(0.1)```\n",
        "\n",
        "and\n",
        "\n",
        "```np.log(0.1**(2000))```\n",
        "\n",
        "give the same output when run in python? **Why not?**\n",
        "\n",
        "Hint: attempt to write $0.1^{2000}$ all the way out."
      ],
      "metadata": {
        "id": "Tgx3YccxI2tR"
      }
    },
    {
      "cell_type": "markdown",
      "source": [
        "**Answer2**:\n",
        "\n",
        "Nope! Floating point errors"
      ],
      "metadata": {
        "id": "IFsA_ffFn2V0"
      }
    },
    {
      "cell_type": "markdown",
      "source": [
        "##Strings, Lists, and Dicts\n",
        "Before we get more into those libraires like numpy, let's return to base python.\n",
        "Everything in this section can be done without importing a library."
      ],
      "metadata": {
        "id": "vPH20lfw-j4t"
      }
    },
    {
      "cell_type": "markdown",
      "source": [
        "###Strings\n",
        "Let's start with strings. We can define a string by putting ' ' or \" \" around any character, including numbers"
      ],
      "metadata": {
        "id": "g3hNcIF72f05"
      }
    },
    {
      "cell_type": "code",
      "source": [
        "'5', type('5'), 5, type(5)"
      ],
      "metadata": {
        "id": "uBBrfiQr2oa8"
      },
      "execution_count": null,
      "outputs": []
    },
    {
      "cell_type": "code",
      "source": [
        "'type(5)', type('type(5)')"
      ],
      "metadata": {
        "id": "SH1YJUPE3FI3"
      },
      "execution_count": null,
      "outputs": []
    },
    {
      "cell_type": "markdown",
      "source": [
        "We'll use strings to define labels for our models and graphs, and to represent non-numerical data.\n",
        "\n",
        "For right now though, they are our first example of an iterable data type. In other words, python keeps track of the individual characters in a string, their order, and how many characters there are."
      ],
      "metadata": {
        "id": "O0zDg6_P3u8U"
      }
    },
    {
      "cell_type": "code",
      "source": [
        "\"dog\""
      ],
      "metadata": {
        "id": "5Q4UeShB5Nix"
      },
      "execution_count": null,
      "outputs": []
    },
    {
      "cell_type": "code",
      "source": [
        "#find the length of an iterable object\n",
        "len('dog')"
      ],
      "metadata": {
        "id": "cM8fOMKv4lrL"
      },
      "execution_count": null,
      "outputs": []
    },
    {
      "cell_type": "code",
      "source": [
        "#grab the first character in the string 'cat'\n",
        "'dog'[0]"
      ],
      "metadata": {
        "id": "hT3_vg_b4urp"
      },
      "execution_count": null,
      "outputs": []
    },
    {
      "cell_type": "markdown",
      "source": [
        "Variables are not strings. We'll get an error if we make that mistake"
      ],
      "metadata": {
        "id": "GehBqP5r47Ak"
      }
    },
    {
      "cell_type": "code",
      "source": [
        "dog"
      ],
      "metadata": {
        "id": "ERSeuNwc4_oQ"
      },
      "execution_count": null,
      "outputs": []
    },
    {
      "cell_type": "markdown",
      "source": [
        "That said, I can assign a string to a variable."
      ],
      "metadata": {
        "id": "KgXEQM7X5bkz"
      }
    },
    {
      "cell_type": "code",
      "source": [
        "#assign the string 'dog' to variable x\n",
        "x = 'dog'\n",
        "#grab the second and third characters of the string\n",
        "x[1:3]"
      ],
      "metadata": {
        "id": "R111JN8r5gjg",
        "outputId": "4051078b-3059-4488-c763-36679eb5489e",
        "colab": {
          "base_uri": "https://localhost:8080/",
          "height": 35
        }
      },
      "execution_count": 2,
      "outputs": [
        {
          "output_type": "execute_result",
          "data": {
            "text/plain": [
              "'og'"
            ],
            "application/vnd.google.colaboratory.intrinsic+json": {
              "type": "string"
            }
          },
          "metadata": {},
          "execution_count": 2
        }
      ]
    },
    {
      "cell_type": "markdown",
      "source": [
        "Using the [ ] directly behind an iterable object, or directly behind a varable that points to an iterable object, splices the object according to some built in rules. Let's practice to see how it works."
      ],
      "metadata": {
        "id": "VAE-zDld52Dv"
      }
    },
    {
      "cell_type": "markdown",
      "source": [
        "**Task3**:\n",
        "\n",
        "Splice the string 'Hippopotomonstrosesquippedaliophobia' to output 'monstro' using a single line of code.\n",
        "\n",
        "Note: with data science, its not important to get it right on the first try. Just try stuff and see what happens."
      ],
      "metadata": {
        "id": "jRtb8JwP6ecc"
      }
    },
    {
      "cell_type": "code",
      "source": [
        "\n",
        "\"Hippopotomonstrosesquippedaliophobia\"[9:9+7]"
      ],
      "metadata": {
        "id": "hdzJ-sST7idE",
        "outputId": "3d55e939-0ab3-4b3f-9d4e-451229224e2b",
        "colab": {
          "base_uri": "https://localhost:8080/",
          "height": 35
        }
      },
      "execution_count": 7,
      "outputs": [
        {
          "output_type": "execute_result",
          "data": {
            "text/plain": [
              "'monstro'"
            ],
            "application/vnd.google.colaboratory.intrinsic+json": {
              "type": "string"
            }
          },
          "metadata": {},
          "execution_count": 7
        }
      ]
    },
    {
      "cell_type": "markdown",
      "source": [
        "There's one more thing about strings you must know: strings are immutable, unchangeable. Anytime it looks like you're changing a string, you're actaully creating a new string based off the old, still extant, string.\n",
        "\n",
        "This means that we, as data scientists, will rarely, if ever, store our data in strings. They're also really hard to look at when they get larger, as Task3 showed."
      ],
      "metadata": {
        "id": "BFxALqJ_8__R"
      }
    },
    {
      "cell_type": "markdown",
      "source": [
        "###Lists\n",
        "\n",
        "This brings us to our next data type, lists. They are iterable like strings, but they are mutable (changable), and can hold all types of data, not just characters."
      ],
      "metadata": {
        "id": "HkkqnEof-HK-"
      }
    },
    {
      "cell_type": "code",
      "source": [
        "#define my list with brackets\n",
        "my_list = [\"dog\", x, 5]\n",
        "#print my list\n",
        "my_list"
      ],
      "metadata": {
        "id": "0LnTNA_b-k0A",
        "outputId": "5e95a688-8648-44be-f5c9-47f53891b13b",
        "colab": {
          "base_uri": "https://localhost:8080/"
        }
      },
      "execution_count": 8,
      "outputs": [
        {
          "output_type": "execute_result",
          "data": {
            "text/plain": [
              "['dog', 9, 5]"
            ]
          },
          "metadata": {},
          "execution_count": 8
        }
      ]
    },
    {
      "cell_type": "markdown",
      "source": [
        "Notice that when I put a variable in my list, the list reports the contents of the variable. Let's see how that works"
      ],
      "metadata": {
        "id": "KBAs9WwF-_5-"
      }
    },
    {
      "cell_type": "code",
      "source": [
        "b_list = ['Hippopotomonstrosesquippedaliophobia'[9:16], 4/2 , len(my_list), my_list]\n",
        "\n",
        "b_list"
      ],
      "metadata": {
        "id": "3m0hddna_f_Q",
        "outputId": "dd0da57a-8499-4007-cad8-69c084ec7f73",
        "colab": {
          "base_uri": "https://localhost:8080/"
        }
      },
      "execution_count": 9,
      "outputs": [
        {
          "output_type": "execute_result",
          "data": {
            "text/plain": [
              "['monstro', 2.0, 3, ['dog', 9, 5]]"
            ]
          },
          "metadata": {},
          "execution_count": 9
        }
      ]
    },
    {
      "cell_type": "code",
      "source": [
        "#add another item to the end of my list\n",
        "my_list.append(np.log(0.1))\n",
        "#print the list\n",
        "my_list"
      ],
      "metadata": {
        "id": "HNz2Yei7_7Ln",
        "outputId": "33a2fd74-b87a-4a19-ed5a-66c68f8f6e99",
        "colab": {
          "base_uri": "https://localhost:8080/"
        }
      },
      "execution_count": 10,
      "outputs": [
        {
          "output_type": "execute_result",
          "data": {
            "text/plain": [
              "['dog', 9, 5, np.float64(-2.3025850929940455)]"
            ]
          },
          "metadata": {},
          "execution_count": 10
        }
      ]
    },
    {
      "cell_type": "code",
      "source": [
        "b_list"
      ],
      "metadata": {
        "id": "4IIAegX7AICW",
        "outputId": "7c68521d-a768-4761-84aa-fbaf30eb6e9c",
        "colab": {
          "base_uri": "https://localhost:8080/"
        }
      },
      "execution_count": 11,
      "outputs": [
        {
          "output_type": "execute_result",
          "data": {
            "text/plain": [
              "['monstro', 2.0, 3, ['dog', 9, 5, np.float64(-2.3025850929940455)]]"
            ]
          },
          "metadata": {},
          "execution_count": 11
        }
      ]
    },
    {
      "cell_type": "markdown",
      "source": [
        "**Task4**:\n",
        "\n",
        "Explain what happened in the last three code blocks; why is 2580156526864974.5 in b_list now?"
      ],
      "metadata": {
        "id": "n13RCo86AVGZ"
      }
    },
    {
      "cell_type": "markdown",
      "source": [
        "**Answer4**:\n",
        "\n",
        "cause uh modifying mylist does the same to blist"
      ],
      "metadata": {
        "id": "SjxYvKC3AihR"
      }
    },
    {
      "cell_type": "markdown",
      "source": [
        "Let's practice splicing once more before moving on."
      ],
      "metadata": {
        "id": "fvLSQQt9BNor"
      }
    },
    {
      "cell_type": "markdown",
      "source": [
        "**Task5**:\n",
        "\n",
        "Using one line of code, grab the last three entries of my_list without writing my_list anywhere in your code.\n",
        "\n",
        "This task is a little harder than the others, so make sure you're working together. Don't be shy about googling 'how to splice lists in python' either."
      ],
      "metadata": {
        "id": "iftRvhTLBRZL"
      }
    },
    {
      "cell_type": "code",
      "source": [
        "b_list[3][1:4]"
      ],
      "metadata": {
        "id": "TWu4b5eVBljg",
        "outputId": "b9654d6f-1a44-42d7-ee44-ad1b6070504b",
        "colab": {
          "base_uri": "https://localhost:8080/"
        }
      },
      "execution_count": 13,
      "outputs": [
        {
          "output_type": "execute_result",
          "data": {
            "text/plain": [
              "[9, 5, np.float64(-2.3025850929940455)]"
            ]
          },
          "metadata": {},
          "execution_count": 13
        }
      ]
    },
    {
      "cell_type": "markdown",
      "source": [
        "###Dicts\n",
        "\n",
        "Like lists, dicts can hold any and all types of data. What differentiaties them from lists is that data in a dict is stored as a key/value pair called an item."
      ],
      "metadata": {
        "id": "mCVql9lfCXmv"
      }
    },
    {
      "cell_type": "code",
      "source": [
        "#make my dict\n",
        "my_dict = {'one':4/2, 2:my_list, '3':b_list[0]}\n",
        "my_dict"
      ],
      "metadata": {
        "id": "fmksWP1hJ4F2",
        "outputId": "96644795-2271-4d86-a74d-7738a0076292",
        "colab": {
          "base_uri": "https://localhost:8080/"
        }
      },
      "execution_count": 14,
      "outputs": [
        {
          "output_type": "execute_result",
          "data": {
            "text/plain": [
              "{'one': 2.0, 2: ['dog', 9, 5, np.float64(-2.3025850929940455)], '3': 'monstro'}"
            ]
          },
          "metadata": {},
          "execution_count": 14
        }
      ]
    },
    {
      "cell_type": "markdown",
      "source": [
        "Dicts aren't entirely iterable."
      ],
      "metadata": {
        "id": "BLYdbXSpKkF4"
      }
    },
    {
      "cell_type": "code",
      "source": [
        "my_dict[0]"
      ],
      "metadata": {
        "id": "3ipy3XswKavQ",
        "collapsed": true,
        "outputId": "6e61cec1-2a8c-4332-f82b-f104f294cfa1",
        "colab": {
          "base_uri": "https://localhost:8080/",
          "height": 141
        }
      },
      "execution_count": 17,
      "outputs": [
        {
          "output_type": "error",
          "ename": "KeyError",
          "evalue": "0",
          "traceback": [
            "\u001b[0;31m---------------------------------------------------------------------------\u001b[0m",
            "\u001b[0;31mKeyError\u001b[0m                                  Traceback (most recent call last)",
            "\u001b[0;32m/tmp/ipython-input-2056869115.py\u001b[0m in \u001b[0;36m<cell line: 0>\u001b[0;34m()\u001b[0m\n\u001b[0;32m----> 1\u001b[0;31m \u001b[0mmy_dict\u001b[0m\u001b[0;34m[\u001b[0m\u001b[0;36m0\u001b[0m\u001b[0;34m]\u001b[0m\u001b[0;34m\u001b[0m\u001b[0;34m\u001b[0m\u001b[0m\n\u001b[0m",
            "\u001b[0;31mKeyError\u001b[0m: 0"
          ]
        }
      ]
    },
    {
      "cell_type": "markdown",
      "source": [
        "Instead of splicing, we acces the values of a dict using its keys."
      ],
      "metadata": {
        "id": "NSm5uTbSKprj"
      }
    },
    {
      "cell_type": "code",
      "source": [
        "my_dict['one'], my_dict['3'], my_dict[2.]"
      ],
      "metadata": {
        "id": "q7gBFLcgK0wo",
        "outputId": "a03605cd-3c63-4757-ce6c-6af06eb47746",
        "colab": {
          "base_uri": "https://localhost:8080/"
        }
      },
      "execution_count": 18,
      "outputs": [
        {
          "output_type": "execute_result",
          "data": {
            "text/plain": [
              "(2.0, 'monstro', ['dog', 9, 5, np.float64(-2.3025850929940455)])"
            ]
          },
          "metadata": {},
          "execution_count": 18
        }
      ]
    },
    {
      "cell_type": "code",
      "source": [
        "#dicts can recognize when floats are equivalent to ints\n",
        "my_dict[2]"
      ],
      "metadata": {
        "id": "1wL5QtHkLJqt",
        "outputId": "32387f40-a3d3-4a0f-9818-733fe3d0408b",
        "colab": {
          "base_uri": "https://localhost:8080/"
        }
      },
      "execution_count": 19,
      "outputs": [
        {
          "output_type": "execute_result",
          "data": {
            "text/plain": [
              "['dog', 9, 5, np.float64(-2.3025850929940455)]"
            ]
          },
          "metadata": {},
          "execution_count": 19
        }
      ]
    },
    {
      "cell_type": "markdown",
      "source": [
        "If we want to iterate a dict, we need its keys. We can also just grab the values directly"
      ],
      "metadata": {
        "id": "BzcUpk73MFAE"
      }
    },
    {
      "cell_type": "code",
      "source": [
        "my_dict.keys()"
      ],
      "metadata": {
        "id": "4s26s4OMMMK4",
        "outputId": "3b723f93-fc34-4892-d18f-7cc9ed8fc60c",
        "colab": {
          "base_uri": "https://localhost:8080/"
        }
      },
      "execution_count": 20,
      "outputs": [
        {
          "output_type": "execute_result",
          "data": {
            "text/plain": [
              "dict_keys(['one', 2, '3'])"
            ]
          },
          "metadata": {},
          "execution_count": 20
        }
      ]
    },
    {
      "cell_type": "code",
      "source": [
        "my_dict.values()"
      ],
      "metadata": {
        "id": "FyfaQT4RMTk0",
        "outputId": "288da893-d185-4d52-b1c7-c07b26f5b698",
        "colab": {
          "base_uri": "https://localhost:8080/"
        }
      },
      "execution_count": 21,
      "outputs": [
        {
          "output_type": "execute_result",
          "data": {
            "text/plain": [
              "dict_values([2.0, ['dog', 9, 5, np.float64(-2.3025850929940455)], 'monstro'])"
            ]
          },
          "metadata": {},
          "execution_count": 21
        }
      ]
    },
    {
      "cell_type": "markdown",
      "source": [
        "There are two other basic iterable data types in python: sets and tuples. We don't need to know much about them for this course though, so we'll move on to some data structures that we will use *a lot*."
      ],
      "metadata": {
        "id": "RkArvD60Mvyd"
      }
    },
    {
      "cell_type": "markdown",
      "source": [
        "## Numpy Arrays\n",
        "\n",
        "Nearly all scientific computing and data science in python uses numpy arrays, or something built out of numpy arrays. Numpy arrays are similar to lists, except they are imutable, and only hold one data type at a time"
      ],
      "metadata": {
        "id": "3vUOOe4wNvdR"
      }
    },
    {
      "cell_type": "code",
      "source": [
        "first_array = np.array([x,'dog', 'montro'])\n",
        "first_array"
      ],
      "metadata": {
        "id": "xpS4CyPsN1wE",
        "outputId": "00d5082d-1c57-4b82-bc8c-64b734493122",
        "colab": {
          "base_uri": "https://localhost:8080/"
        }
      },
      "execution_count": 22,
      "outputs": [
        {
          "output_type": "execute_result",
          "data": {
            "text/plain": [
              "array(['9', 'dog', 'montro'], dtype='<U21')"
            ]
          },
          "metadata": {},
          "execution_count": 22
        }
      ]
    },
    {
      "cell_type": "code",
      "source": [
        "hoo_array = np.array([np.pi, 11, 2 - 7])\n",
        "hoo_array"
      ],
      "metadata": {
        "id": "3Kfkr0QcPHJ8",
        "outputId": "a57b099b-ae25-468e-b803-72091267fec4",
        "colab": {
          "base_uri": "https://localhost:8080/"
        }
      },
      "execution_count": 23,
      "outputs": [
        {
          "output_type": "execute_result",
          "data": {
            "text/plain": [
              "array([ 3.14159265, 11.        , -5.        ])"
            ]
          },
          "metadata": {},
          "execution_count": 23
        }
      ]
    },
    {
      "cell_type": "markdown",
      "source": [
        "hoo_array converted the two ints, 11 and -5, into floats, to ensure that everything is the same data type.\n",
        "\n",
        "A similar thing happens when you try to mix floats and ints with strings."
      ],
      "metadata": {
        "id": "aMJY5Q1RPPGd"
      }
    },
    {
      "cell_type": "markdown",
      "source": [
        "**Task6**:\n",
        "\n",
        "What happens when you make an numpy array with floats, strings, and ints?"
      ],
      "metadata": {
        "id": "36yrr-YlQL0v"
      }
    },
    {
      "cell_type": "code",
      "source": [
        "not_array = np.array([1.00005, 15, \"wheat\"])\n",
        "not_array"
      ],
      "metadata": {
        "id": "o2qCieLlPiCw",
        "outputId": "78e01b89-26a3-47e7-9c5e-86c065a5a9c0",
        "colab": {
          "base_uri": "https://localhost:8080/"
        }
      },
      "execution_count": 24,
      "outputs": [
        {
          "output_type": "execute_result",
          "data": {
            "text/plain": [
              "array(['1.00005', '15', 'wheat'], dtype='<U32')"
            ]
          },
          "metadata": {},
          "execution_count": 24
        }
      ]
    },
    {
      "cell_type": "markdown",
      "source": [
        "**Answer6 cont.**:\n",
        "\n",
        "aaall converted to strings"
      ],
      "metadata": {
        "id": "OY6nERNPQYjD"
      }
    },
    {
      "cell_type": "markdown",
      "source": [
        "Why make such a big deal out of numpy arrays, if they have this weird behavior?\n",
        "\n",
        "Ensuring that arrays are always of the same data type makes operations with arrays fast, which is essential when dealing with even moderately sized data sets."
      ],
      "metadata": {
        "id": "Ool262SkQqeh"
      }
    },
    {
      "cell_type": "markdown",
      "source": [
        "Actually there's more reasons to love numpy arrays."
      ],
      "metadata": {
        "id": "Pyp-Wt0NRxsU"
      }
    },
    {
      "cell_type": "markdown",
      "source": [
        "Arrays support element wise multiplication, addition, subtraction, and division by constants. Which is just what would happen to vectors, the mathematical object arrays were modeled after."
      ],
      "metadata": {
        "id": "q0OA_dk_SJLR"
      }
    },
    {
      "cell_type": "code",
      "source": [
        "2 * hoo_array + 1"
      ],
      "metadata": {
        "id": "GIYrGdr3SAtW"
      },
      "execution_count": null,
      "outputs": []
    },
    {
      "cell_type": "markdown",
      "source": [
        "Regular multiplication with arrays executes element wise multiplication"
      ],
      "metadata": {
        "id": "UodMsbZzcLa2"
      }
    },
    {
      "cell_type": "code",
      "source": [
        "hoo_array * hoo_array"
      ],
      "metadata": {
        "id": "TBHNfz31cFVj"
      },
      "execution_count": null,
      "outputs": []
    },
    {
      "cell_type": "markdown",
      "source": [
        "Numpy arrays also handle matrix multiplication. What's that? Don't worry about it for now, just know that it exists."
      ],
      "metadata": {
        "id": "Yq_6ND-_ctm8"
      }
    },
    {
      "cell_type": "code",
      "source": [
        "# define a new array, with easy to follow numbers\n",
        "pl_array = np.array([1,2,3])"
      ],
      "metadata": {
        "id": "0-9__1ALfkE8"
      },
      "execution_count": 39,
      "outputs": []
    },
    {
      "cell_type": "code",
      "source": [
        "#inner product, dot product\n",
        "pl_array @ pl_array"
      ],
      "metadata": {
        "id": "lQ7p1i06c8kt",
        "outputId": "44d18de7-b46d-43bc-8235-6ddca904c649",
        "colab": {
          "base_uri": "https://localhost:8080/"
        }
      },
      "execution_count": 40,
      "outputs": [
        {
          "output_type": "execute_result",
          "data": {
            "text/plain": [
              "np.int64(14)"
            ]
          },
          "metadata": {},
          "execution_count": 40
        }
      ]
    },
    {
      "cell_type": "code",
      "source": [
        "#matmul works as a dot product/ inner product as well\n",
        "np.matmul(pl_array,pl_array)"
      ],
      "metadata": {
        "id": "zhNg5teigA6H",
        "outputId": "e48d53f5-448e-4033-ed12-d26c25a40560",
        "colab": {
          "base_uri": "https://localhost:8080/"
        }
      },
      "execution_count": 41,
      "outputs": [
        {
          "output_type": "execute_result",
          "data": {
            "text/plain": [
              "np.int64(14)"
            ]
          },
          "metadata": {},
          "execution_count": 41
        }
      ]
    },
    {
      "cell_type": "code",
      "source": [
        "#use np.outer for outer product\n",
        "first_matrix = np.outer(pl_array,pl_array)\n",
        "first_matrix"
      ],
      "metadata": {
        "id": "8ONBvwbFhEfY",
        "outputId": "2de47bc1-d8d3-4e53-f87d-4640083f71de",
        "colab": {
          "base_uri": "https://localhost:8080/"
        }
      },
      "execution_count": 42,
      "outputs": [
        {
          "output_type": "execute_result",
          "data": {
            "text/plain": [
              "array([[1, 2, 3],\n",
              "       [2, 4, 6],\n",
              "       [3, 6, 9]])"
            ]
          },
          "metadata": {},
          "execution_count": 42
        }
      ]
    },
    {
      "cell_type": "markdown",
      "source": [
        "### Array Creation\n",
        "\n",
        "One of the great things about computers is that they can do tedious tasks for me, like make a 100 by 100 matrix."
      ],
      "metadata": {
        "id": "b7ravYUmi59e"
      }
    },
    {
      "cell_type": "code",
      "source": [
        "#feel the power\n",
        "some_ones = np.ones((100,100))\n",
        "some_ones"
      ],
      "metadata": {
        "id": "6GXoMBvUkmfh",
        "outputId": "710a9049-8701-4eb0-f833-769c4d82257b",
        "colab": {
          "base_uri": "https://localhost:8080/"
        }
      },
      "execution_count": 43,
      "outputs": [
        {
          "output_type": "execute_result",
          "data": {
            "text/plain": [
              "array([[1., 1., 1., ..., 1., 1., 1.],\n",
              "       [1., 1., 1., ..., 1., 1., 1.],\n",
              "       [1., 1., 1., ..., 1., 1., 1.],\n",
              "       ...,\n",
              "       [1., 1., 1., ..., 1., 1., 1.],\n",
              "       [1., 1., 1., ..., 1., 1., 1.],\n",
              "       [1., 1., 1., ..., 1., 1., 1.]])"
            ]
          },
          "metadata": {},
          "execution_count": 43
        }
      ]
    },
    {
      "cell_type": "code",
      "source": [
        "#zeros works the same way, except with zeros\n",
        "np.zeros(3)"
      ],
      "metadata": {
        "id": "MaOPiDRQk2ZX",
        "outputId": "a316ac38-4272-4c19-be0f-505530c1c332",
        "colab": {
          "base_uri": "https://localhost:8080/"
        }
      },
      "execution_count": 44,
      "outputs": [
        {
          "output_type": "execute_result",
          "data": {
            "text/plain": [
              "array([0., 0., 0.])"
            ]
          },
          "metadata": {},
          "execution_count": 44
        }
      ]
    },
    {
      "cell_type": "markdown",
      "source": [
        "Here are examples of other ways to make arrays. You can find even more [here](https://numpy.org/doc/stable/reference/routines.array-creation.html)."
      ],
      "metadata": {
        "id": "vr3rE7ROlWZe"
      }
    },
    {
      "cell_type": "code",
      "source": [
        "#creates an array of 21 values, evenly spaced from -10 to 10, inclusive\n",
        "#notice how it always generates floats\n",
        "np.linspace(-10,10,21)"
      ],
      "metadata": {
        "id": "dR137gollgY8"
      },
      "execution_count": null,
      "outputs": []
    },
    {
      "cell_type": "code",
      "source": [
        "#also creates evely spaced values over a specificed range.\n",
        "#similar to linspace, but less stable, and requires less inputs\n",
        "#sometimes it generates floats, sometimes it generates ints\n",
        "x_array = np.arange(10)\n",
        "x_array"
      ],
      "metadata": {
        "id": "MIKaa4nimBBc",
        "outputId": "296c2cbd-d959-4e7e-fbfd-a12c33cf15ec",
        "colab": {
          "base_uri": "https://localhost:8080/"
        }
      },
      "execution_count": 26,
      "outputs": [
        {
          "output_type": "execute_result",
          "data": {
            "text/plain": [
              "array([0, 1, 2, 3, 4, 5, 6, 7, 8, 9])"
            ]
          },
          "metadata": {},
          "execution_count": 26
        }
      ]
    },
    {
      "cell_type": "code",
      "source": [
        "#makes an array of 15 4s\n",
        "np.repeat(4,15)"
      ],
      "metadata": {
        "id": "PJAWfZ91mZoI",
        "outputId": "90394ed6-a02f-4fed-9fd2-1eba6f22ac64",
        "colab": {
          "base_uri": "https://localhost:8080/"
        }
      },
      "execution_count": 27,
      "outputs": [
        {
          "output_type": "execute_result",
          "data": {
            "text/plain": [
              "array([4, 4, 4, 4, 4, 4, 4, 4, 4, 4, 4, 4, 4, 4, 4])"
            ]
          },
          "metadata": {},
          "execution_count": 27
        }
      ]
    },
    {
      "cell_type": "markdown",
      "source": [
        "**Task7**:\n",
        "\n",
        "Make an array from 87 to 104 (inclusive) with exactly 50 entries."
      ],
      "metadata": {
        "id": "HkRdH9nXVN1e"
      }
    },
    {
      "cell_type": "code",
      "source": [
        "np.linspace(87,104,50)\n",
        "\n"
      ],
      "metadata": {
        "id": "wjQQMzlrWx_N",
        "outputId": "98330333-40a6-4e3d-ebda-05f79e364b48",
        "colab": {
          "base_uri": "https://localhost:8080/"
        }
      },
      "execution_count": 25,
      "outputs": [
        {
          "output_type": "execute_result",
          "data": {
            "text/plain": [
              "array([ 87.        ,  87.34693878,  87.69387755,  88.04081633,\n",
              "        88.3877551 ,  88.73469388,  89.08163265,  89.42857143,\n",
              "        89.7755102 ,  90.12244898,  90.46938776,  90.81632653,\n",
              "        91.16326531,  91.51020408,  91.85714286,  92.20408163,\n",
              "        92.55102041,  92.89795918,  93.24489796,  93.59183673,\n",
              "        93.93877551,  94.28571429,  94.63265306,  94.97959184,\n",
              "        95.32653061,  95.67346939,  96.02040816,  96.36734694,\n",
              "        96.71428571,  97.06122449,  97.40816327,  97.75510204,\n",
              "        98.10204082,  98.44897959,  98.79591837,  99.14285714,\n",
              "        99.48979592,  99.83673469, 100.18367347, 100.53061224,\n",
              "       100.87755102, 101.2244898 , 101.57142857, 101.91836735,\n",
              "       102.26530612, 102.6122449 , 102.95918367, 103.30612245,\n",
              "       103.65306122, 104.        ])"
            ]
          },
          "metadata": {},
          "execution_count": 25
        }
      ]
    },
    {
      "cell_type": "markdown",
      "source": [
        "Splicing works the same for arrays and lists."
      ],
      "metadata": {
        "id": "D_HYihKoXXDL"
      }
    },
    {
      "cell_type": "markdown",
      "source": [
        "**Task8**:\n",
        "\n",
        "Grab the first through fifth entries of x_array."
      ],
      "metadata": {
        "id": "YopMOoy-Xap9"
      }
    },
    {
      "cell_type": "code",
      "source": [
        "x_array[0:5]\n"
      ],
      "metadata": {
        "id": "yxCDEKDGXkvw",
        "outputId": "a4ff9783-bede-40b4-e90b-f7daa02f2429",
        "colab": {
          "base_uri": "https://localhost:8080/"
        }
      },
      "execution_count": 31,
      "outputs": [
        {
          "output_type": "execute_result",
          "data": {
            "text/plain": [
              "array([0, 1, 2, 3, 4])"
            ]
          },
          "metadata": {},
          "execution_count": 31
        }
      ]
    },
    {
      "cell_type": "markdown",
      "source": [
        "### Vectorized Operations\n",
        "\n",
        "Numpy arrays come with many built in methods, many of which are vectorized operations. All you need to know about 'vectorized operations' is that: they are usually much faster than any other option, and how to use them.\n",
        "\n",
        "There are two examples below. You can see others [here](https://numpy.org/doc/stable/reference/arrays.ndarray.html#array-methods)."
      ],
      "metadata": {
        "id": "zQgQJUEdjg-7"
      }
    },
    {
      "cell_type": "code",
      "source": [
        "#finds the most positive (largest) value in the array\n",
        "x_array.max()"
      ],
      "metadata": {
        "id": "LRMtaF4Uj-ol"
      },
      "execution_count": null,
      "outputs": []
    },
    {
      "cell_type": "code",
      "source": [
        "#finds the average of the values in x_array\n",
        "x_array.mean()"
      ],
      "metadata": {
        "id": "Mul5TjVGj3bX"
      },
      "execution_count": null,
      "outputs": []
    },
    {
      "cell_type": "markdown",
      "source": [
        "## Pandas Dataframes\n",
        "\n",
        "These are the data structure we will most often directly manipulate in this class. Paying special attention to this section will make your life easier later.\n",
        "\n",
        "Like numpy, we need to import pandas, and we often use an abreviation."
      ],
      "metadata": {
        "id": "vkWoeIclXkE3"
      }
    },
    {
      "cell_type": "code",
      "source": [
        "import pandas as pd\n",
        "import polars as pl"
      ],
      "metadata": {
        "id": "vpng4PWJY8dF"
      },
      "execution_count": 33,
      "outputs": []
    },
    {
      "cell_type": "markdown",
      "source": [
        "We can make a pandas dataframe from any numpy array."
      ],
      "metadata": {
        "id": "dSkZCWaRY_x0"
      }
    },
    {
      "cell_type": "code",
      "source": [
        "x_df = pl.DataFrame(x_array)\n",
        "x_df\n",
        "\n"
      ],
      "metadata": {
        "id": "SqwgQYkRZUIt",
        "outputId": "881bbc97-f04e-4a5e-e2ba-8e55dc72e639",
        "colab": {
          "base_uri": "https://localhost:8080/",
          "height": 412
        }
      },
      "execution_count": 49,
      "outputs": [
        {
          "output_type": "execute_result",
          "data": {
            "text/plain": [
              "shape: (10, 1)\n",
              "┌──────────┐\n",
              "│ column_0 │\n",
              "│ ---      │\n",
              "│ i64      │\n",
              "╞══════════╡\n",
              "│ 0        │\n",
              "│ 1        │\n",
              "│ 2        │\n",
              "│ 3        │\n",
              "│ 4        │\n",
              "│ 5        │\n",
              "│ 6        │\n",
              "│ 7        │\n",
              "│ 8        │\n",
              "│ 9        │\n",
              "└──────────┘"
            ],
            "text/html": [
              "<div><style>\n",
              ".dataframe > thead > tr,\n",
              ".dataframe > tbody > tr {\n",
              "  text-align: right;\n",
              "  white-space: pre-wrap;\n",
              "}\n",
              "</style>\n",
              "<small>shape: (10, 1)</small><table border=\"1\" class=\"dataframe\"><thead><tr><th>column_0</th></tr><tr><td>i64</td></tr></thead><tbody><tr><td>0</td></tr><tr><td>1</td></tr><tr><td>2</td></tr><tr><td>3</td></tr><tr><td>4</td></tr><tr><td>5</td></tr><tr><td>6</td></tr><tr><td>7</td></tr><tr><td>8</td></tr><tr><td>9</td></tr></tbody></table></div>"
            ]
          },
          "metadata": {},
          "execution_count": 49
        }
      ]
    },
    {
      "cell_type": "markdown",
      "source": [
        "Notice how the one dimensional array was turned into a vertical column. Pandas dataframes frame (ahem) data around columns and column labels. There are row labels too, and these are refered to as indicies."
      ],
      "metadata": {
        "id": "ZCcmzU8TZmIU"
      }
    },
    {
      "cell_type": "code",
      "source": [
        "some_ones_df = pl.DataFrame(some_ones)\n",
        "some_ones_df"
      ],
      "metadata": {
        "id": "p8_JoDnIZFMD",
        "outputId": "6024beaf-4cf7-4ddc-c760-8bb861c868ca",
        "colab": {
          "base_uri": "https://localhost:8080/",
          "height": 463
        }
      },
      "execution_count": 48,
      "outputs": [
        {
          "output_type": "execute_result",
          "data": {
            "text/plain": [
              "shape: (100, 100)\n",
              "┌──────────┬──────────┬──────────┬──────────┬───┬───────────┬───────────┬───────────┬───────────┐\n",
              "│ column_0 ┆ column_1 ┆ column_2 ┆ column_3 ┆ … ┆ column_96 ┆ column_97 ┆ column_98 ┆ column_99 │\n",
              "│ ---      ┆ ---      ┆ ---      ┆ ---      ┆   ┆ ---       ┆ ---       ┆ ---       ┆ ---       │\n",
              "│ f64      ┆ f64      ┆ f64      ┆ f64      ┆   ┆ f64       ┆ f64       ┆ f64       ┆ f64       │\n",
              "╞══════════╪══════════╪══════════╪══════════╪═══╪═══════════╪═══════════╪═══════════╪═══════════╡\n",
              "│ 1.0      ┆ 1.0      ┆ 1.0      ┆ 1.0      ┆ … ┆ 1.0       ┆ 1.0       ┆ 1.0       ┆ 1.0       │\n",
              "│ 1.0      ┆ 1.0      ┆ 1.0      ┆ 1.0      ┆ … ┆ 1.0       ┆ 1.0       ┆ 1.0       ┆ 1.0       │\n",
              "│ 1.0      ┆ 1.0      ┆ 1.0      ┆ 1.0      ┆ … ┆ 1.0       ┆ 1.0       ┆ 1.0       ┆ 1.0       │\n",
              "│ 1.0      ┆ 1.0      ┆ 1.0      ┆ 1.0      ┆ … ┆ 1.0       ┆ 1.0       ┆ 1.0       ┆ 1.0       │\n",
              "│ 1.0      ┆ 1.0      ┆ 1.0      ┆ 1.0      ┆ … ┆ 1.0       ┆ 1.0       ┆ 1.0       ┆ 1.0       │\n",
              "│ …        ┆ …        ┆ …        ┆ …        ┆ … ┆ …         ┆ …         ┆ …         ┆ …         │\n",
              "│ 1.0      ┆ 1.0      ┆ 1.0      ┆ 1.0      ┆ … ┆ 1.0       ┆ 1.0       ┆ 1.0       ┆ 1.0       │\n",
              "│ 1.0      ┆ 1.0      ┆ 1.0      ┆ 1.0      ┆ … ┆ 1.0       ┆ 1.0       ┆ 1.0       ┆ 1.0       │\n",
              "│ 1.0      ┆ 1.0      ┆ 1.0      ┆ 1.0      ┆ … ┆ 1.0       ┆ 1.0       ┆ 1.0       ┆ 1.0       │\n",
              "│ 1.0      ┆ 1.0      ┆ 1.0      ┆ 1.0      ┆ … ┆ 1.0       ┆ 1.0       ┆ 1.0       ┆ 1.0       │\n",
              "│ 1.0      ┆ 1.0      ┆ 1.0      ┆ 1.0      ┆ … ┆ 1.0       ┆ 1.0       ┆ 1.0       ┆ 1.0       │\n",
              "└──────────┴──────────┴──────────┴──────────┴───┴───────────┴───────────┴───────────┴───────────┘"
            ],
            "text/html": [
              "<div><style>\n",
              ".dataframe > thead > tr,\n",
              ".dataframe > tbody > tr {\n",
              "  text-align: right;\n",
              "  white-space: pre-wrap;\n",
              "}\n",
              "</style>\n",
              "<small>shape: (100, 100)</small><table border=\"1\" class=\"dataframe\"><thead><tr><th>column_0</th><th>column_1</th><th>column_2</th><th>column_3</th><th>column_4</th><th>column_5</th><th>column_6</th><th>column_7</th><th>column_8</th><th>column_9</th><th>column_10</th><th>column_11</th><th>column_12</th><th>column_13</th><th>column_14</th><th>column_15</th><th>column_16</th><th>column_17</th><th>column_18</th><th>column_19</th><th>column_20</th><th>column_21</th><th>column_22</th><th>column_23</th><th>column_24</th><th>column_25</th><th>column_26</th><th>column_27</th><th>column_28</th><th>column_29</th><th>column_30</th><th>column_31</th><th>column_32</th><th>column_33</th><th>column_34</th><th>column_35</th><th>column_36</th><th>&hellip;</th><th>column_63</th><th>column_64</th><th>column_65</th><th>column_66</th><th>column_67</th><th>column_68</th><th>column_69</th><th>column_70</th><th>column_71</th><th>column_72</th><th>column_73</th><th>column_74</th><th>column_75</th><th>column_76</th><th>column_77</th><th>column_78</th><th>column_79</th><th>column_80</th><th>column_81</th><th>column_82</th><th>column_83</th><th>column_84</th><th>column_85</th><th>column_86</th><th>column_87</th><th>column_88</th><th>column_89</th><th>column_90</th><th>column_91</th><th>column_92</th><th>column_93</th><th>column_94</th><th>column_95</th><th>column_96</th><th>column_97</th><th>column_98</th><th>column_99</th></tr><tr><td>f64</td><td>f64</td><td>f64</td><td>f64</td><td>f64</td><td>f64</td><td>f64</td><td>f64</td><td>f64</td><td>f64</td><td>f64</td><td>f64</td><td>f64</td><td>f64</td><td>f64</td><td>f64</td><td>f64</td><td>f64</td><td>f64</td><td>f64</td><td>f64</td><td>f64</td><td>f64</td><td>f64</td><td>f64</td><td>f64</td><td>f64</td><td>f64</td><td>f64</td><td>f64</td><td>f64</td><td>f64</td><td>f64</td><td>f64</td><td>f64</td><td>f64</td><td>f64</td><td>&hellip;</td><td>f64</td><td>f64</td><td>f64</td><td>f64</td><td>f64</td><td>f64</td><td>f64</td><td>f64</td><td>f64</td><td>f64</td><td>f64</td><td>f64</td><td>f64</td><td>f64</td><td>f64</td><td>f64</td><td>f64</td><td>f64</td><td>f64</td><td>f64</td><td>f64</td><td>f64</td><td>f64</td><td>f64</td><td>f64</td><td>f64</td><td>f64</td><td>f64</td><td>f64</td><td>f64</td><td>f64</td><td>f64</td><td>f64</td><td>f64</td><td>f64</td><td>f64</td><td>f64</td></tr></thead><tbody><tr><td>1.0</td><td>1.0</td><td>1.0</td><td>1.0</td><td>1.0</td><td>1.0</td><td>1.0</td><td>1.0</td><td>1.0</td><td>1.0</td><td>1.0</td><td>1.0</td><td>1.0</td><td>1.0</td><td>1.0</td><td>1.0</td><td>1.0</td><td>1.0</td><td>1.0</td><td>1.0</td><td>1.0</td><td>1.0</td><td>1.0</td><td>1.0</td><td>1.0</td><td>1.0</td><td>1.0</td><td>1.0</td><td>1.0</td><td>1.0</td><td>1.0</td><td>1.0</td><td>1.0</td><td>1.0</td><td>1.0</td><td>1.0</td><td>1.0</td><td>&hellip;</td><td>1.0</td><td>1.0</td><td>1.0</td><td>1.0</td><td>1.0</td><td>1.0</td><td>1.0</td><td>1.0</td><td>1.0</td><td>1.0</td><td>1.0</td><td>1.0</td><td>1.0</td><td>1.0</td><td>1.0</td><td>1.0</td><td>1.0</td><td>1.0</td><td>1.0</td><td>1.0</td><td>1.0</td><td>1.0</td><td>1.0</td><td>1.0</td><td>1.0</td><td>1.0</td><td>1.0</td><td>1.0</td><td>1.0</td><td>1.0</td><td>1.0</td><td>1.0</td><td>1.0</td><td>1.0</td><td>1.0</td><td>1.0</td><td>1.0</td></tr><tr><td>1.0</td><td>1.0</td><td>1.0</td><td>1.0</td><td>1.0</td><td>1.0</td><td>1.0</td><td>1.0</td><td>1.0</td><td>1.0</td><td>1.0</td><td>1.0</td><td>1.0</td><td>1.0</td><td>1.0</td><td>1.0</td><td>1.0</td><td>1.0</td><td>1.0</td><td>1.0</td><td>1.0</td><td>1.0</td><td>1.0</td><td>1.0</td><td>1.0</td><td>1.0</td><td>1.0</td><td>1.0</td><td>1.0</td><td>1.0</td><td>1.0</td><td>1.0</td><td>1.0</td><td>1.0</td><td>1.0</td><td>1.0</td><td>1.0</td><td>&hellip;</td><td>1.0</td><td>1.0</td><td>1.0</td><td>1.0</td><td>1.0</td><td>1.0</td><td>1.0</td><td>1.0</td><td>1.0</td><td>1.0</td><td>1.0</td><td>1.0</td><td>1.0</td><td>1.0</td><td>1.0</td><td>1.0</td><td>1.0</td><td>1.0</td><td>1.0</td><td>1.0</td><td>1.0</td><td>1.0</td><td>1.0</td><td>1.0</td><td>1.0</td><td>1.0</td><td>1.0</td><td>1.0</td><td>1.0</td><td>1.0</td><td>1.0</td><td>1.0</td><td>1.0</td><td>1.0</td><td>1.0</td><td>1.0</td><td>1.0</td></tr><tr><td>1.0</td><td>1.0</td><td>1.0</td><td>1.0</td><td>1.0</td><td>1.0</td><td>1.0</td><td>1.0</td><td>1.0</td><td>1.0</td><td>1.0</td><td>1.0</td><td>1.0</td><td>1.0</td><td>1.0</td><td>1.0</td><td>1.0</td><td>1.0</td><td>1.0</td><td>1.0</td><td>1.0</td><td>1.0</td><td>1.0</td><td>1.0</td><td>1.0</td><td>1.0</td><td>1.0</td><td>1.0</td><td>1.0</td><td>1.0</td><td>1.0</td><td>1.0</td><td>1.0</td><td>1.0</td><td>1.0</td><td>1.0</td><td>1.0</td><td>&hellip;</td><td>1.0</td><td>1.0</td><td>1.0</td><td>1.0</td><td>1.0</td><td>1.0</td><td>1.0</td><td>1.0</td><td>1.0</td><td>1.0</td><td>1.0</td><td>1.0</td><td>1.0</td><td>1.0</td><td>1.0</td><td>1.0</td><td>1.0</td><td>1.0</td><td>1.0</td><td>1.0</td><td>1.0</td><td>1.0</td><td>1.0</td><td>1.0</td><td>1.0</td><td>1.0</td><td>1.0</td><td>1.0</td><td>1.0</td><td>1.0</td><td>1.0</td><td>1.0</td><td>1.0</td><td>1.0</td><td>1.0</td><td>1.0</td><td>1.0</td></tr><tr><td>1.0</td><td>1.0</td><td>1.0</td><td>1.0</td><td>1.0</td><td>1.0</td><td>1.0</td><td>1.0</td><td>1.0</td><td>1.0</td><td>1.0</td><td>1.0</td><td>1.0</td><td>1.0</td><td>1.0</td><td>1.0</td><td>1.0</td><td>1.0</td><td>1.0</td><td>1.0</td><td>1.0</td><td>1.0</td><td>1.0</td><td>1.0</td><td>1.0</td><td>1.0</td><td>1.0</td><td>1.0</td><td>1.0</td><td>1.0</td><td>1.0</td><td>1.0</td><td>1.0</td><td>1.0</td><td>1.0</td><td>1.0</td><td>1.0</td><td>&hellip;</td><td>1.0</td><td>1.0</td><td>1.0</td><td>1.0</td><td>1.0</td><td>1.0</td><td>1.0</td><td>1.0</td><td>1.0</td><td>1.0</td><td>1.0</td><td>1.0</td><td>1.0</td><td>1.0</td><td>1.0</td><td>1.0</td><td>1.0</td><td>1.0</td><td>1.0</td><td>1.0</td><td>1.0</td><td>1.0</td><td>1.0</td><td>1.0</td><td>1.0</td><td>1.0</td><td>1.0</td><td>1.0</td><td>1.0</td><td>1.0</td><td>1.0</td><td>1.0</td><td>1.0</td><td>1.0</td><td>1.0</td><td>1.0</td><td>1.0</td></tr><tr><td>1.0</td><td>1.0</td><td>1.0</td><td>1.0</td><td>1.0</td><td>1.0</td><td>1.0</td><td>1.0</td><td>1.0</td><td>1.0</td><td>1.0</td><td>1.0</td><td>1.0</td><td>1.0</td><td>1.0</td><td>1.0</td><td>1.0</td><td>1.0</td><td>1.0</td><td>1.0</td><td>1.0</td><td>1.0</td><td>1.0</td><td>1.0</td><td>1.0</td><td>1.0</td><td>1.0</td><td>1.0</td><td>1.0</td><td>1.0</td><td>1.0</td><td>1.0</td><td>1.0</td><td>1.0</td><td>1.0</td><td>1.0</td><td>1.0</td><td>&hellip;</td><td>1.0</td><td>1.0</td><td>1.0</td><td>1.0</td><td>1.0</td><td>1.0</td><td>1.0</td><td>1.0</td><td>1.0</td><td>1.0</td><td>1.0</td><td>1.0</td><td>1.0</td><td>1.0</td><td>1.0</td><td>1.0</td><td>1.0</td><td>1.0</td><td>1.0</td><td>1.0</td><td>1.0</td><td>1.0</td><td>1.0</td><td>1.0</td><td>1.0</td><td>1.0</td><td>1.0</td><td>1.0</td><td>1.0</td><td>1.0</td><td>1.0</td><td>1.0</td><td>1.0</td><td>1.0</td><td>1.0</td><td>1.0</td><td>1.0</td></tr><tr><td>&hellip;</td><td>&hellip;</td><td>&hellip;</td><td>&hellip;</td><td>&hellip;</td><td>&hellip;</td><td>&hellip;</td><td>&hellip;</td><td>&hellip;</td><td>&hellip;</td><td>&hellip;</td><td>&hellip;</td><td>&hellip;</td><td>&hellip;</td><td>&hellip;</td><td>&hellip;</td><td>&hellip;</td><td>&hellip;</td><td>&hellip;</td><td>&hellip;</td><td>&hellip;</td><td>&hellip;</td><td>&hellip;</td><td>&hellip;</td><td>&hellip;</td><td>&hellip;</td><td>&hellip;</td><td>&hellip;</td><td>&hellip;</td><td>&hellip;</td><td>&hellip;</td><td>&hellip;</td><td>&hellip;</td><td>&hellip;</td><td>&hellip;</td><td>&hellip;</td><td>&hellip;</td><td>&hellip;</td><td>&hellip;</td><td>&hellip;</td><td>&hellip;</td><td>&hellip;</td><td>&hellip;</td><td>&hellip;</td><td>&hellip;</td><td>&hellip;</td><td>&hellip;</td><td>&hellip;</td><td>&hellip;</td><td>&hellip;</td><td>&hellip;</td><td>&hellip;</td><td>&hellip;</td><td>&hellip;</td><td>&hellip;</td><td>&hellip;</td><td>&hellip;</td><td>&hellip;</td><td>&hellip;</td><td>&hellip;</td><td>&hellip;</td><td>&hellip;</td><td>&hellip;</td><td>&hellip;</td><td>&hellip;</td><td>&hellip;</td><td>&hellip;</td><td>&hellip;</td><td>&hellip;</td><td>&hellip;</td><td>&hellip;</td><td>&hellip;</td><td>&hellip;</td><td>&hellip;</td><td>&hellip;</td></tr><tr><td>1.0</td><td>1.0</td><td>1.0</td><td>1.0</td><td>1.0</td><td>1.0</td><td>1.0</td><td>1.0</td><td>1.0</td><td>1.0</td><td>1.0</td><td>1.0</td><td>1.0</td><td>1.0</td><td>1.0</td><td>1.0</td><td>1.0</td><td>1.0</td><td>1.0</td><td>1.0</td><td>1.0</td><td>1.0</td><td>1.0</td><td>1.0</td><td>1.0</td><td>1.0</td><td>1.0</td><td>1.0</td><td>1.0</td><td>1.0</td><td>1.0</td><td>1.0</td><td>1.0</td><td>1.0</td><td>1.0</td><td>1.0</td><td>1.0</td><td>&hellip;</td><td>1.0</td><td>1.0</td><td>1.0</td><td>1.0</td><td>1.0</td><td>1.0</td><td>1.0</td><td>1.0</td><td>1.0</td><td>1.0</td><td>1.0</td><td>1.0</td><td>1.0</td><td>1.0</td><td>1.0</td><td>1.0</td><td>1.0</td><td>1.0</td><td>1.0</td><td>1.0</td><td>1.0</td><td>1.0</td><td>1.0</td><td>1.0</td><td>1.0</td><td>1.0</td><td>1.0</td><td>1.0</td><td>1.0</td><td>1.0</td><td>1.0</td><td>1.0</td><td>1.0</td><td>1.0</td><td>1.0</td><td>1.0</td><td>1.0</td></tr><tr><td>1.0</td><td>1.0</td><td>1.0</td><td>1.0</td><td>1.0</td><td>1.0</td><td>1.0</td><td>1.0</td><td>1.0</td><td>1.0</td><td>1.0</td><td>1.0</td><td>1.0</td><td>1.0</td><td>1.0</td><td>1.0</td><td>1.0</td><td>1.0</td><td>1.0</td><td>1.0</td><td>1.0</td><td>1.0</td><td>1.0</td><td>1.0</td><td>1.0</td><td>1.0</td><td>1.0</td><td>1.0</td><td>1.0</td><td>1.0</td><td>1.0</td><td>1.0</td><td>1.0</td><td>1.0</td><td>1.0</td><td>1.0</td><td>1.0</td><td>&hellip;</td><td>1.0</td><td>1.0</td><td>1.0</td><td>1.0</td><td>1.0</td><td>1.0</td><td>1.0</td><td>1.0</td><td>1.0</td><td>1.0</td><td>1.0</td><td>1.0</td><td>1.0</td><td>1.0</td><td>1.0</td><td>1.0</td><td>1.0</td><td>1.0</td><td>1.0</td><td>1.0</td><td>1.0</td><td>1.0</td><td>1.0</td><td>1.0</td><td>1.0</td><td>1.0</td><td>1.0</td><td>1.0</td><td>1.0</td><td>1.0</td><td>1.0</td><td>1.0</td><td>1.0</td><td>1.0</td><td>1.0</td><td>1.0</td><td>1.0</td></tr><tr><td>1.0</td><td>1.0</td><td>1.0</td><td>1.0</td><td>1.0</td><td>1.0</td><td>1.0</td><td>1.0</td><td>1.0</td><td>1.0</td><td>1.0</td><td>1.0</td><td>1.0</td><td>1.0</td><td>1.0</td><td>1.0</td><td>1.0</td><td>1.0</td><td>1.0</td><td>1.0</td><td>1.0</td><td>1.0</td><td>1.0</td><td>1.0</td><td>1.0</td><td>1.0</td><td>1.0</td><td>1.0</td><td>1.0</td><td>1.0</td><td>1.0</td><td>1.0</td><td>1.0</td><td>1.0</td><td>1.0</td><td>1.0</td><td>1.0</td><td>&hellip;</td><td>1.0</td><td>1.0</td><td>1.0</td><td>1.0</td><td>1.0</td><td>1.0</td><td>1.0</td><td>1.0</td><td>1.0</td><td>1.0</td><td>1.0</td><td>1.0</td><td>1.0</td><td>1.0</td><td>1.0</td><td>1.0</td><td>1.0</td><td>1.0</td><td>1.0</td><td>1.0</td><td>1.0</td><td>1.0</td><td>1.0</td><td>1.0</td><td>1.0</td><td>1.0</td><td>1.0</td><td>1.0</td><td>1.0</td><td>1.0</td><td>1.0</td><td>1.0</td><td>1.0</td><td>1.0</td><td>1.0</td><td>1.0</td><td>1.0</td></tr><tr><td>1.0</td><td>1.0</td><td>1.0</td><td>1.0</td><td>1.0</td><td>1.0</td><td>1.0</td><td>1.0</td><td>1.0</td><td>1.0</td><td>1.0</td><td>1.0</td><td>1.0</td><td>1.0</td><td>1.0</td><td>1.0</td><td>1.0</td><td>1.0</td><td>1.0</td><td>1.0</td><td>1.0</td><td>1.0</td><td>1.0</td><td>1.0</td><td>1.0</td><td>1.0</td><td>1.0</td><td>1.0</td><td>1.0</td><td>1.0</td><td>1.0</td><td>1.0</td><td>1.0</td><td>1.0</td><td>1.0</td><td>1.0</td><td>1.0</td><td>&hellip;</td><td>1.0</td><td>1.0</td><td>1.0</td><td>1.0</td><td>1.0</td><td>1.0</td><td>1.0</td><td>1.0</td><td>1.0</td><td>1.0</td><td>1.0</td><td>1.0</td><td>1.0</td><td>1.0</td><td>1.0</td><td>1.0</td><td>1.0</td><td>1.0</td><td>1.0</td><td>1.0</td><td>1.0</td><td>1.0</td><td>1.0</td><td>1.0</td><td>1.0</td><td>1.0</td><td>1.0</td><td>1.0</td><td>1.0</td><td>1.0</td><td>1.0</td><td>1.0</td><td>1.0</td><td>1.0</td><td>1.0</td><td>1.0</td><td>1.0</td></tr><tr><td>1.0</td><td>1.0</td><td>1.0</td><td>1.0</td><td>1.0</td><td>1.0</td><td>1.0</td><td>1.0</td><td>1.0</td><td>1.0</td><td>1.0</td><td>1.0</td><td>1.0</td><td>1.0</td><td>1.0</td><td>1.0</td><td>1.0</td><td>1.0</td><td>1.0</td><td>1.0</td><td>1.0</td><td>1.0</td><td>1.0</td><td>1.0</td><td>1.0</td><td>1.0</td><td>1.0</td><td>1.0</td><td>1.0</td><td>1.0</td><td>1.0</td><td>1.0</td><td>1.0</td><td>1.0</td><td>1.0</td><td>1.0</td><td>1.0</td><td>&hellip;</td><td>1.0</td><td>1.0</td><td>1.0</td><td>1.0</td><td>1.0</td><td>1.0</td><td>1.0</td><td>1.0</td><td>1.0</td><td>1.0</td><td>1.0</td><td>1.0</td><td>1.0</td><td>1.0</td><td>1.0</td><td>1.0</td><td>1.0</td><td>1.0</td><td>1.0</td><td>1.0</td><td>1.0</td><td>1.0</td><td>1.0</td><td>1.0</td><td>1.0</td><td>1.0</td><td>1.0</td><td>1.0</td><td>1.0</td><td>1.0</td><td>1.0</td><td>1.0</td><td>1.0</td><td>1.0</td><td>1.0</td><td>1.0</td><td>1.0</td></tr></tbody></table></div>"
            ]
          },
          "metadata": {},
          "execution_count": 48
        }
      ]
    },
    {
      "cell_type": "markdown",
      "source": [
        "Pandas dataframes also have lots of methods, many of them vectorized operations, like numpy. This is because pandas was built on top of numpy."
      ],
      "metadata": {
        "id": "FF1gLUtJky6q"
      }
    },
    {
      "cell_type": "code",
      "source": [
        "#finds the largest value in column 0 of x_df\n",
        "x_df.max()"
      ],
      "metadata": {
        "id": "myskG9v1l2Py",
        "outputId": "e362f64d-b16d-4482-a19c-2455b39b36de",
        "colab": {
          "base_uri": "https://localhost:8080/",
          "height": 129
        }
      },
      "execution_count": 50,
      "outputs": [
        {
          "output_type": "execute_result",
          "data": {
            "text/plain": [
              "shape: (1, 1)\n",
              "┌──────────┐\n",
              "│ column_0 │\n",
              "│ ---      │\n",
              "│ i64      │\n",
              "╞══════════╡\n",
              "│ 9        │\n",
              "└──────────┘"
            ],
            "text/html": [
              "<div><style>\n",
              ".dataframe > thead > tr,\n",
              ".dataframe > tbody > tr {\n",
              "  text-align: right;\n",
              "  white-space: pre-wrap;\n",
              "}\n",
              "</style>\n",
              "<small>shape: (1, 1)</small><table border=\"1\" class=\"dataframe\"><thead><tr><th>column_0</th></tr><tr><td>i64</td></tr></thead><tbody><tr><td>9</td></tr></tbody></table></div>"
            ]
          },
          "metadata": {},
          "execution_count": 50
        }
      ]
    },
    {
      "cell_type": "code",
      "source": [
        "#sums each row\n",
        "\n",
        "some_ones_df.sum(0)"
      ],
      "metadata": {
        "id": "S1EXGe-PmltN",
        "outputId": "189ae2bb-d664-4732-d384-f6254c3a3632",
        "colab": {
          "base_uri": "https://localhost:8080/",
          "height": 149
        }
      },
      "execution_count": 56,
      "outputs": [
        {
          "output_type": "execute_result",
          "data": {
            "text/plain": [
              "shape: (1, 100)\n",
              "┌──────────┬──────────┬──────────┬──────────┬───┬───────────┬───────────┬───────────┬───────────┐\n",
              "│ column_0 ┆ column_1 ┆ column_2 ┆ column_3 ┆ … ┆ column_96 ┆ column_97 ┆ column_98 ┆ column_99 │\n",
              "│ ---      ┆ ---      ┆ ---      ┆ ---      ┆   ┆ ---       ┆ ---       ┆ ---       ┆ ---       │\n",
              "│ f64      ┆ f64      ┆ f64      ┆ f64      ┆   ┆ f64       ┆ f64       ┆ f64       ┆ f64       │\n",
              "╞══════════╪══════════╪══════════╪══════════╪═══╪═══════════╪═══════════╪═══════════╪═══════════╡\n",
              "│ 100.0    ┆ 100.0    ┆ 100.0    ┆ 100.0    ┆ … ┆ 100.0     ┆ 100.0     ┆ 100.0     ┆ 100.0     │\n",
              "└──────────┴──────────┴──────────┴──────────┴───┴───────────┴───────────┴───────────┴───────────┘"
            ],
            "text/html": [
              "<div><style>\n",
              ".dataframe > thead > tr,\n",
              ".dataframe > tbody > tr {\n",
              "  text-align: right;\n",
              "  white-space: pre-wrap;\n",
              "}\n",
              "</style>\n",
              "<small>shape: (1, 100)</small><table border=\"1\" class=\"dataframe\"><thead><tr><th>column_0</th><th>column_1</th><th>column_2</th><th>column_3</th><th>column_4</th><th>column_5</th><th>column_6</th><th>column_7</th><th>column_8</th><th>column_9</th><th>column_10</th><th>column_11</th><th>column_12</th><th>column_13</th><th>column_14</th><th>column_15</th><th>column_16</th><th>column_17</th><th>column_18</th><th>column_19</th><th>column_20</th><th>column_21</th><th>column_22</th><th>column_23</th><th>column_24</th><th>column_25</th><th>column_26</th><th>column_27</th><th>column_28</th><th>column_29</th><th>column_30</th><th>column_31</th><th>column_32</th><th>column_33</th><th>column_34</th><th>column_35</th><th>column_36</th><th>&hellip;</th><th>column_63</th><th>column_64</th><th>column_65</th><th>column_66</th><th>column_67</th><th>column_68</th><th>column_69</th><th>column_70</th><th>column_71</th><th>column_72</th><th>column_73</th><th>column_74</th><th>column_75</th><th>column_76</th><th>column_77</th><th>column_78</th><th>column_79</th><th>column_80</th><th>column_81</th><th>column_82</th><th>column_83</th><th>column_84</th><th>column_85</th><th>column_86</th><th>column_87</th><th>column_88</th><th>column_89</th><th>column_90</th><th>column_91</th><th>column_92</th><th>column_93</th><th>column_94</th><th>column_95</th><th>column_96</th><th>column_97</th><th>column_98</th><th>column_99</th></tr><tr><td>f64</td><td>f64</td><td>f64</td><td>f64</td><td>f64</td><td>f64</td><td>f64</td><td>f64</td><td>f64</td><td>f64</td><td>f64</td><td>f64</td><td>f64</td><td>f64</td><td>f64</td><td>f64</td><td>f64</td><td>f64</td><td>f64</td><td>f64</td><td>f64</td><td>f64</td><td>f64</td><td>f64</td><td>f64</td><td>f64</td><td>f64</td><td>f64</td><td>f64</td><td>f64</td><td>f64</td><td>f64</td><td>f64</td><td>f64</td><td>f64</td><td>f64</td><td>f64</td><td>&hellip;</td><td>f64</td><td>f64</td><td>f64</td><td>f64</td><td>f64</td><td>f64</td><td>f64</td><td>f64</td><td>f64</td><td>f64</td><td>f64</td><td>f64</td><td>f64</td><td>f64</td><td>f64</td><td>f64</td><td>f64</td><td>f64</td><td>f64</td><td>f64</td><td>f64</td><td>f64</td><td>f64</td><td>f64</td><td>f64</td><td>f64</td><td>f64</td><td>f64</td><td>f64</td><td>f64</td><td>f64</td><td>f64</td><td>f64</td><td>f64</td><td>f64</td><td>f64</td><td>f64</td></tr></thead><tbody><tr><td>100.0</td><td>100.0</td><td>100.0</td><td>100.0</td><td>100.0</td><td>100.0</td><td>100.0</td><td>100.0</td><td>100.0</td><td>100.0</td><td>100.0</td><td>100.0</td><td>100.0</td><td>100.0</td><td>100.0</td><td>100.0</td><td>100.0</td><td>100.0</td><td>100.0</td><td>100.0</td><td>100.0</td><td>100.0</td><td>100.0</td><td>100.0</td><td>100.0</td><td>100.0</td><td>100.0</td><td>100.0</td><td>100.0</td><td>100.0</td><td>100.0</td><td>100.0</td><td>100.0</td><td>100.0</td><td>100.0</td><td>100.0</td><td>100.0</td><td>&hellip;</td><td>100.0</td><td>100.0</td><td>100.0</td><td>100.0</td><td>100.0</td><td>100.0</td><td>100.0</td><td>100.0</td><td>100.0</td><td>100.0</td><td>100.0</td><td>100.0</td><td>100.0</td><td>100.0</td><td>100.0</td><td>100.0</td><td>100.0</td><td>100.0</td><td>100.0</td><td>100.0</td><td>100.0</td><td>100.0</td><td>100.0</td><td>100.0</td><td>100.0</td><td>100.0</td><td>100.0</td><td>100.0</td><td>100.0</td><td>100.0</td><td>100.0</td><td>100.0</td><td>100.0</td><td>100.0</td><td>100.0</td><td>100.0</td><td>100.0</td></tr></tbody></table></div>"
            ]
          },
          "metadata": {},
          "execution_count": 56
        }
      ]
    },
    {
      "cell_type": "markdown",
      "source": [
        "### Slicing Dataframes\n",
        "\n",
        "For the next part, we're going to need a more interesting example than some_ones_df.\n",
        "\n",
        "To get a more interesting dataframe, I'm going to pull one from my github using pd.read_csv. This is the most common way you'll get data in this course, but pandas offers more versatile options. You can view them [here](https://pandas.pydata.org/docs/reference/io.html)."
      ],
      "metadata": {
        "id": "zVJ78NjVbVQx"
      }
    },
    {
      "cell_type": "code",
      "source": [
        "#make a string of the webpage where my data lives\n",
        "url_basketball = 'https://raw.githubusercontent.com/thedarredondo/data-science-fundamentals/main/Data/basketball2324.csv'\n",
        "#feed that string into the pandas read csv function\n",
        "basketball = pl.read_csv(url_basketball)"
      ],
      "metadata": {
        "id": "5HhlGXKYbJBc"
      },
      "execution_count": 65,
      "outputs": []
    },
    {
      "cell_type": "code",
      "source": [
        "basketball"
      ],
      "metadata": {
        "id": "l-IuScDRc-o6",
        "collapsed": true,
        "outputId": "74e9f19c-9a52-4a96-e6c9-c764b61d0325",
        "colab": {
          "base_uri": "https://localhost:8080/",
          "height": 443
        }
      },
      "execution_count": 66,
      "outputs": [
        {
          "output_type": "execute_result",
          "data": {
            "text/plain": [
              "shape: (572, 30)\n",
              "┌──────────────────────────┬──────┬─────┬─────┬───┬─────┬─────┬──────┬───────────────────┐\n",
              "│ Player                   ┆ Pos  ┆ Age ┆ Tm  ┆ … ┆ TOV ┆ PF  ┆ PTS  ┆ Player-additional │\n",
              "│ ---                      ┆ ---  ┆ --- ┆ --- ┆   ┆ --- ┆ --- ┆ ---  ┆ ---               │\n",
              "│ str                      ┆ str  ┆ i64 ┆ str ┆   ┆ i64 ┆ i64 ┆ i64  ┆ str               │\n",
              "╞══════════════════════════╪══════╪═════╪═════╪═══╪═════╪═════╪══════╪═══════════════════╡\n",
              "│ Precious Achiuwa         ┆ PF-C ┆ 24  ┆ TOT ┆ … ┆ 83  ┆ 143 ┆ 565  ┆ achiupr01         │\n",
              "│ Bam Adebayo              ┆ C    ┆ 26  ┆ MIA ┆ … ┆ 162 ┆ 159 ┆ 1367 ┆ adebaba01         │\n",
              "│ Ochai Agbaji             ┆ SG   ┆ 23  ┆ TOT ┆ … ┆ 64  ┆ 117 ┆ 455  ┆ agbajoc01         │\n",
              "│ Santi Aldama             ┆ PF   ┆ 23  ┆ MEM ┆ … ┆ 69  ┆ 89  ┆ 654  ┆ aldamsa01         │\n",
              "│ Nickeil Alexander-Walker ┆ SG   ┆ 25  ┆ MIN ┆ … ┆ 76  ┆ 143 ┆ 655  ┆ alexani01         │\n",
              "│ …                        ┆ …    ┆ …   ┆ …   ┆ … ┆ …   ┆ …   ┆ …    ┆ …                 │\n",
              "│ Thaddeus Young           ┆ PF   ┆ 35  ┆ TOT ┆ … ┆ 15  ┆ 49  ┆ 137  ┆ youngth01         │\n",
              "│ Trae Young               ┆ PG   ┆ 25  ┆ ATL ┆ … ┆ 235 ┆ 109 ┆ 1389 ┆ youngtr01         │\n",
              "│ Omer Yurtseven           ┆ C    ┆ 25  ┆ UTA ┆ … ┆ 37  ┆ 52  ┆ 222  ┆ yurtsom01         │\n",
              "│ Cody Zeller              ┆ C    ┆ 31  ┆ NOP ┆ … ┆ 16  ┆ 45  ┆ 76   ┆ zelleco01         │\n",
              "│ Ivica Zubac              ┆ C    ┆ 26  ┆ LAC ┆ … ┆ 79  ┆ 180 ┆ 794  ┆ zubaciv01         │\n",
              "└──────────────────────────┴──────┴─────┴─────┴───┴─────┴─────┴──────┴───────────────────┘"
            ],
            "text/html": [
              "<div><style>\n",
              ".dataframe > thead > tr,\n",
              ".dataframe > tbody > tr {\n",
              "  text-align: right;\n",
              "  white-space: pre-wrap;\n",
              "}\n",
              "</style>\n",
              "<small>shape: (572, 30)</small><table border=\"1\" class=\"dataframe\"><thead><tr><th>Player</th><th>Pos</th><th>Age</th><th>Tm</th><th>G</th><th>GS</th><th>MP</th><th>FG</th><th>FGA</th><th>FG%</th><th>3P</th><th>3PA</th><th>3P%</th><th>2P</th><th>2PA</th><th>2P%</th><th>eFG%</th><th>FT</th><th>FTA</th><th>FT%</th><th>ORB</th><th>DRB</th><th>TRB</th><th>AST</th><th>STL</th><th>BLK</th><th>TOV</th><th>PF</th><th>PTS</th><th>Player-additional</th></tr><tr><td>str</td><td>str</td><td>i64</td><td>str</td><td>i64</td><td>i64</td><td>i64</td><td>i64</td><td>i64</td><td>f64</td><td>i64</td><td>i64</td><td>f64</td><td>i64</td><td>i64</td><td>f64</td><td>f64</td><td>i64</td><td>i64</td><td>f64</td><td>i64</td><td>i64</td><td>i64</td><td>i64</td><td>i64</td><td>i64</td><td>i64</td><td>i64</td><td>i64</td><td>str</td></tr></thead><tbody><tr><td>&quot;Precious Achiuwa&quot;</td><td>&quot;PF-C&quot;</td><td>24</td><td>&quot;TOT&quot;</td><td>74</td><td>18</td><td>1624</td><td>235</td><td>469</td><td>0.501</td><td>26</td><td>97</td><td>0.268</td><td>209</td><td>372</td><td>0.562</td><td>0.529</td><td>69</td><td>112</td><td>0.616</td><td>191</td><td>296</td><td>487</td><td>97</td><td>46</td><td>68</td><td>83</td><td>143</td><td>565</td><td>&quot;achiupr01&quot;</td></tr><tr><td>&quot;Bam Adebayo&quot;</td><td>&quot;C&quot;</td><td>26</td><td>&quot;MIA&quot;</td><td>71</td><td>71</td><td>2416</td><td>530</td><td>1017</td><td>0.521</td><td>15</td><td>42</td><td>0.357</td><td>515</td><td>975</td><td>0.528</td><td>0.529</td><td>292</td><td>387</td><td>0.755</td><td>159</td><td>578</td><td>737</td><td>278</td><td>81</td><td>66</td><td>162</td><td>159</td><td>1367</td><td>&quot;adebaba01&quot;</td></tr><tr><td>&quot;Ochai Agbaji&quot;</td><td>&quot;SG&quot;</td><td>23</td><td>&quot;TOT&quot;</td><td>78</td><td>28</td><td>1641</td><td>178</td><td>433</td><td>0.411</td><td>62</td><td>211</td><td>0.294</td><td>116</td><td>222</td><td>0.523</td><td>0.483</td><td>37</td><td>56</td><td>0.661</td><td>74</td><td>142</td><td>216</td><td>83</td><td>47</td><td>44</td><td>64</td><td>117</td><td>455</td><td>&quot;agbajoc01&quot;</td></tr><tr><td>&quot;Santi Aldama&quot;</td><td>&quot;PF&quot;</td><td>23</td><td>&quot;MEM&quot;</td><td>61</td><td>35</td><td>1618</td><td>247</td><td>568</td><td>0.435</td><td>106</td><td>304</td><td>0.349</td><td>141</td><td>264</td><td>0.534</td><td>0.528</td><td>54</td><td>87</td><td>0.621</td><td>72</td><td>280</td><td>352</td><td>138</td><td>43</td><td>54</td><td>69</td><td>89</td><td>654</td><td>&quot;aldamsa01&quot;</td></tr><tr><td>&quot;Nickeil Alexander-Walker&quot;</td><td>&quot;SG&quot;</td><td>25</td><td>&quot;MIN&quot;</td><td>82</td><td>20</td><td>1921</td><td>236</td><td>538</td><td>0.439</td><td>131</td><td>335</td><td>0.391</td><td>105</td><td>203</td><td>0.517</td><td>0.56</td><td>52</td><td>65</td><td>0.8</td><td>35</td><td>132</td><td>167</td><td>204</td><td>64</td><td>42</td><td>76</td><td>143</td><td>655</td><td>&quot;alexani01&quot;</td></tr><tr><td>&hellip;</td><td>&hellip;</td><td>&hellip;</td><td>&hellip;</td><td>&hellip;</td><td>&hellip;</td><td>&hellip;</td><td>&hellip;</td><td>&hellip;</td><td>&hellip;</td><td>&hellip;</td><td>&hellip;</td><td>&hellip;</td><td>&hellip;</td><td>&hellip;</td><td>&hellip;</td><td>&hellip;</td><td>&hellip;</td><td>&hellip;</td><td>&hellip;</td><td>&hellip;</td><td>&hellip;</td><td>&hellip;</td><td>&hellip;</td><td>&hellip;</td><td>&hellip;</td><td>&hellip;</td><td>&hellip;</td><td>&hellip;</td><td>&hellip;</td></tr><tr><td>&quot;Thaddeus Young&quot;</td><td>&quot;PF&quot;</td><td>35</td><td>&quot;TOT&quot;</td><td>33</td><td>6</td><td>439</td><td>65</td><td>108</td><td>0.602</td><td>1</td><td>7</td><td>0.143</td><td>64</td><td>101</td><td>0.634</td><td>0.606</td><td>6</td><td>15</td><td>0.4</td><td>46</td><td>57</td><td>103</td><td>57</td><td>23</td><td>5</td><td>15</td><td>49</td><td>137</td><td>&quot;youngth01&quot;</td></tr><tr><td>&quot;Trae Young&quot;</td><td>&quot;PG&quot;</td><td>25</td><td>&quot;ATL&quot;</td><td>54</td><td>54</td><td>1942</td><td>433</td><td>1008</td><td>0.43</td><td>175</td><td>469</td><td>0.373</td><td>258</td><td>539</td><td>0.479</td><td>0.516</td><td>348</td><td>407</td><td>0.855</td><td>23</td><td>126</td><td>149</td><td>583</td><td>72</td><td>11</td><td>235</td><td>109</td><td>1389</td><td>&quot;youngtr01&quot;</td></tr><tr><td>&quot;Omer Yurtseven&quot;</td><td>&quot;C&quot;</td><td>25</td><td>&quot;UTA&quot;</td><td>48</td><td>12</td><td>545</td><td>99</td><td>184</td><td>0.538</td><td>5</td><td>24</td><td>0.208</td><td>94</td><td>160</td><td>0.588</td><td>0.552</td><td>19</td><td>28</td><td>0.679</td><td>72</td><td>136</td><td>208</td><td>29</td><td>8</td><td>18</td><td>37</td><td>52</td><td>222</td><td>&quot;yurtsom01&quot;</td></tr><tr><td>&quot;Cody Zeller&quot;</td><td>&quot;C&quot;</td><td>31</td><td>&quot;NOP&quot;</td><td>43</td><td>0</td><td>320</td><td>26</td><td>62</td><td>0.419</td><td>1</td><td>3</td><td>0.333</td><td>25</td><td>59</td><td>0.424</td><td>0.427</td><td>23</td><td>38</td><td>0.605</td><td>48</td><td>64</td><td>112</td><td>39</td><td>9</td><td>5</td><td>16</td><td>45</td><td>76</td><td>&quot;zelleco01&quot;</td></tr><tr><td>&quot;Ivica Zubac&quot;</td><td>&quot;C&quot;</td><td>26</td><td>&quot;LAC&quot;</td><td>68</td><td>68</td><td>1794</td><td>337</td><td>519</td><td>0.649</td><td>0</td><td>0</td><td>null</td><td>337</td><td>519</td><td>0.649</td><td>0.649</td><td>120</td><td>166</td><td>0.723</td><td>196</td><td>430</td><td>626</td><td>93</td><td>22</td><td>83</td><td>79</td><td>180</td><td>794</td><td>&quot;zubaciv01&quot;</td></tr></tbody></table></div>"
            ]
          },
          "metadata": {},
          "execution_count": 66
        }
      ]
    },
    {
      "cell_type": "markdown",
      "source": [
        "Its easy to call the column names and rows. You can also call the shape, but note that printing the dataframe also tells you the shape."
      ],
      "metadata": {
        "id": "ObYxzjtxdELR"
      }
    },
    {
      "cell_type": "code",
      "source": [
        "basketball.columns"
      ],
      "metadata": {
        "id": "_366zzNydTgG",
        "outputId": "5cccad38-619f-4e0d-a952-2f9f93fe8d79",
        "colab": {
          "base_uri": "https://localhost:8080/"
        }
      },
      "execution_count": 67,
      "outputs": [
        {
          "output_type": "execute_result",
          "data": {
            "text/plain": [
              "['Player',\n",
              " 'Pos',\n",
              " 'Age',\n",
              " 'Tm',\n",
              " 'G',\n",
              " 'GS',\n",
              " 'MP',\n",
              " 'FG',\n",
              " 'FGA',\n",
              " 'FG%',\n",
              " '3P',\n",
              " '3PA',\n",
              " '3P%',\n",
              " '2P',\n",
              " '2PA',\n",
              " '2P%',\n",
              " 'eFG%',\n",
              " 'FT',\n",
              " 'FTA',\n",
              " 'FT%',\n",
              " 'ORB',\n",
              " 'DRB',\n",
              " 'TRB',\n",
              " 'AST',\n",
              " 'STL',\n",
              " 'BLK',\n",
              " 'TOV',\n",
              " 'PF',\n",
              " 'PTS',\n",
              " 'Player-additional']"
            ]
          },
          "metadata": {},
          "execution_count": 67
        }
      ]
    },
    {
      "cell_type": "code",
      "source": [
        "pl.DataFrame.to_pandas(basketball).index"
      ],
      "metadata": {
        "id": "nYX_wKbIdXB-",
        "outputId": "d1f5485a-7b53-4746-bbb6-f4e5c7c7f304",
        "colab": {
          "base_uri": "https://localhost:8080/"
        }
      },
      "execution_count": 80,
      "outputs": [
        {
          "output_type": "execute_result",
          "data": {
            "text/plain": [
              "RangeIndex(start=0, stop=572, step=1)"
            ]
          },
          "metadata": {},
          "execution_count": 80
        }
      ]
    },
    {
      "cell_type": "code",
      "source": [
        "basketball.shape"
      ],
      "metadata": {
        "id": "E-5l-VS0dZj3",
        "outputId": "f2755f2b-ddd1-4d3a-977f-3e1c36abbe31",
        "colab": {
          "base_uri": "https://localhost:8080/"
        }
      },
      "execution_count": 81,
      "outputs": [
        {
          "output_type": "execute_result",
          "data": {
            "text/plain": [
              "(572, 30)"
            ]
          },
          "metadata": {},
          "execution_count": 81
        }
      ]
    },
    {
      "cell_type": "markdown",
      "source": [
        "We call columns by name."
      ],
      "metadata": {
        "id": "D9yJ4uQOdmog"
      }
    },
    {
      "cell_type": "code",
      "source": [
        "basketball.get"
      ],
      "metadata": {
        "id": "KtFz8lZRdtBF",
        "outputId": "26030070-a3f8-4118-b4f4-fe55bdc76902",
        "colab": {
          "base_uri": "https://localhost:8080/",
          "height": 141
        }
      },
      "execution_count": 82,
      "outputs": [
        {
          "output_type": "error",
          "ename": "AttributeError",
          "evalue": "'DataFrame' object has no attribute 'Player'",
          "traceback": [
            "\u001b[0;31m---------------------------------------------------------------------------\u001b[0m",
            "\u001b[0;31mAttributeError\u001b[0m                            Traceback (most recent call last)",
            "\u001b[0;32m/tmp/ipython-input-3043985011.py\u001b[0m in \u001b[0;36m<cell line: 0>\u001b[0;34m()\u001b[0m\n\u001b[0;32m----> 1\u001b[0;31m \u001b[0mbasketball\u001b[0m\u001b[0;34m.\u001b[0m\u001b[0mPlayer\u001b[0m\u001b[0;34m\u001b[0m\u001b[0;34m\u001b[0m\u001b[0m\n\u001b[0m",
            "\u001b[0;31mAttributeError\u001b[0m: 'DataFrame' object has no attribute 'Player'"
          ]
        }
      ]
    },
    {
      "cell_type": "code",
      "source": [
        "basketball['Player']"
      ],
      "metadata": {
        "id": "M37m1kgUh38F",
        "outputId": "ca006cec-b222-4c95-fcf3-621ce4a74b68",
        "colab": {
          "base_uri": "https://localhost:8080/",
          "height": 443
        }
      },
      "execution_count": 83,
      "outputs": [
        {
          "output_type": "execute_result",
          "data": {
            "text/plain": [
              "shape: (572,)\n",
              "Series: 'Player' [str]\n",
              "[\n",
              "\t\"Precious Achiuwa\"\n",
              "\t\"Bam Adebayo\"\n",
              "\t\"Ochai Agbaji\"\n",
              "\t\"Santi Aldama\"\n",
              "\t\"Nickeil Alexander-Walker\"\n",
              "\t…\n",
              "\t\"Thaddeus Young\"\n",
              "\t\"Trae Young\"\n",
              "\t\"Omer Yurtseven\"\n",
              "\t\"Cody Zeller\"\n",
              "\t\"Ivica Zubac\"\n",
              "]"
            ],
            "text/html": [
              "<div><style>\n",
              ".dataframe > thead > tr,\n",
              ".dataframe > tbody > tr {\n",
              "  text-align: right;\n",
              "  white-space: pre-wrap;\n",
              "}\n",
              "</style>\n",
              "<small>shape: (572,)</small><table border=\"1\" class=\"dataframe\"><thead><tr><th>Player</th></tr><tr><td>str</td></tr></thead><tbody><tr><td>&quot;Precious Achiuwa&quot;</td></tr><tr><td>&quot;Bam Adebayo&quot;</td></tr><tr><td>&quot;Ochai Agbaji&quot;</td></tr><tr><td>&quot;Santi Aldama&quot;</td></tr><tr><td>&quot;Nickeil Alexander-Walker&quot;</td></tr><tr><td>&hellip;</td></tr><tr><td>&quot;Thaddeus Young&quot;</td></tr><tr><td>&quot;Trae Young&quot;</td></tr><tr><td>&quot;Omer Yurtseven&quot;</td></tr><tr><td>&quot;Cody Zeller&quot;</td></tr><tr><td>&quot;Ivica Zubac&quot;</td></tr></tbody></table></div>"
            ]
          },
          "metadata": {},
          "execution_count": 83
        }
      ]
    },
    {
      "cell_type": "code",
      "source": [
        "#the double brackets returns a data frame\n",
        "basketball[['Player']]"
      ],
      "metadata": {
        "id": "fPkCewXndys2",
        "outputId": "87fa6975-c2b8-4e99-ec0a-45e3344b803d",
        "colab": {
          "base_uri": "https://localhost:8080/",
          "height": 443
        }
      },
      "execution_count": 84,
      "outputs": [
        {
          "output_type": "execute_result",
          "data": {
            "text/plain": [
              "shape: (572, 1)\n",
              "┌──────────────────────────┐\n",
              "│ Player                   │\n",
              "│ ---                      │\n",
              "│ str                      │\n",
              "╞══════════════════════════╡\n",
              "│ Precious Achiuwa         │\n",
              "│ Bam Adebayo              │\n",
              "│ Ochai Agbaji             │\n",
              "│ Santi Aldama             │\n",
              "│ Nickeil Alexander-Walker │\n",
              "│ …                        │\n",
              "│ Thaddeus Young           │\n",
              "│ Trae Young               │\n",
              "│ Omer Yurtseven           │\n",
              "│ Cody Zeller              │\n",
              "│ Ivica Zubac              │\n",
              "└──────────────────────────┘"
            ],
            "text/html": [
              "<div><style>\n",
              ".dataframe > thead > tr,\n",
              ".dataframe > tbody > tr {\n",
              "  text-align: right;\n",
              "  white-space: pre-wrap;\n",
              "}\n",
              "</style>\n",
              "<small>shape: (572, 1)</small><table border=\"1\" class=\"dataframe\"><thead><tr><th>Player</th></tr><tr><td>str</td></tr></thead><tbody><tr><td>&quot;Precious Achiuwa&quot;</td></tr><tr><td>&quot;Bam Adebayo&quot;</td></tr><tr><td>&quot;Ochai Agbaji&quot;</td></tr><tr><td>&quot;Santi Aldama&quot;</td></tr><tr><td>&quot;Nickeil Alexander-Walker&quot;</td></tr><tr><td>&hellip;</td></tr><tr><td>&quot;Thaddeus Young&quot;</td></tr><tr><td>&quot;Trae Young&quot;</td></tr><tr><td>&quot;Omer Yurtseven&quot;</td></tr><tr><td>&quot;Cody Zeller&quot;</td></tr><tr><td>&quot;Ivica Zubac&quot;</td></tr></tbody></table></div>"
            ]
          },
          "metadata": {},
          "execution_count": 84
        }
      ]
    },
    {
      "cell_type": "markdown",
      "source": [
        "The second brackets method is required when we want a column with funky characters in its name."
      ],
      "metadata": {
        "id": "6qAg31ujeIgg"
      }
    },
    {
      "cell_type": "markdown",
      "source": [
        "Want to slice multiple columns?"
      ],
      "metadata": {
        "id": "gxR4s5ZdfQGZ"
      }
    },
    {
      "cell_type": "code",
      "source": [
        "basketball[['Player','FG%']]"
      ],
      "metadata": {
        "id": "W32u2GCzeTUS",
        "outputId": "064ddd30-8c57-4cf8-86aa-e2f0976a2a6c",
        "colab": {
          "base_uri": "https://localhost:8080/",
          "height": 443
        }
      },
      "execution_count": 85,
      "outputs": [
        {
          "output_type": "execute_result",
          "data": {
            "text/plain": [
              "shape: (572, 2)\n",
              "┌──────────────────────────┬───────┐\n",
              "│ Player                   ┆ FG%   │\n",
              "│ ---                      ┆ ---   │\n",
              "│ str                      ┆ f64   │\n",
              "╞══════════════════════════╪═══════╡\n",
              "│ Precious Achiuwa         ┆ 0.501 │\n",
              "│ Bam Adebayo              ┆ 0.521 │\n",
              "│ Ochai Agbaji             ┆ 0.411 │\n",
              "│ Santi Aldama             ┆ 0.435 │\n",
              "│ Nickeil Alexander-Walker ┆ 0.439 │\n",
              "│ …                        ┆ …     │\n",
              "│ Thaddeus Young           ┆ 0.602 │\n",
              "│ Trae Young               ┆ 0.43  │\n",
              "│ Omer Yurtseven           ┆ 0.538 │\n",
              "│ Cody Zeller              ┆ 0.419 │\n",
              "│ Ivica Zubac              ┆ 0.649 │\n",
              "└──────────────────────────┴───────┘"
            ],
            "text/html": [
              "<div><style>\n",
              ".dataframe > thead > tr,\n",
              ".dataframe > tbody > tr {\n",
              "  text-align: right;\n",
              "  white-space: pre-wrap;\n",
              "}\n",
              "</style>\n",
              "<small>shape: (572, 2)</small><table border=\"1\" class=\"dataframe\"><thead><tr><th>Player</th><th>FG%</th></tr><tr><td>str</td><td>f64</td></tr></thead><tbody><tr><td>&quot;Precious Achiuwa&quot;</td><td>0.501</td></tr><tr><td>&quot;Bam Adebayo&quot;</td><td>0.521</td></tr><tr><td>&quot;Ochai Agbaji&quot;</td><td>0.411</td></tr><tr><td>&quot;Santi Aldama&quot;</td><td>0.435</td></tr><tr><td>&quot;Nickeil Alexander-Walker&quot;</td><td>0.439</td></tr><tr><td>&hellip;</td><td>&hellip;</td></tr><tr><td>&quot;Thaddeus Young&quot;</td><td>0.602</td></tr><tr><td>&quot;Trae Young&quot;</td><td>0.43</td></tr><tr><td>&quot;Omer Yurtseven&quot;</td><td>0.538</td></tr><tr><td>&quot;Cody Zeller&quot;</td><td>0.419</td></tr><tr><td>&quot;Ivica Zubac&quot;</td><td>0.649</td></tr></tbody></table></div>"
            ]
          },
          "metadata": {},
          "execution_count": 85
        }
      ]
    },
    {
      "cell_type": "markdown",
      "source": [
        "Want to slice multiple rows and multiple columns?"
      ],
      "metadata": {
        "id": "UmEjf6WqiOFO"
      }
    },
    {
      "cell_type": "code",
      "source": [
        "#use loc to grab the zeroth, second, and 207th row.\n",
        "basketball[['Player', 'FG%']][[0,4,207]]"
      ],
      "metadata": {
        "id": "PRJxUIb_fUsg",
        "outputId": "66b0f9b7-ae6c-49e7-de3d-c7e6a2018e14",
        "colab": {
          "base_uri": "https://localhost:8080/",
          "height": 192
        }
      },
      "execution_count": 87,
      "outputs": [
        {
          "output_type": "execute_result",
          "data": {
            "text/plain": [
              "shape: (3, 2)\n",
              "┌──────────────────────────┬───────┐\n",
              "│ Player                   ┆ FG%   │\n",
              "│ ---                      ┆ ---   │\n",
              "│ str                      ┆ f64   │\n",
              "╞══════════════════════════╪═══════╡\n",
              "│ Precious Achiuwa         ┆ 0.501 │\n",
              "│ Nickeil Alexander-Walker ┆ 0.439 │\n",
              "│ Isaiah Hartenstein       ┆ 0.644 │\n",
              "└──────────────────────────┴───────┘"
            ],
            "text/html": [
              "<div><style>\n",
              ".dataframe > thead > tr,\n",
              ".dataframe > tbody > tr {\n",
              "  text-align: right;\n",
              "  white-space: pre-wrap;\n",
              "}\n",
              "</style>\n",
              "<small>shape: (3, 2)</small><table border=\"1\" class=\"dataframe\"><thead><tr><th>Player</th><th>FG%</th></tr><tr><td>str</td><td>f64</td></tr></thead><tbody><tr><td>&quot;Precious Achiuwa&quot;</td><td>0.501</td></tr><tr><td>&quot;Nickeil Alexander-Walker&quot;</td><td>0.439</td></tr><tr><td>&quot;Isaiah Hartenstein&quot;</td><td>0.644</td></tr></tbody></table></div>"
            ]
          },
          "metadata": {},
          "execution_count": 87
        }
      ]
    },
    {
      "cell_type": "markdown",
      "source": [
        "**Task9**:\n",
        "\n",
        "Find the names of the Players, feild goal attempts (FGA) and total points (PTS) of the players in the 87th and  94th row."
      ],
      "metadata": {
        "id": "tmUPcmYoSifQ"
      }
    },
    {
      "cell_type": "code",
      "source": [
        "#use loc to grab the zeroth, second, and 207th row.\n",
        "basketball[['Player', 'FG%','PTS']][[87,88,89,90,91,92,93,94]]"
      ],
      "metadata": {
        "id": "-J9tKk5mTFzz",
        "outputId": "d75b0493-1919-4e7c-d2ac-c66745d8a480",
        "colab": {
          "base_uri": "https://localhost:8080/",
          "height": 349
        }
      },
      "execution_count": 90,
      "outputs": [
        {
          "output_type": "execute_result",
          "data": {
            "text/plain": [
              "shape: (8, 3)\n",
              "┌────────────────────┬───────┬─────┐\n",
              "│ Player             ┆ FG%   ┆ PTS │\n",
              "│ ---                ┆ ---   ┆ --- │\n",
              "│ str                ┆ f64   ┆ i64 │\n",
              "╞════════════════════╪═══════╪═════╡\n",
              "│ Wendell Carter Jr. ┆ 0.525 ┆ 603 │\n",
              "│ D.J. Carton        ┆ 0.375 ┆ 11  │\n",
              "│ Alex Caruso        ┆ 0.468 ┆ 715 │\n",
              "│ Colin Castleton    ┆ 0.563 ┆ 24  │\n",
              "│ Malcolm Cazalon    ┆ null  ┆ 0   │\n",
              "│ Julian Champagnie  ┆ 0.408 ┆ 504 │\n",
              "│ Justin Champagnie  ┆ 0.41  ┆ 89  │\n",
              "│ Max Christie       ┆ 0.427 ┆ 284 │\n",
              "└────────────────────┴───────┴─────┘"
            ],
            "text/html": [
              "<div><style>\n",
              ".dataframe > thead > tr,\n",
              ".dataframe > tbody > tr {\n",
              "  text-align: right;\n",
              "  white-space: pre-wrap;\n",
              "}\n",
              "</style>\n",
              "<small>shape: (8, 3)</small><table border=\"1\" class=\"dataframe\"><thead><tr><th>Player</th><th>FG%</th><th>PTS</th></tr><tr><td>str</td><td>f64</td><td>i64</td></tr></thead><tbody><tr><td>&quot;Wendell Carter Jr.&quot;</td><td>0.525</td><td>603</td></tr><tr><td>&quot;D.J. Carton&quot;</td><td>0.375</td><td>11</td></tr><tr><td>&quot;Alex Caruso&quot;</td><td>0.468</td><td>715</td></tr><tr><td>&quot;Colin Castleton&quot;</td><td>0.563</td><td>24</td></tr><tr><td>&quot;Malcolm Cazalon&quot;</td><td>null</td><td>0</td></tr><tr><td>&quot;Julian Champagnie&quot;</td><td>0.408</td><td>504</td></tr><tr><td>&quot;Justin Champagnie&quot;</td><td>0.41</td><td>89</td></tr><tr><td>&quot;Max Christie&quot;</td><td>0.427</td><td>284</td></tr></tbody></table></div>"
            ]
          },
          "metadata": {},
          "execution_count": 90
        }
      ]
    },
    {
      "cell_type": "markdown",
      "source": [
        "### Query and Bools\n",
        "\n",
        "Because I provide clean, moderate to small sized data sets in this course, most of our data wrangling problems can be solved with query.\n",
        "\n",
        "Query makes use of a built in data type we haven't mentioned yet, called a bool."
      ],
      "metadata": {
        "id": "s8178kjoBtyU"
      }
    },
    {
      "cell_type": "markdown",
      "source": [
        "I'll give you an example of query, and then I'll define bools."
      ],
      "metadata": {
        "id": "-xwLw819HN_g"
      }
    },
    {
      "cell_type": "code",
      "source": [
        "#finds all players with more offensive rebounds than defensive rebounds\n",
        "#and who have also played more than 100 minutes 'ORB >= DRB and MP >= 100'\n",
        "hustle_players = basketball.filter((pl.col(\"ORB\")>=pl.col(\"DRB\"))&(pl.col(\"MP\")>=100))\n",
        "hustle_players"
      ],
      "metadata": {
        "id": "NixyQgeYCPXf",
        "outputId": "839ea53e-7c66-4bcc-ea1e-3a363648cf18",
        "colab": {
          "base_uri": "https://localhost:8080/",
          "height": 380
        }
      },
      "execution_count": 97,
      "outputs": [
        {
          "output_type": "execute_result",
          "data": {
            "text/plain": [
              "shape: (9, 30)\n",
              "┌────────────────────────┬─────┬─────┬─────┬───┬─────┬─────┬─────┬───────────────────┐\n",
              "│ Player                 ┆ Pos ┆ Age ┆ Tm  ┆ … ┆ TOV ┆ PF  ┆ PTS ┆ Player-additional │\n",
              "│ ---                    ┆ --- ┆ --- ┆ --- ┆   ┆ --- ┆ --- ┆ --- ┆ ---               │\n",
              "│ str                    ┆ str ┆ i64 ┆ str ┆   ┆ i64 ┆ i64 ┆ i64 ┆ str               │\n",
              "╞════════════════════════╪═════╪═════╪═════╪═══╪═════╪═════╪═════╪═══════════════════╡\n",
              "│ Thanasis Antetokounmpo ┆ PF  ┆ 31  ┆ MIL ┆ … ┆ 14  ┆ 24  ┆ 32  ┆ antetth01         │\n",
              "│ Luka Garza             ┆ C   ┆ 25  ┆ MIN ┆ … ┆ 6   ┆ 24  ┆ 99  ┆ garzalu01         │\n",
              "│ Mouhamadou Gueye       ┆ PF  ┆ 25  ┆ TOR ┆ … ┆ 12  ┆ 15  ┆ 26  ┆ gueyemo01         │\n",
              "│ Matthew Hurt           ┆ PF  ┆ 23  ┆ MEM ┆ … ┆ 2   ┆ 8   ┆ 32  ┆ hurtma01          │\n",
              "│ Jock Landale           ┆ C   ┆ 28  ┆ HOU ┆ … ┆ 31  ┆ 74  ┆ 274 ┆ landajo01         │\n",
              "│ Maxwell Lewis          ┆ SF  ┆ 21  ┆ LAL ┆ … ┆ 10  ┆ 5   ┆ 11  ┆ lewisma05         │\n",
              "│ Justin Minaya          ┆ SF  ┆ 24  ┆ POR ┆ … ┆ 9   ┆ 35  ┆ 61  ┆ minayju01         │\n",
              "│ Mitchell Robinson      ┆ C   ┆ 25  ┆ NYK ┆ … ┆ 25  ┆ 55  ┆ 173 ┆ robinmi01         │\n",
              "│ Jeenathan Williams     ┆ SG  ┆ 24  ┆ HOU ┆ … ┆ 4   ┆ 10  ┆ 63  ┆ willije02         │\n",
              "└────────────────────────┴─────┴─────┴─────┴───┴─────┴─────┴─────┴───────────────────┘"
            ],
            "text/html": [
              "<div><style>\n",
              ".dataframe > thead > tr,\n",
              ".dataframe > tbody > tr {\n",
              "  text-align: right;\n",
              "  white-space: pre-wrap;\n",
              "}\n",
              "</style>\n",
              "<small>shape: (9, 30)</small><table border=\"1\" class=\"dataframe\"><thead><tr><th>Player</th><th>Pos</th><th>Age</th><th>Tm</th><th>G</th><th>GS</th><th>MP</th><th>FG</th><th>FGA</th><th>FG%</th><th>3P</th><th>3PA</th><th>3P%</th><th>2P</th><th>2PA</th><th>2P%</th><th>eFG%</th><th>FT</th><th>FTA</th><th>FT%</th><th>ORB</th><th>DRB</th><th>TRB</th><th>AST</th><th>STL</th><th>BLK</th><th>TOV</th><th>PF</th><th>PTS</th><th>Player-additional</th></tr><tr><td>str</td><td>str</td><td>i64</td><td>str</td><td>i64</td><td>i64</td><td>i64</td><td>i64</td><td>i64</td><td>f64</td><td>i64</td><td>i64</td><td>f64</td><td>i64</td><td>i64</td><td>f64</td><td>f64</td><td>i64</td><td>i64</td><td>f64</td><td>i64</td><td>i64</td><td>i64</td><td>i64</td><td>i64</td><td>i64</td><td>i64</td><td>i64</td><td>i64</td><td>str</td></tr></thead><tbody><tr><td>&quot;Thanasis Antetokounmpo&quot;</td><td>&quot;PF&quot;</td><td>31</td><td>&quot;MIL&quot;</td><td>34</td><td>0</td><td>155</td><td>16</td><td>30</td><td>0.533</td><td>0</td><td>1</td><td>0.0</td><td>16</td><td>29</td><td>0.552</td><td>0.533</td><td>0</td><td>2</td><td>0.0</td><td>7</td><td>6</td><td>13</td><td>17</td><td>7</td><td>4</td><td>14</td><td>24</td><td>32</td><td>&quot;antetth01&quot;</td></tr><tr><td>&quot;Luka Garza&quot;</td><td>&quot;C&quot;</td><td>25</td><td>&quot;MIN&quot;</td><td>25</td><td>0</td><td>122</td><td>36</td><td>75</td><td>0.48</td><td>9</td><td>32</td><td>0.281</td><td>27</td><td>43</td><td>0.628</td><td>0.54</td><td>18</td><td>25</td><td>0.72</td><td>19</td><td>12</td><td>31</td><td>4</td><td>4</td><td>1</td><td>6</td><td>24</td><td>99</td><td>&quot;garzalu01&quot;</td></tr><tr><td>&quot;Mouhamadou Gueye&quot;</td><td>&quot;PF&quot;</td><td>25</td><td>&quot;TOR&quot;</td><td>11</td><td>0</td><td>120</td><td>11</td><td>38</td><td>0.289</td><td>0</td><td>3</td><td>0.0</td><td>11</td><td>35</td><td>0.314</td><td>0.289</td><td>4</td><td>9</td><td>0.444</td><td>12</td><td>11</td><td>23</td><td>5</td><td>3</td><td>18</td><td>12</td><td>15</td><td>26</td><td>&quot;gueyemo01&quot;</td></tr><tr><td>&quot;Matthew Hurt&quot;</td><td>&quot;PF&quot;</td><td>23</td><td>&quot;MEM&quot;</td><td>8</td><td>0</td><td>113</td><td>12</td><td>34</td><td>0.353</td><td>5</td><td>20</td><td>0.25</td><td>7</td><td>14</td><td>0.5</td><td>0.426</td><td>3</td><td>3</td><td>1.0</td><td>9</td><td>7</td><td>16</td><td>4</td><td>3</td><td>3</td><td>2</td><td>8</td><td>32</td><td>&quot;hurtma01&quot;</td></tr><tr><td>&quot;Jock Landale&quot;</td><td>&quot;C&quot;</td><td>28</td><td>&quot;HOU&quot;</td><td>56</td><td>3</td><td>763</td><td>106</td><td>206</td><td>0.515</td><td>10</td><td>40</td><td>0.25</td><td>96</td><td>166</td><td>0.578</td><td>0.539</td><td>52</td><td>65</td><td>0.8</td><td>88</td><td>84</td><td>172</td><td>65</td><td>20</td><td>33</td><td>31</td><td>74</td><td>274</td><td>&quot;landajo01&quot;</td></tr><tr><td>&quot;Maxwell Lewis&quot;</td><td>&quot;SF&quot;</td><td>21</td><td>&quot;LAL&quot;</td><td>34</td><td>0</td><td>103</td><td>4</td><td>21</td><td>0.19</td><td>1</td><td>9</td><td>0.111</td><td>3</td><td>12</td><td>0.25</td><td>0.214</td><td>2</td><td>3</td><td>0.667</td><td>2</td><td>2</td><td>4</td><td>6</td><td>2</td><td>1</td><td>10</td><td>5</td><td>11</td><td>&quot;lewisma05&quot;</td></tr><tr><td>&quot;Justin Minaya&quot;</td><td>&quot;SF&quot;</td><td>24</td><td>&quot;POR&quot;</td><td>34</td><td>1</td><td>381</td><td>22</td><td>74</td><td>0.297</td><td>12</td><td>49</td><td>0.245</td><td>10</td><td>25</td><td>0.4</td><td>0.378</td><td>5</td><td>9</td><td>0.556</td><td>30</td><td>26</td><td>56</td><td>21</td><td>9</td><td>10</td><td>9</td><td>35</td><td>61</td><td>&quot;minayju01&quot;</td></tr><tr><td>&quot;Mitchell Robinson&quot;</td><td>&quot;C&quot;</td><td>25</td><td>&quot;NYK&quot;</td><td>31</td><td>21</td><td>768</td><td>73</td><td>127</td><td>0.575</td><td>0</td><td>0</td><td>null</td><td>73</td><td>127</td><td>0.575</td><td>0.575</td><td>27</td><td>66</td><td>0.409</td><td>142</td><td>121</td><td>263</td><td>18</td><td>37</td><td>35</td><td>25</td><td>55</td><td>173</td><td>&quot;robinmi01&quot;</td></tr><tr><td>&quot;Jeenathan Williams&quot;</td><td>&quot;SG&quot;</td><td>24</td><td>&quot;HOU&quot;</td><td>22</td><td>0</td><td>129</td><td>27</td><td>50</td><td>0.54</td><td>2</td><td>5</td><td>0.4</td><td>25</td><td>45</td><td>0.556</td><td>0.56</td><td>7</td><td>13</td><td>0.538</td><td>12</td><td>11</td><td>23</td><td>7</td><td>4</td><td>1</td><td>4</td><td>10</td><td>63</td><td>&quot;willije02&quot;</td></tr></tbody></table></div>"
            ]
          },
          "metadata": {},
          "execution_count": 97
        }
      ]
    },
    {
      "cell_type": "markdown",
      "source": [
        "Bools are True or False. True is 1, and False is 0. The key words True and False cannot be variables"
      ],
      "metadata": {
        "id": "cqNSRXlKLjzY"
      }
    },
    {
      "cell_type": "code",
      "source": [
        "True = 2"
      ],
      "metadata": {
        "id": "IMkoHCnxNBlT"
      },
      "execution_count": null,
      "outputs": []
    },
    {
      "cell_type": "markdown",
      "source": [
        "They come into play when I apply boolean operators. For example, if I want to know if 5 equals 5."
      ],
      "metadata": {
        "id": "CAm_sVCKNjhj"
      }
    },
    {
      "cell_type": "code",
      "source": [
        "#does 5 equal 5?\n",
        "5 == 5"
      ],
      "metadata": {
        "id": "pHII6IpJNsqH"
      },
      "execution_count": null,
      "outputs": []
    },
    {
      "cell_type": "code",
      "source": [
        "#does 5 equal 'five'?\n",
        "5 == 'five'"
      ],
      "metadata": {
        "id": "tJc4gWaEN1NC"
      },
      "execution_count": null,
      "outputs": []
    },
    {
      "cell_type": "markdown",
      "source": [
        "True and False are also the numbers 1 and 0 respectively. This can come in handy"
      ],
      "metadata": {
        "id": "vhEu9RJ6N-0P"
      }
    },
    {
      "cell_type": "code",
      "source": [
        "#True equals 1\n",
        "True == 1"
      ],
      "metadata": {
        "id": "0lX5v4HsOFsr"
      },
      "execution_count": null,
      "outputs": []
    },
    {
      "cell_type": "code",
      "source": [
        "#True not equaling 1 is False\n",
        "True != 1"
      ],
      "metadata": {
        "id": "ZaXQGv0xOMST"
      },
      "execution_count": null,
      "outputs": []
    },
    {
      "cell_type": "code",
      "source": [
        "#Adding bools counts the number of trues\n",
        "False + True + True + False + False"
      ],
      "metadata": {
        "id": "VZLlermvOqPf"
      },
      "execution_count": null,
      "outputs": []
    },
    {
      "cell_type": "markdown",
      "source": [
        "Here's an example each of *and*, *or*, and *not*."
      ],
      "metadata": {
        "id": "nyoZmvB0O8ap"
      }
    },
    {
      "cell_type": "code",
      "source": [
        "#both sides must be true for and\n",
        "(True == 1) and (False != 0)"
      ],
      "metadata": {
        "id": "P9d-EEnyPBrx"
      },
      "execution_count": null,
      "outputs": []
    },
    {
      "cell_type": "code",
      "source": [
        "#only one side (or more) needs to be true for or\n",
        "(True == 1) or (False != 0)"
      ],
      "metadata": {
        "id": "Ukyk9iqwPWbI"
      },
      "execution_count": null,
      "outputs": []
    },
    {
      "cell_type": "code",
      "source": [
        "#not swaps True for False, and False for True\n",
        "not 0, not False"
      ],
      "metadata": {
        "id": "B86v6IJXPc9n"
      },
      "execution_count": null,
      "outputs": []
    },
    {
      "cell_type": "markdown",
      "source": [
        "Here are the other four boolean operations."
      ],
      "metadata": {
        "id": "yT-aKlvBQCD-"
      }
    },
    {
      "cell_type": "code",
      "source": [
        "#strictly less than, and strickly greater than\n",
        "0 < 0, 4 > 5"
      ],
      "metadata": {
        "id": "6gbLhA01QGO4"
      },
      "execution_count": null,
      "outputs": []
    },
    {
      "cell_type": "code",
      "source": [
        "#less than or equal to, and greater than or equal to\n",
        "5 <= 5, 6 >= 5"
      ],
      "metadata": {
        "id": "315B_UvnQVsl"
      },
      "execution_count": null,
      "outputs": []
    },
    {
      "cell_type": "markdown",
      "source": [
        "Now that you know what bools are, use my example query from above to complete the task below."
      ],
      "metadata": {
        "id": "jBzfaRgISPH-"
      }
    },
    {
      "cell_type": "markdown",
      "source": [
        "**Task10**:\n",
        "\n",
        "Find all the players that have played more than 41 games (G), and have more turn overs (TOV) than assists (AST)."
      ],
      "metadata": {
        "id": "cofxFtMVXVEq"
      }
    },
    {
      "cell_type": "code",
      "source": [
        "#ANSWER10\n",
        "#finds all players with more offensive rebounds than defensive rebounds\n",
        "#and who have also played more than 100 minutes 'ORB >= DRB and MP >= 100'\n",
        "hustle_players = basketball.filter((pl.col(\"TOV\")>pl.col(\"AST\"))&(pl.col(\"G\")>41))\n",
        "hustle_players\n"
      ],
      "metadata": {
        "id": "R-6NsnAaYTge",
        "outputId": "e004f20c-8187-4aed-9a39-7298263367cc",
        "colab": {
          "base_uri": "https://localhost:8080/",
          "height": 443
        }
      },
      "execution_count": 98,
      "outputs": [
        {
          "output_type": "execute_result",
          "data": {
            "text/plain": [
              "shape: (23, 30)\n",
              "┌───────────────────┬───────┬─────┬─────┬───┬─────┬─────┬─────┬───────────────────┐\n",
              "│ Player            ┆ Pos   ┆ Age ┆ Tm  ┆ … ┆ TOV ┆ PF  ┆ PTS ┆ Player-additional │\n",
              "│ ---               ┆ ---   ┆ --- ┆ --- ┆   ┆ --- ┆ --- ┆ --- ┆ ---               │\n",
              "│ str               ┆ str   ┆ i64 ┆ str ┆   ┆ i64 ┆ i64 ┆ i64 ┆ str               │\n",
              "╞═══════════════════╪═══════╪═════╪═════╪═══╪═════╪═════╪═════╪═══════════════════╡\n",
              "│ Deandre Ayton     ┆ C     ┆ 25  ┆ POR ┆ … ┆ 99  ┆ 109 ┆ 920 ┆ aytonde01         │\n",
              "│ Marvin Bagley III ┆ C     ┆ 24  ┆ TOT ┆ … ┆ 59  ┆ 81  ┆ 583 ┆ baglema01         │\n",
              "│ Bojan Bogdanović  ┆ SF-PF ┆ 34  ┆ TOT ┆ … ┆ 101 ┆ 95  ┆ 868 ┆ bogdabo02         │\n",
              "│ Bol Bol           ┆ PF    ┆ 24  ┆ PHO ┆ … ┆ 19  ┆ 42  ┆ 223 ┆ bolbo01           │\n",
              "│ Chris Boucher     ┆ PF    ┆ 31  ┆ TOR ┆ … ┆ 28  ┆ 68  ┆ 322 ┆ bouchch01         │\n",
              "│ …                 ┆ …     ┆ …   ┆ …   ┆ … ┆ …   ┆ …   ┆ …   ┆ …                 │\n",
              "│ Moritz Wagner     ┆ C     ┆ 26  ┆ ORL ┆ … ┆ 97  ┆ 160 ┆ 868 ┆ wagnemo01         │\n",
              "│ Cam Whitmore      ┆ SF    ┆ 19  ┆ HOU ┆ … ┆ 46  ┆ 64  ┆ 579 ┆ whitmca01         │\n",
              "│ James Wiseman     ┆ C     ┆ 22  ┆ DET ┆ … ┆ 66  ┆ 141 ┆ 446 ┆ wisemja01         │\n",
              "│ Christian Wood    ┆ PF    ┆ 28  ┆ LAL ┆ … ┆ 50  ┆ 72  ┆ 347 ┆ woodch01          │\n",
              "│ Omer Yurtseven    ┆ C     ┆ 25  ┆ UTA ┆ … ┆ 37  ┆ 52  ┆ 222 ┆ yurtsom01         │\n",
              "└───────────────────┴───────┴─────┴─────┴───┴─────┴─────┴─────┴───────────────────┘"
            ],
            "text/html": [
              "<div><style>\n",
              ".dataframe > thead > tr,\n",
              ".dataframe > tbody > tr {\n",
              "  text-align: right;\n",
              "  white-space: pre-wrap;\n",
              "}\n",
              "</style>\n",
              "<small>shape: (23, 30)</small><table border=\"1\" class=\"dataframe\"><thead><tr><th>Player</th><th>Pos</th><th>Age</th><th>Tm</th><th>G</th><th>GS</th><th>MP</th><th>FG</th><th>FGA</th><th>FG%</th><th>3P</th><th>3PA</th><th>3P%</th><th>2P</th><th>2PA</th><th>2P%</th><th>eFG%</th><th>FT</th><th>FTA</th><th>FT%</th><th>ORB</th><th>DRB</th><th>TRB</th><th>AST</th><th>STL</th><th>BLK</th><th>TOV</th><th>PF</th><th>PTS</th><th>Player-additional</th></tr><tr><td>str</td><td>str</td><td>i64</td><td>str</td><td>i64</td><td>i64</td><td>i64</td><td>i64</td><td>i64</td><td>f64</td><td>i64</td><td>i64</td><td>f64</td><td>i64</td><td>i64</td><td>f64</td><td>f64</td><td>i64</td><td>i64</td><td>f64</td><td>i64</td><td>i64</td><td>i64</td><td>i64</td><td>i64</td><td>i64</td><td>i64</td><td>i64</td><td>i64</td><td>str</td></tr></thead><tbody><tr><td>&quot;Deandre Ayton&quot;</td><td>&quot;C&quot;</td><td>25</td><td>&quot;POR&quot;</td><td>55</td><td>55</td><td>1784</td><td>427</td><td>749</td><td>0.57</td><td>1</td><td>10</td><td>0.1</td><td>426</td><td>739</td><td>0.576</td><td>0.571</td><td>65</td><td>79</td><td>0.823</td><td>176</td><td>433</td><td>609</td><td>90</td><td>56</td><td>42</td><td>99</td><td>109</td><td>920</td><td>&quot;aytonde01&quot;</td></tr><tr><td>&quot;Marvin Bagley III&quot;</td><td>&quot;C&quot;</td><td>24</td><td>&quot;TOT&quot;</td><td>50</td><td>25</td><td>1053</td><td>239</td><td>408</td><td>0.586</td><td>9</td><td>23</td><td>0.391</td><td>230</td><td>385</td><td>0.597</td><td>0.597</td><td>96</td><td>126</td><td>0.762</td><td>130</td><td>182</td><td>312</td><td>55</td><td>20</td><td>33</td><td>59</td><td>81</td><td>583</td><td>&quot;baglema01&quot;</td></tr><tr><td>&quot;Bojan Bogdanović&quot;</td><td>&quot;SF-PF&quot;</td><td>34</td><td>&quot;TOT&quot;</td><td>57</td><td>27</td><td>1478</td><td>309</td><td>681</td><td>0.454</td><td>133</td><td>334</td><td>0.398</td><td>176</td><td>347</td><td>0.507</td><td>0.551</td><td>117</td><td>149</td><td>0.785</td><td>22</td><td>130</td><td>152</td><td>97</td><td>30</td><td>5</td><td>101</td><td>95</td><td>868</td><td>&quot;bogdabo02&quot;</td></tr><tr><td>&quot;Bol Bol&quot;</td><td>&quot;PF&quot;</td><td>24</td><td>&quot;PHO&quot;</td><td>43</td><td>0</td><td>469</td><td>93</td><td>151</td><td>0.616</td><td>22</td><td>52</td><td>0.423</td><td>71</td><td>99</td><td>0.717</td><td>0.689</td><td>15</td><td>19</td><td>0.789</td><td>32</td><td>105</td><td>137</td><td>17</td><td>10</td><td>25</td><td>19</td><td>42</td><td>223</td><td>&quot;bolbo01&quot;</td></tr><tr><td>&quot;Chris Boucher&quot;</td><td>&quot;PF&quot;</td><td>31</td><td>&quot;TOR&quot;</td><td>50</td><td>0</td><td>705</td><td>110</td><td>217</td><td>0.507</td><td>31</td><td>94</td><td>0.33</td><td>79</td><td>123</td><td>0.642</td><td>0.578</td><td>71</td><td>92</td><td>0.772</td><td>62</td><td>145</td><td>207</td><td>23</td><td>14</td><td>24</td><td>28</td><td>68</td><td>322</td><td>&quot;bouchch01&quot;</td></tr><tr><td>&hellip;</td><td>&hellip;</td><td>&hellip;</td><td>&hellip;</td><td>&hellip;</td><td>&hellip;</td><td>&hellip;</td><td>&hellip;</td><td>&hellip;</td><td>&hellip;</td><td>&hellip;</td><td>&hellip;</td><td>&hellip;</td><td>&hellip;</td><td>&hellip;</td><td>&hellip;</td><td>&hellip;</td><td>&hellip;</td><td>&hellip;</td><td>&hellip;</td><td>&hellip;</td><td>&hellip;</td><td>&hellip;</td><td>&hellip;</td><td>&hellip;</td><td>&hellip;</td><td>&hellip;</td><td>&hellip;</td><td>&hellip;</td><td>&hellip;</td></tr><tr><td>&quot;Moritz Wagner&quot;</td><td>&quot;C&quot;</td><td>26</td><td>&quot;ORL&quot;</td><td>80</td><td>1</td><td>1415</td><td>332</td><td>552</td><td>0.601</td><td>38</td><td>115</td><td>0.33</td><td>294</td><td>437</td><td>0.673</td><td>0.636</td><td>166</td><td>204</td><td>0.814</td><td>117</td><td>230</td><td>347</td><td>96</td><td>39</td><td>21</td><td>97</td><td>160</td><td>868</td><td>&quot;wagnemo01&quot;</td></tr><tr><td>&quot;Cam Whitmore&quot;</td><td>&quot;SF&quot;</td><td>19</td><td>&quot;HOU&quot;</td><td>47</td><td>2</td><td>880</td><td>212</td><td>467</td><td>0.454</td><td>79</td><td>220</td><td>0.359</td><td>133</td><td>247</td><td>0.538</td><td>0.539</td><td>76</td><td>112</td><td>0.679</td><td>44</td><td>136</td><td>180</td><td>33</td><td>30</td><td>17</td><td>46</td><td>64</td><td>579</td><td>&quot;whitmca01&quot;</td></tr><tr><td>&quot;James Wiseman&quot;</td><td>&quot;C&quot;</td><td>22</td><td>&quot;DET&quot;</td><td>63</td><td>6</td><td>1091</td><td>187</td><td>305</td><td>0.613</td><td>0</td><td>2</td><td>0.0</td><td>187</td><td>303</td><td>0.617</td><td>0.613</td><td>72</td><td>102</td><td>0.706</td><td>110</td><td>226</td><td>336</td><td>54</td><td>12</td><td>39</td><td>66</td><td>141</td><td>446</td><td>&quot;wisemja01&quot;</td></tr><tr><td>&quot;Christian Wood&quot;</td><td>&quot;PF&quot;</td><td>28</td><td>&quot;LAL&quot;</td><td>50</td><td>1</td><td>872</td><td>123</td><td>264</td><td>0.466</td><td>35</td><td>114</td><td>0.307</td><td>88</td><td>150</td><td>0.587</td><td>0.532</td><td>66</td><td>94</td><td>0.702</td><td>39</td><td>215</td><td>254</td><td>49</td><td>16</td><td>33</td><td>50</td><td>72</td><td>347</td><td>&quot;woodch01&quot;</td></tr><tr><td>&quot;Omer Yurtseven&quot;</td><td>&quot;C&quot;</td><td>25</td><td>&quot;UTA&quot;</td><td>48</td><td>12</td><td>545</td><td>99</td><td>184</td><td>0.538</td><td>5</td><td>24</td><td>0.208</td><td>94</td><td>160</td><td>0.588</td><td>0.552</td><td>19</td><td>28</td><td>0.679</td><td>72</td><td>136</td><td>208</td><td>29</td><td>8</td><td>18</td><td>37</td><td>52</td><td>222</td><td>&quot;yurtsom01&quot;</td></tr></tbody></table></div>"
            ]
          },
          "metadata": {},
          "execution_count": 98
        }
      ]
    },
    {
      "cell_type": "markdown",
      "source": [
        "## For loops\n",
        "\n",
        "Most of the time, there is some [dataframe method](https://pandas.pydata.org/docs/reference/frame.html) that does whatever we want, in terms of data wrangling.\n",
        "\n",
        "Occasionally, there will be no built in method that quite does what we need.\n",
        "\n",
        "In those cases, we will use a for loop. For loops often involve if statements, so we'll introduce those as well."
      ],
      "metadata": {
        "id": "xihD6cs1qugo"
      }
    },
    {
      "cell_type": "markdown",
      "source": [
        "I'll start with a simple example that isn't all that useful."
      ],
      "metadata": {
        "id": "21bkIGlpkARj"
      }
    },
    {
      "cell_type": "code",
      "source": [
        "#initialize a variable to update during the for loop\n",
        "x = 0\n",
        "\n",
        "#initialize an iterable to run our for loop over\n",
        "onetoten = np.arange(1,11)\n",
        "\n",
        "#the actual for loop\n",
        "for i in onetoten:\n",
        "    x = x + i"
      ],
      "metadata": {
        "id": "flrWiOtLkJyl"
      },
      "execution_count": null,
      "outputs": []
    },
    {
      "cell_type": "code",
      "source": [
        "#the sum of the numbers from one to ten\n",
        "x"
      ],
      "metadata": {
        "id": "4SvTFnAjluSn"
      },
      "execution_count": null,
      "outputs": []
    },
    {
      "cell_type": "markdown",
      "source": [
        "Most of the time, we'll avoid for loops for anything but plotting, because their are often better vectorized solutions available."
      ],
      "metadata": {
        "id": "nlsNqVjsmYOx"
      }
    },
    {
      "cell_type": "code",
      "source": [
        "#could have just used the vectroized solution\n",
        "onetoten.sum()"
      ],
      "metadata": {
        "id": "xU0F_V8AmL98"
      },
      "execution_count": null,
      "outputs": []
    },
    {
      "cell_type": "markdown",
      "source": [
        "Here's a more relevant example:\n",
        "\n",
        "While playing with the 2023/2024 NBA basketball data, I wanted to pull up Lebron James' stats. And I figured I might as well pull all the other players with James in their name, since there couldn't be that many.\n",
        "\n",
        "I searched for a while, and couldn't find a nice vectorized solution that uses the pandas methods.\n",
        "\n",
        "So I wrote this for loop. It has too new things from the previous loop:\n",
        "\n",
        "- a function, enumerate, which allows me to grab the item in my iterable and the index of that item.\n",
        "- an if statement. They work like this: if the condition in them is met, execute the indented code. If not, then continue with the rest of the for loop.\n",
        "\n",
        "Most for loops we need in this class will be at least this complicated. Usually more so."
      ],
      "metadata": {
        "id": "x0tdMXhxuaJ_"
      }
    },
    {
      "cell_type": "code",
      "source": [
        "#create an array of all zeros the same length as one of the columns in basketball\n",
        "james_index = np.zeros_like(basketball.get_column(\"Player\"))\n",
        "\n",
        "#index is the number of the row, name is the string that represents player name\n",
        "#enumerate is a function that breaks basketball.Player into index and name\n",
        "for index, name in enumerate(basketball.get_column(\"Player\")):\n",
        "\n",
        "    #if the string 'James' is in the string of player name\n",
        "    if 'James' in name:\n",
        "\n",
        "        #then put a True value, or 1, in the corresponding James index tracker\n",
        "        james_index[index] = 1\n",
        "\n",
        "#adds up the array elements of james_index\n",
        "#this helps me know if my loop went awry or not\n",
        "#but otherwise has nothing to do with the for loop.\n",
        "james_index.sum()"
      ],
      "metadata": {
        "id": "lv7xrz2xrllT",
        "outputId": "472871b4-f152-404c-de72-71e52b350595",
        "colab": {
          "base_uri": "https://localhost:8080/",
          "height": 297
        }
      },
      "execution_count": 104,
      "outputs": [
        {
          "output_type": "error",
          "ename": "TypeError",
          "evalue": "the resolved dtypes are not compatible with add.reduce. Resolved (dtype('<U24'), dtype('<U24'), dtype('<U48'))",
          "traceback": [
            "\u001b[0;31m---------------------------------------------------------------------------\u001b[0m",
            "\u001b[0;31mTypeError\u001b[0m                                 Traceback (most recent call last)",
            "\u001b[0;32m/tmp/ipython-input-4287728871.py\u001b[0m in \u001b[0;36m<cell line: 0>\u001b[0;34m()\u001b[0m\n\u001b[1;32m     15\u001b[0m \u001b[0;31m#this helps me know if my loop went awry or not\u001b[0m\u001b[0;34m\u001b[0m\u001b[0;34m\u001b[0m\u001b[0m\n\u001b[1;32m     16\u001b[0m \u001b[0;31m#but otherwise has nothing to do with the for loop.\u001b[0m\u001b[0;34m\u001b[0m\u001b[0;34m\u001b[0m\u001b[0m\n\u001b[0;32m---> 17\u001b[0;31m \u001b[0mjames_index\u001b[0m\u001b[0;34m.\u001b[0m\u001b[0msum\u001b[0m\u001b[0;34m(\u001b[0m\u001b[0;34m)\u001b[0m\u001b[0;34m\u001b[0m\u001b[0;34m\u001b[0m\u001b[0m\n\u001b[0m",
            "\u001b[0;32m/usr/local/lib/python3.12/dist-packages/numpy/_core/_methods.py\u001b[0m in \u001b[0;36m_sum\u001b[0;34m(a, axis, dtype, out, keepdims, initial, where)\u001b[0m\n\u001b[1;32m     50\u001b[0m def _sum(a, axis=None, dtype=None, out=None, keepdims=False,\n\u001b[1;32m     51\u001b[0m          initial=_NoValue, where=True):\n\u001b[0;32m---> 52\u001b[0;31m     \u001b[0;32mreturn\u001b[0m \u001b[0mumr_sum\u001b[0m\u001b[0;34m(\u001b[0m\u001b[0ma\u001b[0m\u001b[0;34m,\u001b[0m \u001b[0maxis\u001b[0m\u001b[0;34m,\u001b[0m \u001b[0mdtype\u001b[0m\u001b[0;34m,\u001b[0m \u001b[0mout\u001b[0m\u001b[0;34m,\u001b[0m \u001b[0mkeepdims\u001b[0m\u001b[0;34m,\u001b[0m \u001b[0minitial\u001b[0m\u001b[0;34m,\u001b[0m \u001b[0mwhere\u001b[0m\u001b[0;34m)\u001b[0m\u001b[0;34m\u001b[0m\u001b[0;34m\u001b[0m\u001b[0m\n\u001b[0m\u001b[1;32m     53\u001b[0m \u001b[0;34m\u001b[0m\u001b[0m\n\u001b[1;32m     54\u001b[0m def _prod(a, axis=None, dtype=None, out=None, keepdims=False,\n",
            "\u001b[0;31mTypeError\u001b[0m: the resolved dtypes are not compatible with add.reduce. Resolved (dtype('<U24'), dtype('<U24'), dtype('<U48'))"
          ]
        }
      ]
    },
    {
      "cell_type": "code",
      "source": [
        "#always a good idea to print out any data set you've created\n",
        "#even if you're expecting it to be uninteresting\n",
        "james_index"
      ],
      "metadata": {
        "id": "pyusseuFzHyl"
      },
      "execution_count": null,
      "outputs": []
    },
    {
      "cell_type": "code",
      "source": [
        "#this grabs all the rows/players with James in their name\n",
        "basketball.loc[james_index == True]"
      ],
      "metadata": {
        "id": "alSwKExExd_p"
      },
      "execution_count": null,
      "outputs": []
    },
    {
      "cell_type": "markdown",
      "source": [
        "This next task was supposed to require you to make a for loop, but I underestimated how powerful pandas' query function is. So, although my answer key does have a soultion that works, its better to use only query.\n",
        "\n",
        "Also, to make 'FT%' work in query, write '\\`FT%\\`' instead."
      ],
      "metadata": {
        "id": "l9PkQ4E19gPZ"
      }
    },
    {
      "cell_type": "markdown",
      "source": [
        "**Task11**:\n",
        "\n",
        "Display all players--and their stats-- from the 2023/2024 NBA season, who are PG (point guards), have a 0.9 FG% (free throw percentage) or higher,  and have more than 40 FTA (free throw attempts)."
      ],
      "metadata": {
        "id": "8vMSBRIj2MzA"
      }
    },
    {
      "cell_type": "code",
      "source": [
        "#ANSWER10\n",
        "#finds all players with more offensive rebounds than defensive rebounds\n",
        "#and who have also played more than 100 minutes 'ORB >= DRB and MP >= 100'\n",
        "hustle_players = basketball.filter((pl.col(\"FG%\")>0.9/100)&(pl.col(\"FTA\")>40)&(pl.col(\"Pos\").str.contains(\"PG\")))\n",
        "hustle_players\n"
      ],
      "metadata": {
        "id": "y4ccY05_2wmT",
        "outputId": "9caa7c23-8e8c-4c02-9084-08afa262cf9f",
        "colab": {
          "base_uri": "https://localhost:8080/",
          "height": 443
        }
      },
      "execution_count": 122,
      "outputs": [
        {
          "output_type": "execute_result",
          "data": {
            "text/plain": [
              "shape: (63, 30)\n",
              "┌───────────────────┬─────┬─────┬─────┬───┬─────┬─────┬──────┬───────────────────┐\n",
              "│ Player            ┆ Pos ┆ Age ┆ Tm  ┆ … ┆ TOV ┆ PF  ┆ PTS  ┆ Player-additional │\n",
              "│ ---               ┆ --- ┆ --- ┆ --- ┆   ┆ --- ┆ --- ┆ ---  ┆ ---               │\n",
              "│ str               ┆ str ┆ i64 ┆ str ┆   ┆ i64 ┆ i64 ┆ i64  ┆ str               │\n",
              "╞═══════════════════╪═════╪═════╪═════╪═══╪═════╪═════╪══════╪═══════════════════╡\n",
              "│ Jose Alvarado     ┆ PG  ┆ 25  ┆ NOP ┆ … ┆ 40  ┆ 89  ┆ 397  ┆ alvarjo01         │\n",
              "│ Cole Anthony      ┆ PG  ┆ 23  ┆ ORL ┆ … ┆ 126 ┆ 175 ┆ 937  ┆ anthoco01         │\n",
              "│ LaMelo Ball       ┆ PG  ┆ 22  ┆ CHO ┆ … ┆ 83  ┆ 79  ┆ 526  ┆ ballla01          │\n",
              "│ Dalano Banton     ┆ PG  ┆ 24  ┆ TOT ┆ … ┆ 77  ┆ 64  ┆ 557  ┆ bantoda01         │\n",
              "│ Patrick Beverley  ┆ PG  ┆ 35  ┆ TOT ┆ … ┆ 65  ┆ 128 ┆ 451  ┆ beverpa01         │\n",
              "│ …                 ┆ …   ┆ …   ┆ …   ┆ … ┆ …   ┆ …   ┆ …    ┆ …                 │\n",
              "│ Fred VanVleet     ┆ PG  ┆ 29  ┆ HOU ┆ … ┆ 126 ┆ 183 ┆ 1270 ┆ vanvlfr01         │\n",
              "│ Russell Westbrook ┆ PG  ┆ 35  ┆ LAC ┆ … ┆ 144 ┆ 121 ┆ 754  ┆ westbru01         │\n",
              "│ Coby White        ┆ PG  ┆ 23  ┆ CHI ┆ … ┆ 166 ┆ 186 ┆ 1509 ┆ whiteco01         │\n",
              "│ Delon Wright      ┆ PG  ┆ 31  ┆ TOT ┆ … ┆ 14  ┆ 32  ┆ 210  ┆ wrighde01         │\n",
              "│ Trae Young        ┆ PG  ┆ 25  ┆ ATL ┆ … ┆ 235 ┆ 109 ┆ 1389 ┆ youngtr01         │\n",
              "└───────────────────┴─────┴─────┴─────┴───┴─────┴─────┴──────┴───────────────────┘"
            ],
            "text/html": [
              "<div><style>\n",
              ".dataframe > thead > tr,\n",
              ".dataframe > tbody > tr {\n",
              "  text-align: right;\n",
              "  white-space: pre-wrap;\n",
              "}\n",
              "</style>\n",
              "<small>shape: (63, 30)</small><table border=\"1\" class=\"dataframe\"><thead><tr><th>Player</th><th>Pos</th><th>Age</th><th>Tm</th><th>G</th><th>GS</th><th>MP</th><th>FG</th><th>FGA</th><th>FG%</th><th>3P</th><th>3PA</th><th>3P%</th><th>2P</th><th>2PA</th><th>2P%</th><th>eFG%</th><th>FT</th><th>FTA</th><th>FT%</th><th>ORB</th><th>DRB</th><th>TRB</th><th>AST</th><th>STL</th><th>BLK</th><th>TOV</th><th>PF</th><th>PTS</th><th>Player-additional</th></tr><tr><td>str</td><td>str</td><td>i64</td><td>str</td><td>i64</td><td>i64</td><td>i64</td><td>i64</td><td>i64</td><td>f64</td><td>i64</td><td>i64</td><td>f64</td><td>i64</td><td>i64</td><td>f64</td><td>f64</td><td>i64</td><td>i64</td><td>f64</td><td>i64</td><td>i64</td><td>i64</td><td>i64</td><td>i64</td><td>i64</td><td>i64</td><td>i64</td><td>i64</td><td>str</td></tr></thead><tbody><tr><td>&quot;Jose Alvarado&quot;</td><td>&quot;PG&quot;</td><td>25</td><td>&quot;NOP&quot;</td><td>56</td><td>0</td><td>1028</td><td>142</td><td>345</td><td>0.412</td><td>78</td><td>207</td><td>0.377</td><td>64</td><td>138</td><td>0.464</td><td>0.525</td><td>35</td><td>52</td><td>0.673</td><td>25</td><td>103</td><td>128</td><td>117</td><td>59</td><td>15</td><td>40</td><td>89</td><td>397</td><td>&quot;alvarjo01&quot;</td></tr><tr><td>&quot;Cole Anthony&quot;</td><td>&quot;PG&quot;</td><td>23</td><td>&quot;ORL&quot;</td><td>81</td><td>0</td><td>1817</td><td>332</td><td>763</td><td>0.435</td><td>93</td><td>275</td><td>0.338</td><td>239</td><td>488</td><td>0.49</td><td>0.496</td><td>180</td><td>218</td><td>0.826</td><td>64</td><td>247</td><td>311</td><td>236</td><td>64</td><td>37</td><td>126</td><td>175</td><td>937</td><td>&quot;anthoco01&quot;</td></tr><tr><td>&quot;LaMelo Ball&quot;</td><td>&quot;PG&quot;</td><td>22</td><td>&quot;CHO&quot;</td><td>22</td><td>22</td><td>711</td><td>183</td><td>423</td><td>0.433</td><td>70</td><td>197</td><td>0.355</td><td>113</td><td>226</td><td>0.5</td><td>0.515</td><td>90</td><td>104</td><td>0.865</td><td>29</td><td>84</td><td>113</td><td>176</td><td>40</td><td>4</td><td>83</td><td>79</td><td>526</td><td>&quot;ballla01&quot;</td></tr><tr><td>&quot;Dalano Banton&quot;</td><td>&quot;PG&quot;</td><td>24</td><td>&quot;TOT&quot;</td><td>54</td><td>9</td><td>1047</td><td>202</td><td>500</td><td>0.404</td><td>59</td><td>199</td><td>0.296</td><td>143</td><td>301</td><td>0.475</td><td>0.463</td><td>94</td><td>120</td><td>0.783</td><td>41</td><td>137</td><td>178</td><td>127</td><td>33</td><td>20</td><td>77</td><td>64</td><td>557</td><td>&quot;bantoda01&quot;</td></tr><tr><td>&quot;Patrick Beverley&quot;</td><td>&quot;PG&quot;</td><td>35</td><td>&quot;TOT&quot;</td><td>73</td><td>13</td><td>1462</td><td>158</td><td>379</td><td>0.417</td><td>61</td><td>181</td><td>0.337</td><td>97</td><td>198</td><td>0.49</td><td>0.497</td><td>74</td><td>90</td><td>0.822</td><td>49</td><td>190</td><td>239</td><td>212</td><td>43</td><td>31</td><td>65</td><td>128</td><td>451</td><td>&quot;beverpa01&quot;</td></tr><tr><td>&hellip;</td><td>&hellip;</td><td>&hellip;</td><td>&hellip;</td><td>&hellip;</td><td>&hellip;</td><td>&hellip;</td><td>&hellip;</td><td>&hellip;</td><td>&hellip;</td><td>&hellip;</td><td>&hellip;</td><td>&hellip;</td><td>&hellip;</td><td>&hellip;</td><td>&hellip;</td><td>&hellip;</td><td>&hellip;</td><td>&hellip;</td><td>&hellip;</td><td>&hellip;</td><td>&hellip;</td><td>&hellip;</td><td>&hellip;</td><td>&hellip;</td><td>&hellip;</td><td>&hellip;</td><td>&hellip;</td><td>&hellip;</td><td>&hellip;</td></tr><tr><td>&quot;Fred VanVleet&quot;</td><td>&quot;PG&quot;</td><td>29</td><td>&quot;HOU&quot;</td><td>73</td><td>73</td><td>2684</td><td>423</td><td>1018</td><td>0.416</td><td>227</td><td>586</td><td>0.387</td><td>196</td><td>432</td><td>0.454</td><td>0.527</td><td>197</td><td>229</td><td>0.86</td><td>33</td><td>245</td><td>278</td><td>589</td><td>101</td><td>59</td><td>126</td><td>183</td><td>1270</td><td>&quot;vanvlfr01&quot;</td></tr><tr><td>&quot;Russell Westbrook&quot;</td><td>&quot;PG&quot;</td><td>35</td><td>&quot;LAC&quot;</td><td>68</td><td>11</td><td>1529</td><td>301</td><td>663</td><td>0.454</td><td>42</td><td>154</td><td>0.273</td><td>259</td><td>509</td><td>0.509</td><td>0.486</td><td>110</td><td>160</td><td>0.688</td><td>93</td><td>250</td><td>343</td><td>306</td><td>74</td><td>23</td><td>144</td><td>121</td><td>754</td><td>&quot;westbru01&quot;</td></tr><tr><td>&quot;Coby White&quot;</td><td>&quot;PG&quot;</td><td>23</td><td>&quot;CHI&quot;</td><td>79</td><td>78</td><td>2881</td><td>541</td><td>1209</td><td>0.447</td><td>209</td><td>556</td><td>0.376</td><td>332</td><td>653</td><td>0.508</td><td>0.534</td><td>218</td><td>260</td><td>0.838</td><td>44</td><td>314</td><td>358</td><td>405</td><td>53</td><td>18</td><td>166</td><td>186</td><td>1509</td><td>&quot;whiteco01&quot;</td></tr><tr><td>&quot;Delon Wright&quot;</td><td>&quot;PG&quot;</td><td>31</td><td>&quot;TOT&quot;</td><td>47</td><td>1</td><td>742</td><td>74</td><td>188</td><td>0.394</td><td>25</td><td>68</td><td>0.368</td><td>49</td><td>120</td><td>0.408</td><td>0.46</td><td>37</td><td>45</td><td>0.822</td><td>19</td><td>67</td><td>86</td><td>119</td><td>54</td><td>11</td><td>14</td><td>32</td><td>210</td><td>&quot;wrighde01&quot;</td></tr><tr><td>&quot;Trae Young&quot;</td><td>&quot;PG&quot;</td><td>25</td><td>&quot;ATL&quot;</td><td>54</td><td>54</td><td>1942</td><td>433</td><td>1008</td><td>0.43</td><td>175</td><td>469</td><td>0.373</td><td>258</td><td>539</td><td>0.479</td><td>0.516</td><td>348</td><td>407</td><td>0.855</td><td>23</td><td>126</td><td>149</td><td>583</td><td>72</td><td>11</td><td>235</td><td>109</td><td>1389</td><td>&quot;youngtr01&quot;</td></tr></tbody></table></div>"
            ]
          },
          "metadata": {},
          "execution_count": 122
        }
      ]
    },
    {
      "cell_type": "markdown",
      "source": [
        "## Exporting Data from Colab\n",
        "\n",
        "I don't plan on making you do this as part of the course, but this is still a skill I want you to have.\n",
        "\n",
        "As usual, I'm only covering a tiny bit of what's available. For more info, see: [Importing/Exporting files using pandas](https://pandas.pydata.org/docs/reference/io.html)"
      ],
      "metadata": {
        "id": "Eecz-8LBCA5i"
      }
    },
    {
      "cell_type": "markdown",
      "source": [
        "Let's say I have a colleague for who doesn't know how to code and will not ever learn how, but they still need the data I've manipulated/generated in order to do their job.\n",
        "\n",
        "In this case, the path of least resistance is to export the data from Colab to my local machine, and then put it in a shared cloud folder (like google drive) and/or send it to them in an email.\n",
        "\n",
        "Let's practice this with the James data, shown below."
      ],
      "metadata": {
        "id": "p-yKIjDmCndi"
      }
    },
    {
      "cell_type": "code",
      "source": [
        "james_df = basketball.loc[james_index == True]\n",
        "james_df"
      ],
      "metadata": {
        "id": "1KkXOA39EbQz"
      },
      "execution_count": null,
      "outputs": []
    },
    {
      "cell_type": "markdown",
      "source": [
        "Here's how I can turn this into a csv, a format most programs (like excel) can read:"
      ],
      "metadata": {
        "id": "tIXIvi_NEhuO"
      }
    },
    {
      "cell_type": "code",
      "source": [
        "#creates a csv file on whatver machine the code is run on.\n",
        "#I need to name the file as well.\n",
        "james_df.to_csv('NBA_Jameses.csv')"
      ],
      "metadata": {
        "id": "P0Gff6oyEsCj"
      },
      "execution_count": null,
      "outputs": []
    },
    {
      "cell_type": "markdown",
      "source": [
        "Next steps:\n",
        "\n",
        "1. Look at the side panel--to the left of all the code and text blocks.\n",
        "\n",
        "2. Click on the icon that looks like a tiny manilla folder.\n",
        "\n",
        "3. Find NBA_Jameses.csv, hover your mouse over it, and click on the three stacked dots to the right of it.\n",
        "\n",
        "4. Click download.\n",
        "\n",
        "From there, its the same as downloading any file from the internet onto your computer."
      ],
      "metadata": {
        "id": "sjErCHmpFTeA"
      }
    },
    {
      "cell_type": "markdown",
      "source": [
        "While you're there, notice that you can upload files to the google server where all your code is being run, and even mount your google drive account."
      ],
      "metadata": {
        "id": "3vZm9Q1SGBtV"
      }
    },
    {
      "cell_type": "markdown",
      "source": [
        "## Further Reading\n",
        "\n",
        "As promised, there is much I didn't cover. Here's lip service to some of that left out information.\n",
        "\n"
      ],
      "metadata": {
        "id": "ytvCHMghHAI3"
      }
    },
    {
      "cell_type": "markdown",
      "source": [
        "### Tensors and xarrays\n",
        "\n",
        "Notable datastructures I didn't cover, but that are relevant for modern machcine learning: tensors, and xarrays.\n",
        "\n",
        "Tensors are multi dimensional arrays; technically numpy can make them, but tensorflow and Pytorch are two libraries that implement tensors more optimized for statistical learning.\n",
        "\n",
        "xarray is its own python library, and it's basically what would happen if a dataframe and a dict had the perfect child.\n",
        "\n",
        "We use tensors for doing math with high dimensional data, and we use xarrays to keeping track of a lot of seperate, but related, datasets.\n",
        "\n",
        "We won't use tensors unless we get to neural networks, but we'll use xarrays all the time. We'll discuss them more as they come up.\n"
      ],
      "metadata": {
        "id": "WYTnGKxfI-2k"
      }
    },
    {
      "cell_type": "markdown",
      "source": [
        "### Polars\n",
        "\n",
        "You may have noticed that query is slow. In fact pandas itself--while way faster than using lists--is quite slow.\n",
        "\n",
        "There is a relatively new library called [polars](https://pola.rs/) that does everything pandas does, but much faster.\n",
        "\n",
        "The only reason I will use pandas in my examples is because I was too lazy to learn a new thing."
      ],
      "metadata": {
        "id": "TKqZYJ4TPXJK"
      }
    },
    {
      "cell_type": "markdown",
      "source": [
        "### Data Wrangling\n",
        "\n",
        "Data Wrangling is what happens when the data you're interested in is not a csv . That's a bit of a joke and an exaggeration . . . but its also not.\n",
        "\n",
        "When I say csv, I mean nice, neat rows and columns, with everything lined up and seperated by commas.\n",
        "\n",
        "Here are a few ways real world data can make us suffer:\n",
        "- it's not collected in rows and columns\n",
        "- it's collected in rows and columns, but so disorganized that the rows and columns don't actually mean anything.\n",
        "- it's collected in neat rows and columns, but the the entries into those rows and columns are inconsistent in format.\n",
        "- everything is in rows and columns, neat and consistent throughout--but our functions are still reading the data wrong (this happened to me with a csv file that wasn't actually seperated by commas, but by semi colons instead).\n",
        "- like the last point, except everything was read correctly, but now there are missing values.\n",
        "- any combination of the above.\n",
        "\n",
        "Even if everything is actually perfect--which does happen--data sets can be so large that doing anything with them at all is a chore.\n",
        "\n",
        "For class notes and exercises, I've limited my examples to perfectly clean, small to medium sized data.\n",
        "\n",
        "Projects, however, are open ended, and you will choose your your own data. So up to you if you want to choose a pre-cleaned data set or not."
      ],
      "metadata": {
        "id": "lpYgcE1hJXRf"
      }
    },
    {
      "cell_type": "markdown",
      "source": [
        "## Summary\n",
        "\n",
        "We covered quite a bit in our first unit.\n",
        "\n",
        "We:\n",
        "\n",
        "- learned the two main ways python deals with numbers, ints and floats\n",
        "- covered strings, lists, and dicts, which we can use to store multiple pieces of data linked together.\n",
        "- introduced the numpy array, the most common way to mathematically operate on collections of data of the same type in python\n",
        "- manipulated real world tabular data using pandas\n",
        "- learned how to import and export data from pandas.\n",
        "\n",
        "I expect most of y'all to feel overwhelmed and confused, especially if this is your first coding class. That's good! It means you're thinking about this material.\n",
        "\n",
        "Remember, I'm not asking or expecting you to become an expert data scientist. Our goal is to get vulnearble and expose ourselves to how data science/modern statistics is done. Feel good if you've done that!"
      ],
      "metadata": {
        "id": "9kayKzu5M8-N"
      }
    }
  ]
}