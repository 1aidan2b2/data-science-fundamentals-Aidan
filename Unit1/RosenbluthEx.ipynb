{
  "nbformat": 4,
  "nbformat_minor": 0,
  "metadata": {
    "colab": {
      "provenance": [],
      "authorship_tag": "ABX9TyNj8Z4B0l5MPw5MzG3HByoc",
      "include_colab_link": true
    },
    "kernelspec": {
      "name": "python3",
      "display_name": "Python 3"
    },
    "language_info": {
      "name": "python"
    }
  },
  "cells": [
    {
      "cell_type": "markdown",
      "metadata": {
        "id": "view-in-github",
        "colab_type": "text"
      },
      "source": [
        "<a href=\"https://colab.research.google.com/github/thedarredondo/data-science-fundamentals/blob/main/Unit1/RosenbluthEx.ipynb\" target=\"_parent\"><img src=\"https://colab.research.google.com/assets/colab-badge.svg\" alt=\"Open In Colab\"/></a>"
      ]
    },
    {
      "cell_type": "code",
      "execution_count": 2,
      "metadata": {
        "id": "_3VaepqGIIQB"
      },
      "outputs": [],
      "source": [
        "import numpy as np\n",
        "import pandas as pd\n",
        "import statsmodels.formula.api as smf\n",
        "import pymc as pm\n",
        "import xarray as xr\n",
        "import arviz as az\n",
        "from scipy import stats as stats\n",
        "from matplotlib import pyplot as plt"
      ]
    },
    {
      "cell_type": "markdown",
      "source": [
        "The following implemantation of the Rosenbluth/metropolis algorithm was copied from [this repository](https://github.com/dustinstansbury/statistical-rethinking-2023/blob/b0d0f17f391c071ae9b49f5e9750de1f037d27b5/Lecture%2008%20-%20Markov%20Chain%20Monte%20Carlo.ipynb)."
      ],
      "metadata": {
        "id": "9lmCVtg6Icii"
      }
    },
    {
      "cell_type": "markdown",
      "source": [
        "The oringinal creator and implementor of the metroplois algorithm was [Arianna Rosenbluth](https://imstat.org/2021/02/23/obituary-arianna-rosenbluth-1927-2020/)"
      ],
      "metadata": {
        "id": "6wGRAEANI8p1"
      }
    },
    {
      "cell_type": "code",
      "source": [
        "def simulate_markov_visits(island_sizes, n_steps=100_000):\n",
        "    \"\"\"aka Metropolis algorithm\"\"\"\n",
        "\n",
        "    # Metropolis algorithm\n",
        "    island_idx = np.arange(len(island_sizes))\n",
        "    visits = {ii: 0 for ii in island_idx}\n",
        "    current_island_idx = np.random.choice(island_idx)\n",
        "    markov_chain = []  # store history\n",
        "    for _ in range(n_steps):\n",
        "\n",
        "        # 1. Flip a coin to propose a direction, left or right\n",
        "        coin_flip = np.random.rand() > 0.5\n",
        "        direction = -1 if coin_flip else 1\n",
        "        proposal_island_idx = np.roll(island_idx, direction)[current_island_idx]\n",
        "\n",
        "        # 2. Proposal island size\n",
        "        proposal_size = island_sizes[proposal_island_idx]\n",
        "\n",
        "        # 3. Current island size\n",
        "        current_size = island_sizes[current_island_idx]\n",
        "\n",
        "        # 4. Go to proposal island if ratio of sizes is greater than another coin flip\n",
        "        p_star = proposal_size / current_size\n",
        "        move = np.random.rand() < p_star\n",
        "        current_island_idx = proposal_island_idx if move else current_island_idx\n",
        "\n",
        "        # 5. tally visits and repeat\n",
        "        visits[current_island_idx] += 1\n",
        "        markov_chain.append(current_island_idx)\n",
        "\n",
        "    # Visualization\n",
        "    island_idx = visits.keys()\n",
        "    island_visit_density = [v / n_steps  for v in visits.values()]\n",
        "    island_size_density = island_sizes / island_sizes.sum()\n",
        "\n",
        "    _, axs = plt.subplots(1, 2, figsize=(12, 4))\n",
        "\n",
        "    plt.sca(axs[0])\n",
        "    plt.plot(island_sizes, lw=3, color='C0')\n",
        "    plt.xlabel(\"Island Index\")\n",
        "    plt.ylabel(\"Island Population\");\n",
        "    plt.xticks(np.arange(len(island_sizes)));\n",
        "\n",
        "    plt.sca(axs[1])\n",
        "    plt.plot(island_idx, island_size_density, color='C0', lw=3, label='Population')\n",
        "    plt.bar(island_idx, island_visit_density, color='k', width=.4, label='Visits')\n",
        "\n",
        "    plt.xlabel(\"Island Index\")\n",
        "    plt.ylabel(\"Density\");\n",
        "    plt.xticks(np.arange(len(island_sizes)));\n",
        "\n",
        "    plt.legend()\n",
        "    return markov_chain\n",
        "\n",
        "def plot_markov_chain(markov_chain, **hist_kwargs):\n",
        "    _, axs = plt.subplots(1, 2, figsize=(10, 4), sharey=True)\n",
        "    plt.sca(axs[0])\n",
        "    plt.plot(markov_chain[:300])\n",
        "    plt.xlabel(\"visit number\")\n",
        "    plt.ylabel(\"island index\")\n",
        "    plt.title(\"Metropolis Algorithm Markov Chain\\nFirst 300 Steps\");\n",
        "\n",
        "    plt.sca(axs[1])\n",
        "    plt.hist(markov_chain, orientation='horizontal', density=True, **hist_kwargs);\n",
        "    plt.title(\"Resulting Posterior\\n(horizontal)\");"
      ],
      "metadata": {
        "id": "9IcIX1B6Izzf"
      },
      "execution_count": 3,
      "outputs": []
    },
    {
      "cell_type": "markdown",
      "source": [
        "Let's run the algorithm for 60 \"weeks\" or iterations, like we did in class."
      ],
      "metadata": {
        "id": "LBt_CyqWJRh2"
      }
    },
    {
      "cell_type": "code",
      "source": [
        "n_steps = 60\n",
        "island_sizes = np.array([1.,2.,3.,4.,5.,6.])\n",
        "island_sizes /= island_sizes.min() / 6\n",
        "\n",
        "gaussian_markov_chain = simulate_markov_visits(island_sizes, n_steps)"
      ],
      "metadata": {
        "id": "LRk9viSjJUAW"
      },
      "execution_count": null,
      "outputs": []
    },
    {
      "cell_type": "code",
      "source": [
        "n_steps = 1000\n",
        "island_sizes = np.array([1.,2.,3.,4.,5.,6.])\n",
        "island_sizes /= island_sizes.min() / 6\n",
        "\n",
        "gaussian_markov_chain = simulate_markov_visits(island_sizes, n_steps)"
      ],
      "metadata": {
        "id": "ZcUIsconJhLp"
      },
      "execution_count": null,
      "outputs": []
    },
    {
      "cell_type": "code",
      "source": [
        "n_steps = 10000\n",
        "island_sizes = np.array([1.,2.,3.,4.,5.,6.])\n",
        "island_sizes /= island_sizes.min() / 6\n",
        "\n",
        "gaussian_markov_chain = simulate_markov_visits(island_sizes, n_steps)"
      ],
      "metadata": {
        "id": "OVg8VMPDJiSb"
      },
      "execution_count": null,
      "outputs": []
    }
  ]
}