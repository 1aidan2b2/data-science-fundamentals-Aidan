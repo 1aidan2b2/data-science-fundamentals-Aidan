{
  "nbformat": 4,
  "nbformat_minor": 0,
  "metadata": {
    "colab": {
      "provenance": [],
      "include_colab_link": true
    },
    "kernelspec": {
      "name": "python3",
      "display_name": "Python 3"
    },
    "language_info": {
      "name": "python"
    }
  },
  "cells": [
    {
      "cell_type": "markdown",
      "metadata": {
        "id": "view-in-github",
        "colab_type": "text"
      },
      "source": [
        "<a href=\"https://colab.research.google.com/github/thedarredondo/data-science-fundamentals/blob/main/Unit4/Unit4NotesSF.ipynb\" target=\"_parent\"><img src=\"https://colab.research.google.com/assets/colab-badge.svg\" alt=\"Open In Colab\"/></a>"
      ]
    },
    {
      "cell_type": "code",
      "execution_count": null,
      "metadata": {
        "id": "vlzmknZaOPPa"
      },
      "outputs": [],
      "source": [
        "import numpy as np\n",
        "from matplotlib import pyplot as plt\n",
        "import seaborn as sns\n",
        "import pandas as pd\n",
        "import arviz as az\n",
        "import pymc as pm"
      ]
    },
    {
      "cell_type": "markdown",
      "source": [
        "#Unit 4: Hierachical Models\n",
        "\n",
        "In this unit we will cover how to model data containing sepreate, but related, groups. We'll start with a continuous data example; here's how we'll break it down. We will:\n",
        "\n",
        "1. Make a model and assume that the groups are unrelated, or *independent*\n",
        "2. Alter that model by changing our assumption so that the groups are related, or have some amount of *dependence*\n",
        "3. Compare and contrast those models using a plot.\n",
        "4. Cover the same concept with a discrete data set, introducing some complexities and problems with creating groups\n",
        "\n",
        "Let's get started."
      ],
      "metadata": {
        "id": "fVpBW-RjOVpn"
      }
    },
    {
      "cell_type": "markdown",
      "source": [
        "### Loading and Visualizing our Data\n",
        "\n",
        "The below chemical shift data set is different from that used previous unit; it contains theoreitcal and experimental chemical shift values for 19 different amino acids. Let's view the raw data to see what I mean."
      ],
      "metadata": {
        "id": "4KrwS83mLidw"
      }
    },
    {
      "cell_type": "code",
      "source": [
        "#load the data from my github page.\n",
        "#cs stands for chemical shift data\n",
        "url_cs = 'https://raw.githubusercontent.com/thedarredondo/data-science-fundamentals/main/Data/chemical_shifts_theo_exp.csv'\n",
        "#I could have put the url string directly into pd.read_csv()\n",
        "cs_data = pd.read_csv(url_cs)"
      ],
      "metadata": {
        "id": "MqPIUdScLZYn"
      },
      "execution_count": null,
      "outputs": []
    },
    {
      "cell_type": "code",
      "source": [
        "#print a the begining and end of the raw data set, as a pandas dataframe\n",
        "cs_data"
      ],
      "metadata": {
        "id": "T2aWdpr0MnNz"
      },
      "execution_count": null,
      "outputs": []
    },
    {
      "cell_type": "markdown",
      "source": [
        "We are interested in only three columns for right now:\n",
        "- aa, which stands for amino acid\n",
        "- theo, which is the theoretical chemical shift value, calculated using \"quantum methods\", to quote our textbook.\n",
        "- exp, which is the observed chemical shift value from Nuclear Magnetic Reasonance (NMR)"
      ],
      "metadata": {
        "id": "kGfat9aeVd7F"
      }
    },
    {
      "cell_type": "markdown",
      "source": [
        "The following two plots help visualize the theoriteical values for each protein, and the experimental values for each protein."
      ],
      "metadata": {
        "id": "biWRtYsjUc2V"
      }
    },
    {
      "source": [
        "#visualize theoretical chem shift values for all the amino acids\n",
        "sns.violinplot(cs_data, x='theo', y='aa', inner='quart',hue='aa')\n",
        "sns.despine(top=True, right=True, bottom=True, left=True) #removes border box in plot"
      ],
      "cell_type": "code",
      "metadata": {
        "id": "Mm6pEULUOYx7"
      },
      "execution_count": null,
      "outputs": []
    },
    {
      "source": [
        "#visualize experimental chem shift values for all the amino acids\n",
        "sns.violinplot(cs_data, x='exp', y='aa', inner='quart', hue='aa')\n",
        "sns.despine(top=True, right=True, bottom=True, left=True)"
      ],
      "cell_type": "code",
      "metadata": {
        "id": "QQxkpMHROpRp"
      },
      "execution_count": null,
      "outputs": []
    },
    {
      "cell_type": "markdown",
      "source": [
        "**Task1**:\n",
        "\n",
        "Without building a model, answer the following:\n",
        "\n",
        "For each amino acid, are the theoretical chemical shift values different from\n",
        "the experimental values?"
      ],
      "metadata": {
        "id": "yf_xIJt8gmHO"
      }
    },
    {
      "cell_type": "markdown",
      "source": [
        "**Answer1**:\n",
        "\n",
        "[*write your answer here*]"
      ],
      "metadata": {
        "id": "VF7Q27H2hIFA"
      }
    },
    {
      "cell_type": "markdown",
      "source": [
        "Here's code to find the raw difference between the theoretical and expermental chemical shift values within each amino acid, and to store that difference in our data."
      ],
      "metadata": {
        "id": "amNDsCO1hgVE"
      }
    },
    {
      "cell_type": "code",
      "source": [
        "#element wise subtraction\n",
        "diff_TminusE = cs_data.theo - cs_data.exp\n",
        "#adds a column called 'diff_TminusE' as the fifth column of cs_data\n",
        "cs_data.insert(loc=4,column='diff_TminusE',value=diff_TminusE)"
      ],
      "metadata": {
        "id": "0U46-VJKhpik"
      },
      "execution_count": null,
      "outputs": []
    },
    {
      "cell_type": "code",
      "source": [
        "#print the dataframe with the new column\n",
        "cs_data"
      ],
      "metadata": {
        "id": "sXbr7HaXjvyA"
      },
      "execution_count": null,
      "outputs": []
    },
    {
      "cell_type": "code",
      "source": [
        "#visualize difference in chem shift values for all the amino acids\n",
        "sns.violinplot(cs_data, x='diff_TminusE', y='aa', inner='quart',hue='aa')\n",
        "sns.despine(top=True, right=True, bottom=True, left=True) #removes border box in plot"
      ],
      "metadata": {
        "id": "FRL4bjVCkCs8"
      },
      "execution_count": null,
      "outputs": []
    },
    {
      "cell_type": "markdown",
      "source": [
        "**Task2**:\n",
        "\n",
        "Using the graph of raw differences, answer the following:\n",
        "\n",
        "- For each amino acid, are the theoretical chemical shift values different from\n",
        "the experimental values?\n",
        "\n",
        "- If you had to use one likelihood to model the chemical shift for each amino acid, which one would you use?"
      ],
      "metadata": {
        "id": "fnyVE2zplfqe"
      }
    },
    {
      "cell_type": "markdown",
      "source": [
        "**Answer2**:\n",
        "\n",
        "[*write your answer here*]"
      ],
      "metadata": {
        "id": "lHgIUDsmlzuF"
      }
    },
    {
      "cell_type": "markdown",
      "source": [
        "Visualizing the raw data and making a guess from it is neccessary, but not sufficient. Was does that mean? We have, at this point, got to the start line.\n",
        "\n",
        "We understand the information we have as well as we can, and we've used our knowldge to make a preliminary guess: we think the difference between the theoretical chemical shift values and the experimental chemical shift values is around zero. In other words, **we think the \"quantum methods\" more or less predict the actual chemical shift values in the 19 amino acids we looked at.**\n",
        "\n",
        "Its the \"more or less\" part in the last statement that our model will boslter. In the simple models from these first 5 units, its often possible to visualize the raw data like we did and come to a reasonable conclusion. Our models, right now, confirm or deny our intuition, and also give us a mathematical way of saying how confident we should be in our conclusion.\n",
        "\n",
        "In later units, with more complicated data and goals, our models will end up being the best summarization method. But we should always try to make visualizations without our models first, as we did here.\n"
      ],
      "metadata": {
        "id": "fvlb10oQ6sN_"
      }
    },
    {
      "cell_type": "markdown",
      "source": [
        "In order to make a model for the differences between the chemical shift values for each amino acid--and thus confirm our hypothesis--, we need a to give our model a way to know which difference corresponds to which amino acid. The next few code blocks do this."
      ],
      "metadata": {
        "id": "fZ3E1t5B7MAv"
      }
    },
    {
      "cell_type": "code",
      "source": [
        "#identifies all the different amino acids in our data set\n",
        "#and stores that information, plus original info, in the variable aa_encode\n",
        "aa_encode = pd.Categorical(cs_data['aa'])\n",
        "aa_encode"
      ],
      "metadata": {
        "id": "ktdEEtQS8Z2o"
      },
      "execution_count": null,
      "outputs": []
    },
    {
      "cell_type": "code",
      "source": [
        "#Replaces all the amino acid names with a number in the variable aa_idx\n",
        "aa_idx = aa_encode.codes\n",
        "aa_idx"
      ],
      "metadata": {
        "id": "yitVd_m68iJ0"
      },
      "execution_count": null,
      "outputs": []
    },
    {
      "cell_type": "code",
      "source": [
        "#stores the category names in a dictionary\n",
        "#this dictionary format is required\n",
        "#for pymc to properly read the categories\n",
        "aa_coords = {\"aa\": aa_encode.categories}\n",
        "aa_coords"
      ],
      "metadata": {
        "id": "Opke00Yy8h1q"
      },
      "execution_count": null,
      "outputs": []
    },
    {
      "cell_type": "markdown",
      "source": [
        "For now, we'll also make the assumption that all our priors, and our likelihood, are normal/halfnormal. This is for two reasons:\n",
        "- To keep things simple while we explore hierarchical models\n",
        "- If all we know about our data is that there is an expected value and variation around that value, then its distribution will be normal. This a good assumption to start our model building process with."
      ],
      "metadata": {
        "id": "Wv2LSnZlZfRQ"
      }
    },
    {
      "cell_type": "markdown",
      "source": [
        "##Continuous Data, Independent Groups\n",
        "\n",
        "Our data is grouped into 19 different amino acids. To start, I'll assume that knowing soemthing about one amino acid  provides 0 information about any of the other amino acids. This assumptions seems wrong to me, but we'll follow through with assuming amino acids are independent because\n",
        "\n",
        "- We will contrast this independent model with a partial dependence model, to see how changing independence between amino acid assumption changes our analysis."
      ],
      "metadata": {
        "id": "JdtnZuy88Sys"
      }
    },
    {
      "cell_type": "markdown",
      "source": [
        "**Task3**:\n",
        "\n",
        "Do you think amino acids are independent from one another, with respect to chemical shift and quantum methods?"
      ],
      "metadata": {
        "id": "6qZwf08T-sVP"
      }
    },
    {
      "cell_type": "markdown",
      "source": [
        "**Answer3**:\n",
        "\n",
        "[*write your answer here*]"
      ],
      "metadata": {
        "id": "LeMjDwVG_ETL"
      }
    },
    {
      "cell_type": "markdown",
      "source": [
        "Let's see the code for the model where we assume each amino acid is independent from one another."
      ],
      "metadata": {
        "id": "dsHf0nYhdXJF"
      }
    },
    {
      "cell_type": "code",
      "source": [
        "with pm.Model(coords=aa_coords) as cs_nh_model:\n",
        "    #priors\n",
        "    #dims=\"aa\" means to apply the prior seperately to each amino acid\n",
        "    μ = pm.Normal('μ', mu=0, sigma=10,\n",
        "                  dims=\"aa\")\n",
        "    σ = pm.HalfNormal('σ', sigma=10,\n",
        "                      dims=\"aa\")\n",
        "\n",
        "    #The idx variable tells my model which diffs belong to the same amino acid\n",
        "    #this will cause my model to generate a posterior for each amino acid\n",
        "    y = pm.Normal('y',\n",
        "                  mu = μ[aa_idx],\n",
        "                  sigma = σ[aa_idx],\n",
        "                  observed=cs_data.diff_TminusE)\n",
        "\n",
        "    #cs for chemshift, nh for nonheirarchical\n",
        "    idata_cs_nh = pm.sample()"
      ],
      "metadata": {
        "id": "J_bBxQCh9P-d"
      },
      "execution_count": null,
      "outputs": []
    },
    {
      "cell_type": "code",
      "source": [
        "#plots the middle 99.7% of each amino acids' posterior distribution of the mean\n",
        "#why 99.7%? No reason, just seems like a good number to me.\n",
        "#Feel free to pick your own hdi %; the default is 94%.\n",
        "axes = az.plot_forest(idata_cs_nh, kind=\"ridgeplot\",\n",
        "                      var_names='μ',\n",
        "                      combined=True, figsize=(12, 9), hdi_prob=0.997)"
      ],
      "metadata": {
        "id": "cPrzTVxOByQX"
      },
      "execution_count": null,
      "outputs": []
    },
    {
      "cell_type": "markdown",
      "source": [
        "**Task4**:\n",
        "\n",
        "Using cs_nh_model and the visualization of its posteriors above, answer the following:\n",
        "\n",
        "Is there a difference between the theoretical and experimental chemical shift values in the amino acids from cs_data?"
      ],
      "metadata": {
        "id": "-6orslCpE6PE"
      }
    },
    {
      "cell_type": "markdown",
      "source": [
        "**Answer4**:\n",
        "\n",
        "[*write your answer here*]\n"
      ],
      "metadata": {
        "id": "MUFkJswsGB_V"
      }
    },
    {
      "cell_type": "markdown",
      "source": [
        "## Continuous Data, some Dependence among Groups\n",
        "\n",
        "The model we made and any conclusions we can reach from it are only as good as our assumptions, and we assumed that using one amino acid to predict another was foolish.\n",
        "\n",
        "We will now relax that assumption, and build a model that automatically uses information about the mean chemical shift of one amino acid to predict the mean of another.\n",
        "\n",
        "By what black magic is this possible? Before answering that question, and I'll ask you a different question."
      ],
      "metadata": {
        "id": "ZU5URUl3Kqq7"
      }
    },
    {
      "cell_type": "markdown",
      "source": [
        "**Task5**:\n",
        "\n",
        "Can a prior have a prior? If so, what would that do, and why would we ever want that?"
      ],
      "metadata": {
        "id": "5Lw1Wb-vOBAu"
      }
    },
    {
      "cell_type": "markdown",
      "source": [
        "**Answer5**:\n",
        "\n",
        "[*write your answer here*]"
      ],
      "metadata": {
        "id": "htf9Fhe8OOSp"
      }
    },
    {
      "cell_type": "markdown",
      "source": [
        "Here' how to use hyperpriors to let our knowledge of one amino acid's mean chemical shift affect anothers."
      ],
      "metadata": {
        "id": "ceQYUFuCXvO9"
      }
    },
    {
      "cell_type": "code",
      "source": [
        "with pm.Model(coords=aa_coords) as cs_h_model:\n",
        "    # hyperpriors. Notice how there's no dims argument.\n",
        "    #this means that the hyperprior is shared across all amino acids\n",
        "    μ_mu = pm.Normal('μ_mu', mu = 0, sigma = 10)\n",
        "    μ_sd = pm.HalfNormal('μ_sd', sigma = 10)\n",
        "\n",
        "    # priors. There is a different prior for each amino acid,\n",
        "    #but now the μ priors 'talk' to one another through μ_mu and μ_sd\n",
        "    μ = pm.Normal('μ',\n",
        "                  mu = μ_mu,\n",
        "                  sigma = μ_sd,\n",
        "                  dims = \"aa\")\n",
        "\n",
        "    σ = pm.HalfNormal('σ', sigma = 10,\n",
        "                      dims = \"aa\")\n",
        "\n",
        "    #likelihood; same as before\n",
        "    y = pm.Normal('y',\n",
        "                  mu = μ[aa_idx],\n",
        "                  sigma = σ[aa_idx],\n",
        "                  observed = cs_data.diff_TminusE)\n",
        "\n",
        "    #cs for chemshift, h for heirarchical\n",
        "    idata_cs_h = pm.sample()"
      ],
      "metadata": {
        "id": "iQ8Y0nSYZF0k"
      },
      "execution_count": null,
      "outputs": []
    },
    {
      "cell_type": "markdown",
      "source": [
        "**Task6**:\n",
        "\n",
        "Considering only the code for cs_h_model and cs_nh_model, write down similarities and differences."
      ],
      "metadata": {
        "id": "fzoiRBoNZYmr"
      }
    },
    {
      "cell_type": "markdown",
      "source": [
        "**Answer6**\n",
        "\n",
        "[*write your answer here*]"
      ],
      "metadata": {
        "id": "tJUDuaqCZsGL"
      }
    },
    {
      "cell_type": "markdown",
      "source": [
        "Let's see what the hierarchical model cs_h_model's posterior looks like, and compare it to the non-hierarchical model, cs_nh_model."
      ],
      "metadata": {
        "id": "3hQFV113aupS"
      }
    },
    {
      "cell_type": "code",
      "source": [
        "#plots a 99.7% hdi for the posteriors of both models on the same plot\n",
        "axes = az.plot_forest([idata_cs_nh, idata_cs_h], kind=\"forestplot\",\n",
        "                      model_names=['non_hierarchical', 'hierarchical'],\n",
        "                      var_names='μ', combined=True, figsize=(12, 10),hdi_prob=0.997)\n",
        "\n",
        "#plots overall mean of the hierarchical model; do not confuse with 0\n",
        "y_lims = axes[0].get_ylim()\n",
        "axes[0].vlines(idata_cs_h.posterior['μ_mu'].mean(), *y_lims, color=\"k\", ls=\":\");"
      ],
      "metadata": {
        "id": "X6O3xbRCeZcR"
      },
      "execution_count": null,
      "outputs": []
    },
    {
      "cell_type": "markdown",
      "source": [
        "**Task7**:\n",
        "\n",
        "Focus on the white dots, which are the means of the posteriors. How did allowing our model to use one amino acid's chemical shift mean to predict another's change our our predictions?\n",
        "\n",
        "In other words, how do the hierarchical model, cs_h_model, and non-hierarchical model, cs_nh_model, differ?"
      ],
      "metadata": {
        "id": "HIZbaOb1c4AF"
      }
    },
    {
      "cell_type": "markdown",
      "source": [
        "**Answer7**:\n",
        "\n",
        "[*write your answer here*]"
      ],
      "metadata": {
        "id": "bzimPhh9dssm"
      }
    },
    {
      "cell_type": "markdown",
      "source": [
        "Below are two visualizations, one of the non-hierarchical model, and one of the hierarchical model. Make sure to use:\n",
        "```\n",
        "pm.model_to_graphviz()\n",
        "```\n",
        "whenever you have a model more complicated than cs_nh_model"
      ],
      "metadata": {
        "id": "_eJSOYPQhLyu"
      }
    },
    {
      "cell_type": "code",
      "source": [
        "pm.model_to_graphviz(cs_nh_model)"
      ],
      "metadata": {
        "id": "R5G_D2_igLXB"
      },
      "execution_count": null,
      "outputs": []
    },
    {
      "cell_type": "code",
      "source": [
        "#the hyper priors only affect μ, and they are not split up by aa, by amino acid.\n",
        "pm.model_to_graphviz(cs_h_model)"
      ],
      "metadata": {
        "id": "2OEA2VGcgSUw"
      },
      "execution_count": null,
      "outputs": []
    },
    {
      "cell_type": "markdown",
      "source": [
        "Notice that there's no hyperpriors for $σ$; this means we assume that the variance of one amino acid is independent from variance of another."
      ],
      "metadata": {
        "id": "tYNPxsrqX-ay"
      }
    },
    {
      "cell_type": "markdown",
      "source": [
        "## Discrete Data, Dependent Groups\n",
        "\n",
        "For our discrete data set, we'll do another sports statistics example, but this time we'll cover soccer (football).\n",
        "\n",
        "We'll also use a model that doesn't behave well with pymc, but we'll still trust its predictions. We'll dicuss why."
      ],
      "metadata": {
        "id": "9YadgDqch4CL"
      }
    },
    {
      "cell_type": "markdown",
      "source": [
        "The following code will load the data in, and do the neccessary cleaning. Make sure you're reading my comments--I didn't write them just to help me."
      ],
      "metadata": {
        "id": "wVx8HbCBiWnm"
      }
    },
    {
      "cell_type": "code",
      "source": [
        "#load the data from my github page.\n",
        "#sccr stands for soccer\n",
        "url_sccr = 'https://raw.githubusercontent.com/thedarredondo/data-science-fundamentals/main/Data/football_players.csv'\n",
        "\n",
        "#Turns the position column into a categorical variable\n",
        "sccr_data = pd.read_csv(url_sccr,dtype={'position':'category'})"
      ],
      "metadata": {
        "id": "lXtbCsefitgU"
      },
      "execution_count": null,
      "outputs": []
    },
    {
      "cell_type": "markdown",
      "source": [
        "Look at the code below, focusing on the last two columns, goals and shots. This should remind you of the Wembanyama FT example, where we had makes and attempts.\n",
        "Except there's 2681 players from the Premier League, Ligue 1, Bundesliga, Serie A, and La Liga, instead of 1 NBA player. There's also a categorical variable named position, and these data were complied from 2017-2020.\n",
        "\n",
        "What's pertinent to use is that we'll use position the same way we used 'aa', amino acid, in the last example."
      ],
      "metadata": {
        "id": "JTyEpsJ2tula"
      }
    },
    {
      "cell_type": "code",
      "source": [
        "sccr_data"
      ],
      "metadata": {
        "id": "psEeySBXsSry"
      },
      "execution_count": null,
      "outputs": []
    },
    {
      "cell_type": "markdown",
      "source": [
        "**Task8**:\n",
        "\n",
        "Plot goals and shots from sccr_data. I'd use a violin plot.\n",
        "\n",
        "Then consider how you would select a prior for goals and shots."
      ],
      "metadata": {
        "id": "A1P07VAxk8HC"
      }
    },
    {
      "cell_type": "code",
      "source": [
        "#ASNWER8\n"
      ],
      "metadata": {
        "id": "3KqmaigVPTqa"
      },
      "execution_count": null,
      "outputs": []
    },
    {
      "cell_type": "code",
      "source": [
        "#ASNWER8 cont.\n"
      ],
      "metadata": {
        "id": "2tPrZ1Y1lo2R"
      },
      "execution_count": null,
      "outputs": []
    },
    {
      "cell_type": "markdown",
      "source": [
        "**Answer8 cont.**:\n",
        "\n",
        "[*write your answer here*]"
      ],
      "metadata": {
        "id": "3GJjkvmc0N8h"
      }
    },
    {
      "cell_type": "markdown",
      "source": [
        "Previously, we would have turned goals into an array of $1$s, and [shots - goals] into an array of $0$s. That worked great when we only cared about one player, and its still possible now, but it'd be nice if we could just shove 'goals' and 'shots' into our model as is.\n",
        "\n",
        "And we can! But there's a price to paid for that decision, this time around . . .\n",
        "\n",
        "Before we discuss that price, let's review how to get pymc to recognize the grouping we care about, soccer position."
      ],
      "metadata": {
        "id": "Ue27fX3oijtg"
      }
    },
    {
      "cell_type": "code",
      "source": [
        "#this is an array of the soccer positions,\n",
        "#except they are given an int (number) label instead of a string (of letters)\n",
        "pos_idx = sccr_data.position.cat.codes.values\n",
        "\n",
        "#an array of the four strings that represent position\n",
        "pos_codes = sccr_data.position.cat.categories\n",
        "\n",
        "#puts coords in a dict, so pymc can read them\n",
        "sccr_coords = {\"pos\": pos_codes}"
      ],
      "metadata": {
        "id": "t8xyjUCqudP2"
      },
      "execution_count": null,
      "outputs": []
    },
    {
      "cell_type": "markdown",
      "source": [
        "**Task9**:\n",
        "\n",
        "Explain what the code block above is doing, and why we need to do it before running our pymc model. Make sure to reference the chemical shift amnio acid example."
      ],
      "metadata": {
        "id": "_B-eRGnQdMVu"
      }
    },
    {
      "cell_type": "markdown",
      "source": [
        "**Answer9**:\n",
        "\n",
        "[*write your answer here*]"
      ],
      "metadata": {
        "id": "6szNy5LNhwMu"
      }
    },
    {
      "cell_type": "markdown",
      "source": [
        "Run the model below; this model takes about 6-8 minutes to run, and would likely have many divergences if I hadn't changed the target_accept parameter. I changed target_accept from the default of 0.8 to 0.95, based off our textbooks recommendation. Generally, if you can get your model to 0 divergences just based off changing target_accept, then its good enough.\n",
        "\n",
        "That said, you should probably have some idea why pymc is throwing a fit before you try to press on without changing your model structure. In this case, the main problem is that goal keepers rarely shoot goals, so their shooting percentage is hard to predict."
      ],
      "metadata": {
        "id": "qzBuPo_Ybbgz"
      }
    },
    {
      "cell_type": "code",
      "source": [
        "with pm.Model(coords = sccr_coords) as sccr_model:\n",
        "    # Hyper parameters\n",
        "    #\n",
        "    μ = pm.Beta('μ', alpha = 2, beta = 20)\n",
        "    ν = pm.Gamma('ν', mu = 55, sigma = 45)\n",
        "\n",
        "\n",
        "    # Parameters for positions\n",
        "    μ_p = pm.Beta('μ_p', mu = μ, nu = ν, dims = \"pos\")\n",
        "\n",
        "    ν_p = pm.Gamma('ν_p', mu = 55, sigma = 45, dims=\"pos\")\n",
        "\n",
        "    # Parameter for players\n",
        "    θ = pm.Beta('θ', mu = μ_p[pos_idx], nu = ν_p[pos_idx])\n",
        "\n",
        "    #This tells our model how many shots and goals each player has\n",
        "    _ = pm.Binomial('gs',\n",
        "                    n = sccr_data.shots.values, #shots for each player\n",
        "                    p = θ, #guess of goals per shot\n",
        "                    observed = sccr_data.goals.values) #goals per player\n",
        "\n",
        "    #target_accept has a default of 0.8. Increasing it makes us less likely to\n",
        "    #have divergences\n",
        "    idata_sccr = pm.sample(target_accept = 0.95)"
      ],
      "metadata": {
        "id": "JZFUW73XdTMY"
      },
      "execution_count": null,
      "outputs": []
    },
    {
      "cell_type": "markdown",
      "source": [
        "Below is a visualization of the markov chains that did our inference for us and generated our posterior. A healthy chain is tightly packed, with a steady amplitude.\n",
        "\n",
        "Notice that μ_p and  ν_p each had an unheathly chain, but that its other chains weren't so bad.\n",
        "These are the chains for goals and shots for the Goal Keeper (GK) postion; as we'll see below, the model had a hard time predicting GK. That hard time ended up making the chains for μ and ν a little wobbly, and made our prediction for θ more uncertain as well."
      ],
      "metadata": {
        "id": "5LjfTv0ukjsl"
      }
    },
    {
      "cell_type": "code",
      "source": [
        "#this gives a visualization of what pymc was doing in those 6 to 8 minutes\n",
        "#...which also takes 6 to 8 minutes to run\n",
        "az.plot_trace(idata_sccr)"
      ],
      "metadata": {
        "id": "TLOAmvITWbbh"
      },
      "execution_count": null,
      "outputs": []
    },
    {
      "cell_type": "markdown",
      "source": [
        "The following code will give you something called $\\hat{R}$ values (pronounced \"r hat\"); these are how I know the faulty chains are from the GK position.\n",
        "\n",
        "All you need to know about $\\hat{R}$ values is that values between 1 and 1.001 are good, and values above 1.1 are bad.\n"
      ],
      "metadata": {
        "id": "YqUowsYHxuEL"
      }
    },
    {
      "cell_type": "markdown",
      "source": [
        "**Task10**:\n",
        "\n",
        "Using the values from running rhat function on idata_sccr, explain how I was able to know that the GK group is the problem."
      ],
      "metadata": {
        "id": "NQiKZi5Lx_8o"
      }
    },
    {
      "cell_type": "markdown",
      "source": [
        "**Answer10**:\n",
        "\n",
        "[*write your answer here*]"
      ],
      "metadata": {
        "id": "uH0y44_nyZQi"
      }
    },
    {
      "cell_type": "code",
      "source": [
        "#Using arviZ to find the rhat values\n",
        "az.rhat(idata_sccr)"
      ],
      "metadata": {
        "id": "naVwjeFbZOb1"
      },
      "execution_count": null,
      "outputs": []
    },
    {
      "cell_type": "markdown",
      "source": [
        "The following will plot the means for each position; you can see that the model has no idea what the shooting percentage (goals/shots) should be for GKs.\n",
        "\n",
        "Its pretty confident about the other positions though, and its predictions seem to match reality. Forwards (FW) role on a scoccer team is to shoot goals, so it makes sense that they have a higher shooting precentage."
      ],
      "metadata": {
        "id": "wtxCgv2KpRyr"
      }
    },
    {
      "cell_type": "code",
      "source": [
        "# plots a 99.8% HDI for the positions shooting percentage means\n",
        "az.plot_forest(idata_sccr, var_names=['μ_p'], combined=True, figsize=(12, 3), kind = 'ridgeplot', hdi_prob=0.998)"
      ],
      "metadata": {
        "id": "7YjcnTwXpQ4n"
      },
      "execution_count": null,
      "outputs": []
    },
    {
      "cell_type": "markdown",
      "source": [
        "As a final treat, here's a visualization of how Lionel Messi's shooting percentage compares to other FWs, and to other professional soccer players."
      ],
      "metadata": {
        "id": "myQwPR_5umJX"
      }
    },
    {
      "cell_type": "code",
      "source": [
        "#preps a plot object to have three seperate plots, all with the same x axis\n",
        "_, ax = plt.subplots(3, 1, figsize=(12, 11), sharex=True)\n",
        "\n",
        "#plot the overall mean shooting percentage\n",
        "az.plot_posterior(idata_sccr, var_names='μ', ax=ax[0])\n",
        "ax[0].set_title(r\"Global mean\")\n",
        "\n",
        "#plot the fowrads shooting percentage\n",
        "az.plot_posterior(idata_sccr.posterior.sel(pos=\"FW\"), var_names='μ_p', ax=ax[1])\n",
        "ax[1].set_title(r\"Forward position mean\")\n",
        "\n",
        "#plot Linonel Messi's shooting pecentage\n",
        "az.plot_posterior(idata_sccr.posterior.sel(θ_dim_0=1457), var_names='θ', ax=ax[2])\n",
        "ax[2].set_title(r\"Messi mean\")"
      ],
      "metadata": {
        "id": "trxrQ2HZphx_"
      },
      "execution_count": null,
      "outputs": []
    },
    {
      "cell_type": "markdown",
      "source": [
        "## Summary\n",
        "\n",
        "This unit covered hierarchical models, and not only showed us that priors can have priors, but that these hyper priors can be useful too.\n",
        "\n",
        "Hyperpriors were used to allow sub groups within a data set to inform one another; we saw this with amino acids' chemical shift values pulling each other towards a common mean. This made us more likely to conclude that a given amino acid was well predicted by theoretical methods.\n",
        "\n",
        "We then finished by creating a model for professional soccer player shooting percentage. This model introduced us to some new model checking tools, and helped us learn that breaking our data into subgroups can make pymc's job harder, even if these group labels reflect reality.\n",
        "\n",
        "All the models in this unit were more complicated than we've seen before, and they demanded that we study the structure of our raw data.To do this, we used soem new graphical tools.\n",
        "\n",
        "In this unit's project, you'll work on example similar to the soccer data set, so that you can get more familiar with breaking a data set into groups, and then assigning priors to those groups. With that, you'll have the foundation for how to encode most context and assumptions into a model.\n",
        "\n"
      ],
      "metadata": {
        "id": "y39vpPwD1FDb"
      }
    }
  ]
}