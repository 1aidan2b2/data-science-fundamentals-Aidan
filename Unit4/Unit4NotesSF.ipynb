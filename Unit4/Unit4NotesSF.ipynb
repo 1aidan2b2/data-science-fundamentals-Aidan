{
  "nbformat": 4,
  "nbformat_minor": 0,
  "metadata": {
    "colab": {
      "provenance": [],
      "include_colab_link": true
    },
    "kernelspec": {
      "name": "python3",
      "display_name": "Python 3"
    },
    "language_info": {
      "name": "python"
    }
  },
  "cells": [
    {
      "cell_type": "markdown",
      "metadata": {
        "id": "view-in-github",
        "colab_type": "text"
      },
      "source": [
        "<a href=\"https://colab.research.google.com/github/thedarredondo/data-science-fundamentals/blob/main/Unit4/Unit4NotesSF.ipynb\" target=\"_parent\"><img src=\"https://colab.research.google.com/assets/colab-badge.svg\" alt=\"Open In Colab\"/></a>"
      ]
    },
    {
      "cell_type": "code",
      "execution_count": null,
      "metadata": {
        "id": "vlzmknZaOPPa"
      },
      "outputs": [],
      "source": [
        "import numpy as np\n",
        "from matplotlib import pyplot as plt\n",
        "import seaborn as sns\n",
        "import pandas as pd\n",
        "import arviz as az\n",
        "import graphviz as gv\n",
        "import pymc as pm"
      ]
    },
    {
      "cell_type": "markdown",
      "source": [
        "#Unit 4: Hierachical Models\n",
        "\n",
        "In this unit we will cover how to model data containing sepreate, but related, groups. We'll start with a continuous data example; here's how we'll break it down. We will:\n",
        "\n",
        "1. Make a model and assume that the groups are unrelated, or *independent*\n",
        "2. Alter that model by changing our assumption so that the groups are related, or have some amount of *dependence*\n",
        "3. Compare and contrast those models using a plot.\n",
        "4. Cover the same concept with a discrete data set, introducing some complexities and problems with creating groups\n",
        "\n",
        "Let's get started."
      ],
      "metadata": {
        "id": "fVpBW-RjOVpn"
      }
    },
    {
      "cell_type": "markdown",
      "source": [
        "### Loading and Visualizing our Data\n",
        "\n",
        "The below chemical shift data set is different from that used previous unit; it contains theoreitcal and experimental chemical shift values for 19 different amino acids. Let's view the raw data to see what I mean."
      ],
      "metadata": {
        "id": "4KrwS83mLidw"
      }
    },
    {
      "cell_type": "code",
      "source": [
        "#load the data from my github page.\n",
        "#cs stands for chemical shift data\n",
        "url_cs = 'https://raw.githubusercontent.com/thedarredondo/data-science-fundamentals/main/Data/chemical_shifts_theo_exp.csv'\n",
        "#I could have put the url string directly into pd.read_csv()\n",
        "cs_data = pd.read_csv(url_cs)"
      ],
      "metadata": {
        "id": "MqPIUdScLZYn"
      },
      "execution_count": null,
      "outputs": []
    },
    {
      "cell_type": "code",
      "source": [
        "#print a the begining and end of the raw data set, as a pandas dataframe\n",
        "cs_data"
      ],
      "metadata": {
        "id": "T2aWdpr0MnNz"
      },
      "execution_count": null,
      "outputs": []
    },
    {
      "cell_type": "markdown",
      "source": [
        "We are interested in only three columns (variables) for now:\n",
        "- aa, which stands for amino acid\n",
        "- theo, which is the theoretical chemical shift value, calculated using \"quantum methods\", to quote our textbook.\n",
        "- exp, which is the observed chemical shift value from Nuclear Magnetic Reasonance (NMR)"
      ],
      "metadata": {
        "id": "kGfat9aeVd7F"
      }
    },
    {
      "cell_type": "markdown",
      "source": [
        "The following two plots help visualize the theoriteical values for each protein, and the experimental values for each protein."
      ],
      "metadata": {
        "id": "biWRtYsjUc2V"
      }
    },
    {
      "source": [
        "#visualize theoretical chem shift values for all the amino acids\n",
        "sns.violinplot(cs_data, x='theo', y='aa', inner='quart',hue='aa')\n",
        "sns.despine(top=True, right=True, bottom=True, left=True) #removes border box in plot"
      ],
      "cell_type": "code",
      "metadata": {
        "id": "Mm6pEULUOYx7"
      },
      "execution_count": null,
      "outputs": []
    },
    {
      "source": [
        "#visualize experimental chem shift values for all the amino acids\n",
        "sns.violinplot(cs_data, x='exp', y='aa', inner='quart', hue='aa')\n",
        "sns.despine(top=True, right=True, bottom=True, left=True)"
      ],
      "cell_type": "code",
      "metadata": {
        "id": "QQxkpMHROpRp"
      },
      "execution_count": null,
      "outputs": []
    },
    {
      "cell_type": "markdown",
      "source": [
        "**Task1**:\n",
        "\n",
        "Without building a model, answer the following:\n",
        "\n",
        "For each amino acid, are the theoretical chemical shift values different from\n",
        "the experimental values?"
      ],
      "metadata": {
        "id": "yf_xIJt8gmHO"
      }
    },
    {
      "cell_type": "markdown",
      "source": [
        "### A Light Foray into Causality\n",
        "\n",
        "The visualization method I will show you in this section will be either our first or second step going forward (plotting the raw data, as we did, or making a causal diagram, as we will do, are both valid first steps)."
      ],
      "metadata": {
        "id": "jp4DPnv8igeT"
      }
    },
    {
      "cell_type": "markdown",
      "source": [
        "I will use graphviz to make a directed acyclic graph (DAG) that maps out how we will combine the theoretical and experimental chemical shift values.\n",
        "\n",
        "Note that I will call most DAGs \"causal graphs\" or \"causal diagrams\", since we will exclusively use them to make statements about what causes what."
      ],
      "metadata": {
        "id": "ORBjjzjEkZqe"
      }
    },
    {
      "cell_type": "code",
      "source": [
        "dag_cs = gv.Digraph(comment='cs_dag') #cs for chemical shift\n",
        "\n",
        "dag_cs.node('E', 'Experimental chem shift')\n",
        "dag_cs.node('T','Theoretical chem shift')\n",
        "dag_cs.node('D','Difference between experimental and theoretical')\n",
        "#dag_cs.node('A','Amino Acid Type')\n",
        "\n",
        "dag_cs.edges(['ED','TD', ])"
      ],
      "metadata": {
        "id": "bDLZIsq3jh7U"
      },
      "execution_count": null,
      "outputs": []
    },
    {
      "cell_type": "code",
      "source": [
        "dag_cs"
      ],
      "metadata": {
        "colab": {
          "base_uri": "https://localhost:8080/",
          "height": 176
        },
        "id": "JlRmH03zkHhE",
        "outputId": "3a6a656b-eedc-4751-d57c-b143181646d9"
      },
      "execution_count": null,
      "outputs": [
        {
          "output_type": "execute_result",
          "data": {
            "image/svg+xml": "<?xml version=\"1.0\" encoding=\"UTF-8\" standalone=\"no\"?>\n<!DOCTYPE svg PUBLIC \"-//W3C//DTD SVG 1.1//EN\"\n \"http://www.w3.org/Graphics/SVG/1.1/DTD/svg11.dtd\">\n<!-- Generated by graphviz version 2.43.0 (0)\n -->\n<!-- Title: %3 Pages: 1 -->\n<svg width=\"406pt\" height=\"116pt\"\n viewBox=\"0.00 0.00 405.78 116.00\" xmlns=\"http://www.w3.org/2000/svg\" xmlns:xlink=\"http://www.w3.org/1999/xlink\">\n<g id=\"graph0\" class=\"graph\" transform=\"scale(1 1) rotate(0) translate(4 112)\">\n<title>%3</title>\n<polygon fill=\"white\" stroke=\"transparent\" points=\"-4,4 -4,-112 401.78,-112 401.78,4 -4,4\"/>\n<!-- E -->\n<g id=\"node1\" class=\"node\">\n<title>E</title>\n<ellipse fill=\"none\" stroke=\"black\" cx=\"98.79\" cy=\"-90\" rx=\"98.58\" ry=\"18\"/>\n<text text-anchor=\"middle\" x=\"98.79\" y=\"-86.3\" font-family=\"Times,serif\" font-size=\"14.00\">Experimental chem shift</text>\n</g>\n<!-- D -->\n<g id=\"node3\" class=\"node\">\n<title>D</title>\n<ellipse fill=\"none\" stroke=\"black\" cx=\"202.79\" cy=\"-18\" rx=\"183.07\" ry=\"18\"/>\n<text text-anchor=\"middle\" x=\"202.79\" y=\"-14.3\" font-family=\"Times,serif\" font-size=\"14.00\">Difference between experimental and theoretical</text>\n</g>\n<!-- E&#45;&gt;D -->\n<g id=\"edge1\" class=\"edge\">\n<title>E&#45;&gt;D</title>\n<path fill=\"none\" stroke=\"black\" d=\"M123.44,-72.41C137.1,-63.22 154.27,-51.66 169.15,-41.64\"/>\n<polygon fill=\"black\" stroke=\"black\" points=\"171.26,-44.44 177.6,-35.96 167.35,-38.64 171.26,-44.44\"/>\n</g>\n<!-- T -->\n<g id=\"node2\" class=\"node\">\n<title>T</title>\n<ellipse fill=\"none\" stroke=\"black\" cx=\"306.79\" cy=\"-90\" rx=\"90.98\" ry=\"18\"/>\n<text text-anchor=\"middle\" x=\"306.79\" y=\"-86.3\" font-family=\"Times,serif\" font-size=\"14.00\">Theoretical chem shift</text>\n</g>\n<!-- T&#45;&gt;D -->\n<g id=\"edge2\" class=\"edge\">\n<title>T&#45;&gt;D</title>\n<path fill=\"none\" stroke=\"black\" d=\"M282.41,-72.59C268.76,-63.4 251.53,-51.8 236.59,-41.75\"/>\n<polygon fill=\"black\" stroke=\"black\" points=\"238.36,-38.72 228.11,-36.04 234.45,-44.53 238.36,-38.72\"/>\n</g>\n</g>\n</svg>\n",
            "text/plain": [
              "<graphviz.graphs.Digraph at 0x7a53f519ed90>"
            ]
          },
          "metadata": {},
          "execution_count": 10
        }
      ]
    },
    {
      "cell_type": "markdown",
      "source": [
        "Now for some vocabulary:\n",
        "\n",
        "- Nodes (the ovals) represent variables, or columns in a data frame.\n",
        "- Edges (the arrows) represent morphisms, or functions from one node to another\n",
        "- The direction of the arrow tells the viewer that one node has some causal effect on the other node.\n",
        "\n",
        "The graph above reads: \"Experimental chem shift and Theoretical chem shift independently cause the Difference between them.\"\n",
        "\n",
        "- Independent means that two node have no directed path between them. In other words we cannot get from one node to the other without having to \"go backwards\" on an arrow. That's an oversimplification; we'll get more nuanced in a later unit."
      ],
      "metadata": {
        "id": "0ZYgCN5pqWs6"
      }
    },
    {
      "cell_type": "markdown",
      "source": [
        "Most of the time, our causal graphs will be a big pile of assumptions. We'll then use models to provide evidence for and agaisnt those assumptions.\n",
        "\n",
        "This first causal diagram is an exception though: \"Experimental chem shift and Theoretical chem shift independently cause the Difference between them,\" because we are literally subtracting the numbers in column ```theo``` by the numbers in coumn ```exp```--, as in ```cs_data.theo - cs_data.exp```."
      ],
      "metadata": {
        "id": "d1Vwmt-ar_CM"
      }
    },
    {
      "cell_type": "markdown",
      "source": [
        "Why all the fuss about causal diagrams then, if all we are doing is subtracting?\n",
        "\n",
        "I promised that would need the ```aa``` column, or the amino acid type variable. Putting that into our diagram will help us understand our pymc models later."
      ],
      "metadata": {
        "id": "liGStUDluRZD"
      }
    },
    {
      "cell_type": "markdown",
      "source": [
        "### Transforming Data to Match Causal Assumptions"
      ],
      "metadata": {
        "id": "GznkbymsjSzG"
      }
    },
    {
      "cell_type": "markdown",
      "source": [
        "Here's code to find the raw difference between the theoretical and expermental chemical shift values within each amino acid, and to store that difference in our data."
      ],
      "metadata": {
        "id": "amNDsCO1hgVE"
      }
    },
    {
      "cell_type": "code",
      "source": [
        "#element wise subtraction\n",
        "diff_TminusE = cs_data.theo - cs_data.exp\n",
        "#adds a column called 'diff_TminusE' as the fifth column of cs_data\n",
        "cs_data.insert(loc=4,column='diff_TminusE',value=diff_TminusE)"
      ],
      "metadata": {
        "id": "0U46-VJKhpik"
      },
      "execution_count": null,
      "outputs": []
    },
    {
      "cell_type": "code",
      "source": [
        "#print the dataframe with the new column\n",
        "cs_data"
      ],
      "metadata": {
        "id": "sXbr7HaXjvyA"
      },
      "execution_count": null,
      "outputs": []
    },
    {
      "cell_type": "code",
      "source": [
        "#visualize difference in chem shift values for all the amino acids\n",
        "sns.violinplot(cs_data, x='diff_TminusE', y='aa', inner='quart',hue='aa')\n",
        "sns.despine(top=True, right=True, bottom=True, left=True) #removes border box in plot"
      ],
      "metadata": {
        "id": "FRL4bjVCkCs8"
      },
      "execution_count": null,
      "outputs": []
    },
    {
      "cell_type": "markdown",
      "source": [
        "**Task2**:\n",
        "\n",
        "Using the graph of raw differences, answer the following:\n",
        "\n",
        "- For each amino acid, are the theoretical chemical shift values different from\n",
        "the experimental values?\n",
        "\n",
        "- If you had to use one likelihood to model the chemical shift for each amino acid, which one would you use?"
      ],
      "metadata": {
        "id": "fnyVE2zplfqe"
      }
    },
    {
      "cell_type": "markdown",
      "source": [
        "Visualizing the raw data and making a guess from it is neccessary, but not sufficient. Was does that mean? We have, at this point, got to the start line.\n",
        "\n",
        "We understand the information we have as well as we can, and we've used our knowldge to make a preliminary guess: we think the difference between the theoretical chemical shift values and the experimental chemical shift values is around zero. In other words, **we think the \"quantum methods\" more or less predict the actual chemical shift values in the 19 amino acids we looked at.**\n",
        "\n",
        "Its the \"more or less\" part in the last statement that our model will boslter. In the simple models from these first 5 units, its often possible to visualize the raw data like we did and come to a reasonable conclusion. Our models, right now, confirm or deny our intuition, and also give us a mathematical way of saying how confident we should be in our conclusion.\n",
        "\n",
        "In later units, with more complicated data and goals, our models will end up being the best summarization method. But we should always try to make visualizations without our models first, as we did here.\n"
      ],
      "metadata": {
        "id": "fvlb10oQ6sN_"
      }
    },
    {
      "cell_type": "markdown",
      "source": [
        "In order to make a model for the differences between the chemical shift values for each amino acid--and thus confirm our hypothesis--, we need a to give our model a way to know which difference corresponds to which amino acid. The next few code blocks do this."
      ],
      "metadata": {
        "id": "fZ3E1t5B7MAv"
      }
    },
    {
      "cell_type": "code",
      "source": [
        "#identifies all the different amino acids in our data set\n",
        "#and stores that information, plus original info, in the variable aa_encode\n",
        "aa_encode = pd.Categorical(cs_data['aa'])\n",
        "aa_encode"
      ],
      "metadata": {
        "id": "ktdEEtQS8Z2o"
      },
      "execution_count": null,
      "outputs": []
    },
    {
      "cell_type": "code",
      "source": [
        "#Replaces all the amino acid names with a number in the variable aa_idx\n",
        "aa_idx = aa_encode.codes\n",
        "aa_idx"
      ],
      "metadata": {
        "id": "yitVd_m68iJ0"
      },
      "execution_count": null,
      "outputs": []
    },
    {
      "cell_type": "code",
      "source": [
        "#stores the category names in a dictionary\n",
        "#this dictionary format is required\n",
        "#for pymc to properly read the categories\n",
        "aa_coords = {\"aa\": aa_encode.categories}\n",
        "aa_coords"
      ],
      "metadata": {
        "id": "Opke00Yy8h1q"
      },
      "execution_count": null,
      "outputs": []
    },
    {
      "cell_type": "markdown",
      "source": [
        "**Task:**\n",
        "\n",
        "Describe what  ```aa_coords``` and ```aaidx``` are, and why they might be useful."
      ],
      "metadata": {
        "id": "wqOr_bGay1Ai"
      }
    },
    {
      "cell_type": "markdown",
      "source": [
        "Now that we've set up our data, let's talk priors and likelihood.\n",
        "\n",
        " We'll make the assumption that all our priors, and our likelihood, are normal/halfnormal. This is for two reasons:\n",
        "- To keep things simple while we explore hierarchical models; we'll think harded about our likelihood and prior(s) later.\n",
        "- If all we know about our data is that there is an expected value and variation around that value, then its distribution will be normal. This often a good assumption to start our model building process with."
      ],
      "metadata": {
        "id": "8jH19lIiyxts"
      }
    },
    {
      "cell_type": "markdown",
      "source": [
        "##Continuous Data, Independent Groups\n",
        "\n",
        "Our data is grouped into 19 different amino acids. To start, I'll assume that knowing somwthing about one amino acid provides 0 information about any of the other amino acids. We call this \"assuming independence\", and like all assumptions, we should interrogate it. Our method of interrogation will be to make an additional model that assumes the amino acids are dependent."
      ],
      "metadata": {
        "id": "_EMzwzhegikJ"
      }
    },
    {
      "cell_type": "markdown",
      "source": [
        "**Task3**:\n",
        "\n",
        "Do you think amino acids are independent from one another, with respect to chemical shift and quantum methods?"
      ],
      "metadata": {
        "id": "6qZwf08T-sVP"
      }
    },
    {
      "cell_type": "markdown",
      "source": [
        "Let's see the code for the model where we assume each amino acid is independent from one another.\n",
        "\n",
        "Note that I'm using the differences between the experimental and theoretical chem shift values as my data"
      ],
      "metadata": {
        "id": "NNVyeACGhKKW"
      }
    },
    {
      "cell_type": "code",
      "source": [
        "with pm.Model(coords=aa_coords) as cs_nh_model:\n",
        "    #priors\n",
        "    #dims=\"aa\" means to apply the prior seperately to each amino acid\n",
        "    μ = pm.Normal('μ', mu=0, sigma=10,\n",
        "                  dims=\"aa\")\n",
        "    σ = pm.HalfNormal('σ', sigma=10,\n",
        "                      dims=\"aa\")\n",
        "\n",
        "    #The idx variable tells my model which diffs belong to the same amino acid\n",
        "    #this will cause my model to generate a posterior for each amino acid\n",
        "    y = pm.Normal('y',\n",
        "                  mu = μ[aa_idx],\n",
        "                  sigma = σ[aa_idx],\n",
        "                  observed=cs_data.diff_TminusE)\n",
        "\n",
        "    #cs for chemshift, nh for nonheirarchical\n",
        "    idata_cs_nh = pm.sample()"
      ],
      "metadata": {
        "id": "J_bBxQCh9P-d"
      },
      "execution_count": null,
      "outputs": []
    },
    {
      "cell_type": "code",
      "source": [
        "#plots the middle 99.7% of each amino acids' posterior distribution of the mean\n",
        "#why 99.7%? No reason, just seems like a good number to me.\n",
        "#Feel free to pick your own hdi %; the default is 94%.\n",
        "axes = az.plot_forest(idata_cs_nh, kind=\"ridgeplot\",\n",
        "                      var_names='μ',\n",
        "                      combined=True, figsize=(12, 9), hdi_prob=0.997)"
      ],
      "metadata": {
        "id": "cPrzTVxOByQX"
      },
      "execution_count": null,
      "outputs": []
    },
    {
      "cell_type": "markdown",
      "source": [
        "**Task:**\n",
        "\n",
        "What's the probability of a chem shift difference landing in any of the blue regions, acoording to our model?\n",
        "\n",
        "Why that percentage chance? Where did it come from?"
      ],
      "metadata": {
        "id": "sxHIm5SA4Vgg"
      }
    },
    {
      "cell_type": "markdown",
      "source": [
        "**Task4**:\n",
        "\n",
        "Using cs_nh_model and the visualization of its posteriors above, answer the following:\n",
        "\n",
        "Is there a difference between the theoretical and experimental chemical shift values in the amino acids from cs_data?"
      ],
      "metadata": {
        "id": "-6orslCpE6PE"
      }
    },
    {
      "cell_type": "markdown",
      "source": [
        "## Continuous Data, some Dependence among Groups\n",
        "\n",
        "The model we made and any conclusions we can reach from it are only as good as our assumptions, and we assumed that using one amino acid to predict another was foolish.\n",
        "\n",
        "We will now relax that assumption, and build a model that automatically uses information about the mean chemical shift of one amino acid to predict the mean of another.\n",
        "\n",
        "By what black magic is this possible? Before answering that question, and I'll ask you a different question."
      ],
      "metadata": {
        "id": "ZU5URUl3Kqq7"
      }
    },
    {
      "cell_type": "markdown",
      "source": [
        "**Task5**:\n",
        "\n",
        "Can a prior have a prior? If so, what would that do, and why would we ever want that?"
      ],
      "metadata": {
        "id": "5Lw1Wb-vOBAu"
      }
    },
    {
      "cell_type": "markdown",
      "source": [
        "Here' how to use hyperpriors to let our knowledge of one amino acid's mean chemical shift affect anothers."
      ],
      "metadata": {
        "id": "ceQYUFuCXvO9"
      }
    },
    {
      "cell_type": "code",
      "source": [
        "with pm.Model(coords=aa_coords) as cs_h_model:\n",
        "    # hyperpriors. Notice how there's no dims argument.\n",
        "    #this means that the hyperprior is shared across all amino acids\n",
        "    μ_mu = pm.Normal('μ_mu', mu = 0, sigma = 10)\n",
        "    μ_sd = pm.HalfNormal('μ_sd', sigma = 10)\n",
        "\n",
        "    # priors. There is a different prior for each amino acid,\n",
        "    #but now the μ priors 'talk' to one another through μ_mu and μ_sd\n",
        "    μ = pm.Normal('μ',\n",
        "                  mu = μ_mu, # I include the hyperprior in my prior\n",
        "                  sigma = μ_sd, # I include the hyperprior in my prior\n",
        "                  dims = \"aa\")\n",
        "\n",
        "    σ = pm.HalfNormal('σ', sigma = 10,\n",
        "                      dims = \"aa\")\n",
        "\n",
        "    #likelihood; same as before\n",
        "    y = pm.Normal('y',\n",
        "                  mu = μ[aa_idx], #I include the prior in my likelihood\n",
        "                  sigma = σ[aa_idx], #I include the prior in my likelihood\n",
        "                  observed = cs_data.diff_TminusE)\n",
        "\n",
        "    #cs for chemshift, h for heirarchical\n",
        "    idata_cs_h = pm.sample()"
      ],
      "metadata": {
        "id": "WVggAnnVL8qk"
      },
      "execution_count": null,
      "outputs": []
    },
    {
      "cell_type": "markdown",
      "source": [
        "**Task6**:\n",
        "\n",
        "Considering only the code for cs_h_model and cs_nh_model, write down similarities and differences."
      ],
      "metadata": {
        "id": "fzoiRBoNZYmr"
      }
    },
    {
      "cell_type": "markdown",
      "source": [
        "Let's see what the hierarchical (dependent) model cs_h_model's posterior looks like, and compare it to the non-hierarchical (independent) model, cs_nh_model."
      ],
      "metadata": {
        "id": "BrF0DbTfMR1S"
      }
    },
    {
      "cell_type": "code",
      "source": [
        "#plots a 99.7% hdi for the posteriors of both models on the same plot\n",
        "axes = az.plot_forest([idata_cs_nh, idata_cs_h], kind=\"forestplot\",\n",
        "                      model_names=['non_hierarchical', 'hierarchical'],\n",
        "                      var_names='μ', combined=True, figsize=(12, 10),hdi_prob=0.997)\n",
        "\n",
        "#plots overall mean of the hierarchical model; do not confuse with 0\n",
        "y_lims = axes[0].get_ylim()\n",
        "axes[0].vlines(idata_cs_h.posterior['μ_mu'].mean(), *y_lims, color=\"k\", ls=\":\");"
      ],
      "metadata": {
        "id": "X6O3xbRCeZcR"
      },
      "execution_count": null,
      "outputs": []
    },
    {
      "cell_type": "markdown",
      "source": [
        "**Task7**:\n",
        "\n",
        "Focus on the white dots, which are the means of the posteriors. How did allowing our model to use one amino acid's chemical shift mean to predict another's change our our predictions?\n",
        "\n",
        "In other words, how do the hierarchical (dependent) cs_h_model, and non-hierarchical (independent) cs_nh_model, differ?"
      ],
      "metadata": {
        "id": "CiXyaJuLCmnl"
      }
    },
    {
      "cell_type": "markdown",
      "source": [
        "#### Visualizing Model Structure\n",
        "\n",
        "PyMC has its own built in model structure visualization tool. It's closely related to the causal diagrams I showed you earlier. In fact, if we wanted to, we could merge the two.\n",
        "\n",
        "But before we do that, let's see the pymc visualizations."
      ],
      "metadata": {
        "id": "wo8OrI4bXb72"
      }
    },
    {
      "cell_type": "markdown",
      "source": [
        "Below are two visualizations, one of the non-hierarchical model, and one of the hierarchical model. Make sure to use:\n",
        "```\n",
        "pm.model_to_graphviz()\n",
        "```\n",
        "whenever you have a model more complicated than cs_nh_model"
      ],
      "metadata": {
        "id": "_eJSOYPQhLyu"
      }
    },
    {
      "cell_type": "code",
      "source": [
        "pm.model_to_graphviz(cs_nh_model)"
      ],
      "metadata": {
        "id": "R5G_D2_igLXB"
      },
      "execution_count": null,
      "outputs": []
    },
    {
      "cell_type": "code",
      "source": [
        "#the hyper priors only affect μ, and they are not split up by aa, by amino acid.\n",
        "pm.model_to_graphviz(cs_h_model)"
      ],
      "metadata": {
        "id": "2OEA2VGcgSUw"
      },
      "execution_count": null,
      "outputs": []
    },
    {
      "cell_type": "markdown",
      "source": [
        "Notice that there's no hyperpriors for $σ$; this means we assume that the variance of one amino acid is independent from variance of another."
      ],
      "metadata": {
        "id": "tYNPxsrqX-ay"
      }
    },
    {
      "cell_type": "markdown",
      "source": [
        "The above visualizations focus on mapping out how the hyperpriors, prior, and likelihood connect.\n",
        "\n",
        "We will now \"turn\" those graphs into causal diagrams"
      ],
      "metadata": {
        "id": "lByeoyKoFFlE"
      }
    },
    {
      "cell_type": "markdown",
      "source": [
        "First let's look at the independent, non-hierarchical causal diagram"
      ],
      "metadata": {
        "id": "tSqgd5itJdk3"
      }
    },
    {
      "cell_type": "code",
      "source": [
        "dag_cs"
      ],
      "metadata": {
        "colab": {
          "base_uri": "https://localhost:8080/",
          "height": 176
        },
        "id": "GiCDKyGjJt78",
        "outputId": "cc788f5d-f274-4f71-b950-984423b3596c"
      },
      "execution_count": null,
      "outputs": [
        {
          "output_type": "execute_result",
          "data": {
            "image/svg+xml": "<?xml version=\"1.0\" encoding=\"UTF-8\" standalone=\"no\"?>\n<!DOCTYPE svg PUBLIC \"-//W3C//DTD SVG 1.1//EN\"\n \"http://www.w3.org/Graphics/SVG/1.1/DTD/svg11.dtd\">\n<!-- Generated by graphviz version 2.43.0 (0)\n -->\n<!-- Title: %3 Pages: 1 -->\n<svg width=\"406pt\" height=\"116pt\"\n viewBox=\"0.00 0.00 405.78 116.00\" xmlns=\"http://www.w3.org/2000/svg\" xmlns:xlink=\"http://www.w3.org/1999/xlink\">\n<g id=\"graph0\" class=\"graph\" transform=\"scale(1 1) rotate(0) translate(4 112)\">\n<title>%3</title>\n<polygon fill=\"white\" stroke=\"transparent\" points=\"-4,4 -4,-112 401.78,-112 401.78,4 -4,4\"/>\n<!-- E -->\n<g id=\"node1\" class=\"node\">\n<title>E</title>\n<ellipse fill=\"none\" stroke=\"black\" cx=\"98.79\" cy=\"-90\" rx=\"98.58\" ry=\"18\"/>\n<text text-anchor=\"middle\" x=\"98.79\" y=\"-86.3\" font-family=\"Times,serif\" font-size=\"14.00\">Experimental chem shift</text>\n</g>\n<!-- D -->\n<g id=\"node3\" class=\"node\">\n<title>D</title>\n<ellipse fill=\"none\" stroke=\"black\" cx=\"202.79\" cy=\"-18\" rx=\"183.07\" ry=\"18\"/>\n<text text-anchor=\"middle\" x=\"202.79\" y=\"-14.3\" font-family=\"Times,serif\" font-size=\"14.00\">Difference between experimental and theoretical</text>\n</g>\n<!-- E&#45;&gt;D -->\n<g id=\"edge1\" class=\"edge\">\n<title>E&#45;&gt;D</title>\n<path fill=\"none\" stroke=\"black\" d=\"M123.44,-72.41C137.1,-63.22 154.27,-51.66 169.15,-41.64\"/>\n<polygon fill=\"black\" stroke=\"black\" points=\"171.26,-44.44 177.6,-35.96 167.35,-38.64 171.26,-44.44\"/>\n</g>\n<!-- T -->\n<g id=\"node2\" class=\"node\">\n<title>T</title>\n<ellipse fill=\"none\" stroke=\"black\" cx=\"306.79\" cy=\"-90\" rx=\"90.98\" ry=\"18\"/>\n<text text-anchor=\"middle\" x=\"306.79\" y=\"-86.3\" font-family=\"Times,serif\" font-size=\"14.00\">Theoretical chem shift</text>\n</g>\n<!-- T&#45;&gt;D -->\n<g id=\"edge2\" class=\"edge\">\n<title>T&#45;&gt;D</title>\n<path fill=\"none\" stroke=\"black\" d=\"M282.41,-72.59C268.76,-63.4 251.53,-51.8 236.59,-41.75\"/>\n<polygon fill=\"black\" stroke=\"black\" points=\"238.36,-38.72 228.11,-36.04 234.45,-44.53 238.36,-38.72\"/>\n</g>\n</g>\n</svg>\n",
            "text/plain": [
              "<graphviz.graphs.Digraph at 0x7c271a206050>"
            ]
          },
          "metadata": {},
          "execution_count": 5
        }
      ]
    },
    {
      "cell_type": "markdown",
      "source": [
        "We don't actually need to list experimental chem shift and theoretical chem shift, since they are inside the difference. So let's drop them."
      ],
      "metadata": {
        "id": "jIUs2AtsLARu"
      }
    },
    {
      "cell_type": "code",
      "source": [
        "dag_cs_nh = gv.Digraph(comment='cs_dag_nh') #cs for chemical shift, nh for nonhierarchical\n",
        "\n",
        "#dag_cs.node('E', 'Experimental chem shift')\n",
        "#dag_cs.node('T','Theoretical chem shift')\n",
        "dag_cs_nh.node('D','Distribution of the Difference b/w exp and theo')\n",
        "#dag_cs.node('A','Amino Acid Type')\n",
        "\n",
        "#dag_cs.edges(['ED','TD', ])\n",
        "dag_cs_nh"
      ],
      "metadata": {
        "colab": {
          "base_uri": "https://localhost:8080/",
          "height": 80
        },
        "id": "_1q88F3HLKLW",
        "outputId": "832d9b75-f692-4ff3-8e80-5154252565f2"
      },
      "execution_count": null,
      "outputs": [
        {
          "output_type": "execute_result",
          "data": {
            "image/svg+xml": "<?xml version=\"1.0\" encoding=\"UTF-8\" standalone=\"no\"?>\n<!DOCTYPE svg PUBLIC \"-//W3C//DTD SVG 1.1//EN\"\n \"http://www.w3.org/Graphics/SVG/1.1/DTD/svg11.dtd\">\n<!-- Generated by graphviz version 2.43.0 (0)\n -->\n<!-- Title: %3 Pages: 1 -->\n<svg width=\"367pt\" height=\"44pt\"\n viewBox=\"0.00 0.00 366.77 44.00\" xmlns=\"http://www.w3.org/2000/svg\" xmlns:xlink=\"http://www.w3.org/1999/xlink\">\n<g id=\"graph0\" class=\"graph\" transform=\"scale(1 1) rotate(0) translate(4 40)\">\n<title>%3</title>\n<polygon fill=\"white\" stroke=\"transparent\" points=\"-4,4 -4,-40 362.77,-40 362.77,4 -4,4\"/>\n<!-- D -->\n<g id=\"node1\" class=\"node\">\n<title>D</title>\n<ellipse fill=\"none\" stroke=\"black\" cx=\"179.38\" cy=\"-18\" rx=\"179.27\" ry=\"18\"/>\n<text text-anchor=\"middle\" x=\"179.38\" y=\"-14.3\" font-family=\"Times,serif\" font-size=\"14.00\">Distribution of the Difference b/w exp and theo</text>\n</g>\n</g>\n</svg>\n",
            "text/plain": [
              "<graphviz.graphs.Digraph at 0x7c271a21c190>"
            ]
          },
          "metadata": {},
          "execution_count": 11
        }
      ]
    },
    {
      "cell_type": "markdown",
      "source": [
        "If all we want to visualize is how our data is connect, then this is it; the nonhierarchical model only has one column from the data frame in it, so it only has one node.\n",
        "\n",
        "But note how I added \"Distribution of\" into the the title of the node.\n",
        "This is what the pymc visualization focused on, and we'll add that information into our diagram"
      ],
      "metadata": {
        "id": "OABwFQCTLpII"
      }
    },
    {
      "cell_type": "code",
      "source": [
        "dag_cs_nh = gv.Digraph(comment='cs_dag_nh') #cs for chemical shift, nh for nonhierarchical\n",
        "\n",
        "dag_cs_nh.node('M', 'Unobserved assumptions of mean chem shift diff')\n",
        "dag_cs_nh.node('S','Unobserved assumptions of sd deviation of chem shift diff')\n",
        "dag_cs_nh.node('D','Distribution of the Difference b/w exp and theo')\n",
        "#dag_cs.node('A','Amino Acid Type')\n",
        "\n",
        "dag_cs_nh.edges(['MD','SD', ])\n",
        "dag_cs_nh"
      ],
      "metadata": {
        "colab": {
          "base_uri": "https://localhost:8080/",
          "height": 176
        },
        "id": "-ARRG35xMGzI",
        "outputId": "7e71a308-45f6-477f-fe57-000cdf3e8edd"
      },
      "execution_count": null,
      "outputs": [
        {
          "output_type": "execute_result",
          "data": {
            "image/svg+xml": "<?xml version=\"1.0\" encoding=\"UTF-8\" standalone=\"no\"?>\n<!DOCTYPE svg PUBLIC \"-//W3C//DTD SVG 1.1//EN\"\n \"http://www.w3.org/Graphics/SVG/1.1/DTD/svg11.dtd\">\n<!-- Generated by graphviz version 2.43.0 (0)\n -->\n<!-- Title: %3 Pages: 1 -->\n<svg width=\"838pt\" height=\"116pt\"\n viewBox=\"0.00 0.00 838.21 116.00\" xmlns=\"http://www.w3.org/2000/svg\" xmlns:xlink=\"http://www.w3.org/1999/xlink\">\n<g id=\"graph0\" class=\"graph\" transform=\"scale(1 1) rotate(0) translate(4 112)\">\n<title>%3</title>\n<polygon fill=\"white\" stroke=\"transparent\" points=\"-4,4 -4,-112 834.21,-112 834.21,4 -4,4\"/>\n<!-- M -->\n<g id=\"node1\" class=\"node\">\n<title>M</title>\n<ellipse fill=\"none\" stroke=\"black\" cx=\"186.53\" cy=\"-90\" rx=\"186.57\" ry=\"18\"/>\n<text text-anchor=\"middle\" x=\"186.53\" y=\"-86.3\" font-family=\"Times,serif\" font-size=\"14.00\">Unobserved assumptions of mean chem shift diff</text>\n</g>\n<!-- D -->\n<g id=\"node3\" class=\"node\">\n<title>D</title>\n<ellipse fill=\"none\" stroke=\"black\" cx=\"398.53\" cy=\"-18\" rx=\"179.27\" ry=\"18\"/>\n<text text-anchor=\"middle\" x=\"398.53\" y=\"-14.3\" font-family=\"Times,serif\" font-size=\"14.00\">Distribution of the Difference b/w exp and theo</text>\n</g>\n<!-- M&#45;&gt;D -->\n<g id=\"edge1\" class=\"edge\">\n<title>M&#45;&gt;D</title>\n<path fill=\"none\" stroke=\"black\" d=\"M236.24,-72.59C267.07,-62.41 306.86,-49.27 339.32,-38.55\"/>\n<polygon fill=\"black\" stroke=\"black\" points=\"340.74,-41.77 349.14,-35.31 338.55,-35.12 340.74,-41.77\"/>\n</g>\n<!-- S -->\n<g id=\"node2\" class=\"node\">\n<title>S</title>\n<ellipse fill=\"none\" stroke=\"black\" cx=\"610.53\" cy=\"-90\" rx=\"219.86\" ry=\"18\"/>\n<text text-anchor=\"middle\" x=\"610.53\" y=\"-86.3\" font-family=\"Times,serif\" font-size=\"14.00\">Unobserved assumptions of sd deviation of chem shift diff</text>\n</g>\n<!-- S&#45;&gt;D -->\n<g id=\"edge2\" class=\"edge\">\n<title>S&#45;&gt;D</title>\n<path fill=\"none\" stroke=\"black\" d=\"M560.29,-72.41C529.56,-62.26 490.07,-49.23 457.81,-38.57\"/>\n<polygon fill=\"black\" stroke=\"black\" points=\"458.64,-35.16 448.05,-35.35 456.45,-41.81 458.64,-35.16\"/>\n</g>\n</g>\n</svg>\n",
            "text/plain": [
              "<graphviz.graphs.Digraph at 0x7c271a1ebc90>"
            ]
          },
          "metadata": {},
          "execution_count": 22
        }
      ]
    },
    {
      "cell_type": "markdown",
      "source": [
        "I use the term \"unobserved\" to note that a variable does not come from data, but from my assumptions. Any variable that comes from my assumptions is a prior.\n",
        "\n",
        "Now that we've altered our casual graph, it has an exact correspondence to pymc's visualization."
      ],
      "metadata": {
        "id": "UZW_kyJzNWKt"
      }
    },
    {
      "cell_type": "code",
      "source": [
        "pm.model_to_graphviz(cs_nh_model)"
      ],
      "metadata": {
        "colab": {
          "base_uri": "https://localhost:8080/",
          "height": 368
        },
        "outputId": "972af572-9ab3-4c35-b722-25d972a7dd5b",
        "id": "laau3qyLN4kW"
      },
      "execution_count": null,
      "outputs": [
        {
          "output_type": "execute_result",
          "data": {
            "image/svg+xml": "<?xml version=\"1.0\" encoding=\"UTF-8\" standalone=\"no\"?>\n<!DOCTYPE svg PUBLIC \"-//W3C//DTD SVG 1.1//EN\"\n \"http://www.w3.org/Graphics/SVG/1.1/DTD/svg11.dtd\">\n<!-- Generated by graphviz version 2.43.0 (0)\n -->\n<!-- Title: %3 Pages: 1 -->\n<svg width=\"259pt\" height=\"260pt\"\n viewBox=\"0.00 0.00 259.00 259.91\" xmlns=\"http://www.w3.org/2000/svg\" xmlns:xlink=\"http://www.w3.org/1999/xlink\">\n<g id=\"graph0\" class=\"graph\" transform=\"scale(1 1) rotate(0) translate(4 255.91)\">\n<title>%3</title>\n<polygon fill=\"white\" stroke=\"transparent\" points=\"-4,4 -4,-255.91 255,-255.91 255,4 -4,4\"/>\n<g id=\"clust1\" class=\"cluster\">\n<title>clusteraa (19)</title>\n<path fill=\"none\" stroke=\"black\" d=\"M20,-129.95C20,-129.95 231,-129.95 231,-129.95 237,-129.95 243,-135.95 243,-141.95 243,-141.95 243,-231.91 243,-231.91 243,-237.91 237,-243.91 231,-243.91 231,-243.91 20,-243.91 20,-243.91 14,-243.91 8,-237.91 8,-231.91 8,-231.91 8,-141.95 8,-141.95 8,-135.95 14,-129.95 20,-129.95\"/>\n<text text-anchor=\"middle\" x=\"215.5\" y=\"-137.75\" font-family=\"Times,serif\" font-size=\"14.00\">aa (19)</text>\n</g>\n<g id=\"clust2\" class=\"cluster\">\n<title>cluster1776</title>\n<path fill=\"none\" stroke=\"black\" d=\"M79,-8C79,-8 155,-8 155,-8 161,-8 167,-14 167,-20 167,-20 167,-109.95 167,-109.95 167,-115.95 161,-121.95 155,-121.95 155,-121.95 79,-121.95 79,-121.95 73,-121.95 67,-115.95 67,-109.95 67,-109.95 67,-20 67,-20 67,-14 73,-8 79,-8\"/>\n<text text-anchor=\"middle\" x=\"145\" y=\"-15.8\" font-family=\"Times,serif\" font-size=\"14.00\">1776</text>\n</g>\n<!-- σ -->\n<g id=\"node1\" class=\"node\">\n<title>σ</title>\n<ellipse fill=\"none\" stroke=\"black\" cx=\"176\" cy=\"-198.43\" rx=\"58.88\" ry=\"37.45\"/>\n<text text-anchor=\"middle\" x=\"176\" y=\"-209.73\" font-family=\"Times,serif\" font-size=\"14.00\">σ</text>\n<text text-anchor=\"middle\" x=\"176\" y=\"-194.73\" font-family=\"Times,serif\" font-size=\"14.00\">~</text>\n<text text-anchor=\"middle\" x=\"176\" y=\"-179.73\" font-family=\"Times,serif\" font-size=\"14.00\">HalfNormal</text>\n</g>\n<!-- y -->\n<g id=\"node3\" class=\"node\">\n<title>y</title>\n<ellipse fill=\"lightgrey\" stroke=\"black\" cx=\"117\" cy=\"-76.48\" rx=\"41.94\" ry=\"37.45\"/>\n<text text-anchor=\"middle\" x=\"117\" y=\"-87.78\" font-family=\"Times,serif\" font-size=\"14.00\">y</text>\n<text text-anchor=\"middle\" x=\"117\" y=\"-72.78\" font-family=\"Times,serif\" font-size=\"14.00\">~</text>\n<text text-anchor=\"middle\" x=\"117\" y=\"-57.78\" font-family=\"Times,serif\" font-size=\"14.00\">Normal</text>\n</g>\n<!-- σ&#45;&gt;y -->\n<g id=\"edge1\" class=\"edge\">\n<title>σ&#45;&gt;y</title>\n<path fill=\"none\" stroke=\"black\" d=\"M158.78,-162.41C152.31,-149.26 144.88,-134.17 138.11,-120.39\"/>\n<polygon fill=\"black\" stroke=\"black\" points=\"141.09,-118.52 133.53,-111.09 134.81,-121.61 141.09,-118.52\"/>\n</g>\n<!-- μ -->\n<g id=\"node2\" class=\"node\">\n<title>μ</title>\n<ellipse fill=\"none\" stroke=\"black\" cx=\"58\" cy=\"-198.43\" rx=\"41.94\" ry=\"37.45\"/>\n<text text-anchor=\"middle\" x=\"58\" y=\"-209.73\" font-family=\"Times,serif\" font-size=\"14.00\">μ</text>\n<text text-anchor=\"middle\" x=\"58\" y=\"-194.73\" font-family=\"Times,serif\" font-size=\"14.00\">~</text>\n<text text-anchor=\"middle\" x=\"58\" y=\"-179.73\" font-family=\"Times,serif\" font-size=\"14.00\">Normal</text>\n</g>\n<!-- μ&#45;&gt;y -->\n<g id=\"edge2\" class=\"edge\">\n<title>μ&#45;&gt;y</title>\n<path fill=\"none\" stroke=\"black\" d=\"M74.59,-163.7C81.25,-150.17 88.99,-134.42 96.03,-120.11\"/>\n<polygon fill=\"black\" stroke=\"black\" points=\"99.26,-121.47 100.53,-110.96 92.98,-118.38 99.26,-121.47\"/>\n</g>\n</g>\n</svg>\n",
            "text/plain": [
              "<graphviz.graphs.Digraph at 0x7dfe66e2ad10>"
            ]
          },
          "metadata": {},
          "execution_count": 30
        }
      ]
    },
    {
      "cell_type": "markdown",
      "source": [
        "Let's do the same for now for the hierarchical, dependent model.\n",
        "\n",
        "First, here's what it looked like before."
      ],
      "metadata": {
        "id": "WY0V2eirOLWu"
      }
    },
    {
      "cell_type": "code",
      "source": [
        "dag_cs_aa"
      ],
      "metadata": {
        "colab": {
          "base_uri": "https://localhost:8080/",
          "height": 272
        },
        "id": "nzDj09p2J848",
        "outputId": "c6605d2e-b840-41d8-fc72-3067d63dd7df"
      },
      "execution_count": null,
      "outputs": [
        {
          "output_type": "execute_result",
          "data": {
            "image/svg+xml": "<?xml version=\"1.0\" encoding=\"UTF-8\" standalone=\"no\"?>\n<!DOCTYPE svg PUBLIC \"-//W3C//DTD SVG 1.1//EN\"\n \"http://www.w3.org/Graphics/SVG/1.1/DTD/svg11.dtd\">\n<!-- Generated by graphviz version 2.43.0 (0)\n -->\n<!-- Title: %3 Pages: 1 -->\n<svg width=\"375pt\" height=\"188pt\"\n viewBox=\"0.00 0.00 374.57 188.00\" xmlns=\"http://www.w3.org/2000/svg\" xmlns:xlink=\"http://www.w3.org/1999/xlink\">\n<g id=\"graph0\" class=\"graph\" transform=\"scale(1 1) rotate(0) translate(4 184)\">\n<title>%3</title>\n<polygon fill=\"white\" stroke=\"transparent\" points=\"-4,4 -4,-184 370.57,-184 370.57,4 -4,4\"/>\n<!-- D -->\n<g id=\"node1\" class=\"node\">\n<title>D</title>\n<ellipse fill=\"none\" stroke=\"black\" cx=\"183.28\" cy=\"-18\" rx=\"183.07\" ry=\"18\"/>\n<text text-anchor=\"middle\" x=\"183.28\" y=\"-14.3\" font-family=\"Times,serif\" font-size=\"14.00\">Difference between experimental and theoretical</text>\n</g>\n<!-- A -->\n<g id=\"node2\" class=\"node\">\n<title>A</title>\n<ellipse fill=\"none\" stroke=\"black\" cx=\"183.28\" cy=\"-90\" rx=\"74.19\" ry=\"18\"/>\n<text text-anchor=\"middle\" x=\"183.28\" y=\"-86.3\" font-family=\"Times,serif\" font-size=\"14.00\">Amino Acid Type</text>\n</g>\n<!-- A&#45;&gt;D -->\n<g id=\"edge1\" class=\"edge\">\n<title>A&#45;&gt;D</title>\n<path fill=\"none\" stroke=\"black\" d=\"M183.28,-71.7C183.28,-63.98 183.28,-54.71 183.28,-46.11\"/>\n<polygon fill=\"black\" stroke=\"black\" points=\"186.78,-46.1 183.28,-36.1 179.78,-46.1 186.78,-46.1\"/>\n</g>\n<!-- G -->\n<g id=\"node3\" class=\"node\">\n<title>G</title>\n<ellipse fill=\"none\" stroke=\"black\" cx=\"183.28\" cy=\"-162\" rx=\"57.39\" ry=\"18\"/>\n<text text-anchor=\"middle\" x=\"183.28\" y=\"-158.3\" font-family=\"Times,serif\" font-size=\"14.00\">Group Effect</text>\n</g>\n<!-- G&#45;&gt;A -->\n<g id=\"edge2\" class=\"edge\">\n<title>G&#45;&gt;A</title>\n<path fill=\"none\" stroke=\"black\" d=\"M183.28,-143.7C183.28,-135.98 183.28,-126.71 183.28,-118.11\"/>\n<polygon fill=\"black\" stroke=\"black\" points=\"186.78,-118.1 183.28,-108.1 179.78,-118.1 186.78,-118.1\"/>\n</g>\n</g>\n</svg>\n",
            "text/plain": [
              "<graphviz.graphs.Digraph at 0x7c271a23a510>"
            ]
          },
          "metadata": {},
          "execution_count": 21
        }
      ]
    },
    {
      "cell_type": "markdown",
      "source": [
        "And we need it to look like this:"
      ],
      "metadata": {
        "id": "9p1KLEtDPAKu"
      }
    },
    {
      "cell_type": "code",
      "source": [
        "#the hyper priors only affect μ, and they are not split up by aa, by amino acid.\n",
        "pm.model_to_graphviz(cs_h_model)"
      ],
      "metadata": {
        "colab": {
          "base_uri": "https://localhost:8080/",
          "height": 495
        },
        "outputId": "4b58e30b-919e-4375-85db-366ec6f3a423",
        "id": "YL82-hB_PGd5"
      },
      "execution_count": null,
      "outputs": [
        {
          "output_type": "execute_result",
          "data": {
            "image/svg+xml": "<?xml version=\"1.0\" encoding=\"UTF-8\" standalone=\"no\"?>\n<!DOCTYPE svg PUBLIC \"-//W3C//DTD SVG 1.1//EN\"\n \"http://www.w3.org/Graphics/SVG/1.1/DTD/svg11.dtd\">\n<!-- Generated by graphviz version 2.43.0 (0)\n -->\n<!-- Title: %3 Pages: 1 -->\n<svg width=\"319pt\" height=\"355pt\"\n viewBox=\"0.00 0.00 318.69 354.86\" xmlns=\"http://www.w3.org/2000/svg\" xmlns:xlink=\"http://www.w3.org/1999/xlink\">\n<g id=\"graph0\" class=\"graph\" transform=\"scale(1 1) rotate(0) translate(4 350.86)\">\n<title>%3</title>\n<polygon fill=\"white\" stroke=\"transparent\" points=\"-4,4 -4,-350.86 314.69,-350.86 314.69,4 -4,4\"/>\n<g id=\"clust1\" class=\"cluster\">\n<title>clusteraa (19)</title>\n<path fill=\"none\" stroke=\"black\" d=\"M79.69,-129.95C79.69,-129.95 290.69,-129.95 290.69,-129.95 296.69,-129.95 302.69,-135.95 302.69,-141.95 302.69,-141.95 302.69,-231.91 302.69,-231.91 302.69,-237.91 296.69,-243.91 290.69,-243.91 290.69,-243.91 79.69,-243.91 79.69,-243.91 73.69,-243.91 67.69,-237.91 67.69,-231.91 67.69,-231.91 67.69,-141.95 67.69,-141.95 67.69,-135.95 73.69,-129.95 79.69,-129.95\"/>\n<text text-anchor=\"middle\" x=\"275.19\" y=\"-137.75\" font-family=\"Times,serif\" font-size=\"14.00\">aa (19)</text>\n</g>\n<g id=\"clust2\" class=\"cluster\">\n<title>cluster1776</title>\n<path fill=\"none\" stroke=\"black\" d=\"M138.69,-8C138.69,-8 214.69,-8 214.69,-8 220.69,-8 226.69,-14 226.69,-20 226.69,-20 226.69,-109.95 226.69,-109.95 226.69,-115.95 220.69,-121.95 214.69,-121.95 214.69,-121.95 138.69,-121.95 138.69,-121.95 132.69,-121.95 126.69,-115.95 126.69,-109.95 126.69,-109.95 126.69,-20 126.69,-20 126.69,-14 132.69,-8 138.69,-8\"/>\n<text text-anchor=\"middle\" x=\"204.69\" y=\"-15.8\" font-family=\"Times,serif\" font-size=\"14.00\">1776</text>\n</g>\n<!-- μ_sd -->\n<g id=\"node1\" class=\"node\">\n<title>μ_sd</title>\n<ellipse fill=\"none\" stroke=\"black\" cx=\"58.69\" cy=\"-309.38\" rx=\"58.88\" ry=\"37.45\"/>\n<text text-anchor=\"middle\" x=\"58.69\" y=\"-320.68\" font-family=\"Times,serif\" font-size=\"14.00\">μ_sd</text>\n<text text-anchor=\"middle\" x=\"58.69\" y=\"-305.68\" font-family=\"Times,serif\" font-size=\"14.00\">~</text>\n<text text-anchor=\"middle\" x=\"58.69\" y=\"-290.68\" font-family=\"Times,serif\" font-size=\"14.00\">HalfNormal</text>\n</g>\n<!-- μ -->\n<g id=\"node4\" class=\"node\">\n<title>μ</title>\n<ellipse fill=\"none\" stroke=\"black\" cx=\"117.69\" cy=\"-198.43\" rx=\"41.94\" ry=\"37.45\"/>\n<text text-anchor=\"middle\" x=\"117.69\" y=\"-209.73\" font-family=\"Times,serif\" font-size=\"14.00\">μ</text>\n<text text-anchor=\"middle\" x=\"117.69\" y=\"-194.73\" font-family=\"Times,serif\" font-size=\"14.00\">~</text>\n<text text-anchor=\"middle\" x=\"117.69\" y=\"-179.73\" font-family=\"Times,serif\" font-size=\"14.00\">Normal</text>\n</g>\n<!-- μ_sd&#45;&gt;μ -->\n<g id=\"edge1\" class=\"edge\">\n<title>μ_sd&#45;&gt;μ</title>\n<path fill=\"none\" stroke=\"black\" d=\"M77.52,-273.61C83.05,-263.4 89.16,-252.12 94.91,-241.5\"/>\n<polygon fill=\"black\" stroke=\"black\" points=\"98.16,-242.85 99.84,-232.39 92,-239.52 98.16,-242.85\"/>\n</g>\n<!-- μ_mu -->\n<g id=\"node2\" class=\"node\">\n<title>μ_mu</title>\n<ellipse fill=\"none\" stroke=\"black\" cx=\"176.69\" cy=\"-309.38\" rx=\"41.94\" ry=\"37.45\"/>\n<text text-anchor=\"middle\" x=\"176.69\" y=\"-320.68\" font-family=\"Times,serif\" font-size=\"14.00\">μ_mu</text>\n<text text-anchor=\"middle\" x=\"176.69\" y=\"-305.68\" font-family=\"Times,serif\" font-size=\"14.00\">~</text>\n<text text-anchor=\"middle\" x=\"176.69\" y=\"-290.68\" font-family=\"Times,serif\" font-size=\"14.00\">Normal</text>\n</g>\n<!-- μ_mu&#45;&gt;μ -->\n<g id=\"edge2\" class=\"edge\">\n<title>μ_mu&#45;&gt;μ</title>\n<path fill=\"none\" stroke=\"black\" d=\"M158.83,-275.4C153.05,-264.72 146.56,-252.74 140.47,-241.5\"/>\n<polygon fill=\"black\" stroke=\"black\" points=\"143.53,-239.81 135.69,-232.68 137.38,-243.14 143.53,-239.81\"/>\n</g>\n<!-- σ -->\n<g id=\"node3\" class=\"node\">\n<title>σ</title>\n<ellipse fill=\"none\" stroke=\"black\" cx=\"235.69\" cy=\"-198.43\" rx=\"58.88\" ry=\"37.45\"/>\n<text text-anchor=\"middle\" x=\"235.69\" y=\"-209.73\" font-family=\"Times,serif\" font-size=\"14.00\">σ</text>\n<text text-anchor=\"middle\" x=\"235.69\" y=\"-194.73\" font-family=\"Times,serif\" font-size=\"14.00\">~</text>\n<text text-anchor=\"middle\" x=\"235.69\" y=\"-179.73\" font-family=\"Times,serif\" font-size=\"14.00\">HalfNormal</text>\n</g>\n<!-- y -->\n<g id=\"node5\" class=\"node\">\n<title>y</title>\n<ellipse fill=\"lightgrey\" stroke=\"black\" cx=\"176.69\" cy=\"-76.48\" rx=\"41.94\" ry=\"37.45\"/>\n<text text-anchor=\"middle\" x=\"176.69\" y=\"-87.78\" font-family=\"Times,serif\" font-size=\"14.00\">y</text>\n<text text-anchor=\"middle\" x=\"176.69\" y=\"-72.78\" font-family=\"Times,serif\" font-size=\"14.00\">~</text>\n<text text-anchor=\"middle\" x=\"176.69\" y=\"-57.78\" font-family=\"Times,serif\" font-size=\"14.00\">Normal</text>\n</g>\n<!-- σ&#45;&gt;y -->\n<g id=\"edge3\" class=\"edge\">\n<title>σ&#45;&gt;y</title>\n<path fill=\"none\" stroke=\"black\" d=\"M218.47,-162.41C212,-149.26 204.57,-134.17 197.8,-120.39\"/>\n<polygon fill=\"black\" stroke=\"black\" points=\"200.78,-118.52 193.22,-111.09 194.5,-121.61 200.78,-118.52\"/>\n</g>\n<!-- μ&#45;&gt;y -->\n<g id=\"edge4\" class=\"edge\">\n<title>μ&#45;&gt;y</title>\n<path fill=\"none\" stroke=\"black\" d=\"M134.28,-163.7C140.94,-150.17 148.68,-134.42 155.72,-120.11\"/>\n<polygon fill=\"black\" stroke=\"black\" points=\"158.95,-121.47 160.22,-110.96 152.67,-118.38 158.95,-121.47\"/>\n</g>\n</g>\n</svg>\n",
            "text/plain": [
              "<graphviz.graphs.Digraph at 0x7dfe5f67f520>"
            ]
          },
          "metadata": {},
          "execution_count": 26
        }
      ]
    },
    {
      "cell_type": "markdown",
      "source": [
        "Note that the casual diagram already has a three tiers, or hierarchies, just like the pymc graph."
      ],
      "metadata": {
        "id": "Xwn3aZmVPk_j"
      }
    },
    {
      "cell_type": "markdown",
      "source": [
        "**Task:**\n",
        "\n",
        "Make a new causal diagram that corresponds exactly to the pymc, distribution visualization.\n",
        "\n",
        "Hints: There will be five total nodes, three of which will be \"unobserved\", and--this is new--one of which will be \"partially observed\""
      ],
      "metadata": {
        "id": "nc68w336V4nt"
      }
    },
    {
      "cell_type": "markdown",
      "source": [
        "## Discrete Data, Dependent Groups\n",
        "\n",
        "For our discrete data set, we'll do another sports statistics example, but this time we'll cover soccer (football).\n",
        "\n",
        "We'll also use a model that doesn't behave well with pymc, but we'll still trust its predictions. We'll dicuss why."
      ],
      "metadata": {
        "id": "9YadgDqch4CL"
      }
    },
    {
      "cell_type": "markdown",
      "source": [
        "The following code will load the data in, and do the neccessary cleaning. Make sure you're reading my comments--I didn't write them just to help me."
      ],
      "metadata": {
        "id": "wVx8HbCBiWnm"
      }
    },
    {
      "cell_type": "code",
      "source": [
        "#load the data from my github page.\n",
        "#sccr stands for soccer\n",
        "url_sccr = 'https://raw.githubusercontent.com/thedarredondo/data-science-fundamentals/main/Data/football_players.csv'\n",
        "\n",
        "#Turns the position column into a categorical variable\n",
        "sccr_data = pd.read_csv(url_sccr,dtype={'position':'category'})"
      ],
      "metadata": {
        "id": "lXtbCsefitgU"
      },
      "execution_count": null,
      "outputs": []
    },
    {
      "cell_type": "markdown",
      "source": [
        "Look at the code below, focusing on the last two columns, goals and shots. This should remind you of the Wembanyama FT example, where we had makes and attempts.\n",
        "Except there's 2681 players from the Premier League, Ligue 1, Bundesliga, Serie A, and La Liga, instead of 1 NBA player. There's also a categorical variable named position, and these data were complied from 2017-2020.\n",
        "\n",
        "What's pertinent to use is that we'll use position the same way we used 'aa', amino acid, in the last example."
      ],
      "metadata": {
        "id": "JTyEpsJ2tula"
      }
    },
    {
      "cell_type": "code",
      "source": [
        "sccr_data"
      ],
      "metadata": {
        "id": "psEeySBXsSry"
      },
      "execution_count": null,
      "outputs": []
    },
    {
      "cell_type": "markdown",
      "source": [
        "**Task8**:\n",
        "\n",
        "Plot goals and shots from sccr_data. I'd use a violin plot.\n",
        "\n",
        "Then consider how you would select a prior for goals and shots."
      ],
      "metadata": {
        "id": "A1P07VAxk8HC"
      }
    },
    {
      "cell_type": "markdown",
      "source": [
        "Previously, we would have turned goals into an array of $1$s, and [shots - goals] into an array of $0$s. That worked great when we only cared about one player, and its still possible now, but it'd be nice if we could just shove 'goals' and 'shots' into our model as is.\n",
        "\n",
        "And we can! But there's a price to paid for that decision, this time around . . .\n",
        "\n",
        "Before we discuss that price, let's review how to get pymc to recognize the grouping we care about, soccer position."
      ],
      "metadata": {
        "id": "Ue27fX3oijtg"
      }
    },
    {
      "cell_type": "code",
      "source": [
        "#this is an array of the soccer positions,\n",
        "#except they are given an int (number) label instead of a string (of letters)\n",
        "pos_idx = sccr_data.position.cat.codes.values\n",
        "\n",
        "#an array of the four strings that represent position\n",
        "pos_codes = sccr_data.position.cat.categories\n",
        "\n",
        "#puts coords in a dict, so pymc can read them\n",
        "sccr_coords = {\"pos\": pos_codes}"
      ],
      "metadata": {
        "id": "t8xyjUCqudP2"
      },
      "execution_count": null,
      "outputs": []
    },
    {
      "cell_type": "markdown",
      "source": [
        "**Task9**:\n",
        "\n",
        "Explain what the code block above is doing, and why we need to do it before running our pymc model. Make sure to reference the chemical shift amnio acid example."
      ],
      "metadata": {
        "id": "_B-eRGnQdMVu"
      }
    },
    {
      "cell_type": "markdown",
      "source": [
        "Run the model below; this model takes about 6-8 minutes to run, and would likely have many divergences if I hadn't changed the target_accept parameter. I changed target_accept from the default of 0.8 to 0.95, based off our textbooks recommendation. Generally, if you can get your model to 0 divergences just based off changing target_accept, then its good enough.\n",
        "\n",
        "That said, you should probably have some idea why pymc is throwing a fit before you try to press on without changing your model structure. In this case, the main problem is that goal keepers rarely shoot goals, so their shooting percentage is hard to predict."
      ],
      "metadata": {
        "id": "qzBuPo_Ybbgz"
      }
    },
    {
      "cell_type": "code",
      "source": [
        "with pm.Model(coords = sccr_coords) as sccr_model:\n",
        "    # Hyper parameters\n",
        "    #\n",
        "    μ = pm.Beta('μ', alpha = 2, beta = 20)\n",
        "    ν = pm.Gamma('ν', mu = 55, sigma = 45)\n",
        "\n",
        "\n",
        "    # Parameters for positions\n",
        "    μ_p = pm.Beta('μ_p', mu = μ, nu = ν, dims = \"pos\")\n",
        "\n",
        "    ν_p = pm.Gamma('ν_p', mu = 55, sigma = 45, dims=\"pos\")\n",
        "\n",
        "    # Parameter for players\n",
        "    θ = pm.Beta('θ', mu = μ_p[pos_idx], nu = ν_p[pos_idx])\n",
        "\n",
        "    #This tells our model how many shots and goals each player has\n",
        "    _ = pm.Binomial('gs',\n",
        "                    n = sccr_data.shots.values, #shots for each player\n",
        "                    p = θ, #guess of goals per shot\n",
        "                    observed = sccr_data.goals.values) #goals per player\n",
        "\n",
        "    #target_accept has a default of 0.8. Increasing it makes us less likely to\n",
        "    #have divergences\n",
        "    idata_sccr = pm.sample(target_accept = 0.95)"
      ],
      "metadata": {
        "id": "JZFUW73XdTMY"
      },
      "execution_count": null,
      "outputs": []
    },
    {
      "cell_type": "markdown",
      "source": [
        "Below is a visualization of the markov chains that did our inference for us and generated our posterior. A healthy chain is tightly packed, with a steady amplitude.\n",
        "\n",
        "Notice that μ_p and  ν_p each had an unheathly chain, but that its other chains weren't so bad.\n",
        "These are the chains for goals and shots for the Goal Keeper (GK) postion; as we'll see below, the model had a hard time predicting GK. That hard time ended up making the chains for μ and ν a little wobbly, and made our prediction for θ more uncertain as well."
      ],
      "metadata": {
        "id": "5LjfTv0ukjsl"
      }
    },
    {
      "cell_type": "code",
      "source": [
        "#this gives a visualization of what pymc was doing in those 6 to 8 minutes\n",
        "#...which also takes 6 to 8 minutes to run\n",
        "az.plot_trace(idata_sccr)"
      ],
      "metadata": {
        "id": "TLOAmvITWbbh"
      },
      "execution_count": null,
      "outputs": []
    },
    {
      "cell_type": "markdown",
      "source": [
        "The following code will give you something called $\\hat{R}$ values (pronounced \"r hat\"); these are how I know the faulty chains are from the GK position.\n",
        "\n",
        "All you need to know about $\\hat{R}$ values is that values between 1 and 1.001 are good, and values above 1.1 are bad.\n"
      ],
      "metadata": {
        "id": "YqUowsYHxuEL"
      }
    },
    {
      "cell_type": "markdown",
      "source": [
        "**Task10**:\n",
        "\n",
        "Using the values from running rhat function on idata_sccr, explain how I was able to know that the GK group is the problem."
      ],
      "metadata": {
        "id": "NQiKZi5Lx_8o"
      }
    },
    {
      "cell_type": "code",
      "source": [
        "#Using arviZ to find the rhat values\n",
        "az.rhat(idata_sccr)"
      ],
      "metadata": {
        "id": "naVwjeFbZOb1"
      },
      "execution_count": null,
      "outputs": []
    },
    {
      "cell_type": "markdown",
      "source": [
        "The following will plot the means for each position; you can see that the model has no idea what the shooting percentage (goals/shots) should be for GKs.\n",
        "\n",
        "Its pretty confident about the other positions though, and its predictions seem to match reality. Forwards (FW) role on a scoccer team is to shoot goals, so it makes sense that they have a higher shooting precentage."
      ],
      "metadata": {
        "id": "wtxCgv2KpRyr"
      }
    },
    {
      "cell_type": "code",
      "source": [
        "# plots a 99.8% HDI for the positions shooting percentage means\n",
        "az.plot_forest(idata_sccr, var_names=['μ_p'], combined=True, figsize=(12, 3), kind = 'ridgeplot', hdi_prob=0.998)"
      ],
      "metadata": {
        "id": "7YjcnTwXpQ4n"
      },
      "execution_count": null,
      "outputs": []
    },
    {
      "cell_type": "markdown",
      "source": [
        "As a final treat, here's a visualization of how Lionel Messi's shooting percentage compares to other FWs, and to other professional soccer players."
      ],
      "metadata": {
        "id": "myQwPR_5umJX"
      }
    },
    {
      "cell_type": "code",
      "source": [
        "#preps a plot object to have three seperate plots, all with the same x axis\n",
        "_, ax = plt.subplots(3, 1, figsize=(12, 11), sharex=True)\n",
        "\n",
        "#plot the overall mean shooting percentage\n",
        "az.plot_posterior(idata_sccr, var_names='μ', ax=ax[0])\n",
        "ax[0].set_title(r\"Global mean\")\n",
        "\n",
        "#plot the fowrads shooting percentage\n",
        "az.plot_posterior(idata_sccr.posterior.sel(pos=\"FW\"), var_names='μ_p', ax=ax[1])\n",
        "ax[1].set_title(r\"Forward position mean\")\n",
        "\n",
        "#plot Linonel Messi's shooting pecentage\n",
        "az.plot_posterior(idata_sccr.posterior.sel(θ_dim_0=1457), var_names='θ', ax=ax[2])\n",
        "ax[2].set_title(r\"Messi mean\")"
      ],
      "metadata": {
        "id": "trxrQ2HZphx_"
      },
      "execution_count": null,
      "outputs": []
    },
    {
      "cell_type": "markdown",
      "source": [
        "## Summary\n",
        "\n",
        "This unit covered hierarchical models, and not only showed us that priors can have priors, but that these hyperpriors can be useful too.\n",
        "\n",
        "All the models in this unit were more complicated than we've seen before, and they demanded that we study the structure of our raw data. To do this, we need two new graphical tools. One focused on how we linked the data together (casual diagrams), and one focused on how the distributions in our model are connected (pymc's visualization). By adding unobserved nodes to a causal diagram, we learned how to create a correspondence between the two.\n",
        "\n",
        "Hyperpriors were used to allow sub groups within a data set to inform one another; we saw this with amino acids' chemical shift values pulling each other towards a common mean. This made us more likely to conclude that a given amino acid was well predicted by theoretical methods.\n",
        "\n",
        "We then finished by creating a model for professional soccer player shooting percentage. This model introduced us to some new model checking tools, and helped us learn that breaking our data into subgroups can make pymc's job harder, even if these group labels reflect reality.\n",
        "\n",
        "\n",
        "In this unit's project, you'll work on example similar to the soccer data set, so that you can get more familiar with breaking a data set into groups, and then assigning priors to those groups. With that, you'll have the foundation for how to encode most context and assumptions into a model.\n",
        "\n"
      ],
      "metadata": {
        "id": "bSzzg8vKZpLW"
      }
    }
  ]
}