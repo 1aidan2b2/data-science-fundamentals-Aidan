{
  "nbformat": 4,
  "nbformat_minor": 0,
  "metadata": {
    "colab": {
      "provenance": [],
      "authorship_tag": "ABX9TyNz8v4kjgsoFn4RM/JSPfZQ",
      "include_colab_link": true
    },
    "kernelspec": {
      "name": "python3",
      "display_name": "Python 3"
    },
    "language_info": {
      "name": "python"
    }
  },
  "cells": [
    {
      "cell_type": "markdown",
      "metadata": {
        "id": "view-in-github",
        "colab_type": "text"
      },
      "source": [
        "<a href=\"https://colab.research.google.com/github/thedarredondo/data-science-fundamentals/blob/main/Unit5/Unit5NotesSF.ipynb\" target=\"_parent\"><img src=\"https://colab.research.google.com/assets/colab-badge.svg\" alt=\"Open In Colab\"/></a>"
      ]
    },
    {
      "cell_type": "code",
      "execution_count": 1,
      "metadata": {
        "id": "1HOcY--6MSLS"
      },
      "outputs": [],
      "source": [
        "import numpy as np\n",
        "from matplotlib import pyplot as plt\n",
        "import seaborn as sns\n",
        "import pandas as pd\n",
        "import arviz as az\n",
        "import pymc as pm\n",
        "import xarray as xr\n",
        "import graphviz as gz\n",
        "\n",
        "from scipy.interpolate import PchipInterpolator"
      ]
    },
    {
      "cell_type": "markdown",
      "source": [
        "#Unit 5: Modeling with Lines (1 predictor)\n",
        "\n",
        " Up until now, we've used data from something to predict itself; we've used a basketball player shooting free throws to predict him shooting free throws, soccer playes shooting goals to predict soccer plays shooting goals, amino acid chemcial shift vales to predict amino acid chemcial shift values.\n",
        "\n",
        "In this unit, we will use data from one process to predict data from different process. The first example we'll see is using the temperature on a given day to predict how many bicycles are rented on that same day. We'll use that example to introduce:\n",
        "- how to relate temperature and bike rentals with a straight line trend.\n",
        "- how to improve our predictions by filtering our straight line through different likelihoods.\n",
        "\n",
        "We'll then switch to predicting the length of babies using their age in months. This will present new challenges:\n",
        "- how do we account for changing variation in baby length?\n",
        "- do we always have to use straight lines for prediction, or can our lines be curvy?\n",
        "\n",
        "I'll then return to the NBA context in order to show how to apply a hierarchical model structure in a linear model.\n",
        "\n",
        "Finally, I'll do an example of how to use a linear model to classify things; in this case, flowers based on the lengths of their sepals (leaves).\n"
      ],
      "metadata": {
        "id": "nvEqvtEbMoN8"
      }
    },
    {
      "cell_type": "markdown",
      "source": [
        "## Straight Lines, Bikes, and Likelihoods\n",
        "\n",
        "How does tempeture affect bike rentals in a city? I'm not sure, but I do have access to our textbooks data set that has the temperature and number of bikes rented for a give day. Let's check it out."
      ],
      "metadata": {
        "id": "k6zeF3RkplYh"
      }
    },
    {
      "cell_type": "code",
      "source": [
        "#load the data into a pandas dataframe, and print it\n",
        "url_bikes = 'https://raw.githubusercontent.com/thedarredondo/data-science-fundamentals/main/Data/bikes.csv'\n",
        "#I could have put the url string directly into pd.read_csv()\n",
        "bikes = pd.read_csv(url_bikes)"
      ],
      "metadata": {
        "id": "draeQo0trWwc"
      },
      "execution_count": null,
      "outputs": []
    },
    {
      "cell_type": "code",
      "source": [
        "bikes"
      ],
      "metadata": {
        "id": "Db4qd4c-SKK4"
      },
      "execution_count": null,
      "outputs": []
    },
    {
      "cell_type": "markdown",
      "source": [
        "Yes, there's more than just temperature and rented bike counts in there; we'll use the other variables in a later unit.\n",
        "\n",
        "For now, let's graph the two variables we're interested in: temperature on the x axis, and rented count on the y axis."
      ],
      "metadata": {
        "id": "-OZZeAuZqzv7"
      }
    },
    {
      "cell_type": "code",
      "source": [
        "#scatter plot of temperature v. rented count of bikes\n",
        "bikes.plot(x=\"temperature\", y=\"rented\", figsize=(12, 3), kind=\"scatter\")"
      ],
      "metadata": {
        "id": "dLg6UwJJr4dF"
      },
      "execution_count": null,
      "outputs": []
    },
    {
      "cell_type": "markdown",
      "source": [
        "Traditionally, we statisticians call x our predictor variable and y the predicted variable, or estimand. I think its more useful to use temperature to predict the number of rented bikes; I'll make that argument a little more explicit with the following causal diagram"
      ],
      "metadata": {
        "id": "zxbRQt8k1CG3"
      }
    },
    {
      "cell_type": "code",
      "source": [
        "dag_b = gv.Digraph(comment='bikes_dag') #b for bikes\n",
        "\n",
        "dag_b.node('R', 'rented bikes')\n",
        "dag_b.node('T','temperature')\n",
        "\n",
        "dag_b.edges(['TR', ])\n",
        "\n",
        "dag_b"
      ],
      "metadata": {
        "colab": {
          "base_uri": "https://localhost:8080/",
          "height": 176
        },
        "id": "azWedXewuZVe",
        "outputId": "bd950b7f-db04-4320-b191-ca8bb1e260d4"
      },
      "execution_count": null,
      "outputs": [
        {
          "output_type": "execute_result",
          "data": {
            "image/svg+xml": "<?xml version=\"1.0\" encoding=\"UTF-8\" standalone=\"no\"?>\n<!DOCTYPE svg PUBLIC \"-//W3C//DTD SVG 1.1//EN\"\n \"http://www.w3.org/Graphics/SVG/1.1/DTD/svg11.dtd\">\n<!-- Generated by graphviz version 2.43.0 (0)\n -->\n<!-- Title: %3 Pages: 1 -->\n<svg width=\"116pt\" height=\"116pt\"\n viewBox=\"0.00 0.00 115.89 116.00\" xmlns=\"http://www.w3.org/2000/svg\" xmlns:xlink=\"http://www.w3.org/1999/xlink\">\n<g id=\"graph0\" class=\"graph\" transform=\"scale(1 1) rotate(0) translate(4 112)\">\n<title>%3</title>\n<polygon fill=\"white\" stroke=\"transparent\" points=\"-4,4 -4,-112 111.89,-112 111.89,4 -4,4\"/>\n<!-- R -->\n<g id=\"node1\" class=\"node\">\n<title>R</title>\n<ellipse fill=\"none\" stroke=\"black\" cx=\"53.95\" cy=\"-18\" rx=\"53.89\" ry=\"18\"/>\n<text text-anchor=\"middle\" x=\"53.95\" y=\"-14.3\" font-family=\"Times,serif\" font-size=\"14.00\">rented bikes</text>\n</g>\n<!-- T -->\n<g id=\"node2\" class=\"node\">\n<title>T</title>\n<ellipse fill=\"none\" stroke=\"black\" cx=\"53.95\" cy=\"-90\" rx=\"53.09\" ry=\"18\"/>\n<text text-anchor=\"middle\" x=\"53.95\" y=\"-86.3\" font-family=\"Times,serif\" font-size=\"14.00\">temperature</text>\n</g>\n<!-- T&#45;&gt;R -->\n<g id=\"edge1\" class=\"edge\">\n<title>T&#45;&gt;R</title>\n<path fill=\"none\" stroke=\"black\" d=\"M53.95,-71.7C53.95,-63.98 53.95,-54.71 53.95,-46.11\"/>\n<polygon fill=\"black\" stroke=\"black\" points=\"57.45,-46.1 53.95,-36.1 50.45,-46.1 57.45,-46.1\"/>\n</g>\n</g>\n</svg>\n",
            "text/plain": [
              "<graphviz.graphs.Digraph at 0x7f2f78fb2bd0>"
            ]
          },
          "metadata": {},
          "execution_count": 3
        }
      ]
    },
    {
      "cell_type": "markdown",
      "source": [
        "The above graph is a visualization of the following argument: temperature has a causal effect on the number of rented bikes. For short, we can say that I claim that temperature causes the number of rented bikes to change.\n",
        "\n",
        "By convention, the node with arrows pointing to it and no arrows pointing our of it is y, our estimand (variable we are predicting). All other nodes and arrows comprise our estimator. Right now our estimator is the observed variable temperature, and some unspecified morphism represented by the arrow.\n",
        "\n",
        "We will spend the majority of this unit experimenting with what we want that arrow to mean. Unit 7 is also almost entirely about how to make that arrow as fancy as possible."
      ],
      "metadata": {
        "id": "w6TQpnnZvHTv"
      }
    },
    {
      "cell_type": "markdown",
      "source": [
        "Now, let's talk about how to make that arrow into a line.\n",
        "\n",
        "Why turn our arrow into a line?\n",
        "\n",
        "- Linearity gives our arrow a precise interpretation: each increase/decease in temperature causes a unique increase/decrease in the number of rented bikes.\n",
        "- You (hopefully) studied how to mathematically define a line in Alg. I\n",
        "- Lines are easy to visualize.\n",
        "\n",
        "\n",
        "Here's the equation for a line that we'll use: $y=mx + b$.\n",
        "Again, hopefully this is an old friend from Alg. I\n",
        "\n",
        "We're not actually gonna use those letters though; instead we'll write our lines as: $\\hat{y}=α+βx$. We'll call anything equivalent to that equation linear.\n",
        "\n",
        "I'll call $\\hat{y}$ y_hat, or y_pred. $α$ is known as a (y) intercept, and I'll refer to $β$ as a slope or a coefficient."
      ],
      "metadata": {
        "id": "C-rXEYVj1M2B"
      }
    },
    {
      "cell_type": "markdown",
      "source": [
        "**Task1**:\n",
        "\n",
        "What do the letters in $\\hat{y}=α+βx$ tell me about my line?\n",
        "\n",
        "How is that helpful for using temperature to predict the number of rented bikes on a given day? Why use a line?"
      ],
      "metadata": {
        "id": "tLkFtxpHuNIA"
      }
    },
    {
      "cell_type": "markdown",
      "source": [
        "Now that we know why lines are useful, and what assumptions we make when we use them--let's use them!"
      ],
      "metadata": {
        "id": "AJKgNcYky65p"
      }
    },
    {
      "cell_type": "code",
      "source": [
        "#lb stands for linear bike\n",
        "with pm.Model() as model_lb:\n",
        "\n",
        "    #priors for the linear part of our model\n",
        "    α = pm.Normal(\"α\", mu=0, sigma=100)\n",
        "    β = pm.Normal(\"β\", mu=0, sigma=10)\n",
        "\n",
        "    #this is the linear part of our model\n",
        "    μ = pm.Deterministic(\"μ\", α + β * bikes.temperature)\n",
        "\n",
        "    #prior for the standard deviation of our likelihood\n",
        "    #Cauchy is a T dist with nu = 1\n",
        "    σ = pm.HalfCauchy(\"σ\", 10)\n",
        "\n",
        "    #likelihood\n",
        "    y_pred = pm.Normal(\"y_pred\", mu=μ, sigma=σ, observed=bikes.rented)\n",
        "\n",
        "    #inference data object\n",
        "    idata_lb = pm.sample()"
      ],
      "metadata": {
        "id": "hhAC0Wc4zJ8t"
      },
      "execution_count": null,
      "outputs": []
    },
    {
      "cell_type": "markdown",
      "source": [
        "**Task:**\n",
        "\n",
        "Where in the above code is the linear equation I mentioned?"
      ],
      "metadata": {
        "id": "arZDM16F1_71"
      }
    },
    {
      "cell_type": "markdown",
      "source": [
        "**Task:**\n",
        "\n",
        "How many priors does model_lb have?\n",
        "\n",
        "Two of them have to do with linear part of our model; what do those priors say about our line?"
      ],
      "metadata": {
        "id": "eSla8xu5222z"
      }
    },
    {
      "cell_type": "markdown",
      "source": [
        "**Task 2**:\n",
        "\n",
        "Below is a graph of how the distributions in the pymc model relate (this is also know as a Krusche diagram). I've also included the causal diagram for this model.\n",
        "\n",
        "Fill out the causal diagram to match the Krusche diagram."
      ],
      "metadata": {
        "id": "YhKGpUWe-QpD"
      }
    },
    {
      "cell_type": "code",
      "source": [
        "#visualization of distributional relations in the linear model structure\n",
        "pm.model_to_graphviz(model_lb)"
      ],
      "metadata": {
        "id": "uRh1eA4L_lvi"
      },
      "execution_count": null,
      "outputs": []
    },
    {
      "cell_type": "code",
      "source": [
        "dag_b"
      ],
      "metadata": {
        "id": "EXH-i8UN_mWY"
      },
      "execution_count": null,
      "outputs": []
    },
    {
      "cell_type": "markdown",
      "source": [
        "Now that we've looked at how the model specification is new and different, let's see what line our model dreamed up."
      ],
      "metadata": {
        "id": "TzF9IFTE41sF"
      }
    },
    {
      "cell_type": "code",
      "source": [
        "#plot of the posteriors for all the components of my line\n",
        "#'~μ' means plot all variables except μ\n",
        "az.plot_posterior(idata_lb, var_names=[\"~μ\"], figsize=(12, 3))"
      ],
      "metadata": {
        "id": "-VGU4Gd05BfN"
      },
      "execution_count": null,
      "outputs": []
    },
    {
      "cell_type": "code",
      "source": [
        "#grabs 100 posterior samples\n",
        "posterior = az.extract(idata_lb, num_samples=100)\n",
        "\n",
        "# grabbing x values for graphing.\n",
        "x_plot = xr.DataArray(\n",
        "    np.linspace(bikes.temperature.min(), bikes.temperature.max(), 50),\n",
        "    dims=\"plot_id\"\n",
        "    )\n",
        "\n",
        "# this creates the expected line, the path we predict temperature and\n",
        "#rented bike count deviates from\n",
        "mean_line = posterior[\"α\"].mean() + posterior[\"β\"].mean() * x_plot\n",
        "\n",
        "#These are a 50 lines that our model came up with\n",
        "lines = posterior[\"α\"] + posterior[\"β\"] * x_plot\n",
        "\n",
        "#set up plot\n",
        "_, ax = plt.subplots()\n",
        "\n",
        "#plots 50 other lines our model came up with.\n",
        "ax.plot(x_plot, lines.T, c=\"C1\", alpha=0.2, label=\"lines\")\n",
        "\n",
        "#plots the mean line\n",
        "ax.plot(x_plot, mean_line, c=\"C0\", label=\"mean line\")\n",
        "\n",
        "#plot the raw data\n",
        "ax.plot(bikes.temperature, bikes.rented, \"C2.\", zorder=-3)\n",
        "\n",
        "#label axes and create legend\n",
        "ax.set_xlabel(\"temperature\")\n",
        "ax.set_ylabel(\"rented bikes\")"
      ],
      "metadata": {
        "id": "Ws7PHtTE5VSR"
      },
      "execution_count": null,
      "outputs": []
    },
    {
      "cell_type": "markdown",
      "source": [
        "**NOTE**:\n",
        "The above lines, including the orange ones, only represent the mean of our posterior. These lines represeent what our model expects our data to look like, if it really is modeled well by a straight line."
      ],
      "metadata": {
        "id": "rMqXzSXawEOP"
      }
    },
    {
      "cell_type": "markdown",
      "source": [
        "**Task3**:\n",
        "\n",
        "Using only the posterior visualizations above as a reference, does the linear model with normal likelihood do a good job explaining the relationship between temperature and number of rented bikes?"
      ],
      "metadata": {
        "id": "tvKCp51n5Tad"
      }
    },
    {
      "cell_type": "markdown",
      "source": [
        "Now that we've seen the mean, let's see the distribution of our models predictions.\n",
        "\n",
        "Focus on the graph themselves for now. You can return to parse through the code that generates the graph later."
      ],
      "metadata": {
        "id": "lY8jrdVosJ3Y"
      }
    },
    {
      "cell_type": "code",
      "source": [
        "# posterior predictive check\n",
        "pm.sample_posterior_predictive(idata_lb, model=model_lb,  extend_inferencedata=True)"
      ],
      "metadata": {
        "id": "kQ0qJVpA8yXY"
      },
      "execution_count": null,
      "outputs": []
    },
    {
      "cell_type": "code",
      "source": [
        "#plots the posterior predictive distribution\n",
        "\n",
        "#grabs the expected line, or line of best fit formula\n",
        "mean_line = idata_lb.posterior[\"μ\"].mean((\"chain\", \"draw\"))\n",
        "\n",
        "#creates some x values to run through our line formula\n",
        "temperatures = np.random.normal(bikes.temperature.values, 0.01)\n",
        "idx = np.argsort(temperatures)\n",
        "x = np.linspace(temperatures.min(), temperatures.max(), 15)\n",
        "\n",
        "#grabs the 94% HDI and 50% HDI, and sets them up for graphing.\n",
        "y_pred_q = idata_lb.posterior_predictive[\"y_pred\"].quantile(\n",
        "    [0.03, 0.97, 0.25, 0.75], dim=[\"chain\", \"draw\"]\n",
        ")\n",
        "y_hat_bounds = iter(\n",
        "    [\n",
        "        PchipInterpolator(temperatures[idx], y_pred_q[i][idx])(x)\n",
        "        for i in range(4)\n",
        "    ]\n",
        ")\n",
        "\n",
        "#plots raw data and our line of best fit\n",
        "_, ax = plt.subplots()\n",
        "ax.plot(bikes.temperature, bikes.rented, \"C2.\", zorder=-3)\n",
        "ax.plot(bikes.temperature[idx], mean_line[idx], c=\"C0\")\n",
        "\n",
        "\n",
        "#graphs the 94% and 50% HDIs\n",
        "for lb, ub in zip(y_hat_bounds, y_hat_bounds):\n",
        "    ax.fill_between(x, lb, ub, color=\"C1\", alpha=0.5)\n",
        "\n",
        "#labels\n",
        "ax.set_xlabel(\"temperature\")\n",
        "ax.set_ylabel(\"rented bikes\")"
      ],
      "metadata": {
        "id": "5hCaCnf67HsM"
      },
      "execution_count": null,
      "outputs": []
    },
    {
      "cell_type": "markdown",
      "source": [
        "Let's see how our model performs by assessing its predictions."
      ],
      "metadata": {
        "id": "G1iHksPw6u9j"
      }
    },
    {
      "cell_type": "code",
      "source": [
        "#posterior predictive check\n",
        "az.plot_ppc(idata_lb, num_pp_samples=200, colors=[\"C1\", \"C0\", \"C1\"])"
      ],
      "metadata": {
        "id": "vaRQ523VQFWh"
      },
      "execution_count": null,
      "outputs": []
    },
    {
      "cell_type": "markdown",
      "source": [
        "**Task4**:\n",
        "\n",
        "How does the normal likelihood linear model's posterior predictive distribution perform?"
      ],
      "metadata": {
        "id": "7QlkcQz57RFt"
      }
    },
    {
      "cell_type": "markdown",
      "source": [
        "**Task5**:\n",
        "\n",
        "Find a [likelihood](https://www.pymc.io/projects/docs/en/stable/api/distributions.html) that works better for the bikes data. Show that it works better by running the pymc model and doing a posterior predictive check.\n",
        "\n",
        "*Hint*: Try plotting ```bikes.rented``` in order to see the shape of the raw data more clearly. Also: is the number of bikes discrete or continuous?"
      ],
      "metadata": {
        "id": "j-5rXWQ58Cpm"
      }
    },
    {
      "cell_type": "markdown",
      "source": [
        "## Generalizing the Linear Model\n",
        "\n",
        "(Make sure you like at the answer key for the preceding part before reading this next section)\n",
        "\n",
        "That last model with the negative binomial likelihood (in the answer key) is an example of a Generlized Linear Model (glm).\n",
        "\n",
        "Linear models can have any likelihood, as long as the data is processed thorugh a liear function: $μ=α+βx$. We often denote the likelihood as $\\phi(f(μ),θ)$, where $θ$ is all the priors we need, and $μ$ is the linear function $α+βx$. In the normal model, $f(μ)=1̇⋅μ=μ$.\n",
        "\n",
        "That changed when we used the negative binomial likelihood. A negative binomial's support is all positive; a common and quick way to transform a linear function into a function that's all positive is to apply it as an exponential power.\n",
        "\n",
        "Like this: $e^{α+βx}$. That's what we did in the code\n",
        "``` pm.math.exp(α + β * bikes.temperature) ``` .\n",
        "Remember, temperature from the bikes data set is our predictor, x.\n",
        "\n",
        "\n",
        "Anytime we shove $α+βx$ into a function before sliding it into our likelihood, we are generalizing our linear model. Usually we do this to make our chosen likelihood work better, as we did with the negative binomial example.\n",
        "\n",
        "But we can generalize our line even with a normal likelihood. Let's see an example.\n"
      ],
      "metadata": {
        "id": "uIKjEJ47A8h-"
      }
    },
    {
      "cell_type": "code",
      "source": [
        "#load the data into a pandas dataframe, and print it\n",
        "url_babies = 'https://raw.githubusercontent.com/thedarredondo/data-science-fundamentals/main/Data/babies.csv'\n",
        "#I could have put the url string directly into pd.read_csv()\n",
        "babies = pd.read_csv(url_babies)"
      ],
      "metadata": {
        "id": "CVc4lrD9Nk5s"
      },
      "execution_count": null,
      "outputs": []
    },
    {
      "cell_type": "code",
      "source": [
        "babies.plot.scatter('month','length')"
      ],
      "metadata": {
        "id": "PwZxLgNdXqfg"
      },
      "execution_count": null,
      "outputs": []
    },
    {
      "cell_type": "markdown",
      "source": [
        "The above is the lengths (heights) and ages of newborn/toddler baby girls, collected from the World Health Organization, and cleaned by the author of our textbook."
      ],
      "metadata": {
        "id": "jtVfM8cmY-DG"
      }
    },
    {
      "cell_type": "markdown",
      "source": [
        "**Task6**:\n",
        "\n",
        "Write a linear model with normal likelihood that uses a babies age in months to predict their length. Do not transform the linear part (yet).\n",
        "\n",
        "Then use a posterior predictive check to assess how well our model fits our data, and comment on the fit."
      ],
      "metadata": {
        "id": "BzELEKW7gGcR"
      }
    },
    {
      "cell_type": "markdown",
      "source": [
        "**Task7**:\n",
        "\n",
        "Write a linear model with normal likelihood that uses a babies age in months to predict their length--but transfrom the linear part of our model to better fit the data. Make sure to use a function within the [PyMC math library](https://www.pymc.io/projects/docs/en/stable/api/math.html)\n",
        "\n",
        "Then, use a posterior predictive check to assess how good our model fit is."
      ],
      "metadata": {
        "id": "nyDtexqadOCm"
      }
    },
    {
      "cell_type": "markdown",
      "source": [
        "Here's how to alter our model to account for the apparent trend that baby lengths get more variable as babies age."
      ],
      "metadata": {
        "id": "QseC3oDobKlC"
      }
    },
    {
      "cell_type": "code",
      "source": [
        "#vvba for variable variance babies\n",
        "with pm.Model() as model_vvba:\n",
        "\n",
        "    #priors for line for our mean\n",
        "    α = pm.Normal(\"α\", sigma=10)\n",
        "    β = pm.Normal(\"β\", sigma=10)\n",
        "\n",
        "    #priors for the line for our standard deviation\n",
        "    γ = pm.HalfNormal(\"γ\", sigma=10)\n",
        "    δ = pm.HalfNormal(\"δ\", sigma=10)\n",
        "\n",
        "    #mean line\n",
        "    μ = pm.Deterministic(\"μ\", α + β * pm.math.sqrt(babies.month))\n",
        "\n",
        "    #standard deviation line; this allows our variance to vary over th x values\n",
        "    σ = pm.Deterministic(\"σ\", γ + δ * babies.month)\n",
        "\n",
        "    #normal likelihood\n",
        "    y_pred = pm.Normal(\"y_pred\", mu=μ, sigma=σ, observed=babies.length)\n",
        "\n",
        "    idata_vvba = pm.sample()"
      ],
      "metadata": {
        "id": "b5FXwFccZnjl"
      },
      "execution_count": null,
      "outputs": []
    },
    {
      "cell_type": "code",
      "source": [
        "#plots the posterior\n",
        "\n",
        "_, ax = plt.subplots()\n",
        "\n",
        "ax.plot(babies.month, babies.length, \"C0.\", alpha=0.1)\n",
        "\n",
        "posterior_vvba = az.extract(idata_vvba)\n",
        "\n",
        "μ_m = posterior_vvba[\"μ\"].mean(\"sample\").values\n",
        "σ_m = posterior_vvba[\"σ\"].mean(\"sample\").values\n",
        "\n",
        "ax.plot(babies.month, μ_m, c=\"k\")\n",
        "ax.fill_between(babies.month, μ_m + 1 * σ_m, μ_m - 1 * σ_m, alpha=0.6, color=\"C1\")\n",
        "ax.fill_between(babies.month, μ_m + 2 * σ_m, μ_m - 2 * σ_m, alpha=0.4, color=\"C1\")\n",
        "\n",
        "ax.set_xlabel(\"months\")\n",
        "ax.set_ylabel(\"length\")"
      ],
      "metadata": {
        "id": "QGnhgZq7t7Gi"
      },
      "execution_count": null,
      "outputs": []
    },
    {
      "cell_type": "code",
      "source": [
        "#creates our posterior predictive distribution\n",
        "pm.sample_posterior_predictive(\n",
        "    idata_vvba, model = model_vvba, extend_inferencedata=True\n",
        "    )"
      ],
      "metadata": {
        "id": "iT8sSH2y4Mcl"
      },
      "execution_count": null,
      "outputs": []
    },
    {
      "cell_type": "code",
      "source": [
        "# posterior predictive check\n",
        "az.plot_ppc(idata_vvba, num_pp_samples=200, colors=[\"C1\", \"C0\", \"C1\"])"
      ],
      "metadata": {
        "id": "eMH-GxYi4PoN"
      },
      "execution_count": null,
      "outputs": []
    },
    {
      "cell_type": "markdown",
      "source": [
        "This is the best estimate of the mode thus far. Its still got some funky behavior on the left tail--the next step would be to try a T distribution as a likelihood."
      ],
      "metadata": {
        "id": "oJY-OPwlRZdf"
      }
    },
    {
      "cell_type": "markdown",
      "source": [
        "**Task:**\n",
        "\n",
        "Observe the graph of the distributional relationships for the variable variance model below.\n",
        "\n",
        "Describe any similarities and differences between this graph, and the graph for the \"regular\" linear model."
      ],
      "metadata": {
        "id": "RyJ3-ycHy8mg"
      }
    },
    {
      "cell_type": "code",
      "source": [
        "pm.model_to_graphviz(model_vvba)"
      ],
      "metadata": {
        "colab": {
          "base_uri": "https://localhost:8080/",
          "height": 451
        },
        "id": "72qkzJjhzBNQ",
        "outputId": "7e5af62f-e4e0-4b73-d851-25e854f5e65d"
      },
      "execution_count": null,
      "outputs": [
        {
          "output_type": "execute_result",
          "data": {
            "image/svg+xml": "<?xml version=\"1.0\" encoding=\"UTF-8\" standalone=\"no\"?>\n<!DOCTYPE svg PUBLIC \"-//W3C//DTD SVG 1.1//EN\"\n \"http://www.w3.org/Graphics/SVG/1.1/DTD/svg11.dtd\">\n<!-- Generated by graphviz version 2.43.0 (0)\n -->\n<!-- Title: %3 Pages: 1 -->\n<svg width=\"454pt\" height=\"322pt\"\n viewBox=\"0.00 0.00 454.29 321.91\" xmlns=\"http://www.w3.org/2000/svg\" xmlns:xlink=\"http://www.w3.org/1999/xlink\">\n<g id=\"graph0\" class=\"graph\" transform=\"scale(1 1) rotate(0) translate(4 317.91)\">\n<title>%3</title>\n<polygon fill=\"white\" stroke=\"transparent\" points=\"-4,4 -4,-317.91 450.29,-317.91 450.29,4 -4,4\"/>\n<g id=\"clust1\" class=\"cluster\">\n<title>cluster796</title>\n<path fill=\"none\" stroke=\"black\" d=\"M103.72,-8C103.72,-8 296.72,-8 296.72,-8 302.72,-8 308.72,-14 308.72,-20 308.72,-20 308.72,-198.95 308.72,-198.95 308.72,-204.95 302.72,-210.95 296.72,-210.95 296.72,-210.95 103.72,-210.95 103.72,-210.95 97.72,-210.95 91.72,-204.95 91.72,-198.95 91.72,-198.95 91.72,-20 91.72,-20 91.72,-14 97.72,-8 103.72,-8\"/>\n<text text-anchor=\"middle\" x=\"290.22\" y=\"-15.8\" font-family=\"Times,serif\" font-size=\"14.00\">796</text>\n</g>\n<!-- α -->\n<g id=\"node1\" class=\"node\">\n<title>α</title>\n<ellipse fill=\"none\" stroke=\"black\" cx=\"41.72\" cy=\"-276.43\" rx=\"41.94\" ry=\"37.45\"/>\n<text text-anchor=\"middle\" x=\"41.72\" y=\"-287.73\" font-family=\"Times,serif\" font-size=\"14.00\">α</text>\n<text text-anchor=\"middle\" x=\"41.72\" y=\"-272.73\" font-family=\"Times,serif\" font-size=\"14.00\">~</text>\n<text text-anchor=\"middle\" x=\"41.72\" y=\"-257.73\" font-family=\"Times,serif\" font-size=\"14.00\">Normal</text>\n</g>\n<!-- μ -->\n<g id=\"node7\" class=\"node\">\n<title>μ</title>\n<polygon fill=\"none\" stroke=\"black\" points=\"191.22,-202.95 100.22,-202.95 100.22,-149.95 191.22,-149.95 191.22,-202.95\"/>\n<text text-anchor=\"middle\" x=\"145.72\" y=\"-187.75\" font-family=\"Times,serif\" font-size=\"14.00\">μ</text>\n<text text-anchor=\"middle\" x=\"145.72\" y=\"-172.75\" font-family=\"Times,serif\" font-size=\"14.00\">~</text>\n<text text-anchor=\"middle\" x=\"145.72\" y=\"-157.75\" font-family=\"Times,serif\" font-size=\"14.00\">Deterministic</text>\n</g>\n<!-- α&#45;&gt;μ -->\n<g id=\"edge1\" class=\"edge\">\n<title>α&#45;&gt;μ</title>\n<path fill=\"none\" stroke=\"black\" d=\"M70.14,-248.66C82.71,-236.82 97.61,-222.78 110.84,-210.31\"/>\n<polygon fill=\"black\" stroke=\"black\" points=\"113.53,-212.58 118.41,-203.18 108.73,-207.49 113.53,-212.58\"/>\n</g>\n<!-- δ -->\n<g id=\"node2\" class=\"node\">\n<title>δ</title>\n<ellipse fill=\"none\" stroke=\"black\" cx=\"258.72\" cy=\"-276.43\" rx=\"56.64\" ry=\"37.45\"/>\n<text text-anchor=\"middle\" x=\"258.72\" y=\"-287.73\" font-family=\"Times,serif\" font-size=\"14.00\">δ</text>\n<text text-anchor=\"middle\" x=\"258.72\" y=\"-272.73\" font-family=\"Times,serif\" font-size=\"14.00\">~</text>\n<text text-anchor=\"middle\" x=\"258.72\" y=\"-257.73\" font-family=\"Times,serif\" font-size=\"14.00\">Halfnormal</text>\n</g>\n<!-- σ -->\n<g id=\"node5\" class=\"node\">\n<title>σ</title>\n<polygon fill=\"none\" stroke=\"black\" points=\"300.22,-202.95 209.22,-202.95 209.22,-149.95 300.22,-149.95 300.22,-202.95\"/>\n<text text-anchor=\"middle\" x=\"254.72\" y=\"-187.75\" font-family=\"Times,serif\" font-size=\"14.00\">σ</text>\n<text text-anchor=\"middle\" x=\"254.72\" y=\"-172.75\" font-family=\"Times,serif\" font-size=\"14.00\">~</text>\n<text text-anchor=\"middle\" x=\"254.72\" y=\"-157.75\" font-family=\"Times,serif\" font-size=\"14.00\">Deterministic</text>\n</g>\n<!-- δ&#45;&gt;σ -->\n<g id=\"edge3\" class=\"edge\">\n<title>δ&#45;&gt;σ</title>\n<path fill=\"none\" stroke=\"black\" d=\"M257.23,-238.95C256.89,-230.53 256.52,-221.59 256.18,-213.2\"/>\n<polygon fill=\"black\" stroke=\"black\" points=\"259.67,-212.81 255.76,-202.96 252.67,-213.1 259.67,-212.81\"/>\n</g>\n<!-- γ -->\n<g id=\"node3\" class=\"node\">\n<title>γ</title>\n<ellipse fill=\"none\" stroke=\"black\" cx=\"389.72\" cy=\"-276.43\" rx=\"56.64\" ry=\"37.45\"/>\n<text text-anchor=\"middle\" x=\"389.72\" y=\"-287.73\" font-family=\"Times,serif\" font-size=\"14.00\">γ</text>\n<text text-anchor=\"middle\" x=\"389.72\" y=\"-272.73\" font-family=\"Times,serif\" font-size=\"14.00\">~</text>\n<text text-anchor=\"middle\" x=\"389.72\" y=\"-257.73\" font-family=\"Times,serif\" font-size=\"14.00\">Halfnormal</text>\n</g>\n<!-- γ&#45;&gt;σ -->\n<g id=\"edge4\" class=\"edge\">\n<title>γ&#45;&gt;σ</title>\n<path fill=\"none\" stroke=\"black\" d=\"M352.11,-248.14C335.49,-236.07 315.83,-221.8 298.54,-209.26\"/>\n<polygon fill=\"black\" stroke=\"black\" points=\"300.42,-206.29 290.27,-203.25 296.3,-211.96 300.42,-206.29\"/>\n</g>\n<!-- β -->\n<g id=\"node4\" class=\"node\">\n<title>β</title>\n<ellipse fill=\"none\" stroke=\"black\" cx=\"142.72\" cy=\"-276.43\" rx=\"41.94\" ry=\"37.45\"/>\n<text text-anchor=\"middle\" x=\"142.72\" y=\"-287.73\" font-family=\"Times,serif\" font-size=\"14.00\">β</text>\n<text text-anchor=\"middle\" x=\"142.72\" y=\"-272.73\" font-family=\"Times,serif\" font-size=\"14.00\">~</text>\n<text text-anchor=\"middle\" x=\"142.72\" y=\"-257.73\" font-family=\"Times,serif\" font-size=\"14.00\">Normal</text>\n</g>\n<!-- β&#45;&gt;μ -->\n<g id=\"edge2\" class=\"edge\">\n<title>β&#45;&gt;μ</title>\n<path fill=\"none\" stroke=\"black\" d=\"M143.84,-238.95C144.09,-230.53 144.37,-221.59 144.62,-213.2\"/>\n<polygon fill=\"black\" stroke=\"black\" points=\"148.13,-213.07 144.94,-202.96 141.13,-212.85 148.13,-213.07\"/>\n</g>\n<!-- y_pred -->\n<g id=\"node6\" class=\"node\">\n<title>y_pred</title>\n<ellipse fill=\"lightgrey\" stroke=\"black\" cx=\"199.72\" cy=\"-76.48\" rx=\"41.94\" ry=\"37.45\"/>\n<text text-anchor=\"middle\" x=\"199.72\" y=\"-87.78\" font-family=\"Times,serif\" font-size=\"14.00\">y_pred</text>\n<text text-anchor=\"middle\" x=\"199.72\" y=\"-72.78\" font-family=\"Times,serif\" font-size=\"14.00\">~</text>\n<text text-anchor=\"middle\" x=\"199.72\" y=\"-57.78\" font-family=\"Times,serif\" font-size=\"14.00\">Normal</text>\n</g>\n<!-- σ&#45;&gt;y_pred -->\n<g id=\"edge5\" class=\"edge\">\n<title>σ&#45;&gt;y_pred</title>\n<path fill=\"none\" stroke=\"black\" d=\"M240.27,-149.71C235.05,-140.41 229.02,-129.66 223.22,-119.34\"/>\n<polygon fill=\"black\" stroke=\"black\" points=\"226.17,-117.44 218.22,-110.43 220.06,-120.87 226.17,-117.44\"/>\n</g>\n<!-- μ&#45;&gt;y_pred -->\n<g id=\"edge6\" class=\"edge\">\n<title>μ&#45;&gt;y_pred</title>\n<path fill=\"none\" stroke=\"black\" d=\"M159.91,-149.71C165.03,-140.41 170.96,-129.66 176.64,-119.34\"/>\n<polygon fill=\"black\" stroke=\"black\" points=\"179.79,-120.88 181.55,-110.43 173.66,-117.5 179.79,-120.88\"/>\n</g>\n</g>\n</svg>\n",
            "text/plain": [
              "<graphviz.graphs.Digraph at 0x7d6ac232fd50>"
            ]
          },
          "metadata": {},
          "execution_count": 28
        }
      ]
    },
    {
      "cell_type": "markdown",
      "source": [
        "**Task:**\n",
        "\n",
        "Convert the distributional graph above into a causal diagram."
      ],
      "metadata": {
        "id": "zSj-cC6m0vXb"
      }
    },
    {
      "cell_type": "markdown",
      "source": [
        "### Comments on Priors in Linear Models\n",
        "\n",
        "I've neglected any commentary on prior selection until now, in order to focus on the structure and ramifications of the linear model. But now I'll comment on lightly informative priors, which I will continue to use this entire unit, and which are a good default.\n",
        "\n",
        "Lightly informative priors tell our model where a parameter IS NOT as opposed to strongly informative priors, which tell a model where a parameter IS. For example, all priors thus far have had a mean of 0, despite none of our actual slopes or y-ints  estimates ended being all that close to 0. We do this so that our model doesn't have to jump around to outrageously large numbers to check our parameter. What's an outragouesly large number? We let our model know based on the standard deviation of the prior.\n",
        "\n",
        "The point: our priors don't have to be right, they just have to give our model a general idea of there to look, and where not to look.\n",
        "\n",
        "That said, if you do have information about where to expect the y-intercept or slope in a linear model, then use that information to select a prior. Again, that's called an informative prior, and it would likely have the same nice properties of the lightly/weakly informative priors I've used thus far."
      ],
      "metadata": {
        "id": "3tdL3RzxRo8P"
      }
    },
    {
      "cell_type": "markdown",
      "source": [
        "## Hierarchical Linear Models (1 predictor)\n",
        "\n",
        "Now that I've talked about priors and linear models, let's investigate a context where it might make sense to use hyper priors and hierarchies.\n",
        "\n",
        "That context is the individual NBA player statistics from the 2023/2024 season. I show the whole dataset in the next few code blocks, but we'll only concern ourselves with 3 things: FT%, FG%, and Pos (player position).\n"
      ],
      "metadata": {
        "id": "4YBb559OSAPR"
      }
    },
    {
      "cell_type": "markdown",
      "source": [
        "Some context on FT%, FG%, and Pos:\n",
        "\n",
        "FT% is the same as in the Wembanyama example. We'll use it as the predictor, since free throws are nominally unaffected by any other aspects of a game, or even a season.\n",
        "\n",
        "With that reasoning FT% could be a way to predict FG%, which is the accuracy of a players shooting during game play. FG% is basically how likely a player is to score points when they try to score points--and since scoring points is the method of winning, it's a statistic of great interest to teams and players. FG% is affected by all aspects of a game, so having something less variable to predict it, like FT%, would be nice.\n",
        "\n",
        "The final wrinkle is Pos, or player position. As we saw in the soccer example, players with different roles on a team have different relationships to scoring."
      ],
      "metadata": {
        "id": "3x3vR5o0oaOe"
      }
    },
    {
      "cell_type": "code",
      "source": [
        "#load the data into a pandas dataframe, and print it\n",
        "url_basketball = 'https://raw.githubusercontent.com/thedarredondo/data-science-fundamentals/main/Data/basketball2324.csv'\n",
        "#I could have put the url string directly into pd.read_csv()\n",
        "basketball = pd.read_csv(url_basketball,dtype={'Pos':'category'})"
      ],
      "metadata": {
        "id": "sXWTI13RcC3r"
      },
      "execution_count": null,
      "outputs": []
    },
    {
      "cell_type": "markdown",
      "source": [
        "[Click here for more info on query](https://stackoverflow.com/questions/67341369/pandas-why-query-instead-of-bracket-operator)."
      ],
      "metadata": {
        "id": "QJmqL8JSev4b"
      }
    },
    {
      "cell_type": "code",
      "source": [
        "#only look at players who played more than 400 minutes\n",
        "basketball = basketball.query('MP > 400')\n",
        "#remove players who never missed a free throw\n",
        "basketball = basketball.query('`FT%` != 1.0')"
      ],
      "metadata": {
        "id": "2jPNHW7Gau9J"
      },
      "execution_count": null,
      "outputs": []
    },
    {
      "cell_type": "code",
      "source": [
        "basketball"
      ],
      "metadata": {
        "id": "3VCNwBwjcU2r"
      },
      "execution_count": null,
      "outputs": []
    },
    {
      "cell_type": "code",
      "source": [
        "#make scatter plot of FT% and FG% for NBA players form the 23/24 season\n",
        "plt.scatter(basketball['FT%'] , basketball['FG%'],)\n",
        "\n",
        "#label axes\n",
        "plt.xlabel(\"FT%\")\n",
        "plt.ylabel(\"FG%\")"
      ],
      "metadata": {
        "id": "0fX6TrhNLcfX"
      },
      "execution_count": null,
      "outputs": []
    },
    {
      "cell_type": "markdown",
      "source": [
        "**Task8**:\n",
        "\n",
        "Look at the scatter plot above. Describe any patterns you see."
      ],
      "metadata": {
        "id": "fSWaxMsZuKwJ"
      }
    },
    {
      "cell_type": "markdown",
      "source": [
        "The following visualizations will help us \"see\" the effect of position on FT% and FG%."
      ],
      "metadata": {
        "id": "rTpDCZ0DfS34"
      }
    },
    {
      "cell_type": "code",
      "source": [
        "#set up the 12 plots\n",
        "_, ax = plt.subplots(2, 6, figsize=(10, 5), sharex=True, sharey=True)\n",
        "ax = np.ravel(ax)\n",
        "\n",
        "#make a scatter plot for each position\n",
        "for i, p in enumerate(pos_codes):\n",
        "    ax[i].scatter(\n",
        "        x = basketball.query('Pos == @p')['FT%'],\n",
        "        y =  basketball.query('Pos == @p')['FG%'],\n",
        "        marker=\".\")\n",
        "    ax[i].set_title(f\"{p}\")"
      ],
      "metadata": {
        "id": "k_VDPE_ddLYm"
      },
      "execution_count": null,
      "outputs": []
    },
    {
      "cell_type": "markdown",
      "source": [
        "**Task9**:\n",
        "\n",
        "Describe the relationship between FT% (on the x axis), and FG% (y axis) for each of the positions.\n",
        "\n",
        "Focus your effects on the 5 pure positions, C (center), PF (power forward), SF (small forward), SG (shooting guard), and PG (point guard).\n",
        "\n",
        "Also: why am I less concerned with you describing the remaining combo postions?"
      ],
      "metadata": {
        "id": "ubv5kf5OvDkd"
      }
    },
    {
      "cell_type": "markdown",
      "source": [
        "Now that we've seen the raw data nd visualized it, let's formalize our guesses by building a model.\n",
        "\n",
        "First, I'll run seperate linear regressions on each of the positions.\n",
        "\n",
        "I let all the priors and likelihoods be normal. Again, a normality assumption is often a great place to start when building a model.\n",
        "\n",
        "Additionally, I used a straight line function $α + βx$, as there doesn't appear to be a curve trend to my eye in any of the raw scatter plots."
      ],
      "metadata": {
        "id": "XpeClfl2i4MW"
      }
    },
    {
      "cell_type": "code",
      "source": [
        "#this is an array of the basketball positions,\n",
        "#except they are given an int (number) label instead of a string (of letters)\n",
        "pos_idx = basketball.Pos.cat.codes.values\n",
        "\n",
        "#an array of the strings that represent position\n",
        "pos_codes = basketball.Pos.cat.categories\n",
        "\n",
        "#puts coords in a dict, so pymc can read them\n",
        "bb_coords = {\"pos\": pos_codes}"
      ],
      "metadata": {
        "id": "t8xyjUCqudP2"
      },
      "execution_count": null,
      "outputs": []
    },
    {
      "cell_type": "code",
      "source": [
        "#nh for non hierarchical\n",
        "with pm.Model(coords=bb_coords) as nh_model:\n",
        "    #priors\n",
        "    α = pm.Normal(\"α\", mu=0, sigma=3, dims=\"pos\")\n",
        "    β = pm.Normal(\"β\", mu=0, sigma=10, dims=\"pos\")\n",
        "    σ = pm.HalfNormal(\"σ\", 1)\n",
        "\n",
        "    #likelihood\n",
        "    #the linear part of the model is put directly into mu\n",
        "    y = pm.Normal(\"y_pred\",\n",
        "                  mu=α[pos_idx] + β[pos_idx] * basketball['FT%'],\n",
        "                  sigma=σ,\n",
        "                  observed=basketball['FG%'])\n",
        "    idata_nh_b = pm.sample()"
      ],
      "metadata": {
        "id": "f6PLC_SHhYrb"
      },
      "execution_count": null,
      "outputs": []
    },
    {
      "cell_type": "markdown",
      "source": [
        "Notice that I didn't use a ```Deterministic``` function here; instead, I put the lienar part of the model directly into the ```mu``` part of the normal likelihood.\n",
        "\n",
        "I can usually drop a ```Deterministic``` function call by doing something like this. I did so in this case:\n",
        "\n",
        "1. To show you that you can\n",
        "2. Because we will use a ```Deterministic``` call later to help mitigate the problems heirarchical models can have during sampling."
      ],
      "metadata": {
        "id": "LGOfnCjz9sRx"
      }
    },
    {
      "cell_type": "markdown",
      "source": [
        "Real quick, here's the graph of the distributional relationships; we will compare it to the graph of the hierarchical model later."
      ],
      "metadata": {
        "id": "6sbLOXOD6B3I"
      }
    },
    {
      "cell_type": "code",
      "source": [
        "pm.model_to_graphviz(nh_model)"
      ],
      "metadata": {
        "colab": {
          "base_uri": "https://localhost:8080/",
          "height": 368
        },
        "id": "3LVZaqfJ6LjW",
        "outputId": "8becbd15-58fb-4455-9389-792d5b19899d"
      },
      "execution_count": null,
      "outputs": [
        {
          "output_type": "execute_result",
          "data": {
            "image/svg+xml": "<?xml version=\"1.0\" encoding=\"UTF-8\" standalone=\"no\"?>\n<!DOCTYPE svg PUBLIC \"-//W3C//DTD SVG 1.1//EN\"\n \"http://www.w3.org/Graphics/SVG/1.1/DTD/svg11.dtd\">\n<!-- Generated by graphviz version 2.43.0 (0)\n -->\n<!-- Title: %3 Pages: 1 -->\n<svg width=\"340pt\" height=\"260pt\"\n viewBox=\"0.00 0.00 339.57 259.91\" xmlns=\"http://www.w3.org/2000/svg\" xmlns:xlink=\"http://www.w3.org/1999/xlink\">\n<g id=\"graph0\" class=\"graph\" transform=\"scale(1 1) rotate(0) translate(4 255.91)\">\n<title>%3</title>\n<polygon fill=\"white\" stroke=\"transparent\" points=\"-4,4 -4,-255.91 335.57,-255.91 335.57,4 -4,4\"/>\n<g id=\"clust1\" class=\"cluster\">\n<title>clusterpos (12)</title>\n<path fill=\"none\" stroke=\"black\" d=\"M20,-129.95C20,-129.95 197,-129.95 197,-129.95 203,-129.95 209,-135.95 209,-141.95 209,-141.95 209,-231.91 209,-231.91 209,-237.91 203,-243.91 197,-243.91 197,-243.91 20,-243.91 20,-243.91 14,-243.91 8,-237.91 8,-231.91 8,-231.91 8,-141.95 8,-141.95 8,-135.95 14,-129.95 20,-129.95\"/>\n<text text-anchor=\"middle\" x=\"178\" y=\"-137.75\" font-family=\"Times,serif\" font-size=\"14.00\">pos (12)</text>\n</g>\n<g id=\"clust2\" class=\"cluster\">\n<title>cluster381</title>\n<path fill=\"none\" stroke=\"black\" d=\"M121,-8C121,-8 197,-8 197,-8 203,-8 209,-14 209,-20 209,-20 209,-109.95 209,-109.95 209,-115.95 203,-121.95 197,-121.95 197,-121.95 121,-121.95 121,-121.95 115,-121.95 109,-115.95 109,-109.95 109,-109.95 109,-20 109,-20 109,-14 115,-8 121,-8\"/>\n<text text-anchor=\"middle\" x=\"190.5\" y=\"-15.8\" font-family=\"Times,serif\" font-size=\"14.00\">381</text>\n</g>\n<!-- α -->\n<g id=\"node1\" class=\"node\">\n<title>α</title>\n<ellipse fill=\"none\" stroke=\"black\" cx=\"159\" cy=\"-198.43\" rx=\"41.94\" ry=\"37.45\"/>\n<text text-anchor=\"middle\" x=\"159\" y=\"-209.73\" font-family=\"Times,serif\" font-size=\"14.00\">α</text>\n<text text-anchor=\"middle\" x=\"159\" y=\"-194.73\" font-family=\"Times,serif\" font-size=\"14.00\">~</text>\n<text text-anchor=\"middle\" x=\"159\" y=\"-179.73\" font-family=\"Times,serif\" font-size=\"14.00\">Normal</text>\n</g>\n<!-- y_pred -->\n<g id=\"node4\" class=\"node\">\n<title>y_pred</title>\n<ellipse fill=\"lightgrey\" stroke=\"black\" cx=\"159\" cy=\"-76.48\" rx=\"41.94\" ry=\"37.45\"/>\n<text text-anchor=\"middle\" x=\"159\" y=\"-87.78\" font-family=\"Times,serif\" font-size=\"14.00\">y_pred</text>\n<text text-anchor=\"middle\" x=\"159\" y=\"-72.78\" font-family=\"Times,serif\" font-size=\"14.00\">~</text>\n<text text-anchor=\"middle\" x=\"159\" y=\"-57.78\" font-family=\"Times,serif\" font-size=\"14.00\">Normal</text>\n</g>\n<!-- α&#45;&gt;y_pred -->\n<g id=\"edge2\" class=\"edge\">\n<title>α&#45;&gt;y_pred</title>\n<path fill=\"none\" stroke=\"black\" d=\"M159,-160.79C159,-149.38 159,-136.65 159,-124.63\"/>\n<polygon fill=\"black\" stroke=\"black\" points=\"162.5,-124.31 159,-114.31 155.5,-124.31 162.5,-124.31\"/>\n</g>\n<!-- β -->\n<g id=\"node2\" class=\"node\">\n<title>β</title>\n<ellipse fill=\"none\" stroke=\"black\" cx=\"58\" cy=\"-198.43\" rx=\"41.94\" ry=\"37.45\"/>\n<text text-anchor=\"middle\" x=\"58\" y=\"-209.73\" font-family=\"Times,serif\" font-size=\"14.00\">β</text>\n<text text-anchor=\"middle\" x=\"58\" y=\"-194.73\" font-family=\"Times,serif\" font-size=\"14.00\">~</text>\n<text text-anchor=\"middle\" x=\"58\" y=\"-179.73\" font-family=\"Times,serif\" font-size=\"14.00\">Normal</text>\n</g>\n<!-- β&#45;&gt;y_pred -->\n<g id=\"edge3\" class=\"edge\">\n<title>β&#45;&gt;y_pred</title>\n<path fill=\"none\" stroke=\"black\" d=\"M79.81,-166.2C88.28,-154.55 98.27,-141.4 108,-129.95 113.09,-123.96 118.7,-117.8 124.28,-111.91\"/>\n<polygon fill=\"black\" stroke=\"black\" points=\"126.89,-114.24 131.29,-104.61 121.84,-109.39 126.89,-114.24\"/>\n</g>\n<!-- σ -->\n<g id=\"node3\" class=\"node\">\n<title>σ</title>\n<ellipse fill=\"none\" stroke=\"black\" cx=\"275\" cy=\"-198.43\" rx=\"56.64\" ry=\"37.45\"/>\n<text text-anchor=\"middle\" x=\"275\" y=\"-209.73\" font-family=\"Times,serif\" font-size=\"14.00\">σ</text>\n<text text-anchor=\"middle\" x=\"275\" y=\"-194.73\" font-family=\"Times,serif\" font-size=\"14.00\">~</text>\n<text text-anchor=\"middle\" x=\"275\" y=\"-179.73\" font-family=\"Times,serif\" font-size=\"14.00\">Halfnormal</text>\n</g>\n<!-- σ&#45;&gt;y_pred -->\n<g id=\"edge1\" class=\"edge\">\n<title>σ&#45;&gt;y_pred</title>\n<path fill=\"none\" stroke=\"black\" d=\"M246.66,-165.84C236.22,-154.41 224.2,-141.47 213,-129.95 207.1,-123.89 200.74,-117.54 194.52,-111.44\"/>\n<polygon fill=\"black\" stroke=\"black\" points=\"196.93,-108.89 187.32,-104.42 192.04,-113.9 196.93,-108.89\"/>\n</g>\n</g>\n</svg>\n",
            "text/plain": [
              "<graphviz.graphs.Digraph at 0x7d6ac235f890>"
            ]
          },
          "metadata": {},
          "execution_count": 34
        }
      ]
    },
    {
      "cell_type": "code",
      "source": [
        "#plots the y-int and slope for each position\n",
        "az.plot_forest(idata_nh_b, var_names=[\"α\", \"β\"], combined=True, figsize=(10, 9))"
      ],
      "metadata": {
        "id": "1Hzq97PukI34"
      },
      "execution_count": null,
      "outputs": []
    },
    {
      "cell_type": "markdown",
      "source": [
        "Above are the slopes and y-intercepts our model came out with, for each of the positions. This isn't that helpful to me; I use the visualizations in the next code block instead."
      ],
      "metadata": {
        "id": "VNU-mu_IonJC"
      }
    },
    {
      "cell_type": "markdown",
      "source": [
        "Below is code to plot those lines (a y-int and a slope is a line) against the raw data. For now, foucs on the output, the visualizations; you can return to parse the code later."
      ],
      "metadata": {
        "id": "47usRq5rxmZa"
      }
    },
    {
      "cell_type": "code",
      "source": [
        "#set out our 12 plots\n",
        "_, ax = plt.subplots(2, 6, figsize=(12, 7), sharex=True, sharey=True)\n",
        "ax = np.ravel(ax)\n",
        "\n",
        "#set up x values. Used to graph line of best fit\n",
        "x_range = np.linspace(basketball['FT%'].min(), basketball['FT%'].max(), 10)\n",
        "\n",
        "#grab posterior info\n",
        "posterior = az.extract(idata_nh_b)\n",
        "\n",
        "#for each position\n",
        "for i, p in enumerate(pos_codes):\n",
        "    #plot the raw data\n",
        "    ax[i].scatter(\n",
        "        x = basketball.query('Pos == @p')['FT%'],\n",
        "        y = basketball.query('Pos == @p')['FG%'],\n",
        "        marker=\".\")\n",
        "\n",
        "    #gives our graphs titles and labels\n",
        "    ax[i].set_title(f\"{p}\")\n",
        "    ax[i].set_xlabel(\"FT%\")\n",
        "    ax[i].set_ylabel(\"FG%\", labelpad=10, rotation=0)\n",
        "\n",
        "    #grab the slope and y-int\n",
        "    alphas = posterior[\"α\"].sel(pos=p)\n",
        "    betas = posterior[\"β\"].sel(pos=p)\n",
        "    alpha_m = alphas.mean(\"sample\").item()\n",
        "    beta_m = betas.mean(\"sample\").item()\n",
        "\n",
        "    #plot the mean line, or line of best fit\n",
        "    ax[i].plot(x_range, alpha_m + beta_m * x_range, c=\"k\")\n",
        "\n",
        "    #plot a 94% HDI of the line of best fit.\n",
        "    az.plot_hdi(x_range, alphas + betas * xr.DataArray(x_range).transpose(), ax=ax[i])\n",
        "\n",
        "    #set the limits of our graphs' window\n",
        "    plt.xlim(basketball['FT%'].min() - 0.01, basketball['FT%'].max() + 0.01)\n",
        "    plt.ylim(basketball['FG%'].min() - 0.01, basketball['FG%'].max() + 0.01)"
      ],
      "metadata": {
        "id": "oQflXyp9kyBW"
      },
      "execution_count": null,
      "outputs": []
    },
    {
      "cell_type": "markdown",
      "source": [
        "**Task10**:\n",
        "\n",
        "Describe the posteriors for each of the graphs above, and interpret them in context.\n",
        "\n",
        "As a reminder, the context is: is FT% helpful in predicting FG%, within a given basketball position?"
      ],
      "metadata": {
        "id": "GiiDMl02XQR2"
      }
    },
    {
      "cell_type": "markdown",
      "source": [
        "Even with priors, our estimates for the combo groups are widely uncertain.\n",
        "\n",
        "Our solution to that problem is to use even more priors! specifically, we'll use hyper priors in a heirarchical model framework.\n",
        "\n",
        "Look below to see what that looks like in the linear regression context."
      ],
      "metadata": {
        "id": "rUbRZE4zaeUt"
      }
    },
    {
      "cell_type": "code",
      "source": [
        "#h for hierarchical\n",
        "with pm.Model(coords=bb_coords) as h_model:\n",
        "    # hyper-priors\n",
        "    α_μ = pm.Normal(\"α_μ\", mu=0, sigma=3)\n",
        "    α_σ = pm.HalfNormal(\"α_σ\", 5)\n",
        "    β_μ = pm.Normal(\"β_μ\", mu=0, sigma=3)\n",
        "    β_σ = pm.HalfNormal(\"β_σ\", sigma=5)\n",
        "\n",
        "    # priors\n",
        "    α = pm.Normal(\"α\", mu=α_μ, sigma=α_σ, dims=\"pos\")\n",
        "    β = pm.Normal(\"β\", mu=β_μ, sigma=β_σ, dims=\"pos\")\n",
        "    σ = pm.HalfNormal(\"σ\", 5)\n",
        "\n",
        "    #likelihood\n",
        "    #the linear part of the model is put directly into mu\n",
        "    y = pm.Normal(\"y_pred\",\n",
        "                  mu=α[pos_idx] + β[pos_idx] * basketball['FT%'],\n",
        "                  sigma=σ,\n",
        "                  observed=basketball['FG%'])\n",
        "\n",
        "    idata_h_b = pm.sample(target_accept=0.99)"
      ],
      "metadata": {
        "id": "nl14aTHdTXSI"
      },
      "execution_count": null,
      "outputs": []
    },
    {
      "cell_type": "markdown",
      "source": [
        "**Task11**:\n",
        "\n",
        "Describe similarities and differences between the code for h_model and the code for nh_model."
      ],
      "metadata": {
        "id": "kCs23tJ9bojI"
      }
    },
    {
      "cell_type": "markdown",
      "source": [
        "The graph of the distributional relationships for the hierarchical model is below."
      ],
      "metadata": {
        "id": "cbcmlnlX7izg"
      }
    },
    {
      "cell_type": "code",
      "source": [
        "pm.model_to_graphviz(h_model)"
      ],
      "metadata": {
        "colab": {
          "base_uri": "https://localhost:8080/",
          "height": 495
        },
        "id": "0hBgpdge7Wx9",
        "outputId": "127e7c73-c123-4709-e827-5ae59208e456"
      },
      "execution_count": null,
      "outputs": [
        {
          "output_type": "execute_result",
          "data": {
            "image/svg+xml": "<?xml version=\"1.0\" encoding=\"UTF-8\" standalone=\"no\"?>\n<!DOCTYPE svg PUBLIC \"-//W3C//DTD SVG 1.1//EN\"\n \"http://www.w3.org/Graphics/SVG/1.1/DTD/svg11.dtd\">\n<!-- Generated by graphviz version 2.43.0 (0)\n -->\n<!-- Title: %3 Pages: 1 -->\n<svg width=\"454pt\" height=\"355pt\"\n viewBox=\"0.00 0.00 454.14 354.86\" xmlns=\"http://www.w3.org/2000/svg\" xmlns:xlink=\"http://www.w3.org/1999/xlink\">\n<g id=\"graph0\" class=\"graph\" transform=\"scale(1 1) rotate(0) translate(4 350.86)\">\n<title>%3</title>\n<polygon fill=\"white\" stroke=\"transparent\" points=\"-4,4 -4,-350.86 450.14,-350.86 450.14,4 -4,4\"/>\n<g id=\"clust1\" class=\"cluster\">\n<title>clusterpos (12)</title>\n<path fill=\"none\" stroke=\"black\" d=\"M134.57,-129.95C134.57,-129.95 311.57,-129.95 311.57,-129.95 317.57,-129.95 323.57,-135.95 323.57,-141.95 323.57,-141.95 323.57,-231.91 323.57,-231.91 323.57,-237.91 317.57,-243.91 311.57,-243.91 311.57,-243.91 134.57,-243.91 134.57,-243.91 128.57,-243.91 122.57,-237.91 122.57,-231.91 122.57,-231.91 122.57,-141.95 122.57,-141.95 122.57,-135.95 128.57,-129.95 134.57,-129.95\"/>\n<text text-anchor=\"middle\" x=\"292.57\" y=\"-137.75\" font-family=\"Times,serif\" font-size=\"14.00\">pos (12)</text>\n</g>\n<g id=\"clust2\" class=\"cluster\">\n<title>cluster381</title>\n<path fill=\"none\" stroke=\"black\" d=\"M235.57,-8C235.57,-8 311.57,-8 311.57,-8 317.57,-8 323.57,-14 323.57,-20 323.57,-20 323.57,-109.95 323.57,-109.95 323.57,-115.95 317.57,-121.95 311.57,-121.95 311.57,-121.95 235.57,-121.95 235.57,-121.95 229.57,-121.95 223.57,-115.95 223.57,-109.95 223.57,-109.95 223.57,-20 223.57,-20 223.57,-14 229.57,-8 235.57,-8\"/>\n<text text-anchor=\"middle\" x=\"305.07\" y=\"-15.8\" font-family=\"Times,serif\" font-size=\"14.00\">381</text>\n</g>\n<!-- α_σ -->\n<g id=\"node1\" class=\"node\">\n<title>α_σ</title>\n<ellipse fill=\"none\" stroke=\"black\" cx=\"56.57\" cy=\"-309.38\" rx=\"56.64\" ry=\"37.45\"/>\n<text text-anchor=\"middle\" x=\"56.57\" y=\"-320.68\" font-family=\"Times,serif\" font-size=\"14.00\">α_σ</text>\n<text text-anchor=\"middle\" x=\"56.57\" y=\"-305.68\" font-family=\"Times,serif\" font-size=\"14.00\">~</text>\n<text text-anchor=\"middle\" x=\"56.57\" y=\"-290.68\" font-family=\"Times,serif\" font-size=\"14.00\">Halfnormal</text>\n</g>\n<!-- α -->\n<g id=\"node6\" class=\"node\">\n<title>α</title>\n<ellipse fill=\"none\" stroke=\"black\" cx=\"172.57\" cy=\"-198.43\" rx=\"41.94\" ry=\"37.45\"/>\n<text text-anchor=\"middle\" x=\"172.57\" y=\"-209.73\" font-family=\"Times,serif\" font-size=\"14.00\">α</text>\n<text text-anchor=\"middle\" x=\"172.57\" y=\"-194.73\" font-family=\"Times,serif\" font-size=\"14.00\">~</text>\n<text text-anchor=\"middle\" x=\"172.57\" y=\"-179.73\" font-family=\"Times,serif\" font-size=\"14.00\">Normal</text>\n</g>\n<!-- α_σ&#45;&gt;α -->\n<g id=\"edge1\" class=\"edge\">\n<title>α_σ&#45;&gt;α</title>\n<path fill=\"none\" stroke=\"black\" d=\"M88.57,-278.32C103.56,-264.25 121.46,-247.43 136.88,-232.95\"/>\n<polygon fill=\"black\" stroke=\"black\" points=\"139.33,-235.45 144.23,-226.05 134.54,-230.35 139.33,-235.45\"/>\n</g>\n<!-- σ -->\n<g id=\"node2\" class=\"node\">\n<title>σ</title>\n<ellipse fill=\"none\" stroke=\"black\" cx=\"389.57\" cy=\"-198.43\" rx=\"56.64\" ry=\"37.45\"/>\n<text text-anchor=\"middle\" x=\"389.57\" y=\"-209.73\" font-family=\"Times,serif\" font-size=\"14.00\">σ</text>\n<text text-anchor=\"middle\" x=\"389.57\" y=\"-194.73\" font-family=\"Times,serif\" font-size=\"14.00\">~</text>\n<text text-anchor=\"middle\" x=\"389.57\" y=\"-179.73\" font-family=\"Times,serif\" font-size=\"14.00\">Halfnormal</text>\n</g>\n<!-- y_pred -->\n<g id=\"node8\" class=\"node\">\n<title>y_pred</title>\n<ellipse fill=\"lightgrey\" stroke=\"black\" cx=\"273.57\" cy=\"-76.48\" rx=\"41.94\" ry=\"37.45\"/>\n<text text-anchor=\"middle\" x=\"273.57\" y=\"-87.78\" font-family=\"Times,serif\" font-size=\"14.00\">y_pred</text>\n<text text-anchor=\"middle\" x=\"273.57\" y=\"-72.78\" font-family=\"Times,serif\" font-size=\"14.00\">~</text>\n<text text-anchor=\"middle\" x=\"273.57\" y=\"-57.78\" font-family=\"Times,serif\" font-size=\"14.00\">Normal</text>\n</g>\n<!-- σ&#45;&gt;y_pred -->\n<g id=\"edge5\" class=\"edge\">\n<title>σ&#45;&gt;y_pred</title>\n<path fill=\"none\" stroke=\"black\" d=\"M361.22,-165.84C350.78,-154.41 338.77,-141.47 327.57,-129.95 321.67,-123.89 315.31,-117.54 309.09,-111.44\"/>\n<polygon fill=\"black\" stroke=\"black\" points=\"311.49,-108.89 301.89,-104.42 306.61,-113.9 311.49,-108.89\"/>\n</g>\n<!-- β_μ -->\n<g id=\"node3\" class=\"node\">\n<title>β_μ</title>\n<ellipse fill=\"none\" stroke=\"black\" cx=\"273.57\" cy=\"-309.38\" rx=\"41.94\" ry=\"37.45\"/>\n<text text-anchor=\"middle\" x=\"273.57\" y=\"-320.68\" font-family=\"Times,serif\" font-size=\"14.00\">β_μ</text>\n<text text-anchor=\"middle\" x=\"273.57\" y=\"-305.68\" font-family=\"Times,serif\" font-size=\"14.00\">~</text>\n<text text-anchor=\"middle\" x=\"273.57\" y=\"-290.68\" font-family=\"Times,serif\" font-size=\"14.00\">Normal</text>\n</g>\n<!-- β -->\n<g id=\"node7\" class=\"node\">\n<title>β</title>\n<ellipse fill=\"none\" stroke=\"black\" cx=\"273.57\" cy=\"-198.43\" rx=\"41.94\" ry=\"37.45\"/>\n<text text-anchor=\"middle\" x=\"273.57\" y=\"-209.73\" font-family=\"Times,serif\" font-size=\"14.00\">β</text>\n<text text-anchor=\"middle\" x=\"273.57\" y=\"-194.73\" font-family=\"Times,serif\" font-size=\"14.00\">~</text>\n<text text-anchor=\"middle\" x=\"273.57\" y=\"-179.73\" font-family=\"Times,serif\" font-size=\"14.00\">Normal</text>\n</g>\n<!-- β_μ&#45;&gt;β -->\n<g id=\"edge4\" class=\"edge\">\n<title>β_μ&#45;&gt;β</title>\n<path fill=\"none\" stroke=\"black\" d=\"M273.57,-271.8C273.57,-263.63 273.57,-254.85 273.57,-246.32\"/>\n<polygon fill=\"black\" stroke=\"black\" points=\"277.07,-246.1 273.57,-236.1 270.07,-246.1 277.07,-246.1\"/>\n</g>\n<!-- β_σ -->\n<g id=\"node4\" class=\"node\">\n<title>β_σ</title>\n<ellipse fill=\"none\" stroke=\"black\" cx=\"389.57\" cy=\"-309.38\" rx=\"56.64\" ry=\"37.45\"/>\n<text text-anchor=\"middle\" x=\"389.57\" y=\"-320.68\" font-family=\"Times,serif\" font-size=\"14.00\">β_σ</text>\n<text text-anchor=\"middle\" x=\"389.57\" y=\"-305.68\" font-family=\"Times,serif\" font-size=\"14.00\">~</text>\n<text text-anchor=\"middle\" x=\"389.57\" y=\"-290.68\" font-family=\"Times,serif\" font-size=\"14.00\">Halfnormal</text>\n</g>\n<!-- β_σ&#45;&gt;β -->\n<g id=\"edge3\" class=\"edge\">\n<title>β_σ&#45;&gt;β</title>\n<path fill=\"none\" stroke=\"black\" d=\"M357.56,-278.32C342.58,-264.25 324.68,-247.43 309.26,-232.95\"/>\n<polygon fill=\"black\" stroke=\"black\" points=\"311.6,-230.35 301.91,-226.05 306.8,-235.45 311.6,-230.35\"/>\n</g>\n<!-- α_μ -->\n<g id=\"node5\" class=\"node\">\n<title>α_μ</title>\n<ellipse fill=\"none\" stroke=\"black\" cx=\"172.57\" cy=\"-309.38\" rx=\"41.94\" ry=\"37.45\"/>\n<text text-anchor=\"middle\" x=\"172.57\" y=\"-320.68\" font-family=\"Times,serif\" font-size=\"14.00\">α_μ</text>\n<text text-anchor=\"middle\" x=\"172.57\" y=\"-305.68\" font-family=\"Times,serif\" font-size=\"14.00\">~</text>\n<text text-anchor=\"middle\" x=\"172.57\" y=\"-290.68\" font-family=\"Times,serif\" font-size=\"14.00\">Normal</text>\n</g>\n<!-- α_μ&#45;&gt;α -->\n<g id=\"edge2\" class=\"edge\">\n<title>α_μ&#45;&gt;α</title>\n<path fill=\"none\" stroke=\"black\" d=\"M172.57,-271.8C172.57,-263.63 172.57,-254.85 172.57,-246.32\"/>\n<polygon fill=\"black\" stroke=\"black\" points=\"176.07,-246.1 172.57,-236.1 169.07,-246.1 176.07,-246.1\"/>\n</g>\n<!-- α&#45;&gt;y_pred -->\n<g id=\"edge6\" class=\"edge\">\n<title>α&#45;&gt;y_pred</title>\n<path fill=\"none\" stroke=\"black\" d=\"M194.38,-166.2C202.85,-154.55 212.84,-141.4 222.57,-129.95 227.66,-123.96 233.27,-117.8 238.85,-111.91\"/>\n<polygon fill=\"black\" stroke=\"black\" points=\"241.45,-114.24 245.86,-104.61 236.41,-109.39 241.45,-114.24\"/>\n</g>\n<!-- β&#45;&gt;y_pred -->\n<g id=\"edge7\" class=\"edge\">\n<title>β&#45;&gt;y_pred</title>\n<path fill=\"none\" stroke=\"black\" d=\"M273.57,-160.79C273.57,-149.38 273.57,-136.65 273.57,-124.63\"/>\n<polygon fill=\"black\" stroke=\"black\" points=\"277.07,-124.31 273.57,-114.31 270.07,-124.31 277.07,-124.31\"/>\n</g>\n</g>\n</svg>\n",
            "text/plain": [
              "<graphviz.graphs.Digraph at 0x7d6ac8717810>"
            ]
          },
          "metadata": {},
          "execution_count": 37
        }
      ]
    },
    {
      "cell_type": "markdown",
      "source": [
        "**Task**:\n",
        "\n",
        "Describe how this graph differs from the one for the non-hierarchical model."
      ],
      "metadata": {
        "id": "vdIl-ST18P4E"
      }
    },
    {
      "cell_type": "markdown",
      "source": [
        "I'm not going to make any more visualizations for h_model, because\n",
        "\n",
        "- this model has a tendency to generate divergneces in the its markov chains, even with increasing the target acceptance rate.\n",
        "- we have a solution\n",
        "\n",
        "h_model frames our guess as for the slope of one position as informed by knowledge of the other positions' slopes\n",
        "\n",
        "hoff_model (hierarchical offest) frames our guess as a deflection from the overall mean.\n",
        "\n",
        "Those two definitions are mathematicall equivalent. So why use one over the other?\n",
        "\n",
        "The offest model is easier for our markov chains to munch on. For example, the model below tends to produce less divergences than the previous one."
      ],
      "metadata": {
        "id": "Y9U721LTc933"
      }
    },
    {
      "cell_type": "code",
      "source": [
        "#hoff for hierarchical offset\n",
        "with pm.Model(coords=bb_coords) as hoff_model:\n",
        "    # hyper-priors\n",
        "    α_μ = pm.Normal(\"α_μ\", mu=0, sigma=3)\n",
        "    α_σ = pm.HalfNormal(\"α_σ\", 5)\n",
        "    β_μ = pm.Normal(\"β_μ\", mu=0, sigma=3)\n",
        "    β_σ = pm.HalfNormal(\"β_σ\", sigma=5)\n",
        "\n",
        "    # priors\n",
        "    α = pm.Normal(\"α\", mu=α_μ, sigma=α_σ, dims=\"pos\")\n",
        "    σ = pm.HalfNormal(\"σ\", 5)\n",
        "\n",
        "    #prior of beta is different; now, we predict how far our guess is from the\n",
        "    #overall average\n",
        "    β_offset = pm.Normal(\"β_offset\", mu=0, sigma=3, dims=\"pos\")\n",
        "    β = pm.Deterministic(\"β\", β_μ + β_offset * β_σ, dims=\"pos\")\n",
        "\n",
        "    #likelihood\n",
        "    #the linear part of the model is put directly into mu\n",
        "    y = pm.Normal(\"y_pred\",\n",
        "                  mu=α[pos_idx] + β[pos_idx] * basketball['FT%'],\n",
        "                  sigma=σ,\n",
        "                  observed=basketball['FG%'])\n",
        "\n",
        "    idata_hoff_b = pm.sample(target_accept = 0.99)"
      ],
      "metadata": {
        "id": "AyOpwZjxZT0A"
      },
      "execution_count": null,
      "outputs": []
    },
    {
      "cell_type": "markdown",
      "source": [
        "Once again, the distributional graph is given below. It might look intimidating, but it has only one more node that the regular hierarchical model: ```β_offset```. Additionaly, ```β``` is deterministic, instead of a proability distribution.\n",
        "\n",
        "Everything else is the same between ```hoff_model``` and ```h_model```."
      ],
      "metadata": {
        "id": "HbqnTDQxAWuH"
      }
    },
    {
      "cell_type": "code",
      "source": [
        "pm.model_to_graphviz(hoff_model)"
      ],
      "metadata": {
        "colab": {
          "base_uri": "https://localhost:8080/",
          "height": 628
        },
        "id": "HCFDE0E66YDC",
        "outputId": "5292f6c3-f9ae-49c6-8619-660d73dc4841"
      },
      "execution_count": null,
      "outputs": [
        {
          "output_type": "execute_result",
          "data": {
            "image/svg+xml": "<?xml version=\"1.0\" encoding=\"UTF-8\" standalone=\"no\"?>\n<!DOCTYPE svg PUBLIC \"-//W3C//DTD SVG 1.1//EN\"\n \"http://www.w3.org/Graphics/SVG/1.1/DTD/svg11.dtd\">\n<!-- Generated by graphviz version 2.43.0 (0)\n -->\n<!-- Title: %3 Pages: 1 -->\n<svg width=\"558pt\" height=\"455pt\"\n viewBox=\"0.00 0.00 558.29 454.84\" xmlns=\"http://www.w3.org/2000/svg\" xmlns:xlink=\"http://www.w3.org/1999/xlink\">\n<g id=\"graph0\" class=\"graph\" transform=\"scale(1 1) rotate(0) translate(4 450.84)\">\n<title>%3</title>\n<polygon fill=\"white\" stroke=\"transparent\" points=\"-4,4 -4,-450.84 554.29,-450.84 554.29,4 -4,4\"/>\n<g id=\"clust1\" class=\"cluster\">\n<title>clusterpos (12)</title>\n<path fill=\"none\" stroke=\"black\" d=\"M236.72,-129.95C236.72,-129.95 416.72,-129.95 416.72,-129.95 422.72,-129.95 428.72,-135.95 428.72,-141.95 428.72,-141.95 428.72,-331.88 428.72,-331.88 428.72,-337.88 422.72,-343.88 416.72,-343.88 416.72,-343.88 236.72,-343.88 236.72,-343.88 230.72,-343.88 224.72,-337.88 224.72,-331.88 224.72,-331.88 224.72,-141.95 224.72,-141.95 224.72,-135.95 230.72,-129.95 236.72,-129.95\"/>\n<text text-anchor=\"middle\" x=\"397.72\" y=\"-137.75\" font-family=\"Times,serif\" font-size=\"14.00\">pos (12)</text>\n</g>\n<g id=\"clust2\" class=\"cluster\">\n<title>cluster381</title>\n<path fill=\"none\" stroke=\"black\" d=\"M340.72,-8C340.72,-8 416.72,-8 416.72,-8 422.72,-8 428.72,-14 428.72,-20 428.72,-20 428.72,-109.95 428.72,-109.95 428.72,-115.95 422.72,-121.95 416.72,-121.95 416.72,-121.95 340.72,-121.95 340.72,-121.95 334.72,-121.95 328.72,-115.95 328.72,-109.95 328.72,-109.95 328.72,-20 328.72,-20 328.72,-14 334.72,-8 340.72,-8\"/>\n<text text-anchor=\"middle\" x=\"410.22\" y=\"-15.8\" font-family=\"Times,serif\" font-size=\"14.00\">381</text>\n</g>\n<!-- α_σ -->\n<g id=\"node1\" class=\"node\">\n<title>α_σ</title>\n<ellipse fill=\"none\" stroke=\"black\" cx=\"320.72\" cy=\"-409.36\" rx=\"56.64\" ry=\"37.45\"/>\n<text text-anchor=\"middle\" x=\"320.72\" y=\"-420.66\" font-family=\"Times,serif\" font-size=\"14.00\">α_σ</text>\n<text text-anchor=\"middle\" x=\"320.72\" y=\"-405.66\" font-family=\"Times,serif\" font-size=\"14.00\">~</text>\n<text text-anchor=\"middle\" x=\"320.72\" y=\"-390.66\" font-family=\"Times,serif\" font-size=\"14.00\">Halfnormal</text>\n</g>\n<!-- α -->\n<g id=\"node6\" class=\"node\">\n<title>α</title>\n<ellipse fill=\"none\" stroke=\"black\" cx=\"378.72\" cy=\"-298.41\" rx=\"41.94\" ry=\"37.45\"/>\n<text text-anchor=\"middle\" x=\"378.72\" y=\"-309.71\" font-family=\"Times,serif\" font-size=\"14.00\">α</text>\n<text text-anchor=\"middle\" x=\"378.72\" y=\"-294.71\" font-family=\"Times,serif\" font-size=\"14.00\">~</text>\n<text text-anchor=\"middle\" x=\"378.72\" y=\"-279.71\" font-family=\"Times,serif\" font-size=\"14.00\">Normal</text>\n</g>\n<!-- α_σ&#45;&gt;α -->\n<g id=\"edge1\" class=\"edge\">\n<title>α_σ&#45;&gt;α</title>\n<path fill=\"none\" stroke=\"black\" d=\"M339.07,-373.89C344.57,-363.56 350.66,-352.12 356.38,-341.37\"/>\n<polygon fill=\"black\" stroke=\"black\" points=\"359.47,-343.01 361.08,-332.54 353.29,-339.72 359.47,-343.01\"/>\n</g>\n<!-- σ -->\n<g id=\"node2\" class=\"node\">\n<title>σ</title>\n<ellipse fill=\"none\" stroke=\"black\" cx=\"493.72\" cy=\"-187.45\" rx=\"56.64\" ry=\"37.45\"/>\n<text text-anchor=\"middle\" x=\"493.72\" y=\"-198.75\" font-family=\"Times,serif\" font-size=\"14.00\">σ</text>\n<text text-anchor=\"middle\" x=\"493.72\" y=\"-183.75\" font-family=\"Times,serif\" font-size=\"14.00\">~</text>\n<text text-anchor=\"middle\" x=\"493.72\" y=\"-168.75\" font-family=\"Times,serif\" font-size=\"14.00\">Halfnormal</text>\n</g>\n<!-- y_pred -->\n<g id=\"node9\" class=\"node\">\n<title>y_pred</title>\n<ellipse fill=\"lightgrey\" stroke=\"black\" cx=\"378.72\" cy=\"-76.48\" rx=\"41.94\" ry=\"37.45\"/>\n<text text-anchor=\"middle\" x=\"378.72\" y=\"-87.78\" font-family=\"Times,serif\" font-size=\"14.00\">y_pred</text>\n<text text-anchor=\"middle\" x=\"378.72\" y=\"-72.78\" font-family=\"Times,serif\" font-size=\"14.00\">~</text>\n<text text-anchor=\"middle\" x=\"378.72\" y=\"-57.78\" font-family=\"Times,serif\" font-size=\"14.00\">Normal</text>\n</g>\n<!-- σ&#45;&gt;y_pred -->\n<g id=\"edge6\" class=\"edge\">\n<title>σ&#45;&gt;y_pred</title>\n<path fill=\"none\" stroke=\"black\" d=\"M461.99,-156.39C447.38,-142.55 429.98,-126.05 414.87,-111.73\"/>\n<polygon fill=\"black\" stroke=\"black\" points=\"416.87,-108.81 407.2,-104.47 412.05,-113.89 416.87,-108.81\"/>\n</g>\n<!-- β_μ -->\n<g id=\"node3\" class=\"node\">\n<title>β_μ</title>\n<ellipse fill=\"none\" stroke=\"black\" cx=\"41.72\" cy=\"-298.41\" rx=\"41.94\" ry=\"37.45\"/>\n<text text-anchor=\"middle\" x=\"41.72\" y=\"-309.71\" font-family=\"Times,serif\" font-size=\"14.00\">β_μ</text>\n<text text-anchor=\"middle\" x=\"41.72\" y=\"-294.71\" font-family=\"Times,serif\" font-size=\"14.00\">~</text>\n<text text-anchor=\"middle\" x=\"41.72\" y=\"-279.71\" font-family=\"Times,serif\" font-size=\"14.00\">Normal</text>\n</g>\n<!-- β -->\n<g id=\"node8\" class=\"node\">\n<title>β</title>\n<polygon fill=\"none\" stroke=\"black\" points=\"324.22,-213.95 233.22,-213.95 233.22,-160.95 324.22,-160.95 324.22,-213.95\"/>\n<text text-anchor=\"middle\" x=\"278.72\" y=\"-198.75\" font-family=\"Times,serif\" font-size=\"14.00\">β</text>\n<text text-anchor=\"middle\" x=\"278.72\" y=\"-183.75\" font-family=\"Times,serif\" font-size=\"14.00\">~</text>\n<text text-anchor=\"middle\" x=\"278.72\" y=\"-168.75\" font-family=\"Times,serif\" font-size=\"14.00\">Deterministic</text>\n</g>\n<!-- β_μ&#45;&gt;β -->\n<g id=\"edge5\" class=\"edge\">\n<title>β_μ&#45;&gt;β</title>\n<path fill=\"none\" stroke=\"black\" d=\"M72.64,-272.95C78.77,-268.65 85.31,-264.43 91.72,-260.93 133.93,-237.87 185.05,-218.59 223.16,-205.73\"/>\n<polygon fill=\"black\" stroke=\"black\" points=\"224.67,-208.91 233.05,-202.43 222.46,-202.27 224.67,-208.91\"/>\n</g>\n<!-- β_σ -->\n<g id=\"node4\" class=\"node\">\n<title>β_σ</title>\n<ellipse fill=\"none\" stroke=\"black\" cx=\"157.72\" cy=\"-298.41\" rx=\"56.64\" ry=\"37.45\"/>\n<text text-anchor=\"middle\" x=\"157.72\" y=\"-309.71\" font-family=\"Times,serif\" font-size=\"14.00\">β_σ</text>\n<text text-anchor=\"middle\" x=\"157.72\" y=\"-294.71\" font-family=\"Times,serif\" font-size=\"14.00\">~</text>\n<text text-anchor=\"middle\" x=\"157.72\" y=\"-279.71\" font-family=\"Times,serif\" font-size=\"14.00\">Halfnormal</text>\n</g>\n<!-- β_σ&#45;&gt;β -->\n<g id=\"edge4\" class=\"edge\">\n<title>β_σ&#45;&gt;β</title>\n<path fill=\"none\" stroke=\"black\" d=\"M190.78,-267.63C206.78,-253.23 226.02,-235.91 242.42,-221.14\"/>\n<polygon fill=\"black\" stroke=\"black\" points=\"245.13,-223.41 250.22,-214.12 240.44,-218.21 245.13,-223.41\"/>\n</g>\n<!-- α_μ -->\n<g id=\"node5\" class=\"node\">\n<title>α_μ</title>\n<ellipse fill=\"none\" stroke=\"black\" cx=\"436.72\" cy=\"-409.36\" rx=\"41.94\" ry=\"37.45\"/>\n<text text-anchor=\"middle\" x=\"436.72\" y=\"-420.66\" font-family=\"Times,serif\" font-size=\"14.00\">α_μ</text>\n<text text-anchor=\"middle\" x=\"436.72\" y=\"-405.66\" font-family=\"Times,serif\" font-size=\"14.00\">~</text>\n<text text-anchor=\"middle\" x=\"436.72\" y=\"-390.66\" font-family=\"Times,serif\" font-size=\"14.00\">Normal</text>\n</g>\n<!-- α_μ&#45;&gt;α -->\n<g id=\"edge2\" class=\"edge\">\n<title>α_μ&#45;&gt;α</title>\n<path fill=\"none\" stroke=\"black\" d=\"M419,-375.08C413.38,-364.52 407.09,-352.7 401.18,-341.6\"/>\n<polygon fill=\"black\" stroke=\"black\" points=\"404.12,-339.67 396.33,-332.48 397.94,-342.96 404.12,-339.67\"/>\n</g>\n<!-- α&#45;&gt;y_pred -->\n<g id=\"edge7\" class=\"edge\">\n<title>α&#45;&gt;y_pred</title>\n<path fill=\"none\" stroke=\"black\" d=\"M378.72,-260.6C378.72,-223.14 378.72,-164.95 378.72,-124.25\"/>\n<polygon fill=\"black\" stroke=\"black\" points=\"382.22,-124.04 378.72,-114.04 375.22,-124.04 382.22,-124.04\"/>\n</g>\n<!-- β_offset -->\n<g id=\"node7\" class=\"node\">\n<title>β_offset</title>\n<ellipse fill=\"none\" stroke=\"black\" cx=\"275.72\" cy=\"-298.41\" rx=\"43.27\" ry=\"37.45\"/>\n<text text-anchor=\"middle\" x=\"275.72\" y=\"-309.71\" font-family=\"Times,serif\" font-size=\"14.00\">β_offset</text>\n<text text-anchor=\"middle\" x=\"275.72\" y=\"-294.71\" font-family=\"Times,serif\" font-size=\"14.00\">~</text>\n<text text-anchor=\"middle\" x=\"275.72\" y=\"-279.71\" font-family=\"Times,serif\" font-size=\"14.00\">Normal</text>\n</g>\n<!-- β_offset&#45;&gt;β -->\n<g id=\"edge3\" class=\"edge\">\n<title>β_offset&#45;&gt;β</title>\n<path fill=\"none\" stroke=\"black\" d=\"M276.73,-260.82C277.05,-249.09 277.41,-236.1 277.73,-224.41\"/>\n<polygon fill=\"black\" stroke=\"black\" points=\"281.24,-224.2 278.01,-214.11 274.24,-224.01 281.24,-224.2\"/>\n</g>\n<!-- β&#45;&gt;y_pred -->\n<g id=\"edge8\" class=\"edge\">\n<title>β&#45;&gt;y_pred</title>\n<path fill=\"none\" stroke=\"black\" d=\"M302.16,-160.9C315.16,-146.74 331.53,-128.9 345.8,-113.35\"/>\n<polygon fill=\"black\" stroke=\"black\" points=\"348.42,-115.67 352.61,-105.93 343.27,-110.94 348.42,-115.67\"/>\n</g>\n</g>\n</svg>\n",
            "text/plain": [
              "<graphviz.graphs.Digraph at 0x7d6ac1b3a150>"
            ]
          },
          "metadata": {},
          "execution_count": 35
        }
      ]
    },
    {
      "cell_type": "markdown",
      "source": [
        "I'll now visualize the slopes and y-ints that our model geneartes for each position.\n",
        "\n",
        "I don't think the plot forest is that useful, but I included it anyway so you can see that it works just fine for a hierarchical linear model."
      ],
      "metadata": {
        "id": "pl4a3zMSnlMy"
      }
    },
    {
      "cell_type": "code",
      "source": [
        "#displays the y-ints and slopes of the offset hierachical model\n",
        "az.plot_forest(idata_hoff_b, var_names=[\"α\", \"β\"], combined=True, figsize=(10, 9))"
      ],
      "metadata": {
        "id": "zYFkFLBAcwSk"
      },
      "execution_count": null,
      "outputs": []
    },
    {
      "cell_type": "code",
      "source": [
        "#set up plots\n",
        "_, ax = plt.subplots(2, 6, figsize=(12, 7), sharex=True, sharey=True)\n",
        "ax = np.ravel(ax)\n",
        "#x values for putting through our linear equation, in order to graph the line\n",
        "x_range = np.linspace(basketball['FT%'].min(), basketball['FT%'].max(), 10)\n",
        "#grab the posterior\n",
        "posterior = az.extract(idata_hoff_b)\n",
        "\n",
        "#plot all 12 lines against the data\n",
        "for i, p in enumerate(pos_codes):\n",
        "    #plot raw data\n",
        "    ax[i].scatter(\n",
        "        x = basketball.query('Pos == @p')['FT%'],\n",
        "        y = basketball.query('Pos == @p')['FG%'],\n",
        "        marker=\".\")\n",
        "    #titles and labels\n",
        "    ax[i].set_title(f\"{p}\")\n",
        "    ax[i].set_xlabel(\"FT%\")\n",
        "    ax[i].set_ylabel(\"FG%\", labelpad=10, rotation=0)\n",
        "    #grab posterior info\n",
        "    alphas = posterior[\"α\"].sel(pos=p)\n",
        "    betas = posterior[\"β\"].sel(pos=p)\n",
        "    alpha_m = alphas.mean(\"sample\").item()\n",
        "    beta_m = betas.mean(\"sample\").item()\n",
        "    #plot the posterior\n",
        "    ax[i].plot(x_range, alpha_m + beta_m * x_range, c=\"k\")\n",
        "    az.plot_hdi(x_range, alphas + betas * xr.DataArray(x_range).transpose(), ax=ax[i])\n",
        "    #set window size\n",
        "    plt.xlim(basketball['FT%'].min() - 0.01, basketball['FT%'].max() + 0.01)\n",
        "    plt.ylim(basketball['FG%'].min() - 0.01, basketball['FG%'].max() + 0.01)"
      ],
      "metadata": {
        "id": "OTG2vbRoc0nX"
      },
      "execution_count": null,
      "outputs": []
    },
    {
      "cell_type": "markdown",
      "source": [
        "**Task12**:\n",
        "\n",
        "How does the hoff_model posterior differ from the nh_model posterior?"
      ],
      "metadata": {
        "id": "4ZUnoJwwhKDb"
      }
    },
    {
      "cell_type": "markdown",
      "source": [
        "**Task13**:\n",
        "\n",
        "Which model is better: nh_model, or hoff_model? Why?\n",
        "\n",
        "Be sure to reference the graphs in your justification."
      ],
      "metadata": {
        "id": "54xYEk2TkDaS"
      }
    },
    {
      "cell_type": "markdown",
      "source": [
        "## Classification (Predicting Categorical Data) with Logistic Regression\n",
        "\n",
        "Regression--what we've been doing this whole unit--predicts a continuous variable based on input variable(s).\n",
        "\n",
        "Classification is predicting a categorical variable. A common way to create a classification algorithm is to take a regression model, and apply a decision boudary to it. That decision boundary then lets us assign a label, assign a category.\n",
        "\n",
        "Example time:"
      ],
      "metadata": {
        "id": "pZNj0ZqmDI79"
      }
    },
    {
      "cell_type": "code",
      "source": [
        "#load the data into a pandas dataframe, and print it\n",
        "url_iris = 'https://raw.githubusercontent.com/thedarredondo/data-science-fundamentals/main/Data/iris.csv'\n",
        "#I could have put the url string directly into pd.read_csv()\n",
        "iris = pd.read_csv(url_iris,dtype={'species':'category'})"
      ],
      "metadata": {
        "id": "Mldza-O5l3hy"
      },
      "execution_count": null,
      "outputs": []
    },
    {
      "cell_type": "code",
      "source": [
        "iris"
      ],
      "metadata": {
        "id": "IAmyHBFHWNf3"
      },
      "execution_count": null,
      "outputs": []
    },
    {
      "cell_type": "markdown",
      "source": [
        "Above is the classic iris data set, which has info about three species of iris flowers. We'll try to predict whether a flower is setosa or versicolor using only sepal_length."
      ],
      "metadata": {
        "id": "Cf9di4lcm71d"
      }
    },
    {
      "cell_type": "code",
      "source": [
        "#removes virginica\n",
        "iris_sv = iris.query(\"species == ('setosa', 'versicolor')\")\n",
        "\n",
        "#numpy array of the two species, but\n",
        "#but with 0 for each setosa and 1 for each veriscolor\n",
        "species_codes = pd.Categorical(iris_sv[\"species\"]).codes\n",
        "\n",
        "#makes a numpy array of the sepal length values\n",
        "sepal_len = iris_sv.sepal_length.values\n",
        "\n",
        "#here I normalize the sepal length values.\n",
        "#This makes it easier for pymc to process\n",
        "sepal_len_c = sepal_len - sepal_len.mean()"
      ],
      "metadata": {
        "id": "Ud37m6i9mQkB"
      },
      "execution_count": null,
      "outputs": []
    },
    {
      "cell_type": "code",
      "source": [
        "#plots setosa in blue and versicolor in orange.\n",
        "#Darker dots means more points are there\n",
        "plt.scatter(sepal_len_c, species_codes, marker=\".\", color=[f\"C{x}\" for x in species_codes], alpha = 0.2)"
      ],
      "metadata": {
        "id": "PnnrSSajisc3"
      },
      "execution_count": null,
      "outputs": []
    },
    {
      "cell_type": "markdown",
      "source": [
        "Note that 0 on the graph above represents the average sepal length of setosa and veriscolor iris flowers in the data set."
      ],
      "metadata": {
        "id": "aeARVSd8noFK"
      }
    },
    {
      "cell_type": "markdown",
      "source": [
        "**Task14**:\n",
        "\n",
        "Pick a sepal length from graph above as your boundary or decision value for when an iris is setosa or versicolor.\n",
        "\n",
        "Bascially, eyeball a solution to our problem."
      ],
      "metadata": {
        "id": "JPS7LDsIn7rh"
      }
    },
    {
      "cell_type": "markdown",
      "source": [
        "Now that we've looked at the raw data and thought about the problem, let's cook up a model to make our decisions for us.\n",
        "\n",
        "New things to look for:\n",
        "- we transform our linear equation using something called a sigmoid (AKA logistic) curve. You'll see what it looks like soon.\n",
        "- we add in a boundary decision value, $\\frac{-α}{β}$. This tells our model that 50% probability of being one species or the other is our cut off.\n",
        "- we use a bernoulli likelihood, since a flower from our spliced data set is either setosa (0) or versicolor (1)."
      ],
      "metadata": {
        "id": "4gdrGVo8ohql"
      }
    },
    {
      "cell_type": "code",
      "source": [
        "#li stands for logistic iris\n",
        "with pm.Model() as model_li:\n",
        "\n",
        "    #priors\n",
        "    α = pm.Normal(\"α\", mu=0, sigma=1)\n",
        "    β = pm.Normal(\"β\", mu=0, sigma=5)\n",
        "\n",
        "    #linear part of the model\n",
        "    μ = α + sepal_len_c * β\n",
        "\n",
        "    #the linear part, mu, is transformed via a sigmoid curve\n",
        "    θ = pm.Deterministic(\"θ\", pm.math.sigmoid(μ))\n",
        "\n",
        "    #this lets our model find a boudary value\n",
        "    #which allows us to do classificiation\n",
        "    #It is not neccesary for the model to run\n",
        "    bd = pm.Deterministic(\"bd\", -α / β)\n",
        "\n",
        "    #likelihood\n",
        "    y = pm.Bernoulli(\"y\", p=θ, observed=species_codes)\n",
        "\n",
        "    idata_li = pm.sample()"
      ],
      "metadata": {
        "id": "MwfrLxYwok7O"
      },
      "execution_count": null,
      "outputs": []
    },
    {
      "cell_type": "markdown",
      "source": [
        "Before we see the output of our model, let's see how this model is structured."
      ],
      "metadata": {
        "id": "LtEHjuHFD8My"
      }
    },
    {
      "cell_type": "code",
      "source": [
        "pm.model_to_graphviz(model_li)"
      ],
      "metadata": {
        "colab": {
          "base_uri": "https://localhost:8080/",
          "height": 451
        },
        "id": "UI8QiWD9EEUz",
        "outputId": "cd748065-b5c5-4b92-92ff-d0cf862eb250"
      },
      "execution_count": null,
      "outputs": [
        {
          "output_type": "execute_result",
          "data": {
            "image/svg+xml": "<?xml version=\"1.0\" encoding=\"UTF-8\" standalone=\"no\"?>\n<!DOCTYPE svg PUBLIC \"-//W3C//DTD SVG 1.1//EN\"\n \"http://www.w3.org/Graphics/SVG/1.1/DTD/svg11.dtd\">\n<!-- Generated by graphviz version 2.43.0 (0)\n -->\n<!-- Title: %3 Pages: 1 -->\n<svg width=\"228pt\" height=\"322pt\"\n viewBox=\"0.00 0.00 227.50 321.91\" xmlns=\"http://www.w3.org/2000/svg\" xmlns:xlink=\"http://www.w3.org/1999/xlink\">\n<g id=\"graph0\" class=\"graph\" transform=\"scale(1 1) rotate(0) translate(4 317.91)\">\n<title>%3</title>\n<polygon fill=\"white\" stroke=\"transparent\" points=\"-4,4 -4,-317.91 223.5,-317.91 223.5,4 -4,4\"/>\n<g id=\"clust1\" class=\"cluster\">\n<title>cluster100</title>\n<path fill=\"none\" stroke=\"black\" d=\"M111.5,-8C111.5,-8 199.5,-8 199.5,-8 205.5,-8 211.5,-14 211.5,-20 211.5,-20 211.5,-198.95 211.5,-198.95 211.5,-204.95 205.5,-210.95 199.5,-210.95 199.5,-210.95 111.5,-210.95 111.5,-210.95 105.5,-210.95 99.5,-204.95 99.5,-198.95 99.5,-198.95 99.5,-20 99.5,-20 99.5,-14 105.5,-8 111.5,-8\"/>\n<text text-anchor=\"middle\" x=\"193\" y=\"-15.8\" font-family=\"Times,serif\" font-size=\"14.00\">100</text>\n</g>\n<!-- bd -->\n<g id=\"node1\" class=\"node\">\n<title>bd</title>\n<polygon fill=\"none\" stroke=\"black\" points=\"91,-202.95 0,-202.95 0,-149.95 91,-149.95 91,-202.95\"/>\n<text text-anchor=\"middle\" x=\"45.5\" y=\"-187.75\" font-family=\"Times,serif\" font-size=\"14.00\">bd</text>\n<text text-anchor=\"middle\" x=\"45.5\" y=\"-172.75\" font-family=\"Times,serif\" font-size=\"14.00\">~</text>\n<text text-anchor=\"middle\" x=\"45.5\" y=\"-157.75\" font-family=\"Times,serif\" font-size=\"14.00\">Deterministic</text>\n</g>\n<!-- α -->\n<g id=\"node2\" class=\"node\">\n<title>α</title>\n<ellipse fill=\"none\" stroke=\"black\" cx=\"49.5\" cy=\"-276.43\" rx=\"41.94\" ry=\"37.45\"/>\n<text text-anchor=\"middle\" x=\"49.5\" y=\"-287.73\" font-family=\"Times,serif\" font-size=\"14.00\">α</text>\n<text text-anchor=\"middle\" x=\"49.5\" y=\"-272.73\" font-family=\"Times,serif\" font-size=\"14.00\">~</text>\n<text text-anchor=\"middle\" x=\"49.5\" y=\"-257.73\" font-family=\"Times,serif\" font-size=\"14.00\">Normal</text>\n</g>\n<!-- α&#45;&gt;bd -->\n<g id=\"edge3\" class=\"edge\">\n<title>α&#45;&gt;bd</title>\n<path fill=\"none\" stroke=\"black\" d=\"M48.01,-238.95C47.67,-230.53 47.3,-221.59 46.96,-213.2\"/>\n<polygon fill=\"black\" stroke=\"black\" points=\"50.45,-212.81 46.54,-202.96 43.45,-213.1 50.45,-212.81\"/>\n</g>\n<!-- θ -->\n<g id=\"node5\" class=\"node\">\n<title>θ</title>\n<polygon fill=\"none\" stroke=\"black\" points=\"200,-202.95 109,-202.95 109,-149.95 200,-149.95 200,-202.95\"/>\n<text text-anchor=\"middle\" x=\"154.5\" y=\"-187.75\" font-family=\"Times,serif\" font-size=\"14.00\">θ</text>\n<text text-anchor=\"middle\" x=\"154.5\" y=\"-172.75\" font-family=\"Times,serif\" font-size=\"14.00\">~</text>\n<text text-anchor=\"middle\" x=\"154.5\" y=\"-157.75\" font-family=\"Times,serif\" font-size=\"14.00\">Deterministic</text>\n</g>\n<!-- α&#45;&gt;θ -->\n<g id=\"edge1\" class=\"edge\">\n<title>α&#45;&gt;θ</title>\n<path fill=\"none\" stroke=\"black\" d=\"M77.91,-248.92C90.83,-236.87 106.22,-222.5 119.81,-209.82\"/>\n<polygon fill=\"black\" stroke=\"black\" points=\"122.23,-212.36 127.15,-202.97 117.45,-207.24 122.23,-212.36\"/>\n</g>\n<!-- β -->\n<g id=\"node3\" class=\"node\">\n<title>β</title>\n<ellipse fill=\"none\" stroke=\"black\" cx=\"152.5\" cy=\"-276.43\" rx=\"41.94\" ry=\"37.45\"/>\n<text text-anchor=\"middle\" x=\"152.5\" y=\"-287.73\" font-family=\"Times,serif\" font-size=\"14.00\">β</text>\n<text text-anchor=\"middle\" x=\"152.5\" y=\"-272.73\" font-family=\"Times,serif\" font-size=\"14.00\">~</text>\n<text text-anchor=\"middle\" x=\"152.5\" y=\"-257.73\" font-family=\"Times,serif\" font-size=\"14.00\">Normal</text>\n</g>\n<!-- β&#45;&gt;bd -->\n<g id=\"edge4\" class=\"edge\">\n<title>β&#45;&gt;bd</title>\n<path fill=\"none\" stroke=\"black\" d=\"M123.83,-249.17C110.66,-237.12 94.93,-222.71 81.02,-209.98\"/>\n<polygon fill=\"black\" stroke=\"black\" points=\"83.25,-207.28 73.51,-203.1 78.52,-212.44 83.25,-207.28\"/>\n</g>\n<!-- β&#45;&gt;θ -->\n<g id=\"edge2\" class=\"edge\">\n<title>β&#45;&gt;θ</title>\n<path fill=\"none\" stroke=\"black\" d=\"M153.24,-238.95C153.42,-230.53 153.6,-221.59 153.77,-213.2\"/>\n<polygon fill=\"black\" stroke=\"black\" points=\"157.27,-213.03 153.98,-202.96 150.28,-212.89 157.27,-213.03\"/>\n</g>\n<!-- y -->\n<g id=\"node4\" class=\"node\">\n<title>y</title>\n<ellipse fill=\"lightgrey\" stroke=\"black\" cx=\"155.5\" cy=\"-76.48\" rx=\"48.17\" ry=\"37.45\"/>\n<text text-anchor=\"middle\" x=\"155.5\" y=\"-87.78\" font-family=\"Times,serif\" font-size=\"14.00\">y</text>\n<text text-anchor=\"middle\" x=\"155.5\" y=\"-72.78\" font-family=\"Times,serif\" font-size=\"14.00\">~</text>\n<text text-anchor=\"middle\" x=\"155.5\" y=\"-57.78\" font-family=\"Times,serif\" font-size=\"14.00\">Bernoulli</text>\n</g>\n<!-- θ&#45;&gt;y -->\n<g id=\"edge5\" class=\"edge\">\n<title>θ&#45;&gt;y</title>\n<path fill=\"none\" stroke=\"black\" d=\"M154.76,-149.71C154.84,-141.89 154.93,-133.03 155.02,-124.27\"/>\n<polygon fill=\"black\" stroke=\"black\" points=\"158.52,-124.13 155.13,-114.1 151.52,-124.06 158.52,-124.13\"/>\n</g>\n</g>\n</svg>\n",
            "text/plain": [
              "<graphviz.graphs.Digraph at 0x7d6ac134d410>"
            ]
          },
          "metadata": {},
          "execution_count": 41
        }
      ]
    },
    {
      "cell_type": "markdown",
      "source": [
        "Notice: bd (the boundary value), does not predict the target variable, species. This means we could drop bd from our model, and it woudl still run and predcit fine.\n",
        "\n",
        "The graph would also look like any of the other non-hierarchical linear models we've built thus far.\n",
        "\n",
        "I point this out to emphsize that, even though we're now trying to predict categorical data (species), we are actually using the same structure as before, just a different likelihood and a new function in the deterministic.\n",
        "\n",
        "The boundary value is a way to turn a gradual decision on species into a hard decision.\n",
        "\n",
        "See below before I say more. Note that the boudary is in green, and the regression itself is in blue."
      ],
      "metadata": {
        "id": "N1fdETtdEM23"
      }
    },
    {
      "cell_type": "code",
      "source": [
        "#grab the posterior\n",
        "posterior = idata_li.posterior\n",
        "theta = posterior[\"θ\"].mean((\"chain\", \"draw\"))\n",
        "\n",
        "#this will help us tanslate from the standardized data back to the raw data\n",
        "idx = np.argsort(sepal_len_c)\n",
        "\n",
        "#set up the plot\n",
        "_, ax = plt.subplots(figsize=(12, 6))\n",
        "\n",
        "#plot the posterior\n",
        "ax.plot(sepal_len_c[idx], theta[idx], color=\"C0\", lw=2)\n",
        "ax.vlines(posterior[\"bd\"].mean((\"chain\", \"draw\")), 0, 1, color=\"C2\", zorder=0)\n",
        "\n",
        "#bd for boundary\n",
        "#these two lines plot our boundary or decision line, which is what we could use\n",
        "#to predict the sepcies of a flower using sepal length\n",
        "bd_hdi = az.hdi(posterior[\"bd\"])\n",
        "ax.fill_betweenx([0, 1], bd_hdi[\"bd\"][0], bd_hdi[\"bd\"][1], color=\"C2\", alpha=0.6, lw=0)\n",
        "\n",
        "#scatter plot of raw data\n",
        "ax.scatter(sepal_len_c, species_codes, marker=\".\", color=[f\"C{x}\" for x in species_codes], alpha = 0.2)\n",
        "\n",
        "#plots the sigmoid regression\n",
        "az.plot_hdi(sepal_len_c, posterior[\"θ\"], color=\"C0\", ax=ax, fill_kwargs={\"lw\": 0})\n",
        "\n",
        "#labels\n",
        "ax.set_xlabel('sepal length')\n",
        "ax.set_ylabel(\"θ\", rotation=0)\n",
        "\n",
        "# # use original scale for xticks\n",
        "locs, _ = plt.xticks()\n",
        "ax.set_xticks(locs, np.round(locs + sepal_len_c.mean(), 1))"
      ],
      "metadata": {
        "id": "d04Eldu8f4Co"
      },
      "execution_count": null,
      "outputs": []
    },
    {
      "cell_type": "markdown",
      "source": [
        "**Task15**:\n",
        "\n",
        "Describe the above graph, and how it answers our question:\n",
        "\n",
        "What value of sepal length should we use to decide if an iris is a setosa or a versicolor?"
      ],
      "metadata": {
        "id": "n4UqCpM9qUPR"
      }
    },
    {
      "cell_type": "markdown",
      "source": [
        "## Summary\n",
        "\n",
        "We did a lot this unit. We:\n",
        "\n",
        "- learned what a linear model is, and how to make one\n",
        "- played with different likelihood and priors for various linear models\n",
        "- generalized the linear part of our model to most curves, like square root, and a new one, the sigmoid.\n",
        "- learned how to model variable variance (AKA heteroskedasticity) with babies\n",
        "- walked through an example of a linear hierarchical model with NBA data, and discussed why we would and would not want to use one.\n",
        "- learned a way to turn a regression model into a classification, flower identifying machine\n",
        "\n",
        "Mainly, we learned ways to use some source of data (how hot it is outside) to predict a different source of data (how many people are riding bikes). That task, predicting something given something else, fits such a broad range of problems that the rest of this course is adding complexity to what you've seen in this unit.\n",
        "\n",
        "For example: next unit, we'll try to predict how many people are renting bikes using not only the temperature, but *gasp* the humidity and time of day.\n",
        "\n"
      ],
      "metadata": {
        "id": "9GNh18sBrSu3"
      }
    }
  ]
}